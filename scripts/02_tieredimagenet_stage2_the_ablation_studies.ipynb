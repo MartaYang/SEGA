{
 "cells": [
  {
   "cell_type": "markdown",
   "id": "4d41a820-82fa-4c3a-9b09-a6424ac60c85",
   "metadata": {},
   "source": [
    "## **Stage 2** on **tieredImageNet**：all Ablation Studies results\n",
    "#### Note: This scripts shows the results of our baseline, which is SEGA **without semantic using** and just with AttentionBasedBlock from DynamicFSL(Gidaris&Komodakis, CVPR 2018)"
   ]
  },
  {
   "cell_type": "code",
   "execution_count": 1,
   "id": "religious-actor",
   "metadata": {},
   "outputs": [],
   "source": [
    "import sys\n",
    "import torch\n",
    "sys.path.append(\"..\")\n",
    "from traincode import train_stage1,train_stage2\n",
    "from testcode import test\n",
    "\n",
    "from args_config_train import argparse_config_train\n",
    "from args_config_test import argparse_config_test"
   ]
  },
  {
   "cell_type": "markdown",
   "id": "b4c801e3-93c5-4197-a4ff-47776d9e2cea",
   "metadata": {},
   "source": [
    "5W1S"
   ]
  },
  {
   "cell_type": "code",
   "execution_count": 2,
   "id": "eef98c80-e025-420d-b956-2be271fdf8ac",
   "metadata": {
    "tags": []
   },
   "outputs": [
    {
     "name": "stdout",
     "output_type": "stream",
     "text": [
      "Loading tiered ImageNet dataset - phase train\n",
      "Loading tiered ImageNet dataset - phase val\n",
      "set()\n",
      "using gpu: 0\n",
      "{'num_epoch': 20, 'save_epoch': 10, 'train_shot': 1, 'val_shot': 1, 'train_query': 6, 'val_episode': 1000, 'val_query': 15, 'train_way': 5, 'test_way': 5, 'nfeat': 640, 'nKall': 351, 'nKbase': 351, 'nTestBase': 30, 'epoch_size': 600, 'avg_pool': True, 'milestones': [5, 10, 15, 20], 'lambdalr': [1.0, 0.5, 0.1, 0.05], 'save_path': './experiments/tieredimagenet_stage2_5W1S_transfer_base_weight', 'gpu': '0', 'network': 'ResNet12', 'head': 'SEGA', 'weight_generator_type': 'transfer_base_weight', 'dataset': 'tieredImageNet', 'semantic_path': 'No semantic to be used', 'episodes_per_batch': 8, 'embnet_pretrainedandfix': True, 'pretrian_embnet_path': './experiments/tieredimagenet_stage1/best_model.pth'}\n",
      "$$$$$$$$$$$$SEGAhead$$$$$$$$$$$$\n",
      "semantic_path: No semantic to be used\n",
      "weight_generator_type: transfer_base_weight\n",
      "Train Epoch: 1\tLearning Rate: 1.0000\n"
     ]
    },
    {
     "name": "stderr",
     "output_type": "stream",
     "text": [
      "  0%|          | 0/600 [00:00<?, ?it/s]/home/yangfengyuan/anaconda3/envs/py37torch190/lib/python3.7/site-packages/torch/nn/functional.py:718: UserWarning: Named tensors and all their associated APIs are an experimental feature and subject to change. Please do not use them for anything important until they are released as stable. (Triggered internally at  /opt/conda/conda-bld/pytorch_1623448265233/work/c10/core/TensorImpl.h:1156.)\n",
      "  return torch.max_pool2d(input, kernel_size, stride, padding, dilation, ceil_mode)\n",
      " 17%|█▋        | 101/600 [00:21<01:36,  5.16it/s]"
     ]
    },
    {
     "name": "stdout",
     "output_type": "stream",
     "text": [
      "Train Epoch: 1\tBatch: [100/600]\tLoss: 1.8220\tAcc_both: 52.08\tAcc_base: 49.39\tAcc_novel: 77.97 % (83.75 %)\n"
     ]
    },
    {
     "name": "stderr",
     "output_type": "stream",
     "text": [
      " 34%|███▎      | 201/600 [00:41<01:18,  5.07it/s]"
     ]
    },
    {
     "name": "stdout",
     "output_type": "stream",
     "text": [
      "Train Epoch: 1\tBatch: [200/600]\tLoss: 1.8420\tAcc_both: 53.35\tAcc_base: 49.92\tAcc_novel: 78.10 % (76.67 %)\n"
     ]
    },
    {
     "name": "stderr",
     "output_type": "stream",
     "text": [
      " 50%|█████     | 301/600 [01:00<00:57,  5.22it/s]"
     ]
    },
    {
     "name": "stdout",
     "output_type": "stream",
     "text": [
      "Train Epoch: 1\tBatch: [300/600]\tLoss: 1.9775\tAcc_both: 53.78\tAcc_base: 49.96\tAcc_novel: 78.03 % (80.83 %)\n"
     ]
    },
    {
     "name": "stderr",
     "output_type": "stream",
     "text": [
      " 67%|██████▋   | 400/600 [01:19<00:38,  5.16it/s]"
     ]
    },
    {
     "name": "stdout",
     "output_type": "stream",
     "text": [
      "Train Epoch: 1\tBatch: [400/600]\tLoss: 1.8936\tAcc_both: 54.07\tAcc_base: 50.12\tAcc_novel: 78.18 % (75.00 %)\n"
     ]
    },
    {
     "name": "stderr",
     "output_type": "stream",
     "text": [
      " 83%|████████▎ | 500/600 [01:39<00:19,  5.06it/s]"
     ]
    },
    {
     "name": "stdout",
     "output_type": "stream",
     "text": [
      "Train Epoch: 1\tBatch: [500/600]\tLoss: 1.7974\tAcc_both: 54.33\tAcc_base: 50.16\tAcc_novel: 78.34 % (82.92 %)\n"
     ]
    },
    {
     "name": "stderr",
     "output_type": "stream",
     "text": [
      "100%|██████████| 600/600 [01:59<00:00,  5.02it/s]\n"
     ]
    },
    {
     "name": "stdout",
     "output_type": "stream",
     "text": [
      "Train Epoch: 1\tBatch: [600/600]\tLoss: 1.9402\tAcc_both: 54.46\tAcc_base: 50.09\tAcc_novel: 78.52 % (78.33 %)\n"
     ]
    },
    {
     "name": "stderr",
     "output_type": "stream",
     "text": [
      "100%|██████████| 1000/1000 [00:59<00:00, 16.82it/s]\n"
     ]
    },
    {
     "name": "stdout",
     "output_type": "stream",
     "text": [
      "Validation Epoch: 1\t\t\tLoss: 0.8763\tAccuracy: 65.53 ± 0.73 % (Best)\n",
      "Elapsed Time: 3m/60m\n",
      "\n",
      "Train Epoch: 2\tLearning Rate: 1.0000\n"
     ]
    },
    {
     "name": "stderr",
     "output_type": "stream",
     "text": [
      " 17%|█▋        | 100/600 [00:21<01:40,  4.98it/s]"
     ]
    },
    {
     "name": "stdout",
     "output_type": "stream",
     "text": [
      "Train Epoch: 2\tBatch: [100/600]\tLoss: 1.9535\tAcc_both: 56.29\tAcc_base: 50.62\tAcc_novel: 80.42 % (83.33 %)\n"
     ]
    },
    {
     "name": "stderr",
     "output_type": "stream",
     "text": [
      " 34%|███▎      | 201/600 [00:41<01:18,  5.09it/s]"
     ]
    },
    {
     "name": "stdout",
     "output_type": "stream",
     "text": [
      "Train Epoch: 2\tBatch: [200/600]\tLoss: 1.8813\tAcc_both: 55.99\tAcc_base: 50.40\tAcc_novel: 80.21 % (81.67 %)\n"
     ]
    },
    {
     "name": "stderr",
     "output_type": "stream",
     "text": [
      " 50%|█████     | 301/600 [01:00<00:57,  5.19it/s]"
     ]
    },
    {
     "name": "stdout",
     "output_type": "stream",
     "text": [
      "Train Epoch: 2\tBatch: [300/600]\tLoss: 1.8198\tAcc_both: 55.89\tAcc_base: 50.49\tAcc_novel: 80.03 % (81.25 %)\n"
     ]
    },
    {
     "name": "stderr",
     "output_type": "stream",
     "text": [
      " 67%|██████▋   | 400/600 [01:20<00:38,  5.20it/s]"
     ]
    },
    {
     "name": "stdout",
     "output_type": "stream",
     "text": [
      "Train Epoch: 2\tBatch: [400/600]\tLoss: 1.9715\tAcc_both: 55.89\tAcc_base: 50.46\tAcc_novel: 80.07 % (77.92 %)\n"
     ]
    },
    {
     "name": "stderr",
     "output_type": "stream",
     "text": [
      " 84%|████████▎ | 501/600 [01:39<00:19,  5.18it/s]"
     ]
    },
    {
     "name": "stdout",
     "output_type": "stream",
     "text": [
      "Train Epoch: 2\tBatch: [500/600]\tLoss: 1.7227\tAcc_both: 55.89\tAcc_base: 50.44\tAcc_novel: 80.04 % (85.83 %)\n"
     ]
    },
    {
     "name": "stderr",
     "output_type": "stream",
     "text": [
      "100%|██████████| 600/600 [01:59<00:00,  5.03it/s]\n"
     ]
    },
    {
     "name": "stdout",
     "output_type": "stream",
     "text": [
      "Train Epoch: 2\tBatch: [600/600]\tLoss: 1.7392\tAcc_both: 55.93\tAcc_base: 50.42\tAcc_novel: 80.16 % (83.75 %)\n"
     ]
    },
    {
     "name": "stderr",
     "output_type": "stream",
     "text": [
      "100%|██████████| 1000/1000 [00:59<00:00, 16.84it/s]\n"
     ]
    },
    {
     "name": "stdout",
     "output_type": "stream",
     "text": [
      "Validation Epoch: 2\t\t\tLoss: 0.8901\tAccuracy: 65.16 ± 0.72 %\n",
      "Elapsed Time: 6m/60m\n",
      "\n",
      "Train Epoch: 3\tLearning Rate: 1.0000\n"
     ]
    },
    {
     "name": "stderr",
     "output_type": "stream",
     "text": [
      " 17%|█▋        | 100/600 [00:21<01:36,  5.17it/s]"
     ]
    },
    {
     "name": "stdout",
     "output_type": "stream",
     "text": [
      "Train Epoch: 3\tBatch: [100/600]\tLoss: 1.8692\tAcc_both: 55.57\tAcc_base: 50.45\tAcc_novel: 79.32 % (75.83 %)\n"
     ]
    },
    {
     "name": "stderr",
     "output_type": "stream",
     "text": [
      " 33%|███▎      | 200/600 [00:40<01:16,  5.21it/s]"
     ]
    },
    {
     "name": "stdout",
     "output_type": "stream",
     "text": [
      "Train Epoch: 3\tBatch: [200/600]\tLoss: 1.7457\tAcc_both: 55.80\tAcc_base: 50.53\tAcc_novel: 79.62 % (84.17 %)\n"
     ]
    },
    {
     "name": "stderr",
     "output_type": "stream",
     "text": [
      " 50%|█████     | 301/600 [01:00<00:57,  5.22it/s]"
     ]
    },
    {
     "name": "stdout",
     "output_type": "stream",
     "text": [
      "Train Epoch: 3\tBatch: [300/600]\tLoss: 1.9286\tAcc_both: 55.81\tAcc_base: 50.43\tAcc_novel: 79.99 % (73.33 %)\n"
     ]
    },
    {
     "name": "stderr",
     "output_type": "stream",
     "text": [
      " 67%|██████▋   | 401/600 [01:19<00:39,  5.03it/s]"
     ]
    },
    {
     "name": "stdout",
     "output_type": "stream",
     "text": [
      "Train Epoch: 3\tBatch: [400/600]\tLoss: 1.9336\tAcc_both: 55.81\tAcc_base: 50.40\tAcc_novel: 80.04 % (75.83 %)\n"
     ]
    },
    {
     "name": "stderr",
     "output_type": "stream",
     "text": [
      " 83%|████████▎ | 500/600 [01:39<00:20,  4.95it/s]"
     ]
    },
    {
     "name": "stdout",
     "output_type": "stream",
     "text": [
      "Train Epoch: 3\tBatch: [500/600]\tLoss: 1.8143\tAcc_both: 55.77\tAcc_base: 50.42\tAcc_novel: 79.92 % (83.75 %)\n"
     ]
    },
    {
     "name": "stderr",
     "output_type": "stream",
     "text": [
      "100%|██████████| 600/600 [01:59<00:00,  5.01it/s]\n"
     ]
    },
    {
     "name": "stdout",
     "output_type": "stream",
     "text": [
      "Train Epoch: 3\tBatch: [600/600]\tLoss: 1.7740\tAcc_both: 55.88\tAcc_base: 50.57\tAcc_novel: 79.93 % (85.00 %)\n"
     ]
    },
    {
     "name": "stderr",
     "output_type": "stream",
     "text": [
      "100%|██████████| 1000/1000 [00:59<00:00, 16.87it/s]\n"
     ]
    },
    {
     "name": "stdout",
     "output_type": "stream",
     "text": [
      "Validation Epoch: 3\t\t\tLoss: 0.8872\tAccuracy: 65.05 ± 0.72 %\n",
      "Elapsed Time: 9m/60m\n",
      "\n",
      "Train Epoch: 4\tLearning Rate: 1.0000\n"
     ]
    },
    {
     "name": "stderr",
     "output_type": "stream",
     "text": [
      " 17%|█▋        | 101/600 [00:21<01:36,  5.19it/s]"
     ]
    },
    {
     "name": "stdout",
     "output_type": "stream",
     "text": [
      "Train Epoch: 4\tBatch: [100/600]\tLoss: 1.9323\tAcc_both: 55.70\tAcc_base: 50.24\tAcc_novel: 79.80 % (76.25 %)\n"
     ]
    },
    {
     "name": "stderr",
     "output_type": "stream",
     "text": [
      " 34%|███▎      | 201/600 [00:41<01:20,  4.94it/s]"
     ]
    },
    {
     "name": "stdout",
     "output_type": "stream",
     "text": [
      "Train Epoch: 4\tBatch: [200/600]\tLoss: 1.9550\tAcc_both: 55.74\tAcc_base: 50.19\tAcc_novel: 79.84 % (82.08 %)\n"
     ]
    },
    {
     "name": "stderr",
     "output_type": "stream",
     "text": [
      " 50%|█████     | 301/600 [01:00<00:57,  5.17it/s]"
     ]
    },
    {
     "name": "stdout",
     "output_type": "stream",
     "text": [
      "Train Epoch: 4\tBatch: [300/600]\tLoss: 1.8883\tAcc_both: 55.83\tAcc_base: 50.27\tAcc_novel: 79.83 % (75.83 %)\n"
     ]
    },
    {
     "name": "stderr",
     "output_type": "stream",
     "text": [
      " 67%|██████▋   | 400/600 [01:19<00:39,  5.00it/s]"
     ]
    },
    {
     "name": "stdout",
     "output_type": "stream",
     "text": [
      "Train Epoch: 4\tBatch: [400/600]\tLoss: 1.7865\tAcc_both: 55.93\tAcc_base: 50.20\tAcc_novel: 80.04 % (78.75 %)\n"
     ]
    },
    {
     "name": "stderr",
     "output_type": "stream",
     "text": [
      " 84%|████████▎ | 501/600 [01:40<00:19,  5.08it/s]"
     ]
    },
    {
     "name": "stdout",
     "output_type": "stream",
     "text": [
      "Train Epoch: 4\tBatch: [500/600]\tLoss: 2.0312\tAcc_both: 55.84\tAcc_base: 50.20\tAcc_novel: 79.89 % (75.83 %)\n"
     ]
    },
    {
     "name": "stderr",
     "output_type": "stream",
     "text": [
      "100%|██████████| 600/600 [01:59<00:00,  5.00it/s]\n"
     ]
    },
    {
     "name": "stdout",
     "output_type": "stream",
     "text": [
      "Train Epoch: 4\tBatch: [600/600]\tLoss: 1.9115\tAcc_both: 55.82\tAcc_base: 50.17\tAcc_novel: 79.81 % (81.67 %)\n"
     ]
    },
    {
     "name": "stderr",
     "output_type": "stream",
     "text": [
      "100%|██████████| 1000/1000 [01:00<00:00, 16.62it/s]\n"
     ]
    },
    {
     "name": "stdout",
     "output_type": "stream",
     "text": [
      "Validation Epoch: 4\t\t\tLoss: 0.8864\tAccuracy: 65.37 ± 0.71 %\n",
      "Elapsed Time: 12m/60m\n",
      "\n",
      "Train Epoch: 5\tLearning Rate: 1.0000\n"
     ]
    },
    {
     "name": "stderr",
     "output_type": "stream",
     "text": [
      " 17%|█▋        | 101/600 [00:21<01:36,  5.17it/s]"
     ]
    },
    {
     "name": "stdout",
     "output_type": "stream",
     "text": [
      "Train Epoch: 5\tBatch: [100/600]\tLoss: 1.7993\tAcc_both: 55.94\tAcc_base: 50.57\tAcc_novel: 80.24 % (82.50 %)\n"
     ]
    },
    {
     "name": "stderr",
     "output_type": "stream",
     "text": [
      " 33%|███▎      | 200/600 [00:40<01:19,  5.01it/s]"
     ]
    },
    {
     "name": "stdout",
     "output_type": "stream",
     "text": [
      "Train Epoch: 5\tBatch: [200/600]\tLoss: 1.8521\tAcc_both: 55.71\tAcc_base: 50.45\tAcc_novel: 79.85 % (80.83 %)\n"
     ]
    },
    {
     "name": "stderr",
     "output_type": "stream",
     "text": [
      " 50%|█████     | 300/600 [00:59<00:57,  5.20it/s]"
     ]
    },
    {
     "name": "stdout",
     "output_type": "stream",
     "text": [
      "Train Epoch: 5\tBatch: [300/600]\tLoss: 1.8231\tAcc_both: 55.79\tAcc_base: 50.60\tAcc_novel: 79.98 % (81.67 %)\n"
     ]
    },
    {
     "name": "stderr",
     "output_type": "stream",
     "text": [
      " 67%|██████▋   | 401/600 [01:19<00:39,  5.09it/s]"
     ]
    },
    {
     "name": "stdout",
     "output_type": "stream",
     "text": [
      "Train Epoch: 5\tBatch: [400/600]\tLoss: 1.8787\tAcc_both: 55.75\tAcc_base: 50.55\tAcc_novel: 79.97 % (80.42 %)\n"
     ]
    },
    {
     "name": "stderr",
     "output_type": "stream",
     "text": [
      " 84%|████████▎ | 501/600 [01:39<00:19,  5.17it/s]"
     ]
    },
    {
     "name": "stdout",
     "output_type": "stream",
     "text": [
      "Train Epoch: 5\tBatch: [500/600]\tLoss: 1.8329\tAcc_both: 55.64\tAcc_base: 50.48\tAcc_novel: 79.76 % (81.67 %)\n"
     ]
    },
    {
     "name": "stderr",
     "output_type": "stream",
     "text": [
      "100%|██████████| 600/600 [01:59<00:00,  5.04it/s]\n"
     ]
    },
    {
     "name": "stdout",
     "output_type": "stream",
     "text": [
      "Train Epoch: 5\tBatch: [600/600]\tLoss: 1.5470\tAcc_both: 55.62\tAcc_base: 50.40\tAcc_novel: 79.80 % (88.33 %)\n"
     ]
    },
    {
     "name": "stderr",
     "output_type": "stream",
     "text": [
      "100%|██████████| 1000/1000 [00:59<00:00, 16.68it/s]\n"
     ]
    },
    {
     "name": "stdout",
     "output_type": "stream",
     "text": [
      "Validation Epoch: 5\t\t\tLoss: 0.8927\tAccuracy: 65.03 ± 0.75 %\n",
      "Elapsed Time: 15m/60m\n",
      "\n",
      "Train Epoch: 6\tLearning Rate: 0.5000\n"
     ]
    },
    {
     "name": "stderr",
     "output_type": "stream",
     "text": [
      " 17%|█▋        | 101/600 [00:21<01:36,  5.18it/s]"
     ]
    },
    {
     "name": "stdout",
     "output_type": "stream",
     "text": [
      "Train Epoch: 6\tBatch: [100/600]\tLoss: 1.6972\tAcc_both: 57.47\tAcc_base: 52.82\tAcc_novel: 80.52 % (84.17 %)\n"
     ]
    },
    {
     "name": "stderr",
     "output_type": "stream",
     "text": [
      " 34%|███▎      | 201/600 [00:40<01:16,  5.22it/s]"
     ]
    },
    {
     "name": "stdout",
     "output_type": "stream",
     "text": [
      "Train Epoch: 6\tBatch: [200/600]\tLoss: 1.7188\tAcc_both: 57.21\tAcc_base: 52.76\tAcc_novel: 80.30 % (76.67 %)\n"
     ]
    },
    {
     "name": "stderr",
     "output_type": "stream",
     "text": [
      " 50%|█████     | 301/600 [01:00<00:56,  5.27it/s]"
     ]
    },
    {
     "name": "stdout",
     "output_type": "stream",
     "text": [
      "Train Epoch: 6\tBatch: [300/600]\tLoss: 1.9038\tAcc_both: 57.06\tAcc_base: 52.61\tAcc_novel: 80.26 % (75.00 %)\n"
     ]
    },
    {
     "name": "stderr",
     "output_type": "stream",
     "text": [
      " 67%|██████▋   | 400/600 [01:19<00:38,  5.17it/s]"
     ]
    },
    {
     "name": "stdout",
     "output_type": "stream",
     "text": [
      "Train Epoch: 6\tBatch: [400/600]\tLoss: 1.5650\tAcc_both: 56.95\tAcc_base: 52.59\tAcc_novel: 80.13 % (85.42 %)\n"
     ]
    },
    {
     "name": "stderr",
     "output_type": "stream",
     "text": [
      " 83%|████████▎ | 500/600 [01:38<00:19,  5.04it/s]"
     ]
    },
    {
     "name": "stdout",
     "output_type": "stream",
     "text": [
      "Train Epoch: 6\tBatch: [500/600]\tLoss: 1.7908\tAcc_both: 56.94\tAcc_base: 52.56\tAcc_novel: 80.09 % (72.50 %)\n"
     ]
    },
    {
     "name": "stderr",
     "output_type": "stream",
     "text": [
      "100%|██████████| 600/600 [01:58<00:00,  5.05it/s]\n"
     ]
    },
    {
     "name": "stdout",
     "output_type": "stream",
     "text": [
      "Train Epoch: 6\tBatch: [600/600]\tLoss: 1.7023\tAcc_both: 56.88\tAcc_base: 52.58\tAcc_novel: 80.02 % (72.92 %)\n"
     ]
    },
    {
     "name": "stderr",
     "output_type": "stream",
     "text": [
      "100%|██████████| 1000/1000 [00:59<00:00, 16.89it/s]\n"
     ]
    },
    {
     "name": "stdout",
     "output_type": "stream",
     "text": [
      "Validation Epoch: 6\t\t\tLoss: 0.8775\tAccuracy: 65.54 ± 0.73 % (Best)\n",
      "Elapsed Time: 18m/60m\n",
      "\n",
      "Train Epoch: 7\tLearning Rate: 0.5000\n"
     ]
    },
    {
     "name": "stderr",
     "output_type": "stream",
     "text": [
      " 17%|█▋        | 101/600 [00:21<01:37,  5.12it/s]"
     ]
    },
    {
     "name": "stdout",
     "output_type": "stream",
     "text": [
      "Train Epoch: 7\tBatch: [100/600]\tLoss: 1.7660\tAcc_both: 56.89\tAcc_base: 52.32\tAcc_novel: 80.27 % (80.42 %)\n"
     ]
    },
    {
     "name": "stderr",
     "output_type": "stream",
     "text": [
      " 34%|███▎      | 201/600 [00:40<01:16,  5.20it/s]"
     ]
    },
    {
     "name": "stdout",
     "output_type": "stream",
     "text": [
      "Train Epoch: 7\tBatch: [200/600]\tLoss: 1.6763\tAcc_both: 56.82\tAcc_base: 52.67\tAcc_novel: 80.05 % (82.50 %)\n"
     ]
    },
    {
     "name": "stderr",
     "output_type": "stream",
     "text": [
      " 50%|█████     | 301/600 [01:00<00:59,  5.07it/s]"
     ]
    },
    {
     "name": "stdout",
     "output_type": "stream",
     "text": [
      "Train Epoch: 7\tBatch: [300/600]\tLoss: 1.7698\tAcc_both: 56.75\tAcc_base: 52.43\tAcc_novel: 80.03 % (85.00 %)\n"
     ]
    },
    {
     "name": "stderr",
     "output_type": "stream",
     "text": [
      " 67%|██████▋   | 401/600 [01:20<00:39,  5.07it/s]"
     ]
    },
    {
     "name": "stdout",
     "output_type": "stream",
     "text": [
      "Train Epoch: 7\tBatch: [400/600]\tLoss: 1.7315\tAcc_both: 56.84\tAcc_base: 52.51\tAcc_novel: 80.10 % (82.92 %)\n"
     ]
    },
    {
     "name": "stderr",
     "output_type": "stream",
     "text": [
      " 84%|████████▎ | 501/600 [01:39<00:19,  5.06it/s]"
     ]
    },
    {
     "name": "stdout",
     "output_type": "stream",
     "text": [
      "Train Epoch: 7\tBatch: [500/600]\tLoss: 1.6905\tAcc_both: 56.92\tAcc_base: 52.64\tAcc_novel: 80.13 % (81.67 %)\n"
     ]
    },
    {
     "name": "stderr",
     "output_type": "stream",
     "text": [
      "100%|██████████| 600/600 [01:59<00:00,  5.02it/s]\n"
     ]
    },
    {
     "name": "stdout",
     "output_type": "stream",
     "text": [
      "Train Epoch: 7\tBatch: [600/600]\tLoss: 1.7895\tAcc_both: 56.99\tAcc_base: 52.76\tAcc_novel: 80.15 % (78.75 %)\n"
     ]
    },
    {
     "name": "stderr",
     "output_type": "stream",
     "text": [
      "100%|██████████| 1000/1000 [00:59<00:00, 16.87it/s]\n"
     ]
    },
    {
     "name": "stdout",
     "output_type": "stream",
     "text": [
      "Validation Epoch: 7\t\t\tLoss: 0.8916\tAccuracy: 64.90 ± 0.74 %\n",
      "Elapsed Time: 21m/60m\n",
      "\n",
      "Train Epoch: 8\tLearning Rate: 0.5000\n"
     ]
    },
    {
     "name": "stderr",
     "output_type": "stream",
     "text": [
      " 17%|█▋        | 100/600 [00:20<01:36,  5.17it/s]"
     ]
    },
    {
     "name": "stdout",
     "output_type": "stream",
     "text": [
      "Train Epoch: 8\tBatch: [100/600]\tLoss: 1.7683\tAcc_both: 57.18\tAcc_base: 52.15\tAcc_novel: 80.33 % (82.08 %)\n"
     ]
    },
    {
     "name": "stderr",
     "output_type": "stream",
     "text": [
      " 34%|███▎      | 201/600 [00:40<01:16,  5.19it/s]"
     ]
    },
    {
     "name": "stdout",
     "output_type": "stream",
     "text": [
      "Train Epoch: 8\tBatch: [200/600]\tLoss: 1.7268\tAcc_both: 57.03\tAcc_base: 52.32\tAcc_novel: 80.18 % (79.58 %)\n"
     ]
    },
    {
     "name": "stderr",
     "output_type": "stream",
     "text": [
      " 50%|█████     | 301/600 [00:59<00:57,  5.18it/s]"
     ]
    },
    {
     "name": "stdout",
     "output_type": "stream",
     "text": [
      "Train Epoch: 8\tBatch: [300/600]\tLoss: 1.6767\tAcc_both: 56.93\tAcc_base: 52.34\tAcc_novel: 79.99 % (81.67 %)\n"
     ]
    },
    {
     "name": "stderr",
     "output_type": "stream",
     "text": [
      " 67%|██████▋   | 400/600 [01:19<00:40,  4.99it/s]"
     ]
    },
    {
     "name": "stdout",
     "output_type": "stream",
     "text": [
      "Train Epoch: 8\tBatch: [400/600]\tLoss: 1.6918\tAcc_both: 56.92\tAcc_base: 52.27\tAcc_novel: 80.06 % (81.25 %)\n"
     ]
    },
    {
     "name": "stderr",
     "output_type": "stream",
     "text": [
      " 84%|████████▎ | 501/600 [01:39<00:19,  5.13it/s]"
     ]
    },
    {
     "name": "stdout",
     "output_type": "stream",
     "text": [
      "Train Epoch: 8\tBatch: [500/600]\tLoss: 1.6353\tAcc_both: 56.86\tAcc_base: 52.29\tAcc_novel: 80.03 % (82.08 %)\n"
     ]
    },
    {
     "name": "stderr",
     "output_type": "stream",
     "text": [
      "100%|██████████| 600/600 [01:59<00:00,  5.04it/s]\n"
     ]
    },
    {
     "name": "stdout",
     "output_type": "stream",
     "text": [
      "Train Epoch: 8\tBatch: [600/600]\tLoss: 1.7042\tAcc_both: 56.76\tAcc_base: 52.27\tAcc_novel: 79.91 % (84.58 %)\n"
     ]
    },
    {
     "name": "stderr",
     "output_type": "stream",
     "text": [
      "100%|██████████| 1000/1000 [00:59<00:00, 16.80it/s]\n"
     ]
    },
    {
     "name": "stdout",
     "output_type": "stream",
     "text": [
      "Validation Epoch: 8\t\t\tLoss: 0.8827\tAccuracy: 65.80 ± 0.71 % (Best)\n",
      "Elapsed Time: 24m/60m\n",
      "\n",
      "Train Epoch: 9\tLearning Rate: 0.5000\n"
     ]
    },
    {
     "name": "stderr",
     "output_type": "stream",
     "text": [
      " 17%|█▋        | 101/600 [00:21<01:36,  5.17it/s]"
     ]
    },
    {
     "name": "stdout",
     "output_type": "stream",
     "text": [
      "Train Epoch: 9\tBatch: [100/600]\tLoss: 1.8857\tAcc_both: 56.75\tAcc_base: 52.33\tAcc_novel: 80.09 % (78.75 %)\n"
     ]
    },
    {
     "name": "stderr",
     "output_type": "stream",
     "text": [
      " 34%|███▎      | 201/600 [00:41<01:18,  5.10it/s]"
     ]
    },
    {
     "name": "stdout",
     "output_type": "stream",
     "text": [
      "Train Epoch: 9\tBatch: [200/600]\tLoss: 1.8792\tAcc_both: 56.90\tAcc_base: 52.68\tAcc_novel: 80.25 % (75.83 %)\n"
     ]
    },
    {
     "name": "stderr",
     "output_type": "stream",
     "text": [
      " 50%|█████     | 301/600 [01:00<00:57,  5.19it/s]"
     ]
    },
    {
     "name": "stdout",
     "output_type": "stream",
     "text": [
      "Train Epoch: 9\tBatch: [300/600]\tLoss: 1.7630\tAcc_both: 56.86\tAcc_base: 52.56\tAcc_novel: 80.15 % (82.08 %)\n"
     ]
    },
    {
     "name": "stderr",
     "output_type": "stream",
     "text": [
      " 67%|██████▋   | 401/600 [01:20<00:38,  5.11it/s]"
     ]
    },
    {
     "name": "stdout",
     "output_type": "stream",
     "text": [
      "Train Epoch: 9\tBatch: [400/600]\tLoss: 1.7426\tAcc_both: 56.93\tAcc_base: 52.64\tAcc_novel: 80.13 % (82.92 %)\n"
     ]
    },
    {
     "name": "stderr",
     "output_type": "stream",
     "text": [
      " 84%|████████▎ | 501/600 [01:39<00:19,  5.18it/s]"
     ]
    },
    {
     "name": "stdout",
     "output_type": "stream",
     "text": [
      "Train Epoch: 9\tBatch: [500/600]\tLoss: 1.6240\tAcc_both: 56.98\tAcc_base: 52.66\tAcc_novel: 80.20 % (85.83 %)\n"
     ]
    },
    {
     "name": "stderr",
     "output_type": "stream",
     "text": [
      "100%|██████████| 600/600 [01:59<00:00,  5.03it/s]\n"
     ]
    },
    {
     "name": "stdout",
     "output_type": "stream",
     "text": [
      "Train Epoch: 9\tBatch: [600/600]\tLoss: 1.8210\tAcc_both: 57.00\tAcc_base: 52.67\tAcc_novel: 80.29 % (75.42 %)\n"
     ]
    },
    {
     "name": "stderr",
     "output_type": "stream",
     "text": [
      "100%|██████████| 1000/1000 [00:59<00:00, 16.86it/s]\n"
     ]
    },
    {
     "name": "stdout",
     "output_type": "stream",
     "text": [
      "Validation Epoch: 9\t\t\tLoss: 0.8907\tAccuracy: 65.33 ± 0.73 %\n",
      "Elapsed Time: 27m/60m\n",
      "\n",
      "Train Epoch: 10\tLearning Rate: 0.5000\n"
     ]
    },
    {
     "name": "stderr",
     "output_type": "stream",
     "text": [
      " 17%|█▋        | 101/600 [00:21<01:36,  5.20it/s]"
     ]
    },
    {
     "name": "stdout",
     "output_type": "stream",
     "text": [
      "Train Epoch: 10\tBatch: [100/600]\tLoss: 1.7837\tAcc_both: 57.39\tAcc_base: 52.50\tAcc_novel: 80.50 % (81.25 %)\n"
     ]
    },
    {
     "name": "stderr",
     "output_type": "stream",
     "text": [
      " 34%|███▎      | 201/600 [00:40<01:17,  5.16it/s]"
     ]
    },
    {
     "name": "stdout",
     "output_type": "stream",
     "text": [
      "Train Epoch: 10\tBatch: [200/600]\tLoss: 1.7721\tAcc_both: 57.22\tAcc_base: 52.57\tAcc_novel: 80.37 % (74.58 %)\n"
     ]
    },
    {
     "name": "stderr",
     "output_type": "stream",
     "text": [
      " 50%|█████     | 301/600 [00:59<00:57,  5.20it/s]"
     ]
    },
    {
     "name": "stdout",
     "output_type": "stream",
     "text": [
      "Train Epoch: 10\tBatch: [300/600]\tLoss: 1.6211\tAcc_both: 57.22\tAcc_base: 52.63\tAcc_novel: 80.25 % (87.08 %)\n"
     ]
    },
    {
     "name": "stderr",
     "output_type": "stream",
     "text": [
      " 67%|██████▋   | 400/600 [01:18<00:38,  5.20it/s]"
     ]
    },
    {
     "name": "stdout",
     "output_type": "stream",
     "text": [
      "Train Epoch: 10\tBatch: [400/600]\tLoss: 1.6820\tAcc_both: 57.14\tAcc_base: 52.60\tAcc_novel: 80.20 % (87.92 %)\n"
     ]
    },
    {
     "name": "stderr",
     "output_type": "stream",
     "text": [
      " 84%|████████▎ | 501/600 [01:38<00:19,  5.09it/s]"
     ]
    },
    {
     "name": "stdout",
     "output_type": "stream",
     "text": [
      "Train Epoch: 10\tBatch: [500/600]\tLoss: 1.6406\tAcc_both: 57.10\tAcc_base: 52.58\tAcc_novel: 80.21 % (79.58 %)\n"
     ]
    },
    {
     "name": "stderr",
     "output_type": "stream",
     "text": [
      "100%|██████████| 600/600 [01:58<00:00,  5.06it/s]\n"
     ]
    },
    {
     "name": "stdout",
     "output_type": "stream",
     "text": [
      "Train Epoch: 10\tBatch: [600/600]\tLoss: 1.8437\tAcc_both: 57.08\tAcc_base: 52.57\tAcc_novel: 80.19 % (80.42 %)\n"
     ]
    },
    {
     "name": "stderr",
     "output_type": "stream",
     "text": [
      "100%|██████████| 1000/1000 [00:58<00:00, 16.96it/s]\n"
     ]
    },
    {
     "name": "stdout",
     "output_type": "stream",
     "text": [
      "Validation Epoch: 10\t\t\tLoss: 0.8905\tAccuracy: 65.40 ± 0.71 %\n",
      "Elapsed Time: 30m/60m\n",
      "\n",
      "Train Epoch: 11\tLearning Rate: 0.1000\n"
     ]
    },
    {
     "name": "stderr",
     "output_type": "stream",
     "text": [
      " 17%|█▋        | 100/600 [00:21<01:37,  5.14it/s]"
     ]
    },
    {
     "name": "stdout",
     "output_type": "stream",
     "text": [
      "Train Epoch: 11\tBatch: [100/600]\tLoss: 1.4868\tAcc_both: 58.66\tAcc_base: 55.97\tAcc_novel: 80.67 % (89.17 %)\n"
     ]
    },
    {
     "name": "stderr",
     "output_type": "stream",
     "text": [
      " 34%|███▎      | 201/600 [00:40<01:18,  5.11it/s]"
     ]
    },
    {
     "name": "stdout",
     "output_type": "stream",
     "text": [
      "Train Epoch: 11\tBatch: [200/600]\tLoss: 1.4625\tAcc_both: 59.03\tAcc_base: 56.03\tAcc_novel: 80.85 % (81.67 %)\n"
     ]
    },
    {
     "name": "stderr",
     "output_type": "stream",
     "text": [
      " 50%|█████     | 301/600 [01:00<00:57,  5.21it/s]"
     ]
    },
    {
     "name": "stdout",
     "output_type": "stream",
     "text": [
      "Train Epoch: 11\tBatch: [300/600]\tLoss: 1.5260\tAcc_both: 59.03\tAcc_base: 56.13\tAcc_novel: 80.68 % (82.92 %)\n"
     ]
    },
    {
     "name": "stderr",
     "output_type": "stream",
     "text": [
      " 67%|██████▋   | 401/600 [01:19<00:38,  5.15it/s]"
     ]
    },
    {
     "name": "stdout",
     "output_type": "stream",
     "text": [
      "Train Epoch: 11\tBatch: [400/600]\tLoss: 1.6749\tAcc_both: 58.99\tAcc_base: 56.39\tAcc_novel: 80.60 % (79.58 %)\n"
     ]
    },
    {
     "name": "stderr",
     "output_type": "stream",
     "text": [
      " 83%|████████▎ | 500/600 [01:39<00:19,  5.06it/s]"
     ]
    },
    {
     "name": "stdout",
     "output_type": "stream",
     "text": [
      "Train Epoch: 11\tBatch: [500/600]\tLoss: 1.6209\tAcc_both: 59.05\tAcc_base: 56.41\tAcc_novel: 80.65 % (82.08 %)\n"
     ]
    },
    {
     "name": "stderr",
     "output_type": "stream",
     "text": [
      "100%|██████████| 600/600 [01:59<00:00,  5.04it/s]\n"
     ]
    },
    {
     "name": "stdout",
     "output_type": "stream",
     "text": [
      "Train Epoch: 11\tBatch: [600/600]\tLoss: 1.5824\tAcc_both: 59.03\tAcc_base: 56.48\tAcc_novel: 80.58 % (84.17 %)\n"
     ]
    },
    {
     "name": "stderr",
     "output_type": "stream",
     "text": [
      "100%|██████████| 1000/1000 [00:59<00:00, 16.78it/s]\n"
     ]
    },
    {
     "name": "stdout",
     "output_type": "stream",
     "text": [
      "Validation Epoch: 11\t\t\tLoss: 0.8809\tAccuracy: 66.09 ± 0.74 % (Best)\n",
      "Elapsed Time: 33m/60m\n",
      "\n",
      "Train Epoch: 12\tLearning Rate: 0.1000\n"
     ]
    },
    {
     "name": "stderr",
     "output_type": "stream",
     "text": [
      " 17%|█▋        | 101/600 [00:21<01:36,  5.18it/s]"
     ]
    },
    {
     "name": "stdout",
     "output_type": "stream",
     "text": [
      "Train Epoch: 12\tBatch: [100/600]\tLoss: 1.6466\tAcc_both: 59.11\tAcc_base: 57.20\tAcc_novel: 80.21 % (77.92 %)\n"
     ]
    },
    {
     "name": "stderr",
     "output_type": "stream",
     "text": [
      " 33%|███▎      | 200/600 [00:40<01:17,  5.16it/s]"
     ]
    },
    {
     "name": "stdout",
     "output_type": "stream",
     "text": [
      "Train Epoch: 12\tBatch: [200/600]\tLoss: 1.6832\tAcc_both: 59.11\tAcc_base: 56.79\tAcc_novel: 80.50 % (77.50 %)\n"
     ]
    },
    {
     "name": "stderr",
     "output_type": "stream",
     "text": [
      " 50%|█████     | 300/600 [00:59<00:58,  5.16it/s]"
     ]
    },
    {
     "name": "stdout",
     "output_type": "stream",
     "text": [
      "Train Epoch: 12\tBatch: [300/600]\tLoss: 1.8163\tAcc_both: 59.08\tAcc_base: 56.73\tAcc_novel: 80.35 % (76.67 %)\n"
     ]
    },
    {
     "name": "stderr",
     "output_type": "stream",
     "text": [
      " 67%|██████▋   | 401/600 [01:19<00:38,  5.19it/s]"
     ]
    },
    {
     "name": "stdout",
     "output_type": "stream",
     "text": [
      "Train Epoch: 12\tBatch: [400/600]\tLoss: 1.6382\tAcc_both: 59.19\tAcc_base: 56.62\tAcc_novel: 80.59 % (78.75 %)\n"
     ]
    },
    {
     "name": "stderr",
     "output_type": "stream",
     "text": [
      " 83%|████████▎ | 500/600 [01:38<00:19,  5.19it/s]"
     ]
    },
    {
     "name": "stdout",
     "output_type": "stream",
     "text": [
      "Train Epoch: 12\tBatch: [500/600]\tLoss: 1.6720\tAcc_both: 59.25\tAcc_base: 56.69\tAcc_novel: 80.68 % (85.83 %)\n"
     ]
    },
    {
     "name": "stderr",
     "output_type": "stream",
     "text": [
      "100%|██████████| 600/600 [01:58<00:00,  5.07it/s]\n"
     ]
    },
    {
     "name": "stdout",
     "output_type": "stream",
     "text": [
      "Train Epoch: 12\tBatch: [600/600]\tLoss: 1.5761\tAcc_both: 59.24\tAcc_base: 56.67\tAcc_novel: 80.63 % (83.33 %)\n"
     ]
    },
    {
     "name": "stderr",
     "output_type": "stream",
     "text": [
      "100%|██████████| 1000/1000 [01:00<00:00, 16.50it/s]\n"
     ]
    },
    {
     "name": "stdout",
     "output_type": "stream",
     "text": [
      "Validation Epoch: 12\t\t\tLoss: 0.8888\tAccuracy: 65.66 ± 0.74 %\n",
      "Elapsed Time: 36m/60m\n",
      "\n",
      "Train Epoch: 13\tLearning Rate: 0.1000\n"
     ]
    },
    {
     "name": "stderr",
     "output_type": "stream",
     "text": [
      " 17%|█▋        | 101/600 [00:21<01:36,  5.18it/s]"
     ]
    },
    {
     "name": "stdout",
     "output_type": "stream",
     "text": [
      "Train Epoch: 13\tBatch: [100/600]\tLoss: 1.4375\tAcc_both: 58.77\tAcc_base: 56.14\tAcc_novel: 80.34 % (85.00 %)\n"
     ]
    },
    {
     "name": "stderr",
     "output_type": "stream",
     "text": [
      " 33%|███▎      | 200/600 [00:40<01:17,  5.17it/s]"
     ]
    },
    {
     "name": "stdout",
     "output_type": "stream",
     "text": [
      "Train Epoch: 13\tBatch: [200/600]\tLoss: 1.6305\tAcc_both: 59.18\tAcc_base: 56.51\tAcc_novel: 80.63 % (80.42 %)\n"
     ]
    },
    {
     "name": "stderr",
     "output_type": "stream",
     "text": [
      " 50%|█████     | 301/600 [01:00<00:57,  5.21it/s]"
     ]
    },
    {
     "name": "stdout",
     "output_type": "stream",
     "text": [
      "Train Epoch: 13\tBatch: [300/600]\tLoss: 1.7480\tAcc_both: 59.12\tAcc_base: 56.52\tAcc_novel: 80.62 % (75.42 %)\n"
     ]
    },
    {
     "name": "stderr",
     "output_type": "stream",
     "text": [
      " 67%|██████▋   | 400/600 [01:20<00:39,  5.03it/s]"
     ]
    },
    {
     "name": "stdout",
     "output_type": "stream",
     "text": [
      "Train Epoch: 13\tBatch: [400/600]\tLoss: 1.7274\tAcc_both: 59.00\tAcc_base: 56.48\tAcc_novel: 80.38 % (77.50 %)\n"
     ]
    },
    {
     "name": "stderr",
     "output_type": "stream",
     "text": [
      " 83%|████████▎ | 500/600 [01:39<00:19,  5.11it/s]"
     ]
    },
    {
     "name": "stdout",
     "output_type": "stream",
     "text": [
      "Train Epoch: 13\tBatch: [500/600]\tLoss: 1.8951\tAcc_both: 58.87\tAcc_base: 56.49\tAcc_novel: 80.09 % (69.17 %)\n"
     ]
    },
    {
     "name": "stderr",
     "output_type": "stream",
     "text": [
      "100%|██████████| 600/600 [01:59<00:00,  5.01it/s]\n"
     ]
    },
    {
     "name": "stdout",
     "output_type": "stream",
     "text": [
      "Train Epoch: 13\tBatch: [600/600]\tLoss: 1.7785\tAcc_both: 58.79\tAcc_base: 56.27\tAcc_novel: 80.16 % (80.00 %)\n"
     ]
    },
    {
     "name": "stderr",
     "output_type": "stream",
     "text": [
      "100%|██████████| 1000/1000 [01:00<00:00, 16.47it/s]\n"
     ]
    },
    {
     "name": "stdout",
     "output_type": "stream",
     "text": [
      "Validation Epoch: 13\t\t\tLoss: 0.8916\tAccuracy: 65.57 ± 0.72 %\n",
      "Elapsed Time: 39m/60m\n",
      "\n",
      "Train Epoch: 14\tLearning Rate: 0.1000\n"
     ]
    },
    {
     "name": "stderr",
     "output_type": "stream",
     "text": [
      " 17%|█▋        | 101/600 [00:21<01:38,  5.08it/s]"
     ]
    },
    {
     "name": "stdout",
     "output_type": "stream",
     "text": [
      "Train Epoch: 14\tBatch: [100/600]\tLoss: 1.5213\tAcc_both: 59.59\tAcc_base: 56.80\tAcc_novel: 81.03 % (83.75 %)\n"
     ]
    },
    {
     "name": "stderr",
     "output_type": "stream",
     "text": [
      " 33%|███▎      | 200/600 [00:40<01:17,  5.18it/s]"
     ]
    },
    {
     "name": "stdout",
     "output_type": "stream",
     "text": [
      "Train Epoch: 14\tBatch: [200/600]\tLoss: 1.6699\tAcc_both: 59.16\tAcc_base: 56.42\tAcc_novel: 80.59 % (75.83 %)\n"
     ]
    },
    {
     "name": "stderr",
     "output_type": "stream",
     "text": [
      " 50%|█████     | 301/600 [01:00<00:57,  5.16it/s]"
     ]
    },
    {
     "name": "stdout",
     "output_type": "stream",
     "text": [
      "Train Epoch: 14\tBatch: [300/600]\tLoss: 1.5414\tAcc_both: 59.16\tAcc_base: 56.36\tAcc_novel: 80.68 % (81.67 %)\n"
     ]
    },
    {
     "name": "stderr",
     "output_type": "stream",
     "text": [
      " 67%|██████▋   | 400/600 [01:19<00:40,  4.99it/s]"
     ]
    },
    {
     "name": "stdout",
     "output_type": "stream",
     "text": [
      "Train Epoch: 14\tBatch: [400/600]\tLoss: 1.7403\tAcc_both: 59.10\tAcc_base: 56.41\tAcc_novel: 80.60 % (73.33 %)\n"
     ]
    },
    {
     "name": "stderr",
     "output_type": "stream",
     "text": [
      " 84%|████████▎ | 501/600 [01:39<00:19,  5.08it/s]"
     ]
    },
    {
     "name": "stdout",
     "output_type": "stream",
     "text": [
      "Train Epoch: 14\tBatch: [500/600]\tLoss: 1.6821\tAcc_both: 59.06\tAcc_base: 56.23\tAcc_novel: 80.49 % (80.83 %)\n"
     ]
    },
    {
     "name": "stderr",
     "output_type": "stream",
     "text": [
      "100%|██████████| 600/600 [01:59<00:00,  5.02it/s]\n"
     ]
    },
    {
     "name": "stdout",
     "output_type": "stream",
     "text": [
      "Train Epoch: 14\tBatch: [600/600]\tLoss: 1.6210\tAcc_both: 58.96\tAcc_base: 56.14\tAcc_novel: 80.43 % (78.33 %)\n"
     ]
    },
    {
     "name": "stderr",
     "output_type": "stream",
     "text": [
      "100%|██████████| 1000/1000 [00:59<00:00, 16.79it/s]\n"
     ]
    },
    {
     "name": "stdout",
     "output_type": "stream",
     "text": [
      "Validation Epoch: 14\t\t\tLoss: 0.8808\tAccuracy: 66.18 ± 0.70 % (Best)\n",
      "Elapsed Time: 42m/60m\n",
      "\n",
      "Train Epoch: 15\tLearning Rate: 0.1000\n"
     ]
    },
    {
     "name": "stderr",
     "output_type": "stream",
     "text": [
      " 17%|█▋        | 101/600 [00:21<01:37,  5.10it/s]"
     ]
    },
    {
     "name": "stdout",
     "output_type": "stream",
     "text": [
      "Train Epoch: 15\tBatch: [100/600]\tLoss: 1.6142\tAcc_both: 59.07\tAcc_base: 56.43\tAcc_novel: 80.99 % (81.25 %)\n"
     ]
    },
    {
     "name": "stderr",
     "output_type": "stream",
     "text": [
      " 34%|███▎      | 201/600 [00:41<01:18,  5.11it/s]"
     ]
    },
    {
     "name": "stdout",
     "output_type": "stream",
     "text": [
      "Train Epoch: 15\tBatch: [200/600]\tLoss: 1.6066\tAcc_both: 59.10\tAcc_base: 56.33\tAcc_novel: 80.78 % (84.58 %)\n"
     ]
    },
    {
     "name": "stderr",
     "output_type": "stream",
     "text": [
      " 50%|█████     | 301/600 [01:00<00:57,  5.21it/s]"
     ]
    },
    {
     "name": "stdout",
     "output_type": "stream",
     "text": [
      "Train Epoch: 15\tBatch: [300/600]\tLoss: 1.6390\tAcc_both: 59.24\tAcc_base: 56.24\tAcc_novel: 80.74 % (80.83 %)\n"
     ]
    },
    {
     "name": "stderr",
     "output_type": "stream",
     "text": [
      " 67%|██████▋   | 401/600 [01:20<00:38,  5.19it/s]"
     ]
    },
    {
     "name": "stdout",
     "output_type": "stream",
     "text": [
      "Train Epoch: 15\tBatch: [400/600]\tLoss: 1.6076\tAcc_both: 59.13\tAcc_base: 56.15\tAcc_novel: 80.63 % (82.08 %)\n"
     ]
    },
    {
     "name": "stderr",
     "output_type": "stream",
     "text": [
      " 83%|████████▎ | 500/600 [01:39<00:20,  4.95it/s]"
     ]
    },
    {
     "name": "stdout",
     "output_type": "stream",
     "text": [
      "Train Epoch: 15\tBatch: [500/600]\tLoss: 1.5732\tAcc_both: 59.11\tAcc_base: 56.22\tAcc_novel: 80.55 % (80.00 %)\n"
     ]
    },
    {
     "name": "stderr",
     "output_type": "stream",
     "text": [
      "100%|██████████| 600/600 [01:59<00:00,  5.01it/s]\n"
     ]
    },
    {
     "name": "stdout",
     "output_type": "stream",
     "text": [
      "Train Epoch: 15\tBatch: [600/600]\tLoss: 1.7093\tAcc_both: 59.09\tAcc_base: 56.19\tAcc_novel: 80.56 % (81.67 %)\n"
     ]
    },
    {
     "name": "stderr",
     "output_type": "stream",
     "text": [
      "100%|██████████| 1000/1000 [00:59<00:00, 16.73it/s]\n"
     ]
    },
    {
     "name": "stdout",
     "output_type": "stream",
     "text": [
      "Validation Epoch: 15\t\t\tLoss: 0.8923\tAccuracy: 65.60 ± 0.70 %\n",
      "Elapsed Time: 45m/60m\n",
      "\n",
      "Train Epoch: 16\tLearning Rate: 0.0500\n"
     ]
    },
    {
     "name": "stderr",
     "output_type": "stream",
     "text": [
      " 17%|█▋        | 101/600 [00:21<01:35,  5.21it/s]"
     ]
    },
    {
     "name": "stdout",
     "output_type": "stream",
     "text": [
      "Train Epoch: 16\tBatch: [100/600]\tLoss: 1.7925\tAcc_both: 59.36\tAcc_base: 57.19\tAcc_novel: 80.30 % (81.67 %)\n"
     ]
    },
    {
     "name": "stderr",
     "output_type": "stream",
     "text": [
      " 34%|███▎      | 201/600 [00:40<01:18,  5.08it/s]"
     ]
    },
    {
     "name": "stdout",
     "output_type": "stream",
     "text": [
      "Train Epoch: 16\tBatch: [200/600]\tLoss: 1.6121\tAcc_both: 59.48\tAcc_base: 57.60\tAcc_novel: 80.59 % (82.50 %)\n"
     ]
    },
    {
     "name": "stderr",
     "output_type": "stream",
     "text": [
      " 50%|█████     | 301/600 [01:00<00:58,  5.15it/s]"
     ]
    },
    {
     "name": "stdout",
     "output_type": "stream",
     "text": [
      "Train Epoch: 16\tBatch: [300/600]\tLoss: 1.5322\tAcc_both: 59.46\tAcc_base: 57.47\tAcc_novel: 80.47 % (82.50 %)\n"
     ]
    },
    {
     "name": "stderr",
     "output_type": "stream",
     "text": [
      " 67%|██████▋   | 401/600 [01:19<00:39,  5.05it/s]"
     ]
    },
    {
     "name": "stdout",
     "output_type": "stream",
     "text": [
      "Train Epoch: 16\tBatch: [400/600]\tLoss: 1.6045\tAcc_both: 59.64\tAcc_base: 57.46\tAcc_novel: 80.65 % (81.67 %)\n"
     ]
    },
    {
     "name": "stderr",
     "output_type": "stream",
     "text": [
      " 84%|████████▎ | 501/600 [01:39<00:19,  4.99it/s]"
     ]
    },
    {
     "name": "stdout",
     "output_type": "stream",
     "text": [
      "Train Epoch: 16\tBatch: [500/600]\tLoss: 1.4454\tAcc_both: 59.71\tAcc_base: 57.34\tAcc_novel: 80.74 % (85.42 %)\n"
     ]
    },
    {
     "name": "stderr",
     "output_type": "stream",
     "text": [
      "100%|██████████| 600/600 [01:59<00:00,  5.01it/s]\n"
     ]
    },
    {
     "name": "stdout",
     "output_type": "stream",
     "text": [
      "Train Epoch: 16\tBatch: [600/600]\tLoss: 1.8141\tAcc_both: 59.65\tAcc_base: 57.35\tAcc_novel: 80.69 % (65.00 %)\n"
     ]
    },
    {
     "name": "stderr",
     "output_type": "stream",
     "text": [
      "100%|██████████| 1000/1000 [00:59<00:00, 16.89it/s]\n"
     ]
    },
    {
     "name": "stdout",
     "output_type": "stream",
     "text": [
      "Validation Epoch: 16\t\t\tLoss: 0.8859\tAccuracy: 65.55 ± 0.72 %\n",
      "Elapsed Time: 48m/60m\n",
      "\n",
      "Train Epoch: 17\tLearning Rate: 0.0500\n"
     ]
    },
    {
     "name": "stderr",
     "output_type": "stream",
     "text": [
      " 17%|█▋        | 100/600 [00:21<01:37,  5.14it/s]"
     ]
    },
    {
     "name": "stdout",
     "output_type": "stream",
     "text": [
      "Train Epoch: 17\tBatch: [100/600]\tLoss: 1.6035\tAcc_both: 59.45\tAcc_base: 57.35\tAcc_novel: 80.30 % (80.42 %)\n"
     ]
    },
    {
     "name": "stderr",
     "output_type": "stream",
     "text": [
      " 33%|███▎      | 200/600 [00:40<01:16,  5.23it/s]"
     ]
    },
    {
     "name": "stdout",
     "output_type": "stream",
     "text": [
      "Train Epoch: 17\tBatch: [200/600]\tLoss: 1.3472\tAcc_both: 59.84\tAcc_base: 57.58\tAcc_novel: 80.67 % (85.83 %)\n"
     ]
    },
    {
     "name": "stderr",
     "output_type": "stream",
     "text": [
      " 50%|█████     | 301/600 [01:00<00:57,  5.17it/s]"
     ]
    },
    {
     "name": "stdout",
     "output_type": "stream",
     "text": [
      "Train Epoch: 17\tBatch: [300/600]\tLoss: 1.7241\tAcc_both: 59.97\tAcc_base: 57.53\tAcc_novel: 80.93 % (81.67 %)\n"
     ]
    },
    {
     "name": "stderr",
     "output_type": "stream",
     "text": [
      " 67%|██████▋   | 401/600 [01:20<00:38,  5.13it/s]"
     ]
    },
    {
     "name": "stdout",
     "output_type": "stream",
     "text": [
      "Train Epoch: 17\tBatch: [400/600]\tLoss: 1.5719\tAcc_both: 59.94\tAcc_base: 57.61\tAcc_novel: 80.94 % (82.50 %)\n"
     ]
    },
    {
     "name": "stderr",
     "output_type": "stream",
     "text": [
      " 83%|████████▎ | 500/600 [01:39<00:19,  5.01it/s]"
     ]
    },
    {
     "name": "stdout",
     "output_type": "stream",
     "text": [
      "Train Epoch: 17\tBatch: [500/600]\tLoss: 1.7381\tAcc_both: 59.85\tAcc_base: 57.47\tAcc_novel: 80.93 % (75.00 %)\n"
     ]
    },
    {
     "name": "stderr",
     "output_type": "stream",
     "text": [
      "100%|██████████| 600/600 [01:59<00:00,  5.02it/s]\n"
     ]
    },
    {
     "name": "stdout",
     "output_type": "stream",
     "text": [
      "Train Epoch: 17\tBatch: [600/600]\tLoss: 1.5896\tAcc_both: 59.79\tAcc_base: 57.41\tAcc_novel: 80.82 % (80.00 %)\n"
     ]
    },
    {
     "name": "stderr",
     "output_type": "stream",
     "text": [
      "100%|██████████| 1000/1000 [00:59<00:00, 16.84it/s]\n"
     ]
    },
    {
     "name": "stdout",
     "output_type": "stream",
     "text": [
      "Validation Epoch: 17\t\t\tLoss: 0.8862\tAccuracy: 65.79 ± 0.70 %\n",
      "Elapsed Time: 51m/60m\n",
      "\n",
      "Train Epoch: 18\tLearning Rate: 0.0500\n"
     ]
    },
    {
     "name": "stderr",
     "output_type": "stream",
     "text": [
      " 17%|█▋        | 100/600 [00:21<01:37,  5.12it/s]"
     ]
    },
    {
     "name": "stdout",
     "output_type": "stream",
     "text": [
      "Train Epoch: 18\tBatch: [100/600]\tLoss: 1.5913\tAcc_both: 59.42\tAcc_base: 57.22\tAcc_novel: 80.05 % (77.50 %)\n"
     ]
    },
    {
     "name": "stderr",
     "output_type": "stream",
     "text": [
      " 34%|███▎      | 201/600 [00:40<01:17,  5.17it/s]"
     ]
    },
    {
     "name": "stdout",
     "output_type": "stream",
     "text": [
      "Train Epoch: 18\tBatch: [200/600]\tLoss: 1.5933\tAcc_both: 59.74\tAcc_base: 57.35\tAcc_novel: 80.63 % (84.17 %)\n"
     ]
    },
    {
     "name": "stderr",
     "output_type": "stream",
     "text": [
      " 50%|█████     | 300/600 [01:00<00:58,  5.10it/s]"
     ]
    },
    {
     "name": "stdout",
     "output_type": "stream",
     "text": [
      "Train Epoch: 18\tBatch: [300/600]\tLoss: 1.5523\tAcc_both: 59.67\tAcc_base: 57.38\tAcc_novel: 80.65 % (83.33 %)\n"
     ]
    },
    {
     "name": "stderr",
     "output_type": "stream",
     "text": [
      " 67%|██████▋   | 400/600 [01:19<00:38,  5.20it/s]"
     ]
    },
    {
     "name": "stdout",
     "output_type": "stream",
     "text": [
      "Train Epoch: 18\tBatch: [400/600]\tLoss: 1.7522\tAcc_both: 59.57\tAcc_base: 57.27\tAcc_novel: 80.61 % (77.50 %)\n"
     ]
    },
    {
     "name": "stderr",
     "output_type": "stream",
     "text": [
      " 84%|████████▎ | 501/600 [01:39<00:19,  5.03it/s]"
     ]
    },
    {
     "name": "stdout",
     "output_type": "stream",
     "text": [
      "Train Epoch: 18\tBatch: [500/600]\tLoss: 1.7135\tAcc_both: 59.60\tAcc_base: 57.29\tAcc_novel: 80.63 % (73.75 %)\n"
     ]
    },
    {
     "name": "stderr",
     "output_type": "stream",
     "text": [
      "100%|██████████| 600/600 [01:59<00:00,  5.02it/s]\n"
     ]
    },
    {
     "name": "stdout",
     "output_type": "stream",
     "text": [
      "Train Epoch: 18\tBatch: [600/600]\tLoss: 1.6841\tAcc_both: 59.68\tAcc_base: 57.45\tAcc_novel: 80.64 % (76.67 %)\n"
     ]
    },
    {
     "name": "stderr",
     "output_type": "stream",
     "text": [
      "100%|██████████| 1000/1000 [00:59<00:00, 16.80it/s]\n"
     ]
    },
    {
     "name": "stdout",
     "output_type": "stream",
     "text": [
      "Validation Epoch: 18\t\t\tLoss: 0.8939\tAccuracy: 65.49 ± 0.71 %\n",
      "Elapsed Time: 54m/60m\n",
      "\n",
      "Train Epoch: 19\tLearning Rate: 0.0500\n"
     ]
    },
    {
     "name": "stderr",
     "output_type": "stream",
     "text": [
      " 17%|█▋        | 101/600 [00:21<01:36,  5.15it/s]"
     ]
    },
    {
     "name": "stdout",
     "output_type": "stream",
     "text": [
      "Train Epoch: 19\tBatch: [100/600]\tLoss: 1.5955\tAcc_both: 59.57\tAcc_base: 56.51\tAcc_novel: 81.19 % (81.67 %)\n"
     ]
    },
    {
     "name": "stderr",
     "output_type": "stream",
     "text": [
      " 33%|███▎      | 200/600 [00:40<01:18,  5.07it/s]"
     ]
    },
    {
     "name": "stdout",
     "output_type": "stream",
     "text": [
      "Train Epoch: 19\tBatch: [200/600]\tLoss: 1.4515\tAcc_both: 59.74\tAcc_base: 56.82\tAcc_novel: 81.39 % (85.42 %)\n"
     ]
    },
    {
     "name": "stderr",
     "output_type": "stream",
     "text": [
      " 50%|█████     | 300/600 [01:00<00:57,  5.19it/s]"
     ]
    },
    {
     "name": "stdout",
     "output_type": "stream",
     "text": [
      "Train Epoch: 19\tBatch: [300/600]\tLoss: 1.5618\tAcc_both: 59.58\tAcc_base: 56.98\tAcc_novel: 81.03 % (84.17 %)\n"
     ]
    },
    {
     "name": "stderr",
     "output_type": "stream",
     "text": [
      " 67%|██████▋   | 401/600 [01:19<00:39,  5.01it/s]"
     ]
    },
    {
     "name": "stdout",
     "output_type": "stream",
     "text": [
      "Train Epoch: 19\tBatch: [400/600]\tLoss: 1.5105\tAcc_both: 59.61\tAcc_base: 56.98\tAcc_novel: 80.87 % (82.50 %)\n"
     ]
    },
    {
     "name": "stderr",
     "output_type": "stream",
     "text": [
      " 84%|████████▎ | 501/600 [01:39<00:19,  5.06it/s]"
     ]
    },
    {
     "name": "stdout",
     "output_type": "stream",
     "text": [
      "Train Epoch: 19\tBatch: [500/600]\tLoss: 1.5411\tAcc_both: 59.64\tAcc_base: 56.96\tAcc_novel: 80.95 % (86.67 %)\n"
     ]
    },
    {
     "name": "stderr",
     "output_type": "stream",
     "text": [
      "100%|██████████| 600/600 [01:59<00:00,  5.03it/s]\n"
     ]
    },
    {
     "name": "stdout",
     "output_type": "stream",
     "text": [
      "Train Epoch: 19\tBatch: [600/600]\tLoss: 1.4914\tAcc_both: 59.58\tAcc_base: 56.95\tAcc_novel: 80.89 % (85.83 %)\n"
     ]
    },
    {
     "name": "stderr",
     "output_type": "stream",
     "text": [
      "100%|██████████| 1000/1000 [00:59<00:00, 16.87it/s]\n"
     ]
    },
    {
     "name": "stdout",
     "output_type": "stream",
     "text": [
      "Validation Epoch: 19\t\t\tLoss: 0.8693\tAccuracy: 66.53 ± 0.69 % (Best)\n",
      "Elapsed Time: 57m/60m\n",
      "\n",
      "Train Epoch: 20\tLearning Rate: 0.0500\n"
     ]
    },
    {
     "name": "stderr",
     "output_type": "stream",
     "text": [
      " 17%|█▋        | 100/600 [00:21<01:38,  5.09it/s]"
     ]
    },
    {
     "name": "stdout",
     "output_type": "stream",
     "text": [
      "Train Epoch: 20\tBatch: [100/600]\tLoss: 1.5906\tAcc_both: 59.47\tAcc_base: 57.27\tAcc_novel: 80.35 % (80.00 %)\n"
     ]
    },
    {
     "name": "stderr",
     "output_type": "stream",
     "text": [
      " 34%|███▎      | 201/600 [00:41<01:16,  5.23it/s]"
     ]
    },
    {
     "name": "stdout",
     "output_type": "stream",
     "text": [
      "Train Epoch: 20\tBatch: [200/600]\tLoss: 1.5570\tAcc_both: 59.57\tAcc_base: 56.95\tAcc_novel: 80.97 % (82.08 %)\n"
     ]
    },
    {
     "name": "stderr",
     "output_type": "stream",
     "text": [
      " 50%|█████     | 301/600 [01:00<00:58,  5.09it/s]"
     ]
    },
    {
     "name": "stdout",
     "output_type": "stream",
     "text": [
      "Train Epoch: 20\tBatch: [300/600]\tLoss: 1.6870\tAcc_both: 59.67\tAcc_base: 57.01\tAcc_novel: 80.95 % (81.25 %)\n"
     ]
    },
    {
     "name": "stderr",
     "output_type": "stream",
     "text": [
      " 67%|██████▋   | 401/600 [01:19<00:38,  5.15it/s]"
     ]
    },
    {
     "name": "stdout",
     "output_type": "stream",
     "text": [
      "Train Epoch: 20\tBatch: [400/600]\tLoss: 1.5940\tAcc_both: 59.62\tAcc_base: 56.97\tAcc_novel: 80.85 % (78.33 %)\n"
     ]
    },
    {
     "name": "stderr",
     "output_type": "stream",
     "text": [
      " 83%|████████▎ | 500/600 [01:39<00:20,  4.97it/s]"
     ]
    },
    {
     "name": "stdout",
     "output_type": "stream",
     "text": [
      "Train Epoch: 20\tBatch: [500/600]\tLoss: 1.6715\tAcc_both: 59.62\tAcc_base: 56.96\tAcc_novel: 80.84 % (84.17 %)\n"
     ]
    },
    {
     "name": "stderr",
     "output_type": "stream",
     "text": [
      "100%|██████████| 600/600 [01:59<00:00,  5.03it/s]\n"
     ]
    },
    {
     "name": "stdout",
     "output_type": "stream",
     "text": [
      "Train Epoch: 20\tBatch: [600/600]\tLoss: 1.6002\tAcc_both: 59.60\tAcc_base: 56.99\tAcc_novel: 80.75 % (81.67 %)\n"
     ]
    },
    {
     "name": "stderr",
     "output_type": "stream",
     "text": [
      "100%|██████████| 1000/1000 [00:59<00:00, 16.88it/s]\n"
     ]
    },
    {
     "name": "stdout",
     "output_type": "stream",
     "text": [
      "Validation Epoch: 20\t\t\tLoss: 0.8982\tAccuracy: 65.07 ± 0.70 %\n",
      "Elapsed Time: 60m/60m\n",
      "\n"
     ]
    }
   ],
   "source": [
    "opt = argparse_config_train() # refer to args_config_train.py for details of auguments\n",
    "opt.save_path = './experiments/tieredimagenet_stage2_5W1S_transfer_base_weight'\n",
    "opt.embnet_pretrainedandfix = True\n",
    "opt.pretrian_embnet_path = './experiments/tieredimagenet_stage1/best_model.pth'\n",
    "opt.gpu = '0'\n",
    "opt.network = 'ResNet12'\n",
    "opt.head = 'SEGA'\n",
    "opt.weight_generator_type = 'transfer_base_weight'\n",
    "# opt.semantic_path = '/data/FSLDatasets/tieredImageNet/label2vec_glove_tieredimagenet.npy'\n",
    "opt.nKall = 351\n",
    "opt.nKbase = 351\n",
    "opt.train_query = 6\n",
    "opt.nTestBase = 5*opt.train_query\n",
    "opt.epoch_size = 600\n",
    "opt.dataset = 'tieredImageNet'\n",
    "opt.avg_pool = True\n",
    "opt.nfeat = 640\n",
    "opt.val_episode = 1000\n",
    "opt.num_epoch = 20\n",
    "opt.episodes_per_batch = 8\n",
    "opt.milestones = [5,10,15,20]\n",
    "opt.lambdalr = [1.0,0.5,0.1,0.05]\n",
    "opt.train_way, opt.train_shot = opt.test_way, opt.val_shot = [5,1]\n",
    "train_stage2(opt)\n",
    "torch.cuda.empty_cache()"
   ]
  },
  {
   "cell_type": "code",
   "execution_count": 3,
   "id": "d7220475-afbc-4918-a83e-56d7d5e1ee2b",
   "metadata": {
    "tags": []
   },
   "outputs": [
    {
     "name": "stdout",
     "output_type": "stream",
     "text": [
      "Loading tiered ImageNet dataset - phase test\n",
      "set()\n",
      "using gpu: 0\n",
      "{'gpu': '0', 'load': './experiments/tieredimagenet_stage2_5W1S_transfer_base_weight/best_model.pth', 'episode': 5000, 'way': 5, 'shot': 1, 'query': 50, 'nfeat': 640, 'nKall': 351, 'nKbase': 0, 'nTestBase': 0, 'epoch_size': 1000, 'avg_pool': True, 'network': 'ResNet12', 'head': 'SEGA', 'weight_generator_type': 'transfer_base_weight', 'dataset': 'tieredImageNet', 'semantic_path': 'No semantic to be used'}\n",
      "$$$$$$$$$$$$SEGAhead$$$$$$$$$$$$\n",
      "semantic_path: No semantic to be used\n",
      "weight_generator_type: transfer_base_weight\n"
     ]
    },
    {
     "name": "stderr",
     "output_type": "stream",
     "text": [
      "  1%|          | 51/5000 [00:08<14:25,  5.72it/s]"
     ]
    },
    {
     "name": "stdout",
     "output_type": "stream",
     "text": [
      "Episode [50/5000]:\t\t\tAccuracy: 69.11 ± 2.82 % (66.80 %)\n"
     ]
    },
    {
     "name": "stderr",
     "output_type": "stream",
     "text": [
      "  2%|▏         | 101/5000 [00:17<14:10,  5.76it/s]"
     ]
    },
    {
     "name": "stdout",
     "output_type": "stream",
     "text": [
      "Episode [100/5000]:\t\t\tAccuracy: 67.47 ± 2.04 % (68.80 %)\n"
     ]
    },
    {
     "name": "stderr",
     "output_type": "stream",
     "text": [
      "  3%|▎         | 151/5000 [00:26<13:57,  5.79it/s]"
     ]
    },
    {
     "name": "stdout",
     "output_type": "stream",
     "text": [
      "Episode [150/5000]:\t\t\tAccuracy: 67.88 ± 1.62 % (62.40 %)\n"
     ]
    },
    {
     "name": "stderr",
     "output_type": "stream",
     "text": [
      "  4%|▍         | 201/5000 [00:34<14:01,  5.70it/s]"
     ]
    },
    {
     "name": "stdout",
     "output_type": "stream",
     "text": [
      "Episode [200/5000]:\t\t\tAccuracy: 68.07 ± 1.44 % (64.40 %)\n"
     ]
    },
    {
     "name": "stderr",
     "output_type": "stream",
     "text": [
      "  5%|▌         | 251/5000 [00:43<13:40,  5.79it/s]"
     ]
    },
    {
     "name": "stdout",
     "output_type": "stream",
     "text": [
      "Episode [250/5000]:\t\t\tAccuracy: 67.99 ± 1.29 % (80.80 %)\n"
     ]
    },
    {
     "name": "stderr",
     "output_type": "stream",
     "text": [
      "  6%|▌         | 301/5000 [00:52<13:41,  5.72it/s]"
     ]
    },
    {
     "name": "stdout",
     "output_type": "stream",
     "text": [
      "Episode [300/5000]:\t\t\tAccuracy: 67.98 ± 1.22 % (75.20 %)\n"
     ]
    },
    {
     "name": "stderr",
     "output_type": "stream",
     "text": [
      "  7%|▋         | 351/5000 [01:00<13:13,  5.86it/s]"
     ]
    },
    {
     "name": "stdout",
     "output_type": "stream",
     "text": [
      "Episode [350/5000]:\t\t\tAccuracy: 68.28 ± 1.13 % (71.60 %)\n"
     ]
    },
    {
     "name": "stderr",
     "output_type": "stream",
     "text": [
      "  8%|▊         | 401/5000 [01:09<12:57,  5.91it/s]"
     ]
    },
    {
     "name": "stdout",
     "output_type": "stream",
     "text": [
      "Episode [400/5000]:\t\t\tAccuracy: 68.02 ± 1.09 % (79.60 %)\n"
     ]
    },
    {
     "name": "stderr",
     "output_type": "stream",
     "text": [
      "  9%|▉         | 451/5000 [01:17<12:43,  5.96it/s]"
     ]
    },
    {
     "name": "stdout",
     "output_type": "stream",
     "text": [
      "Episode [450/5000]:\t\t\tAccuracy: 67.97 ± 1.05 % (54.00 %)\n"
     ]
    },
    {
     "name": "stderr",
     "output_type": "stream",
     "text": [
      " 10%|█         | 501/5000 [01:26<12:42,  5.90it/s]"
     ]
    },
    {
     "name": "stdout",
     "output_type": "stream",
     "text": [
      "Episode [500/5000]:\t\t\tAccuracy: 68.03 ± 0.99 % (68.40 %)\n"
     ]
    },
    {
     "name": "stderr",
     "output_type": "stream",
     "text": [
      " 11%|█         | 551/5000 [01:34<12:32,  5.91it/s]"
     ]
    },
    {
     "name": "stdout",
     "output_type": "stream",
     "text": [
      "Episode [550/5000]:\t\t\tAccuracy: 68.20 ± 0.95 % (77.20 %)\n"
     ]
    },
    {
     "name": "stderr",
     "output_type": "stream",
     "text": [
      " 12%|█▏        | 601/5000 [01:43<12:27,  5.88it/s]"
     ]
    },
    {
     "name": "stdout",
     "output_type": "stream",
     "text": [
      "Episode [600/5000]:\t\t\tAccuracy: 68.12 ± 0.91 % (80.40 %)\n"
     ]
    },
    {
     "name": "stderr",
     "output_type": "stream",
     "text": [
      " 13%|█▎        | 651/5000 [01:51<12:29,  5.81it/s]"
     ]
    },
    {
     "name": "stdout",
     "output_type": "stream",
     "text": [
      "Episode [650/5000]:\t\t\tAccuracy: 67.93 ± 0.88 % (66.00 %)\n"
     ]
    },
    {
     "name": "stderr",
     "output_type": "stream",
     "text": [
      " 14%|█▍        | 701/5000 [02:00<12:07,  5.91it/s]"
     ]
    },
    {
     "name": "stdout",
     "output_type": "stream",
     "text": [
      "Episode [700/5000]:\t\t\tAccuracy: 67.95 ± 0.84 % (62.80 %)\n"
     ]
    },
    {
     "name": "stderr",
     "output_type": "stream",
     "text": [
      " 15%|█▌        | 751/5000 [02:09<12:04,  5.87it/s]"
     ]
    },
    {
     "name": "stdout",
     "output_type": "stream",
     "text": [
      "Episode [750/5000]:\t\t\tAccuracy: 67.89 ± 0.81 % (70.80 %)\n"
     ]
    },
    {
     "name": "stderr",
     "output_type": "stream",
     "text": [
      " 16%|█▌        | 801/5000 [02:17<11:51,  5.90it/s]"
     ]
    },
    {
     "name": "stdout",
     "output_type": "stream",
     "text": [
      "Episode [800/5000]:\t\t\tAccuracy: 67.82 ± 0.78 % (84.80 %)\n"
     ]
    },
    {
     "name": "stderr",
     "output_type": "stream",
     "text": [
      " 17%|█▋        | 851/5000 [02:25<11:43,  5.90it/s]"
     ]
    },
    {
     "name": "stdout",
     "output_type": "stream",
     "text": [
      "Episode [850/5000]:\t\t\tAccuracy: 67.88 ± 0.76 % (56.00 %)\n"
     ]
    },
    {
     "name": "stderr",
     "output_type": "stream",
     "text": [
      " 18%|█▊        | 901/5000 [02:34<11:33,  5.91it/s]"
     ]
    },
    {
     "name": "stdout",
     "output_type": "stream",
     "text": [
      "Episode [900/5000]:\t\t\tAccuracy: 67.97 ± 0.73 % (67.60 %)\n"
     ]
    },
    {
     "name": "stderr",
     "output_type": "stream",
     "text": [
      " 19%|█▉        | 951/5000 [02:43<11:25,  5.90it/s]"
     ]
    },
    {
     "name": "stdout",
     "output_type": "stream",
     "text": [
      "Episode [950/5000]:\t\t\tAccuracy: 68.05 ± 0.72 % (60.00 %)\n"
     ]
    },
    {
     "name": "stderr",
     "output_type": "stream",
     "text": [
      " 20%|██        | 1001/5000 [02:51<11:14,  5.93it/s]"
     ]
    },
    {
     "name": "stdout",
     "output_type": "stream",
     "text": [
      "Episode [1000/5000]:\t\t\tAccuracy: 68.12 ± 0.70 % (68.80 %)\n"
     ]
    },
    {
     "name": "stderr",
     "output_type": "stream",
     "text": [
      " 21%|██        | 1051/5000 [03:00<11:21,  5.79it/s]"
     ]
    },
    {
     "name": "stdout",
     "output_type": "stream",
     "text": [
      "Episode [1050/5000]:\t\t\tAccuracy: 68.16 ± 0.68 % (49.20 %)\n"
     ]
    },
    {
     "name": "stderr",
     "output_type": "stream",
     "text": [
      " 22%|██▏       | 1101/5000 [03:08<11:03,  5.87it/s]"
     ]
    },
    {
     "name": "stdout",
     "output_type": "stream",
     "text": [
      "Episode [1100/5000]:\t\t\tAccuracy: 68.13 ± 0.66 % (51.20 %)\n"
     ]
    },
    {
     "name": "stderr",
     "output_type": "stream",
     "text": [
      " 23%|██▎       | 1151/5000 [03:17<10:52,  5.90it/s]"
     ]
    },
    {
     "name": "stdout",
     "output_type": "stream",
     "text": [
      "Episode [1150/5000]:\t\t\tAccuracy: 68.12 ± 0.65 % (61.20 %)\n"
     ]
    },
    {
     "name": "stderr",
     "output_type": "stream",
     "text": [
      " 24%|██▍       | 1201/5000 [03:25<10:59,  5.76it/s]"
     ]
    },
    {
     "name": "stdout",
     "output_type": "stream",
     "text": [
      "Episode [1200/5000]:\t\t\tAccuracy: 68.07 ± 0.63 % (69.20 %)\n"
     ]
    },
    {
     "name": "stderr",
     "output_type": "stream",
     "text": [
      " 25%|██▌       | 1251/5000 [03:34<10:39,  5.87it/s]"
     ]
    },
    {
     "name": "stdout",
     "output_type": "stream",
     "text": [
      "Episode [1250/5000]:\t\t\tAccuracy: 68.08 ± 0.62 % (75.60 %)\n"
     ]
    },
    {
     "name": "stderr",
     "output_type": "stream",
     "text": [
      " 26%|██▌       | 1301/5000 [03:42<10:33,  5.84it/s]"
     ]
    },
    {
     "name": "stdout",
     "output_type": "stream",
     "text": [
      "Episode [1300/5000]:\t\t\tAccuracy: 68.08 ± 0.60 % (58.00 %)\n"
     ]
    },
    {
     "name": "stderr",
     "output_type": "stream",
     "text": [
      " 27%|██▋       | 1351/5000 [03:51<10:17,  5.91it/s]"
     ]
    },
    {
     "name": "stdout",
     "output_type": "stream",
     "text": [
      "Episode [1350/5000]:\t\t\tAccuracy: 68.01 ± 0.60 % (62.80 %)\n"
     ]
    },
    {
     "name": "stderr",
     "output_type": "stream",
     "text": [
      " 28%|██▊       | 1401/5000 [03:59<10:14,  5.85it/s]"
     ]
    },
    {
     "name": "stdout",
     "output_type": "stream",
     "text": [
      "Episode [1400/5000]:\t\t\tAccuracy: 67.92 ± 0.58 % (81.60 %)\n"
     ]
    },
    {
     "name": "stderr",
     "output_type": "stream",
     "text": [
      " 29%|██▉       | 1451/5000 [04:08<10:11,  5.80it/s]"
     ]
    },
    {
     "name": "stdout",
     "output_type": "stream",
     "text": [
      "Episode [1450/5000]:\t\t\tAccuracy: 67.88 ± 0.57 % (74.80 %)\n"
     ]
    },
    {
     "name": "stderr",
     "output_type": "stream",
     "text": [
      " 30%|███       | 1501/5000 [04:16<09:52,  5.91it/s]"
     ]
    },
    {
     "name": "stdout",
     "output_type": "stream",
     "text": [
      "Episode [1500/5000]:\t\t\tAccuracy: 67.93 ± 0.56 % (64.40 %)\n"
     ]
    },
    {
     "name": "stderr",
     "output_type": "stream",
     "text": [
      " 31%|███       | 1551/5000 [04:25<10:01,  5.73it/s]"
     ]
    },
    {
     "name": "stdout",
     "output_type": "stream",
     "text": [
      "Episode [1550/5000]:\t\t\tAccuracy: 68.01 ± 0.55 % (76.00 %)\n"
     ]
    },
    {
     "name": "stderr",
     "output_type": "stream",
     "text": [
      " 32%|███▏      | 1601/5000 [04:33<09:36,  5.90it/s]"
     ]
    },
    {
     "name": "stdout",
     "output_type": "stream",
     "text": [
      "Episode [1600/5000]:\t\t\tAccuracy: 67.98 ± 0.54 % (69.60 %)\n"
     ]
    },
    {
     "name": "stderr",
     "output_type": "stream",
     "text": [
      " 33%|███▎      | 1651/5000 [04:42<09:23,  5.94it/s]"
     ]
    },
    {
     "name": "stdout",
     "output_type": "stream",
     "text": [
      "Episode [1650/5000]:\t\t\tAccuracy: 68.04 ± 0.53 % (77.20 %)\n"
     ]
    },
    {
     "name": "stderr",
     "output_type": "stream",
     "text": [
      " 34%|███▍      | 1701/5000 [04:50<09:17,  5.92it/s]"
     ]
    },
    {
     "name": "stdout",
     "output_type": "stream",
     "text": [
      "Episode [1700/5000]:\t\t\tAccuracy: 68.18 ± 0.53 % (81.20 %)\n"
     ]
    },
    {
     "name": "stderr",
     "output_type": "stream",
     "text": [
      " 35%|███▌      | 1751/5000 [04:59<09:12,  5.89it/s]"
     ]
    },
    {
     "name": "stdout",
     "output_type": "stream",
     "text": [
      "Episode [1750/5000]:\t\t\tAccuracy: 68.14 ± 0.52 % (69.60 %)\n"
     ]
    },
    {
     "name": "stderr",
     "output_type": "stream",
     "text": [
      " 36%|███▌      | 1801/5000 [05:07<09:04,  5.88it/s]"
     ]
    },
    {
     "name": "stdout",
     "output_type": "stream",
     "text": [
      "Episode [1800/5000]:\t\t\tAccuracy: 68.16 ± 0.51 % (83.60 %)\n"
     ]
    },
    {
     "name": "stderr",
     "output_type": "stream",
     "text": [
      " 37%|███▋      | 1851/5000 [05:16<08:50,  5.93it/s]"
     ]
    },
    {
     "name": "stdout",
     "output_type": "stream",
     "text": [
      "Episode [1850/5000]:\t\t\tAccuracy: 68.23 ± 0.50 % (63.20 %)\n"
     ]
    },
    {
     "name": "stderr",
     "output_type": "stream",
     "text": [
      " 38%|███▊      | 1901/5000 [05:24<08:43,  5.92it/s]"
     ]
    },
    {
     "name": "stdout",
     "output_type": "stream",
     "text": [
      "Episode [1900/5000]:\t\t\tAccuracy: 68.32 ± 0.50 % (61.20 %)\n"
     ]
    },
    {
     "name": "stderr",
     "output_type": "stream",
     "text": [
      " 39%|███▉      | 1951/5000 [05:33<08:39,  5.87it/s]"
     ]
    },
    {
     "name": "stdout",
     "output_type": "stream",
     "text": [
      "Episode [1950/5000]:\t\t\tAccuracy: 68.26 ± 0.49 % (62.40 %)\n"
     ]
    },
    {
     "name": "stderr",
     "output_type": "stream",
     "text": [
      " 40%|████      | 2001/5000 [05:41<08:30,  5.88it/s]"
     ]
    },
    {
     "name": "stdout",
     "output_type": "stream",
     "text": [
      "Episode [2000/5000]:\t\t\tAccuracy: 68.34 ± 0.49 % (80.80 %)\n"
     ]
    },
    {
     "name": "stderr",
     "output_type": "stream",
     "text": [
      " 41%|████      | 2051/5000 [05:50<08:21,  5.89it/s]"
     ]
    },
    {
     "name": "stdout",
     "output_type": "stream",
     "text": [
      "Episode [2050/5000]:\t\t\tAccuracy: 68.34 ± 0.48 % (68.40 %)\n"
     ]
    },
    {
     "name": "stderr",
     "output_type": "stream",
     "text": [
      " 42%|████▏     | 2101/5000 [05:58<08:09,  5.92it/s]"
     ]
    },
    {
     "name": "stdout",
     "output_type": "stream",
     "text": [
      "Episode [2100/5000]:\t\t\tAccuracy: 68.34 ± 0.47 % (68.40 %)\n"
     ]
    },
    {
     "name": "stderr",
     "output_type": "stream",
     "text": [
      " 43%|████▎     | 2151/5000 [06:07<08:02,  5.90it/s]"
     ]
    },
    {
     "name": "stdout",
     "output_type": "stream",
     "text": [
      "Episode [2150/5000]:\t\t\tAccuracy: 68.30 ± 0.47 % (70.40 %)\n"
     ]
    },
    {
     "name": "stderr",
     "output_type": "stream",
     "text": [
      " 44%|████▍     | 2201/5000 [06:15<08:00,  5.83it/s]"
     ]
    },
    {
     "name": "stdout",
     "output_type": "stream",
     "text": [
      "Episode [2200/5000]:\t\t\tAccuracy: 68.28 ± 0.47 % (56.80 %)\n"
     ]
    },
    {
     "name": "stderr",
     "output_type": "stream",
     "text": [
      " 45%|████▌     | 2251/5000 [06:24<07:54,  5.79it/s]"
     ]
    },
    {
     "name": "stdout",
     "output_type": "stream",
     "text": [
      "Episode [2250/5000]:\t\t\tAccuracy: 68.31 ± 0.46 % (71.60 %)\n"
     ]
    },
    {
     "name": "stderr",
     "output_type": "stream",
     "text": [
      " 46%|████▌     | 2301/5000 [06:32<07:43,  5.82it/s]"
     ]
    },
    {
     "name": "stdout",
     "output_type": "stream",
     "text": [
      "Episode [2300/5000]:\t\t\tAccuracy: 68.17 ± 0.46 % (52.40 %)\n"
     ]
    },
    {
     "name": "stderr",
     "output_type": "stream",
     "text": [
      " 47%|████▋     | 2351/5000 [06:41<07:29,  5.89it/s]"
     ]
    },
    {
     "name": "stdout",
     "output_type": "stream",
     "text": [
      "Episode [2350/5000]:\t\t\tAccuracy: 68.15 ± 0.45 % (72.40 %)\n"
     ]
    },
    {
     "name": "stderr",
     "output_type": "stream",
     "text": [
      " 48%|████▊     | 2401/5000 [06:49<07:28,  5.79it/s]"
     ]
    },
    {
     "name": "stdout",
     "output_type": "stream",
     "text": [
      "Episode [2400/5000]:\t\t\tAccuracy: 68.16 ± 0.45 % (58.80 %)\n"
     ]
    },
    {
     "name": "stderr",
     "output_type": "stream",
     "text": [
      " 49%|████▉     | 2451/5000 [06:58<07:11,  5.91it/s]"
     ]
    },
    {
     "name": "stdout",
     "output_type": "stream",
     "text": [
      "Episode [2450/5000]:\t\t\tAccuracy: 68.16 ± 0.44 % (66.00 %)\n"
     ]
    },
    {
     "name": "stderr",
     "output_type": "stream",
     "text": [
      " 50%|█████     | 2501/5000 [07:06<07:10,  5.81it/s]"
     ]
    },
    {
     "name": "stdout",
     "output_type": "stream",
     "text": [
      "Episode [2500/5000]:\t\t\tAccuracy: 68.16 ± 0.44 % (67.20 %)\n"
     ]
    },
    {
     "name": "stderr",
     "output_type": "stream",
     "text": [
      " 51%|█████     | 2551/5000 [07:15<06:58,  5.85it/s]"
     ]
    },
    {
     "name": "stdout",
     "output_type": "stream",
     "text": [
      "Episode [2550/5000]:\t\t\tAccuracy: 68.21 ± 0.43 % (72.00 %)\n"
     ]
    },
    {
     "name": "stderr",
     "output_type": "stream",
     "text": [
      " 52%|█████▏    | 2601/5000 [07:23<06:42,  5.96it/s]"
     ]
    },
    {
     "name": "stdout",
     "output_type": "stream",
     "text": [
      "Episode [2600/5000]:\t\t\tAccuracy: 68.21 ± 0.43 % (74.40 %)\n"
     ]
    },
    {
     "name": "stderr",
     "output_type": "stream",
     "text": [
      " 53%|█████▎    | 2651/5000 [07:31<06:39,  5.88it/s]"
     ]
    },
    {
     "name": "stdout",
     "output_type": "stream",
     "text": [
      "Episode [2650/5000]:\t\t\tAccuracy: 68.17 ± 0.43 % (78.00 %)\n"
     ]
    },
    {
     "name": "stderr",
     "output_type": "stream",
     "text": [
      " 54%|█████▍    | 2701/5000 [07:40<06:30,  5.89it/s]"
     ]
    },
    {
     "name": "stdout",
     "output_type": "stream",
     "text": [
      "Episode [2700/5000]:\t\t\tAccuracy: 68.16 ± 0.42 % (78.40 %)\n"
     ]
    },
    {
     "name": "stderr",
     "output_type": "stream",
     "text": [
      " 55%|█████▌    | 2751/5000 [07:48<06:22,  5.88it/s]"
     ]
    },
    {
     "name": "stdout",
     "output_type": "stream",
     "text": [
      "Episode [2750/5000]:\t\t\tAccuracy: 68.13 ± 0.42 % (56.40 %)\n"
     ]
    },
    {
     "name": "stderr",
     "output_type": "stream",
     "text": [
      " 56%|█████▌    | 2801/5000 [07:57<06:13,  5.89it/s]"
     ]
    },
    {
     "name": "stdout",
     "output_type": "stream",
     "text": [
      "Episode [2800/5000]:\t\t\tAccuracy: 68.10 ± 0.41 % (56.40 %)\n"
     ]
    },
    {
     "name": "stderr",
     "output_type": "stream",
     "text": [
      " 57%|█████▋    | 2851/5000 [08:05<06:04,  5.89it/s]"
     ]
    },
    {
     "name": "stdout",
     "output_type": "stream",
     "text": [
      "Episode [2850/5000]:\t\t\tAccuracy: 68.13 ± 0.41 % (64.00 %)\n"
     ]
    },
    {
     "name": "stderr",
     "output_type": "stream",
     "text": [
      " 58%|█████▊    | 2901/5000 [08:14<05:53,  5.94it/s]"
     ]
    },
    {
     "name": "stdout",
     "output_type": "stream",
     "text": [
      "Episode [2900/5000]:\t\t\tAccuracy: 68.10 ± 0.41 % (60.40 %)\n"
     ]
    },
    {
     "name": "stderr",
     "output_type": "stream",
     "text": [
      " 59%|█████▉    | 2951/5000 [08:22<05:45,  5.93it/s]"
     ]
    },
    {
     "name": "stdout",
     "output_type": "stream",
     "text": [
      "Episode [2950/5000]:\t\t\tAccuracy: 68.12 ± 0.40 % (87.20 %)\n"
     ]
    },
    {
     "name": "stderr",
     "output_type": "stream",
     "text": [
      " 60%|██████    | 3001/5000 [08:31<05:37,  5.92it/s]"
     ]
    },
    {
     "name": "stdout",
     "output_type": "stream",
     "text": [
      "Episode [3000/5000]:\t\t\tAccuracy: 68.10 ± 0.40 % (66.80 %)\n"
     ]
    },
    {
     "name": "stderr",
     "output_type": "stream",
     "text": [
      " 61%|██████    | 3051/5000 [08:39<05:30,  5.89it/s]"
     ]
    },
    {
     "name": "stdout",
     "output_type": "stream",
     "text": [
      "Episode [3050/5000]:\t\t\tAccuracy: 68.08 ± 0.40 % (78.80 %)\n"
     ]
    },
    {
     "name": "stderr",
     "output_type": "stream",
     "text": [
      " 62%|██████▏   | 3101/5000 [08:48<05:23,  5.88it/s]"
     ]
    },
    {
     "name": "stdout",
     "output_type": "stream",
     "text": [
      "Episode [3100/5000]:\t\t\tAccuracy: 68.07 ± 0.39 % (84.80 %)\n"
     ]
    },
    {
     "name": "stderr",
     "output_type": "stream",
     "text": [
      " 63%|██████▎   | 3151/5000 [08:56<05:17,  5.82it/s]"
     ]
    },
    {
     "name": "stdout",
     "output_type": "stream",
     "text": [
      "Episode [3150/5000]:\t\t\tAccuracy: 68.09 ± 0.39 % (64.40 %)\n"
     ]
    },
    {
     "name": "stderr",
     "output_type": "stream",
     "text": [
      " 64%|██████▍   | 3201/5000 [09:05<05:07,  5.85it/s]"
     ]
    },
    {
     "name": "stdout",
     "output_type": "stream",
     "text": [
      "Episode [3200/5000]:\t\t\tAccuracy: 68.05 ± 0.39 % (87.60 %)\n"
     ]
    },
    {
     "name": "stderr",
     "output_type": "stream",
     "text": [
      " 65%|██████▌   | 3251/5000 [09:13<04:59,  5.83it/s]"
     ]
    },
    {
     "name": "stdout",
     "output_type": "stream",
     "text": [
      "Episode [3250/5000]:\t\t\tAccuracy: 68.06 ± 0.39 % (42.80 %)\n"
     ]
    },
    {
     "name": "stderr",
     "output_type": "stream",
     "text": [
      " 66%|██████▌   | 3301/5000 [09:22<04:47,  5.92it/s]"
     ]
    },
    {
     "name": "stdout",
     "output_type": "stream",
     "text": [
      "Episode [3300/5000]:\t\t\tAccuracy: 68.09 ± 0.38 % (45.60 %)\n"
     ]
    },
    {
     "name": "stderr",
     "output_type": "stream",
     "text": [
      " 67%|██████▋   | 3351/5000 [09:30<04:38,  5.92it/s]"
     ]
    },
    {
     "name": "stdout",
     "output_type": "stream",
     "text": [
      "Episode [3350/5000]:\t\t\tAccuracy: 68.06 ± 0.38 % (66.80 %)\n"
     ]
    },
    {
     "name": "stderr",
     "output_type": "stream",
     "text": [
      " 68%|██████▊   | 3401/5000 [09:39<04:30,  5.92it/s]"
     ]
    },
    {
     "name": "stdout",
     "output_type": "stream",
     "text": [
      "Episode [3400/5000]:\t\t\tAccuracy: 68.05 ± 0.38 % (74.00 %)\n"
     ]
    },
    {
     "name": "stderr",
     "output_type": "stream",
     "text": [
      " 69%|██████▉   | 3451/5000 [09:47<04:21,  5.92it/s]"
     ]
    },
    {
     "name": "stdout",
     "output_type": "stream",
     "text": [
      "Episode [3450/5000]:\t\t\tAccuracy: 68.07 ± 0.37 % (84.40 %)\n"
     ]
    },
    {
     "name": "stderr",
     "output_type": "stream",
     "text": [
      " 70%|███████   | 3501/5000 [09:56<04:13,  5.92it/s]"
     ]
    },
    {
     "name": "stdout",
     "output_type": "stream",
     "text": [
      "Episode [3500/5000]:\t\t\tAccuracy: 68.10 ± 0.37 % (72.40 %)\n"
     ]
    },
    {
     "name": "stderr",
     "output_type": "stream",
     "text": [
      " 71%|███████   | 3551/5000 [10:04<04:06,  5.88it/s]"
     ]
    },
    {
     "name": "stdout",
     "output_type": "stream",
     "text": [
      "Episode [3550/5000]:\t\t\tAccuracy: 68.09 ± 0.37 % (81.20 %)\n"
     ]
    },
    {
     "name": "stderr",
     "output_type": "stream",
     "text": [
      " 72%|███████▏  | 3601/5000 [10:13<03:59,  5.84it/s]"
     ]
    },
    {
     "name": "stdout",
     "output_type": "stream",
     "text": [
      "Episode [3600/5000]:\t\t\tAccuracy: 68.11 ± 0.37 % (82.80 %)\n"
     ]
    },
    {
     "name": "stderr",
     "output_type": "stream",
     "text": [
      " 73%|███████▎  | 3651/5000 [10:21<03:49,  5.89it/s]"
     ]
    },
    {
     "name": "stdout",
     "output_type": "stream",
     "text": [
      "Episode [3650/5000]:\t\t\tAccuracy: 68.10 ± 0.36 % (65.20 %)\n"
     ]
    },
    {
     "name": "stderr",
     "output_type": "stream",
     "text": [
      " 74%|███████▍  | 3701/5000 [10:30<03:39,  5.91it/s]"
     ]
    },
    {
     "name": "stdout",
     "output_type": "stream",
     "text": [
      "Episode [3700/5000]:\t\t\tAccuracy: 68.08 ± 0.36 % (76.80 %)\n"
     ]
    },
    {
     "name": "stderr",
     "output_type": "stream",
     "text": [
      " 75%|███████▌  | 3751/5000 [10:38<03:32,  5.88it/s]"
     ]
    },
    {
     "name": "stdout",
     "output_type": "stream",
     "text": [
      "Episode [3750/5000]:\t\t\tAccuracy: 68.10 ± 0.36 % (76.40 %)\n"
     ]
    },
    {
     "name": "stderr",
     "output_type": "stream",
     "text": [
      " 76%|███████▌  | 3801/5000 [10:47<03:23,  5.89it/s]"
     ]
    },
    {
     "name": "stdout",
     "output_type": "stream",
     "text": [
      "Episode [3800/5000]:\t\t\tAccuracy: 68.07 ± 0.36 % (78.80 %)\n"
     ]
    },
    {
     "name": "stderr",
     "output_type": "stream",
     "text": [
      " 77%|███████▋  | 3851/5000 [10:55<03:13,  5.93it/s]"
     ]
    },
    {
     "name": "stdout",
     "output_type": "stream",
     "text": [
      "Episode [3850/5000]:\t\t\tAccuracy: 68.10 ± 0.35 % (60.40 %)\n"
     ]
    },
    {
     "name": "stderr",
     "output_type": "stream",
     "text": [
      " 78%|███████▊  | 3901/5000 [11:04<03:06,  5.90it/s]"
     ]
    },
    {
     "name": "stdout",
     "output_type": "stream",
     "text": [
      "Episode [3900/5000]:\t\t\tAccuracy: 68.08 ± 0.35 % (71.20 %)\n"
     ]
    },
    {
     "name": "stderr",
     "output_type": "stream",
     "text": [
      " 79%|███████▉  | 3951/5000 [11:12<03:00,  5.80it/s]"
     ]
    },
    {
     "name": "stdout",
     "output_type": "stream",
     "text": [
      "Episode [3950/5000]:\t\t\tAccuracy: 68.09 ± 0.35 % (59.60 %)\n"
     ]
    },
    {
     "name": "stderr",
     "output_type": "stream",
     "text": [
      " 80%|████████  | 4001/5000 [11:21<02:48,  5.93it/s]"
     ]
    },
    {
     "name": "stdout",
     "output_type": "stream",
     "text": [
      "Episode [4000/5000]:\t\t\tAccuracy: 68.08 ± 0.35 % (69.60 %)\n"
     ]
    },
    {
     "name": "stderr",
     "output_type": "stream",
     "text": [
      " 81%|████████  | 4051/5000 [11:29<02:43,  5.80it/s]"
     ]
    },
    {
     "name": "stdout",
     "output_type": "stream",
     "text": [
      "Episode [4050/5000]:\t\t\tAccuracy: 68.06 ± 0.34 % (82.40 %)\n"
     ]
    },
    {
     "name": "stderr",
     "output_type": "stream",
     "text": [
      " 82%|████████▏ | 4101/5000 [11:38<02:33,  5.85it/s]"
     ]
    },
    {
     "name": "stdout",
     "output_type": "stream",
     "text": [
      "Episode [4100/5000]:\t\t\tAccuracy: 68.06 ± 0.34 % (84.00 %)\n"
     ]
    },
    {
     "name": "stderr",
     "output_type": "stream",
     "text": [
      " 83%|████████▎ | 4151/5000 [11:46<02:23,  5.92it/s]"
     ]
    },
    {
     "name": "stdout",
     "output_type": "stream",
     "text": [
      "Episode [4150/5000]:\t\t\tAccuracy: 68.09 ± 0.34 % (64.40 %)\n"
     ]
    },
    {
     "name": "stderr",
     "output_type": "stream",
     "text": [
      " 84%|████████▍ | 4201/5000 [11:55<02:16,  5.87it/s]"
     ]
    },
    {
     "name": "stdout",
     "output_type": "stream",
     "text": [
      "Episode [4200/5000]:\t\t\tAccuracy: 68.10 ± 0.34 % (64.40 %)\n"
     ]
    },
    {
     "name": "stderr",
     "output_type": "stream",
     "text": [
      " 85%|████████▌ | 4251/5000 [12:03<02:07,  5.88it/s]"
     ]
    },
    {
     "name": "stdout",
     "output_type": "stream",
     "text": [
      "Episode [4250/5000]:\t\t\tAccuracy: 68.09 ± 0.34 % (75.20 %)\n"
     ]
    },
    {
     "name": "stderr",
     "output_type": "stream",
     "text": [
      " 86%|████████▌ | 4301/5000 [12:12<01:59,  5.84it/s]"
     ]
    },
    {
     "name": "stdout",
     "output_type": "stream",
     "text": [
      "Episode [4300/5000]:\t\t\tAccuracy: 68.06 ± 0.33 % (48.80 %)\n"
     ]
    },
    {
     "name": "stderr",
     "output_type": "stream",
     "text": [
      " 87%|████████▋ | 4351/5000 [12:20<01:51,  5.80it/s]"
     ]
    },
    {
     "name": "stdout",
     "output_type": "stream",
     "text": [
      "Episode [4350/5000]:\t\t\tAccuracy: 68.03 ± 0.33 % (72.80 %)\n"
     ]
    },
    {
     "name": "stderr",
     "output_type": "stream",
     "text": [
      " 88%|████████▊ | 4401/5000 [12:29<01:41,  5.91it/s]"
     ]
    },
    {
     "name": "stdout",
     "output_type": "stream",
     "text": [
      "Episode [4400/5000]:\t\t\tAccuracy: 68.05 ± 0.33 % (87.60 %)\n"
     ]
    },
    {
     "name": "stderr",
     "output_type": "stream",
     "text": [
      " 89%|████████▉ | 4451/5000 [12:37<01:33,  5.86it/s]"
     ]
    },
    {
     "name": "stdout",
     "output_type": "stream",
     "text": [
      "Episode [4450/5000]:\t\t\tAccuracy: 68.04 ± 0.33 % (81.20 %)\n"
     ]
    },
    {
     "name": "stderr",
     "output_type": "stream",
     "text": [
      " 90%|█████████ | 4501/5000 [12:46<01:24,  5.88it/s]"
     ]
    },
    {
     "name": "stdout",
     "output_type": "stream",
     "text": [
      "Episode [4500/5000]:\t\t\tAccuracy: 68.04 ± 0.33 % (55.60 %)\n"
     ]
    },
    {
     "name": "stderr",
     "output_type": "stream",
     "text": [
      " 91%|█████████ | 4551/5000 [12:54<01:16,  5.85it/s]"
     ]
    },
    {
     "name": "stdout",
     "output_type": "stream",
     "text": [
      "Episode [4550/5000]:\t\t\tAccuracy: 68.08 ± 0.32 % (79.20 %)\n"
     ]
    },
    {
     "name": "stderr",
     "output_type": "stream",
     "text": [
      " 92%|█████████▏| 4601/5000 [13:03<01:07,  5.92it/s]"
     ]
    },
    {
     "name": "stdout",
     "output_type": "stream",
     "text": [
      "Episode [4600/5000]:\t\t\tAccuracy: 68.07 ± 0.32 % (72.80 %)\n"
     ]
    },
    {
     "name": "stderr",
     "output_type": "stream",
     "text": [
      " 93%|█████████▎| 4651/5000 [13:11<00:58,  5.93it/s]"
     ]
    },
    {
     "name": "stdout",
     "output_type": "stream",
     "text": [
      "Episode [4650/5000]:\t\t\tAccuracy: 68.10 ± 0.32 % (71.20 %)\n"
     ]
    },
    {
     "name": "stderr",
     "output_type": "stream",
     "text": [
      " 94%|█████████▍| 4701/5000 [13:20<00:50,  5.90it/s]"
     ]
    },
    {
     "name": "stdout",
     "output_type": "stream",
     "text": [
      "Episode [4700/5000]:\t\t\tAccuracy: 68.08 ± 0.32 % (46.80 %)\n"
     ]
    },
    {
     "name": "stderr",
     "output_type": "stream",
     "text": [
      " 95%|█████████▌| 4751/5000 [13:28<00:42,  5.91it/s]"
     ]
    },
    {
     "name": "stdout",
     "output_type": "stream",
     "text": [
      "Episode [4750/5000]:\t\t\tAccuracy: 68.09 ± 0.32 % (80.00 %)\n"
     ]
    },
    {
     "name": "stderr",
     "output_type": "stream",
     "text": [
      " 96%|█████████▌| 4801/5000 [13:37<00:34,  5.83it/s]"
     ]
    },
    {
     "name": "stdout",
     "output_type": "stream",
     "text": [
      "Episode [4800/5000]:\t\t\tAccuracy: 68.08 ± 0.32 % (55.60 %)\n"
     ]
    },
    {
     "name": "stderr",
     "output_type": "stream",
     "text": [
      " 97%|█████████▋| 4851/5000 [13:45<00:25,  5.88it/s]"
     ]
    },
    {
     "name": "stdout",
     "output_type": "stream",
     "text": [
      "Episode [4850/5000]:\t\t\tAccuracy: 68.07 ± 0.31 % (69.60 %)\n"
     ]
    },
    {
     "name": "stderr",
     "output_type": "stream",
     "text": [
      " 98%|█████████▊| 4901/5000 [13:54<00:16,  5.93it/s]"
     ]
    },
    {
     "name": "stdout",
     "output_type": "stream",
     "text": [
      "Episode [4900/5000]:\t\t\tAccuracy: 68.07 ± 0.31 % (69.60 %)\n"
     ]
    },
    {
     "name": "stderr",
     "output_type": "stream",
     "text": [
      " 99%|█████████▉| 4951/5000 [14:02<00:08,  5.89it/s]"
     ]
    },
    {
     "name": "stdout",
     "output_type": "stream",
     "text": [
      "Episode [4950/5000]:\t\t\tAccuracy: 68.06 ± 0.31 % (57.20 %)\n"
     ]
    },
    {
     "name": "stderr",
     "output_type": "stream",
     "text": [
      "100%|██████████| 5000/5000 [14:11<00:00,  5.87it/s]\n"
     ]
    },
    {
     "name": "stdout",
     "output_type": "stream",
     "text": [
      "Episode [5000/5000]:\t\t\tAccuracy: 68.07 ± 0.31 % (80.00 %)\n"
     ]
    }
   ],
   "source": [
    "opt = argparse_config_test() # refer to args_config_test.py for details of auguments\n",
    "opt.load = './experiments/tieredimagenet_stage2_5W1S_transfer_base_weight/best_model.pth'\n",
    "opt.gpu = '0'\n",
    "opt.network = 'ResNet12'\n",
    "opt.head = 'SEGA'\n",
    "opt.weight_generator_type = 'transfer_base_weight'\n",
    "# opt.semantic_path = '/data/FSLDatasets/tieredImageNet/label2vec_glove_tieredimagenet.npy'\n",
    "opt.nKall = 351\n",
    "opt.dataset = 'tieredImageNet'\n",
    "opt.avg_pool = True\n",
    "opt.nfeat = 640\n",
    "opt.way, opt.shot = [5,1]\n",
    "opt.query=50\n",
    "opt.episode=5000\n",
    "test(opt)\n",
    "torch.cuda.empty_cache()"
   ]
  },
  {
   "cell_type": "markdown",
   "id": "bb3ace58-fd94-4d9c-a2e4-24e608e684b6",
   "metadata": {},
   "source": [
    "5W5S"
   ]
  },
  {
   "cell_type": "code",
   "execution_count": 4,
   "id": "00d4f992-0f13-4beb-8a7e-3379bdd9e163",
   "metadata": {
    "tags": []
   },
   "outputs": [
    {
     "name": "stdout",
     "output_type": "stream",
     "text": [
      "Loading tiered ImageNet dataset - phase train\n",
      "Loading tiered ImageNet dataset - phase val\n",
      "set()\n",
      "using gpu: 0\n",
      "{'num_epoch': 20, 'save_epoch': 10, 'train_shot': 5, 'val_shot': 5, 'train_query': 6, 'val_episode': 1000, 'val_query': 15, 'train_way': 5, 'test_way': 5, 'nfeat': 640, 'nKall': 351, 'nKbase': 351, 'nTestBase': 30, 'epoch_size': 600, 'avg_pool': True, 'milestones': [5, 10, 15, 20], 'lambdalr': [1.0, 0.5, 0.1, 0.05], 'save_path': './experiments/tieredimagenet_stage2_5W5S_transfer_base_weight', 'gpu': '0', 'network': 'ResNet12', 'head': 'SEGA', 'weight_generator_type': 'transfer_base_weight', 'dataset': 'tieredImageNet', 'semantic_path': 'No semantic to be used', 'episodes_per_batch': 8, 'embnet_pretrainedandfix': True, 'pretrian_embnet_path': './experiments/tieredimagenet_stage1/best_model.pth'}\n",
      "$$$$$$$$$$$$SEGAhead$$$$$$$$$$$$\n",
      "semantic_path: No semantic to be used\n",
      "weight_generator_type: transfer_base_weight\n",
      "Train Epoch: 1\tLearning Rate: 1.0000\n"
     ]
    },
    {
     "name": "stderr",
     "output_type": "stream",
     "text": [
      " 17%|█▋        | 100/600 [00:26<02:04,  4.03it/s]"
     ]
    },
    {
     "name": "stdout",
     "output_type": "stream",
     "text": [
      "Train Epoch: 1\tBatch: [100/600]\tLoss: 1.6469\tAcc_both: 59.79\tAcc_base: 48.68\tAcc_novel: 88.83 % (90.83 %)\n"
     ]
    },
    {
     "name": "stderr",
     "output_type": "stream",
     "text": [
      " 33%|███▎      | 200/600 [00:51<01:39,  4.02it/s]"
     ]
    },
    {
     "name": "stdout",
     "output_type": "stream",
     "text": [
      "Train Epoch: 1\tBatch: [200/600]\tLoss: 1.6836\tAcc_both: 61.60\tAcc_base: 49.36\tAcc_novel: 89.04 % (87.50 %)\n"
     ]
    },
    {
     "name": "stderr",
     "output_type": "stream",
     "text": [
      " 50%|█████     | 300/600 [01:16<01:14,  4.01it/s]"
     ]
    },
    {
     "name": "stdout",
     "output_type": "stream",
     "text": [
      "Train Epoch: 1\tBatch: [300/600]\tLoss: 1.7098\tAcc_both: 62.19\tAcc_base: 49.72\tAcc_novel: 89.23 % (86.67 %)\n"
     ]
    },
    {
     "name": "stderr",
     "output_type": "stream",
     "text": [
      " 67%|██████▋   | 400/600 [01:41<00:51,  3.86it/s]"
     ]
    },
    {
     "name": "stdout",
     "output_type": "stream",
     "text": [
      "Train Epoch: 1\tBatch: [400/600]\tLoss: 1.5035\tAcc_both: 62.47\tAcc_base: 49.86\tAcc_novel: 89.31 % (90.00 %)\n"
     ]
    },
    {
     "name": "stderr",
     "output_type": "stream",
     "text": [
      " 83%|████████▎ | 500/600 [02:07<00:25,  3.91it/s]"
     ]
    },
    {
     "name": "stdout",
     "output_type": "stream",
     "text": [
      "Train Epoch: 1\tBatch: [500/600]\tLoss: 1.6288\tAcc_both: 62.65\tAcc_base: 49.95\tAcc_novel: 89.37 % (87.08 %)\n"
     ]
    },
    {
     "name": "stderr",
     "output_type": "stream",
     "text": [
      "100%|██████████| 600/600 [02:32<00:00,  3.94it/s]\n"
     ]
    },
    {
     "name": "stdout",
     "output_type": "stream",
     "text": [
      "Train Epoch: 1\tBatch: [600/600]\tLoss: 1.4359\tAcc_both: 62.73\tAcc_base: 49.96\tAcc_novel: 89.41 % (84.58 %)\n"
     ]
    },
    {
     "name": "stderr",
     "output_type": "stream",
     "text": [
      "100%|██████████| 1000/1000 [01:08<00:00, 14.53it/s]\n"
     ]
    },
    {
     "name": "stdout",
     "output_type": "stream",
     "text": [
      "Validation Epoch: 1\t\t\tLoss: 0.5180\tAccuracy: 81.07 ± 0.51 % (Best)\n",
      "Elapsed Time: 4m/1.2h\n",
      "\n",
      "Train Epoch: 2\tLearning Rate: 1.0000\n"
     ]
    },
    {
     "name": "stderr",
     "output_type": "stream",
     "text": [
      " 17%|█▋        | 100/600 [00:26<02:04,  4.01it/s]"
     ]
    },
    {
     "name": "stdout",
     "output_type": "stream",
     "text": [
      "Train Epoch: 2\tBatch: [100/600]\tLoss: 1.5768\tAcc_both: 62.91\tAcc_base: 49.91\tAcc_novel: 89.13 % (90.42 %)\n"
     ]
    },
    {
     "name": "stderr",
     "output_type": "stream",
     "text": [
      " 33%|███▎      | 200/600 [00:52<01:43,  3.88it/s]"
     ]
    },
    {
     "name": "stdout",
     "output_type": "stream",
     "text": [
      "Train Epoch: 2\tBatch: [200/600]\tLoss: 1.5967\tAcc_both: 63.13\tAcc_base: 49.97\tAcc_novel: 89.28 % (89.17 %)\n"
     ]
    },
    {
     "name": "stderr",
     "output_type": "stream",
     "text": [
      " 50%|█████     | 300/600 [01:17<01:16,  3.92it/s]"
     ]
    },
    {
     "name": "stdout",
     "output_type": "stream",
     "text": [
      "Train Epoch: 2\tBatch: [300/600]\tLoss: 1.5186\tAcc_both: 63.06\tAcc_base: 49.92\tAcc_novel: 89.27 % (88.75 %)\n"
     ]
    },
    {
     "name": "stderr",
     "output_type": "stream",
     "text": [
      " 67%|██████▋   | 400/600 [01:42<00:50,  3.94it/s]"
     ]
    },
    {
     "name": "stdout",
     "output_type": "stream",
     "text": [
      "Train Epoch: 2\tBatch: [400/600]\tLoss: 1.4784\tAcc_both: 63.15\tAcc_base: 50.12\tAcc_novel: 89.36 % (90.42 %)\n"
     ]
    },
    {
     "name": "stderr",
     "output_type": "stream",
     "text": [
      " 83%|████████▎ | 500/600 [02:07<00:26,  3.83it/s]"
     ]
    },
    {
     "name": "stdout",
     "output_type": "stream",
     "text": [
      "Train Epoch: 2\tBatch: [500/600]\tLoss: 1.5712\tAcc_both: 63.22\tAcc_base: 50.19\tAcc_novel: 89.32 % (89.58 %)\n"
     ]
    },
    {
     "name": "stderr",
     "output_type": "stream",
     "text": [
      "100%|██████████| 600/600 [02:32<00:00,  3.92it/s]\n"
     ]
    },
    {
     "name": "stdout",
     "output_type": "stream",
     "text": [
      "Train Epoch: 2\tBatch: [600/600]\tLoss: 1.6505\tAcc_both: 63.27\tAcc_base: 50.13\tAcc_novel: 89.39 % (92.08 %)\n"
     ]
    },
    {
     "name": "stderr",
     "output_type": "stream",
     "text": [
      "100%|██████████| 1000/1000 [01:08<00:00, 14.56it/s]\n"
     ]
    },
    {
     "name": "stdout",
     "output_type": "stream",
     "text": [
      "Validation Epoch: 2\t\t\tLoss: 0.5313\tAccuracy: 80.24 ± 0.52 %\n",
      "Elapsed Time: 7m/1.2h\n",
      "\n",
      "Train Epoch: 3\tLearning Rate: 1.0000\n"
     ]
    },
    {
     "name": "stderr",
     "output_type": "stream",
     "text": [
      " 17%|█▋        | 100/600 [00:27<02:12,  3.78it/s]"
     ]
    },
    {
     "name": "stdout",
     "output_type": "stream",
     "text": [
      "Train Epoch: 3\tBatch: [100/600]\tLoss: 1.5640\tAcc_both: 63.28\tAcc_base: 49.96\tAcc_novel: 89.75 % (93.33 %)\n"
     ]
    },
    {
     "name": "stderr",
     "output_type": "stream",
     "text": [
      " 33%|███▎      | 200/600 [00:53<01:45,  3.80it/s]"
     ]
    },
    {
     "name": "stdout",
     "output_type": "stream",
     "text": [
      "Train Epoch: 3\tBatch: [200/600]\tLoss: 1.4952\tAcc_both: 63.28\tAcc_base: 49.96\tAcc_novel: 89.67 % (91.25 %)\n"
     ]
    },
    {
     "name": "stderr",
     "output_type": "stream",
     "text": [
      " 50%|█████     | 300/600 [01:19<01:18,  3.82it/s]"
     ]
    },
    {
     "name": "stdout",
     "output_type": "stream",
     "text": [
      "Train Epoch: 3\tBatch: [300/600]\tLoss: 1.5655\tAcc_both: 63.37\tAcc_base: 50.07\tAcc_novel: 89.60 % (87.92 %)\n"
     ]
    },
    {
     "name": "stderr",
     "output_type": "stream",
     "text": [
      " 67%|██████▋   | 400/600 [01:46<00:53,  3.70it/s]"
     ]
    },
    {
     "name": "stdout",
     "output_type": "stream",
     "text": [
      "Train Epoch: 3\tBatch: [400/600]\tLoss: 1.5597\tAcc_both: 63.45\tAcc_base: 50.13\tAcc_novel: 89.59 % (90.83 %)\n"
     ]
    },
    {
     "name": "stderr",
     "output_type": "stream",
     "text": [
      " 83%|████████▎ | 500/600 [02:12<00:27,  3.70it/s]"
     ]
    },
    {
     "name": "stdout",
     "output_type": "stream",
     "text": [
      "Train Epoch: 3\tBatch: [500/600]\tLoss: 1.4214\tAcc_both: 63.43\tAcc_base: 50.09\tAcc_novel: 89.60 % (92.50 %)\n"
     ]
    },
    {
     "name": "stderr",
     "output_type": "stream",
     "text": [
      "100%|██████████| 600/600 [02:39<00:00,  3.76it/s]\n"
     ]
    },
    {
     "name": "stdout",
     "output_type": "stream",
     "text": [
      "Train Epoch: 3\tBatch: [600/600]\tLoss: 1.4096\tAcc_both: 63.43\tAcc_base: 50.14\tAcc_novel: 89.62 % (91.67 %)\n"
     ]
    },
    {
     "name": "stderr",
     "output_type": "stream",
     "text": [
      "100%|██████████| 1000/1000 [01:11<00:00, 13.98it/s]\n"
     ]
    },
    {
     "name": "stdout",
     "output_type": "stream",
     "text": [
      "Validation Epoch: 3\t\t\tLoss: 0.5342\tAccuracy: 80.22 ± 0.53 %\n",
      "Elapsed Time: 11m/1.2h\n",
      "\n",
      "Train Epoch: 4\tLearning Rate: 1.0000\n"
     ]
    },
    {
     "name": "stderr",
     "output_type": "stream",
     "text": [
      " 17%|█▋        | 100/600 [00:27<02:13,  3.74it/s]"
     ]
    },
    {
     "name": "stdout",
     "output_type": "stream",
     "text": [
      "Train Epoch: 4\tBatch: [100/600]\tLoss: 1.3725\tAcc_both: 62.81\tAcc_base: 49.96\tAcc_novel: 89.32 % (90.42 %)\n"
     ]
    },
    {
     "name": "stderr",
     "output_type": "stream",
     "text": [
      " 33%|███▎      | 200/600 [00:53<01:45,  3.81it/s]"
     ]
    },
    {
     "name": "stdout",
     "output_type": "stream",
     "text": [
      "Train Epoch: 4\tBatch: [200/600]\tLoss: 1.4127\tAcc_both: 63.26\tAcc_base: 50.12\tAcc_novel: 89.32 % (89.58 %)\n"
     ]
    },
    {
     "name": "stderr",
     "output_type": "stream",
     "text": [
      " 50%|█████     | 300/600 [01:20<01:19,  3.78it/s]"
     ]
    },
    {
     "name": "stdout",
     "output_type": "stream",
     "text": [
      "Train Epoch: 4\tBatch: [300/600]\tLoss: 1.6392\tAcc_both: 63.39\tAcc_base: 50.33\tAcc_novel: 89.36 % (87.50 %)\n"
     ]
    },
    {
     "name": "stderr",
     "output_type": "stream",
     "text": [
      " 67%|██████▋   | 400/600 [01:47<00:54,  3.68it/s]"
     ]
    },
    {
     "name": "stdout",
     "output_type": "stream",
     "text": [
      "Train Epoch: 4\tBatch: [400/600]\tLoss: 1.7449\tAcc_both: 63.45\tAcc_base: 50.42\tAcc_novel: 89.39 % (87.92 %)\n"
     ]
    },
    {
     "name": "stderr",
     "output_type": "stream",
     "text": [
      " 83%|████████▎ | 500/600 [02:13<00:26,  3.74it/s]"
     ]
    },
    {
     "name": "stdout",
     "output_type": "stream",
     "text": [
      "Train Epoch: 4\tBatch: [500/600]\tLoss: 1.5615\tAcc_both: 63.49\tAcc_base: 50.43\tAcc_novel: 89.44 % (88.75 %)\n"
     ]
    },
    {
     "name": "stderr",
     "output_type": "stream",
     "text": [
      "100%|██████████| 600/600 [02:39<00:00,  3.75it/s]\n"
     ]
    },
    {
     "name": "stdout",
     "output_type": "stream",
     "text": [
      "Train Epoch: 4\tBatch: [600/600]\tLoss: 1.5910\tAcc_both: 63.47\tAcc_base: 50.38\tAcc_novel: 89.45 % (86.25 %)\n"
     ]
    },
    {
     "name": "stderr",
     "output_type": "stream",
     "text": [
      "100%|██████████| 1000/1000 [01:10<00:00, 14.23it/s]\n"
     ]
    },
    {
     "name": "stdout",
     "output_type": "stream",
     "text": [
      "Validation Epoch: 4\t\t\tLoss: 0.5226\tAccuracy: 80.55 ± 0.53 %\n",
      "Elapsed Time: 15m/1.3h\n",
      "\n",
      "Train Epoch: 5\tLearning Rate: 1.0000\n"
     ]
    },
    {
     "name": "stderr",
     "output_type": "stream",
     "text": [
      " 17%|█▋        | 100/600 [00:27<02:10,  3.85it/s]"
     ]
    },
    {
     "name": "stdout",
     "output_type": "stream",
     "text": [
      "Train Epoch: 5\tBatch: [100/600]\tLoss: 1.4280\tAcc_both: 63.62\tAcc_base: 50.63\tAcc_novel: 89.30 % (92.92 %)\n"
     ]
    },
    {
     "name": "stderr",
     "output_type": "stream",
     "text": [
      " 33%|███▎      | 200/600 [00:54<01:47,  3.73it/s]"
     ]
    },
    {
     "name": "stdout",
     "output_type": "stream",
     "text": [
      "Train Epoch: 5\tBatch: [200/600]\tLoss: 1.6690\tAcc_both: 63.57\tAcc_base: 50.57\tAcc_novel: 89.38 % (81.67 %)\n"
     ]
    },
    {
     "name": "stderr",
     "output_type": "stream",
     "text": [
      " 50%|█████     | 300/600 [01:20<01:19,  3.79it/s]"
     ]
    },
    {
     "name": "stdout",
     "output_type": "stream",
     "text": [
      "Train Epoch: 5\tBatch: [300/600]\tLoss: 1.5685\tAcc_both: 63.58\tAcc_base: 50.52\tAcc_novel: 89.47 % (91.67 %)\n"
     ]
    },
    {
     "name": "stderr",
     "output_type": "stream",
     "text": [
      " 67%|██████▋   | 400/600 [01:47<00:52,  3.79it/s]"
     ]
    },
    {
     "name": "stdout",
     "output_type": "stream",
     "text": [
      "Train Epoch: 5\tBatch: [400/600]\tLoss: 1.5715\tAcc_both: 63.64\tAcc_base: 50.57\tAcc_novel: 89.54 % (91.25 %)\n"
     ]
    },
    {
     "name": "stderr",
     "output_type": "stream",
     "text": [
      " 83%|████████▎ | 500/600 [02:13<00:26,  3.84it/s]"
     ]
    },
    {
     "name": "stdout",
     "output_type": "stream",
     "text": [
      "Train Epoch: 5\tBatch: [500/600]\tLoss: 1.4923\tAcc_both: 63.66\tAcc_base: 50.54\tAcc_novel: 89.55 % (93.75 %)\n"
     ]
    },
    {
     "name": "stderr",
     "output_type": "stream",
     "text": [
      "100%|██████████| 600/600 [02:40<00:00,  3.73it/s]\n"
     ]
    },
    {
     "name": "stdout",
     "output_type": "stream",
     "text": [
      "Train Epoch: 5\tBatch: [600/600]\tLoss: 1.4899\tAcc_both: 63.74\tAcc_base: 50.54\tAcc_novel: 89.66 % (92.50 %)\n"
     ]
    },
    {
     "name": "stderr",
     "output_type": "stream",
     "text": [
      "100%|██████████| 1000/1000 [01:09<00:00, 14.34it/s]\n"
     ]
    },
    {
     "name": "stdout",
     "output_type": "stream",
     "text": [
      "Validation Epoch: 5\t\t\tLoss: 0.5144\tAccuracy: 80.84 ± 0.52 %\n",
      "Elapsed Time: 19m/1.3h\n",
      "\n",
      "Train Epoch: 6\tLearning Rate: 0.5000\n"
     ]
    },
    {
     "name": "stderr",
     "output_type": "stream",
     "text": [
      " 17%|█▋        | 100/600 [00:27<02:10,  3.82it/s]"
     ]
    },
    {
     "name": "stdout",
     "output_type": "stream",
     "text": [
      "Train Epoch: 6\tBatch: [100/600]\tLoss: 1.4611\tAcc_both: 65.74\tAcc_base: 53.37\tAcc_novel: 90.48 % (90.00 %)\n"
     ]
    },
    {
     "name": "stderr",
     "output_type": "stream",
     "text": [
      " 33%|███▎      | 200/600 [00:54<01:45,  3.78it/s]"
     ]
    },
    {
     "name": "stdout",
     "output_type": "stream",
     "text": [
      "Train Epoch: 6\tBatch: [200/600]\tLoss: 1.5256\tAcc_both: 65.51\tAcc_base: 53.30\tAcc_novel: 90.15 % (89.17 %)\n"
     ]
    },
    {
     "name": "stderr",
     "output_type": "stream",
     "text": [
      " 50%|█████     | 300/600 [01:20<01:20,  3.75it/s]"
     ]
    },
    {
     "name": "stdout",
     "output_type": "stream",
     "text": [
      "Train Epoch: 6\tBatch: [300/600]\tLoss: 1.3496\tAcc_both: 65.43\tAcc_base: 53.13\tAcc_novel: 90.16 % (92.08 %)\n"
     ]
    },
    {
     "name": "stderr",
     "output_type": "stream",
     "text": [
      " 67%|██████▋   | 400/600 [01:47<00:52,  3.78it/s]"
     ]
    },
    {
     "name": "stdout",
     "output_type": "stream",
     "text": [
      "Train Epoch: 6\tBatch: [400/600]\tLoss: 1.4066\tAcc_both: 65.35\tAcc_base: 53.05\tAcc_novel: 90.18 % (93.75 %)\n"
     ]
    },
    {
     "name": "stderr",
     "output_type": "stream",
     "text": [
      " 83%|████████▎ | 500/600 [02:14<00:26,  3.76it/s]"
     ]
    },
    {
     "name": "stdout",
     "output_type": "stream",
     "text": [
      "Train Epoch: 6\tBatch: [500/600]\tLoss: 1.5198\tAcc_both: 65.31\tAcc_base: 52.96\tAcc_novel: 90.15 % (90.42 %)\n"
     ]
    },
    {
     "name": "stderr",
     "output_type": "stream",
     "text": [
      "100%|██████████| 600/600 [02:40<00:00,  3.73it/s]\n"
     ]
    },
    {
     "name": "stdout",
     "output_type": "stream",
     "text": [
      "Train Epoch: 6\tBatch: [600/600]\tLoss: 1.4597\tAcc_both: 65.30\tAcc_base: 52.95\tAcc_novel: 90.12 % (90.83 %)\n"
     ]
    },
    {
     "name": "stderr",
     "output_type": "stream",
     "text": [
      "100%|██████████| 1000/1000 [01:09<00:00, 14.41it/s]\n"
     ]
    },
    {
     "name": "stdout",
     "output_type": "stream",
     "text": [
      "Validation Epoch: 6\t\t\tLoss: 0.4968\tAccuracy: 81.48 ± 0.51 % (Best)\n",
      "Elapsed Time: 23m/1.3h\n",
      "\n",
      "Train Epoch: 7\tLearning Rate: 0.5000\n"
     ]
    },
    {
     "name": "stderr",
     "output_type": "stream",
     "text": [
      " 17%|█▋        | 100/600 [00:27<02:10,  3.82it/s]"
     ]
    },
    {
     "name": "stdout",
     "output_type": "stream",
     "text": [
      "Train Epoch: 7\tBatch: [100/600]\tLoss: 1.4098\tAcc_both: 65.48\tAcc_base: 52.51\tAcc_novel: 90.65 % (91.67 %)\n"
     ]
    },
    {
     "name": "stderr",
     "output_type": "stream",
     "text": [
      " 33%|███▎      | 200/600 [00:54<01:43,  3.85it/s]"
     ]
    },
    {
     "name": "stdout",
     "output_type": "stream",
     "text": [
      "Train Epoch: 7\tBatch: [200/600]\tLoss: 1.4211\tAcc_both: 65.33\tAcc_base: 52.77\tAcc_novel: 90.35 % (90.42 %)\n"
     ]
    },
    {
     "name": "stderr",
     "output_type": "stream",
     "text": [
      " 50%|█████     | 300/600 [01:20<01:19,  3.80it/s]"
     ]
    },
    {
     "name": "stdout",
     "output_type": "stream",
     "text": [
      "Train Epoch: 7\tBatch: [300/600]\tLoss: 1.4108\tAcc_both: 65.31\tAcc_base: 52.69\tAcc_novel: 90.35 % (91.25 %)\n"
     ]
    },
    {
     "name": "stderr",
     "output_type": "stream",
     "text": [
      " 67%|██████▋   | 400/600 [01:47<00:52,  3.84it/s]"
     ]
    },
    {
     "name": "stdout",
     "output_type": "stream",
     "text": [
      "Train Epoch: 7\tBatch: [400/600]\tLoss: 1.3959\tAcc_both: 65.27\tAcc_base: 52.66\tAcc_novel: 90.32 % (89.58 %)\n"
     ]
    },
    {
     "name": "stderr",
     "output_type": "stream",
     "text": [
      " 83%|████████▎ | 500/600 [02:13<00:26,  3.78it/s]"
     ]
    },
    {
     "name": "stdout",
     "output_type": "stream",
     "text": [
      "Train Epoch: 7\tBatch: [500/600]\tLoss: 1.4340\tAcc_both: 65.25\tAcc_base: 52.59\tAcc_novel: 90.29 % (90.83 %)\n"
     ]
    },
    {
     "name": "stderr",
     "output_type": "stream",
     "text": [
      "100%|██████████| 600/600 [02:40<00:00,  3.75it/s]\n"
     ]
    },
    {
     "name": "stdout",
     "output_type": "stream",
     "text": [
      "Train Epoch: 7\tBatch: [600/600]\tLoss: 1.5094\tAcc_both: 65.20\tAcc_base: 52.59\tAcc_novel: 90.25 % (88.33 %)\n"
     ]
    },
    {
     "name": "stderr",
     "output_type": "stream",
     "text": [
      "100%|██████████| 1000/1000 [01:09<00:00, 14.34it/s]\n"
     ]
    },
    {
     "name": "stdout",
     "output_type": "stream",
     "text": [
      "Validation Epoch: 7\t\t\tLoss: 0.4937\tAccuracy: 81.83 ± 0.50 % (Best)\n",
      "Elapsed Time: 27m/1.3h\n",
      "\n",
      "Train Epoch: 8\tLearning Rate: 0.5000\n"
     ]
    },
    {
     "name": "stderr",
     "output_type": "stream",
     "text": [
      " 17%|█▋        | 100/600 [00:27<02:10,  3.83it/s]"
     ]
    },
    {
     "name": "stdout",
     "output_type": "stream",
     "text": [
      "Train Epoch: 8\tBatch: [100/600]\tLoss: 1.4053\tAcc_both: 65.19\tAcc_base: 52.37\tAcc_novel: 90.46 % (91.67 %)\n"
     ]
    },
    {
     "name": "stderr",
     "output_type": "stream",
     "text": [
      " 33%|███▎      | 200/600 [00:54<01:47,  3.73it/s]"
     ]
    },
    {
     "name": "stdout",
     "output_type": "stream",
     "text": [
      "Train Epoch: 8\tBatch: [200/600]\tLoss: 1.3637\tAcc_both: 65.32\tAcc_base: 52.57\tAcc_novel: 90.37 % (89.17 %)\n"
     ]
    },
    {
     "name": "stderr",
     "output_type": "stream",
     "text": [
      " 50%|█████     | 300/600 [01:20<01:19,  3.76it/s]"
     ]
    },
    {
     "name": "stdout",
     "output_type": "stream",
     "text": [
      "Train Epoch: 8\tBatch: [300/600]\tLoss: 1.6045\tAcc_both: 65.22\tAcc_base: 52.43\tAcc_novel: 90.24 % (85.00 %)\n"
     ]
    },
    {
     "name": "stderr",
     "output_type": "stream",
     "text": [
      " 67%|██████▋   | 400/600 [01:47<00:53,  3.75it/s]"
     ]
    },
    {
     "name": "stdout",
     "output_type": "stream",
     "text": [
      "Train Epoch: 8\tBatch: [400/600]\tLoss: 1.5327\tAcc_both: 65.30\tAcc_base: 52.51\tAcc_novel: 90.31 % (90.00 %)\n"
     ]
    },
    {
     "name": "stderr",
     "output_type": "stream",
     "text": [
      " 83%|████████▎ | 500/600 [02:13<00:26,  3.73it/s]"
     ]
    },
    {
     "name": "stdout",
     "output_type": "stream",
     "text": [
      "Train Epoch: 8\tBatch: [500/600]\tLoss: 1.4563\tAcc_both: 65.22\tAcc_base: 52.49\tAcc_novel: 90.21 % (88.33 %)\n"
     ]
    },
    {
     "name": "stderr",
     "output_type": "stream",
     "text": [
      "100%|██████████| 600/600 [02:40<00:00,  3.73it/s]\n"
     ]
    },
    {
     "name": "stdout",
     "output_type": "stream",
     "text": [
      "Train Epoch: 8\tBatch: [600/600]\tLoss: 1.4181\tAcc_both: 65.18\tAcc_base: 52.51\tAcc_novel: 90.18 % (90.83 %)\n"
     ]
    },
    {
     "name": "stderr",
     "output_type": "stream",
     "text": [
      "100%|██████████| 1000/1000 [01:09<00:00, 14.35it/s]\n"
     ]
    },
    {
     "name": "stdout",
     "output_type": "stream",
     "text": [
      "Validation Epoch: 8\t\t\tLoss: 0.5007\tAccuracy: 81.51 ± 0.50 %\n",
      "Elapsed Time: 30m/1.3h\n",
      "\n",
      "Train Epoch: 9\tLearning Rate: 0.5000\n"
     ]
    },
    {
     "name": "stderr",
     "output_type": "stream",
     "text": [
      " 17%|█▋        | 100/600 [00:27<02:13,  3.76it/s]"
     ]
    },
    {
     "name": "stdout",
     "output_type": "stream",
     "text": [
      "Train Epoch: 9\tBatch: [100/600]\tLoss: 1.5276\tAcc_both: 64.85\tAcc_base: 52.87\tAcc_novel: 89.98 % (90.42 %)\n"
     ]
    },
    {
     "name": "stderr",
     "output_type": "stream",
     "text": [
      " 33%|███▎      | 200/600 [00:54<01:48,  3.69it/s]"
     ]
    },
    {
     "name": "stdout",
     "output_type": "stream",
     "text": [
      "Train Epoch: 9\tBatch: [200/600]\tLoss: 1.3555\tAcc_both: 64.91\tAcc_base: 52.87\tAcc_novel: 90.07 % (94.17 %)\n"
     ]
    },
    {
     "name": "stderr",
     "output_type": "stream",
     "text": [
      " 50%|█████     | 300/600 [01:21<01:19,  3.75it/s]"
     ]
    },
    {
     "name": "stdout",
     "output_type": "stream",
     "text": [
      "Train Epoch: 9\tBatch: [300/600]\tLoss: 1.4829\tAcc_both: 65.03\tAcc_base: 52.90\tAcc_novel: 90.01 % (89.58 %)\n"
     ]
    },
    {
     "name": "stderr",
     "output_type": "stream",
     "text": [
      " 67%|██████▋   | 400/600 [01:47<00:52,  3.80it/s]"
     ]
    },
    {
     "name": "stdout",
     "output_type": "stream",
     "text": [
      "Train Epoch: 9\tBatch: [400/600]\tLoss: 1.6059\tAcc_both: 65.03\tAcc_base: 52.81\tAcc_novel: 90.03 % (89.58 %)\n"
     ]
    },
    {
     "name": "stderr",
     "output_type": "stream",
     "text": [
      " 83%|████████▎ | 500/600 [02:14<00:26,  3.76it/s]"
     ]
    },
    {
     "name": "stdout",
     "output_type": "stream",
     "text": [
      "Train Epoch: 9\tBatch: [500/600]\tLoss: 1.4699\tAcc_both: 65.01\tAcc_base: 52.72\tAcc_novel: 89.99 % (87.50 %)\n"
     ]
    },
    {
     "name": "stderr",
     "output_type": "stream",
     "text": [
      "100%|██████████| 600/600 [02:41<00:00,  3.73it/s]\n"
     ]
    },
    {
     "name": "stdout",
     "output_type": "stream",
     "text": [
      "Train Epoch: 9\tBatch: [600/600]\tLoss: 1.3816\tAcc_both: 65.00\tAcc_base: 52.75\tAcc_novel: 89.97 % (90.83 %)\n"
     ]
    },
    {
     "name": "stderr",
     "output_type": "stream",
     "text": [
      "100%|██████████| 1000/1000 [01:09<00:00, 14.34it/s]\n"
     ]
    },
    {
     "name": "stdout",
     "output_type": "stream",
     "text": [
      "Validation Epoch: 9\t\t\tLoss: 0.5101\tAccuracy: 81.22 ± 0.50 %\n",
      "Elapsed Time: 34m/1.3h\n",
      "\n",
      "Train Epoch: 10\tLearning Rate: 0.5000\n"
     ]
    },
    {
     "name": "stderr",
     "output_type": "stream",
     "text": [
      " 17%|█▋        | 100/600 [00:27<02:10,  3.84it/s]"
     ]
    },
    {
     "name": "stdout",
     "output_type": "stream",
     "text": [
      "Train Epoch: 10\tBatch: [100/600]\tLoss: 1.4603\tAcc_both: 65.15\tAcc_base: 52.38\tAcc_novel: 90.47 % (93.33 %)\n"
     ]
    },
    {
     "name": "stderr",
     "output_type": "stream",
     "text": [
      " 33%|███▎      | 200/600 [00:54<01:46,  3.77it/s]"
     ]
    },
    {
     "name": "stdout",
     "output_type": "stream",
     "text": [
      "Train Epoch: 10\tBatch: [200/600]\tLoss: 1.4620\tAcc_both: 65.03\tAcc_base: 52.32\tAcc_novel: 90.35 % (89.17 %)\n"
     ]
    },
    {
     "name": "stderr",
     "output_type": "stream",
     "text": [
      " 50%|█████     | 300/600 [01:20<01:21,  3.70it/s]"
     ]
    },
    {
     "name": "stdout",
     "output_type": "stream",
     "text": [
      "Train Epoch: 10\tBatch: [300/600]\tLoss: 1.3617\tAcc_both: 65.05\tAcc_base: 52.37\tAcc_novel: 90.38 % (88.75 %)\n"
     ]
    },
    {
     "name": "stderr",
     "output_type": "stream",
     "text": [
      " 67%|██████▋   | 400/600 [01:47<00:53,  3.72it/s]"
     ]
    },
    {
     "name": "stdout",
     "output_type": "stream",
     "text": [
      "Train Epoch: 10\tBatch: [400/600]\tLoss: 1.4695\tAcc_both: 65.05\tAcc_base: 52.42\tAcc_novel: 90.30 % (92.92 %)\n"
     ]
    },
    {
     "name": "stderr",
     "output_type": "stream",
     "text": [
      " 83%|████████▎ | 500/600 [02:14<00:26,  3.75it/s]"
     ]
    },
    {
     "name": "stdout",
     "output_type": "stream",
     "text": [
      "Train Epoch: 10\tBatch: [500/600]\tLoss: 1.5486\tAcc_both: 64.98\tAcc_base: 52.41\tAcc_novel: 90.26 % (90.00 %)\n"
     ]
    },
    {
     "name": "stderr",
     "output_type": "stream",
     "text": [
      "100%|██████████| 600/600 [02:40<00:00,  3.73it/s]\n"
     ]
    },
    {
     "name": "stdout",
     "output_type": "stream",
     "text": [
      "Train Epoch: 10\tBatch: [600/600]\tLoss: 1.4726\tAcc_both: 65.02\tAcc_base: 52.40\tAcc_novel: 90.29 % (84.58 %)\n"
     ]
    },
    {
     "name": "stderr",
     "output_type": "stream",
     "text": [
      "100%|██████████| 1000/1000 [01:09<00:00, 14.38it/s]\n"
     ]
    },
    {
     "name": "stdout",
     "output_type": "stream",
     "text": [
      "Validation Epoch: 10\t\t\tLoss: 0.4942\tAccuracy: 81.75 ± 0.51 %\n",
      "Elapsed Time: 38m/1.3h\n",
      "\n",
      "Train Epoch: 11\tLearning Rate: 0.1000\n"
     ]
    },
    {
     "name": "stderr",
     "output_type": "stream",
     "text": [
      " 17%|█▋        | 100/600 [00:27<02:10,  3.82it/s]"
     ]
    },
    {
     "name": "stdout",
     "output_type": "stream",
     "text": [
      "Train Epoch: 11\tBatch: [100/600]\tLoss: 1.2884\tAcc_both: 67.25\tAcc_base: 56.15\tAcc_novel: 90.45 % (92.92 %)\n"
     ]
    },
    {
     "name": "stderr",
     "output_type": "stream",
     "text": [
      " 33%|███▎      | 200/600 [00:54<01:48,  3.69it/s]"
     ]
    },
    {
     "name": "stdout",
     "output_type": "stream",
     "text": [
      "Train Epoch: 11\tBatch: [200/600]\tLoss: 1.4588\tAcc_both: 67.48\tAcc_base: 56.53\tAcc_novel: 90.49 % (85.00 %)\n"
     ]
    },
    {
     "name": "stderr",
     "output_type": "stream",
     "text": [
      " 50%|█████     | 300/600 [01:20<01:18,  3.80it/s]"
     ]
    },
    {
     "name": "stdout",
     "output_type": "stream",
     "text": [
      "Train Epoch: 11\tBatch: [300/600]\tLoss: 1.2368\tAcc_both: 67.48\tAcc_base: 56.53\tAcc_novel: 90.59 % (92.08 %)\n"
     ]
    },
    {
     "name": "stderr",
     "output_type": "stream",
     "text": [
      " 67%|██████▋   | 400/600 [01:47<00:53,  3.71it/s]"
     ]
    },
    {
     "name": "stdout",
     "output_type": "stream",
     "text": [
      "Train Epoch: 11\tBatch: [400/600]\tLoss: 1.3548\tAcc_both: 67.52\tAcc_base: 56.57\tAcc_novel: 90.58 % (90.83 %)\n"
     ]
    },
    {
     "name": "stderr",
     "output_type": "stream",
     "text": [
      " 83%|████████▎ | 500/600 [02:14<00:27,  3.70it/s]"
     ]
    },
    {
     "name": "stdout",
     "output_type": "stream",
     "text": [
      "Train Epoch: 11\tBatch: [500/600]\tLoss: 1.3988\tAcc_both: 67.56\tAcc_base: 56.62\tAcc_novel: 90.65 % (89.17 %)\n"
     ]
    },
    {
     "name": "stderr",
     "output_type": "stream",
     "text": [
      "100%|██████████| 600/600 [02:40<00:00,  3.74it/s]\n"
     ]
    },
    {
     "name": "stdout",
     "output_type": "stream",
     "text": [
      "Train Epoch: 11\tBatch: [600/600]\tLoss: 1.3779\tAcc_both: 67.63\tAcc_base: 56.71\tAcc_novel: 90.69 % (90.00 %)\n"
     ]
    },
    {
     "name": "stderr",
     "output_type": "stream",
     "text": [
      "100%|██████████| 1000/1000 [01:09<00:00, 14.35it/s]\n"
     ]
    },
    {
     "name": "stdout",
     "output_type": "stream",
     "text": [
      "Validation Epoch: 11\t\t\tLoss: 0.4735\tAccuracy: 82.15 ± 0.51 % (Best)\n",
      "Elapsed Time: 42m/1.3h\n",
      "\n",
      "Train Epoch: 12\tLearning Rate: 0.1000\n"
     ]
    },
    {
     "name": "stderr",
     "output_type": "stream",
     "text": [
      " 17%|█▋        | 100/600 [00:27<02:12,  3.77it/s]"
     ]
    },
    {
     "name": "stdout",
     "output_type": "stream",
     "text": [
      "Train Epoch: 12\tBatch: [100/600]\tLoss: 1.3623\tAcc_both: 67.93\tAcc_base: 57.04\tAcc_novel: 91.03 % (95.00 %)\n"
     ]
    },
    {
     "name": "stderr",
     "output_type": "stream",
     "text": [
      " 33%|███▎      | 200/600 [00:54<01:47,  3.70it/s]"
     ]
    },
    {
     "name": "stdout",
     "output_type": "stream",
     "text": [
      "Train Epoch: 12\tBatch: [200/600]\tLoss: 1.3567\tAcc_both: 67.84\tAcc_base: 56.88\tAcc_novel: 91.00 % (90.42 %)\n"
     ]
    },
    {
     "name": "stderr",
     "output_type": "stream",
     "text": [
      " 50%|█████     | 300/600 [01:20<01:17,  3.85it/s]"
     ]
    },
    {
     "name": "stdout",
     "output_type": "stream",
     "text": [
      "Train Epoch: 12\tBatch: [300/600]\tLoss: 1.3625\tAcc_both: 67.84\tAcc_base: 57.01\tAcc_novel: 90.95 % (91.25 %)\n"
     ]
    },
    {
     "name": "stderr",
     "output_type": "stream",
     "text": [
      " 67%|██████▋   | 400/600 [01:47<00:54,  3.67it/s]"
     ]
    },
    {
     "name": "stdout",
     "output_type": "stream",
     "text": [
      "Train Epoch: 12\tBatch: [400/600]\tLoss: 1.1834\tAcc_both: 67.82\tAcc_base: 56.97\tAcc_novel: 90.91 % (93.75 %)\n"
     ]
    },
    {
     "name": "stderr",
     "output_type": "stream",
     "text": [
      " 83%|████████▎ | 500/600 [02:13<00:26,  3.80it/s]"
     ]
    },
    {
     "name": "stdout",
     "output_type": "stream",
     "text": [
      "Train Epoch: 12\tBatch: [500/600]\tLoss: 1.3163\tAcc_both: 67.68\tAcc_base: 56.76\tAcc_novel: 90.86 % (94.17 %)\n"
     ]
    },
    {
     "name": "stderr",
     "output_type": "stream",
     "text": [
      "100%|██████████| 600/600 [02:40<00:00,  3.74it/s]\n"
     ]
    },
    {
     "name": "stdout",
     "output_type": "stream",
     "text": [
      "Train Epoch: 12\tBatch: [600/600]\tLoss: 1.4595\tAcc_both: 67.62\tAcc_base: 56.56\tAcc_novel: 90.85 % (90.42 %)\n"
     ]
    },
    {
     "name": "stderr",
     "output_type": "stream",
     "text": [
      "100%|██████████| 1000/1000 [01:09<00:00, 14.35it/s]\n"
     ]
    },
    {
     "name": "stdout",
     "output_type": "stream",
     "text": [
      "Validation Epoch: 12\t\t\tLoss: 0.4843\tAccuracy: 81.47 ± 0.50 %\n",
      "Elapsed Time: 46m/1.3h\n",
      "\n",
      "Train Epoch: 13\tLearning Rate: 0.1000\n"
     ]
    },
    {
     "name": "stderr",
     "output_type": "stream",
     "text": [
      " 17%|█▋        | 100/600 [00:27<02:11,  3.80it/s]"
     ]
    },
    {
     "name": "stdout",
     "output_type": "stream",
     "text": [
      "Train Epoch: 13\tBatch: [100/600]\tLoss: 1.4411\tAcc_both: 67.53\tAcc_base: 56.37\tAcc_novel: 90.93 % (90.42 %)\n"
     ]
    },
    {
     "name": "stderr",
     "output_type": "stream",
     "text": [
      " 33%|███▎      | 200/600 [00:54<01:47,  3.72it/s]"
     ]
    },
    {
     "name": "stdout",
     "output_type": "stream",
     "text": [
      "Train Epoch: 13\tBatch: [200/600]\tLoss: 1.3914\tAcc_both: 67.51\tAcc_base: 56.41\tAcc_novel: 90.71 % (90.42 %)\n"
     ]
    },
    {
     "name": "stderr",
     "output_type": "stream",
     "text": [
      " 50%|█████     | 300/600 [01:21<01:20,  3.74it/s]"
     ]
    },
    {
     "name": "stdout",
     "output_type": "stream",
     "text": [
      "Train Epoch: 13\tBatch: [300/600]\tLoss: 1.2887\tAcc_both: 67.54\tAcc_base: 56.39\tAcc_novel: 90.71 % (88.75 %)\n"
     ]
    },
    {
     "name": "stderr",
     "output_type": "stream",
     "text": [
      " 67%|██████▋   | 400/600 [01:47<00:52,  3.78it/s]"
     ]
    },
    {
     "name": "stdout",
     "output_type": "stream",
     "text": [
      "Train Epoch: 13\tBatch: [400/600]\tLoss: 1.3528\tAcc_both: 67.53\tAcc_base: 56.30\tAcc_novel: 90.70 % (90.83 %)\n"
     ]
    },
    {
     "name": "stderr",
     "output_type": "stream",
     "text": [
      " 83%|████████▎ | 500/600 [02:14<00:26,  3.79it/s]"
     ]
    },
    {
     "name": "stdout",
     "output_type": "stream",
     "text": [
      "Train Epoch: 13\tBatch: [500/600]\tLoss: 1.1715\tAcc_both: 67.50\tAcc_base: 56.36\tAcc_novel: 90.67 % (96.25 %)\n"
     ]
    },
    {
     "name": "stderr",
     "output_type": "stream",
     "text": [
      "100%|██████████| 600/600 [02:41<00:00,  3.72it/s]\n"
     ]
    },
    {
     "name": "stdout",
     "output_type": "stream",
     "text": [
      "Train Epoch: 13\tBatch: [600/600]\tLoss: 1.3846\tAcc_both: 67.51\tAcc_base: 56.37\tAcc_novel: 90.74 % (93.75 %)\n"
     ]
    },
    {
     "name": "stderr",
     "output_type": "stream",
     "text": [
      "100%|██████████| 1000/1000 [01:09<00:00, 14.38it/s]\n"
     ]
    },
    {
     "name": "stdout",
     "output_type": "stream",
     "text": [
      "Validation Epoch: 13\t\t\tLoss: 0.4735\tAccuracy: 82.10 ± 0.50 %\n",
      "Elapsed Time: 50m/1.3h\n",
      "\n",
      "Train Epoch: 14\tLearning Rate: 0.1000\n"
     ]
    },
    {
     "name": "stderr",
     "output_type": "stream",
     "text": [
      " 17%|█▋        | 100/600 [00:27<02:12,  3.78it/s]"
     ]
    },
    {
     "name": "stdout",
     "output_type": "stream",
     "text": [
      "Train Epoch: 14\tBatch: [100/600]\tLoss: 1.3688\tAcc_both: 67.57\tAcc_base: 56.20\tAcc_novel: 90.63 % (91.25 %)\n"
     ]
    },
    {
     "name": "stderr",
     "output_type": "stream",
     "text": [
      " 33%|███▎      | 200/600 [00:54<01:45,  3.79it/s]"
     ]
    },
    {
     "name": "stdout",
     "output_type": "stream",
     "text": [
      "Train Epoch: 14\tBatch: [200/600]\tLoss: 1.4204\tAcc_both: 67.43\tAcc_base: 56.07\tAcc_novel: 90.60 % (84.17 %)\n"
     ]
    },
    {
     "name": "stderr",
     "output_type": "stream",
     "text": [
      " 50%|█████     | 300/600 [01:20<01:20,  3.71it/s]"
     ]
    },
    {
     "name": "stdout",
     "output_type": "stream",
     "text": [
      "Train Epoch: 14\tBatch: [300/600]\tLoss: 1.4916\tAcc_both: 67.50\tAcc_base: 56.29\tAcc_novel: 90.65 % (87.08 %)\n"
     ]
    },
    {
     "name": "stderr",
     "output_type": "stream",
     "text": [
      " 67%|██████▋   | 400/600 [01:47<00:54,  3.69it/s]"
     ]
    },
    {
     "name": "stdout",
     "output_type": "stream",
     "text": [
      "Train Epoch: 14\tBatch: [400/600]\tLoss: 1.2728\tAcc_both: 67.46\tAcc_base: 56.38\tAcc_novel: 90.57 % (88.75 %)\n"
     ]
    },
    {
     "name": "stderr",
     "output_type": "stream",
     "text": [
      " 83%|████████▎ | 500/600 [02:13<00:26,  3.81it/s]"
     ]
    },
    {
     "name": "stdout",
     "output_type": "stream",
     "text": [
      "Train Epoch: 14\tBatch: [500/600]\tLoss: 1.3986\tAcc_both: 67.44\tAcc_base: 56.36\tAcc_novel: 90.52 % (91.25 %)\n"
     ]
    },
    {
     "name": "stderr",
     "output_type": "stream",
     "text": [
      "100%|██████████| 600/600 [02:40<00:00,  3.74it/s]\n"
     ]
    },
    {
     "name": "stdout",
     "output_type": "stream",
     "text": [
      "Train Epoch: 14\tBatch: [600/600]\tLoss: 1.3555\tAcc_both: 67.47\tAcc_base: 56.44\tAcc_novel: 90.57 % (90.83 %)\n"
     ]
    },
    {
     "name": "stderr",
     "output_type": "stream",
     "text": [
      "100%|██████████| 1000/1000 [01:09<00:00, 14.43it/s]\n"
     ]
    },
    {
     "name": "stdout",
     "output_type": "stream",
     "text": [
      "Validation Epoch: 14\t\t\tLoss: 0.4890\tAccuracy: 81.49 ± 0.51 %\n",
      "Elapsed Time: 53m/1.3h\n",
      "\n",
      "Train Epoch: 15\tLearning Rate: 0.1000\n"
     ]
    },
    {
     "name": "stderr",
     "output_type": "stream",
     "text": [
      " 17%|█▋        | 100/600 [00:27<02:09,  3.85it/s]"
     ]
    },
    {
     "name": "stdout",
     "output_type": "stream",
     "text": [
      "Train Epoch: 15\tBatch: [100/600]\tLoss: 1.3873\tAcc_both: 67.34\tAcc_base: 55.60\tAcc_novel: 90.66 % (91.25 %)\n"
     ]
    },
    {
     "name": "stderr",
     "output_type": "stream",
     "text": [
      " 33%|███▎      | 200/600 [00:54<01:46,  3.77it/s]"
     ]
    },
    {
     "name": "stdout",
     "output_type": "stream",
     "text": [
      "Train Epoch: 15\tBatch: [200/600]\tLoss: 1.2982\tAcc_both: 67.35\tAcc_base: 55.75\tAcc_novel: 90.75 % (90.83 %)\n"
     ]
    },
    {
     "name": "stderr",
     "output_type": "stream",
     "text": [
      " 50%|█████     | 300/600 [01:20<01:18,  3.83it/s]"
     ]
    },
    {
     "name": "stdout",
     "output_type": "stream",
     "text": [
      "Train Epoch: 15\tBatch: [300/600]\tLoss: 1.4424\tAcc_both: 67.39\tAcc_base: 55.91\tAcc_novel: 90.85 % (92.08 %)\n"
     ]
    },
    {
     "name": "stderr",
     "output_type": "stream",
     "text": [
      " 67%|██████▋   | 400/600 [01:47<00:53,  3.72it/s]"
     ]
    },
    {
     "name": "stdout",
     "output_type": "stream",
     "text": [
      "Train Epoch: 15\tBatch: [400/600]\tLoss: 1.3070\tAcc_both: 67.49\tAcc_base: 56.01\tAcc_novel: 90.94 % (91.67 %)\n"
     ]
    },
    {
     "name": "stderr",
     "output_type": "stream",
     "text": [
      " 83%|████████▎ | 500/600 [02:13<00:26,  3.75it/s]"
     ]
    },
    {
     "name": "stdout",
     "output_type": "stream",
     "text": [
      "Train Epoch: 15\tBatch: [500/600]\tLoss: 1.4066\tAcc_both: 67.41\tAcc_base: 55.99\tAcc_novel: 90.85 % (90.83 %)\n"
     ]
    },
    {
     "name": "stderr",
     "output_type": "stream",
     "text": [
      "100%|██████████| 600/600 [02:40<00:00,  3.74it/s]\n"
     ]
    },
    {
     "name": "stdout",
     "output_type": "stream",
     "text": [
      "Train Epoch: 15\tBatch: [600/600]\tLoss: 1.3960\tAcc_both: 67.38\tAcc_base: 55.97\tAcc_novel: 90.82 % (92.92 %)\n"
     ]
    },
    {
     "name": "stderr",
     "output_type": "stream",
     "text": [
      "100%|██████████| 1000/1000 [01:09<00:00, 14.37it/s]\n"
     ]
    },
    {
     "name": "stdout",
     "output_type": "stream",
     "text": [
      "Validation Epoch: 15\t\t\tLoss: 0.4813\tAccuracy: 81.79 ± 0.51 %\n",
      "Elapsed Time: 57m/1.3h\n",
      "\n",
      "Train Epoch: 16\tLearning Rate: 0.0500\n"
     ]
    },
    {
     "name": "stderr",
     "output_type": "stream",
     "text": [
      " 17%|█▋        | 100/600 [00:27<02:14,  3.73it/s]"
     ]
    },
    {
     "name": "stdout",
     "output_type": "stream",
     "text": [
      "Train Epoch: 16\tBatch: [100/600]\tLoss: 1.3335\tAcc_both: 68.14\tAcc_base: 57.29\tAcc_novel: 91.03 % (88.75 %)\n"
     ]
    },
    {
     "name": "stderr",
     "output_type": "stream",
     "text": [
      " 33%|███▎      | 200/600 [00:54<01:45,  3.80it/s]"
     ]
    },
    {
     "name": "stdout",
     "output_type": "stream",
     "text": [
      "Train Epoch: 16\tBatch: [200/600]\tLoss: 1.2104\tAcc_both: 68.26\tAcc_base: 57.50\tAcc_novel: 91.14 % (94.58 %)\n"
     ]
    },
    {
     "name": "stderr",
     "output_type": "stream",
     "text": [
      " 50%|█████     | 300/600 [01:20<01:18,  3.83it/s]"
     ]
    },
    {
     "name": "stdout",
     "output_type": "stream",
     "text": [
      "Train Epoch: 16\tBatch: [300/600]\tLoss: 1.3926\tAcc_both: 68.30\tAcc_base: 57.46\tAcc_novel: 91.18 % (90.00 %)\n"
     ]
    },
    {
     "name": "stderr",
     "output_type": "stream",
     "text": [
      " 67%|██████▋   | 400/600 [01:47<00:54,  3.70it/s]"
     ]
    },
    {
     "name": "stdout",
     "output_type": "stream",
     "text": [
      "Train Epoch: 16\tBatch: [400/600]\tLoss: 1.2682\tAcc_both: 68.25\tAcc_base: 57.34\tAcc_novel: 91.10 % (90.83 %)\n"
     ]
    },
    {
     "name": "stderr",
     "output_type": "stream",
     "text": [
      " 83%|████████▎ | 500/600 [02:14<00:26,  3.76it/s]"
     ]
    },
    {
     "name": "stdout",
     "output_type": "stream",
     "text": [
      "Train Epoch: 16\tBatch: [500/600]\tLoss: 1.3982\tAcc_both: 68.25\tAcc_base: 57.39\tAcc_novel: 91.09 % (91.67 %)\n"
     ]
    },
    {
     "name": "stderr",
     "output_type": "stream",
     "text": [
      "100%|██████████| 600/600 [02:40<00:00,  3.73it/s]\n"
     ]
    },
    {
     "name": "stdout",
     "output_type": "stream",
     "text": [
      "Train Epoch: 16\tBatch: [600/600]\tLoss: 1.3452\tAcc_both: 68.23\tAcc_base: 57.38\tAcc_novel: 91.10 % (91.67 %)\n"
     ]
    },
    {
     "name": "stderr",
     "output_type": "stream",
     "text": [
      "100%|██████████| 1000/1000 [01:10<00:00, 14.28it/s]\n"
     ]
    },
    {
     "name": "stdout",
     "output_type": "stream",
     "text": [
      "Validation Epoch: 16\t\t\tLoss: 0.4806\tAccuracy: 81.72 ± 0.53 %\n",
      "Elapsed Time: 1.0h/1.3h\n",
      "\n",
      "Train Epoch: 17\tLearning Rate: 0.0500\n"
     ]
    },
    {
     "name": "stderr",
     "output_type": "stream",
     "text": [
      " 17%|█▋        | 100/600 [00:27<02:14,  3.72it/s]"
     ]
    },
    {
     "name": "stdout",
     "output_type": "stream",
     "text": [
      "Train Epoch: 17\tBatch: [100/600]\tLoss: 1.2952\tAcc_both: 68.43\tAcc_base: 57.97\tAcc_novel: 90.81 % (91.67 %)\n"
     ]
    },
    {
     "name": "stderr",
     "output_type": "stream",
     "text": [
      " 33%|███▎      | 200/600 [00:54<01:45,  3.78it/s]"
     ]
    },
    {
     "name": "stdout",
     "output_type": "stream",
     "text": [
      "Train Epoch: 17\tBatch: [200/600]\tLoss: 1.4354\tAcc_both: 68.29\tAcc_base: 57.72\tAcc_novel: 90.96 % (87.50 %)\n"
     ]
    },
    {
     "name": "stderr",
     "output_type": "stream",
     "text": [
      " 50%|█████     | 300/600 [01:20<01:19,  3.78it/s]"
     ]
    },
    {
     "name": "stdout",
     "output_type": "stream",
     "text": [
      "Train Epoch: 17\tBatch: [300/600]\tLoss: 1.3124\tAcc_both: 68.22\tAcc_base: 57.60\tAcc_novel: 90.90 % (88.75 %)\n"
     ]
    },
    {
     "name": "stderr",
     "output_type": "stream",
     "text": [
      " 67%|██████▋   | 400/600 [01:47<00:52,  3.79it/s]"
     ]
    },
    {
     "name": "stdout",
     "output_type": "stream",
     "text": [
      "Train Epoch: 17\tBatch: [400/600]\tLoss: 1.3924\tAcc_both: 68.20\tAcc_base: 57.56\tAcc_novel: 90.87 % (91.67 %)\n"
     ]
    },
    {
     "name": "stderr",
     "output_type": "stream",
     "text": [
      " 83%|████████▎ | 500/600 [02:14<00:27,  3.68it/s]"
     ]
    },
    {
     "name": "stdout",
     "output_type": "stream",
     "text": [
      "Train Epoch: 17\tBatch: [500/600]\tLoss: 1.2899\tAcc_both: 68.30\tAcc_base: 57.61\tAcc_novel: 90.93 % (92.08 %)\n"
     ]
    },
    {
     "name": "stderr",
     "output_type": "stream",
     "text": [
      "100%|██████████| 600/600 [02:40<00:00,  3.74it/s]\n"
     ]
    },
    {
     "name": "stdout",
     "output_type": "stream",
     "text": [
      "Train Epoch: 17\tBatch: [600/600]\tLoss: 1.3469\tAcc_both: 68.25\tAcc_base: 57.57\tAcc_novel: 90.92 % (94.17 %)\n"
     ]
    },
    {
     "name": "stderr",
     "output_type": "stream",
     "text": [
      "100%|██████████| 1000/1000 [01:09<00:00, 14.38it/s]\n"
     ]
    },
    {
     "name": "stdout",
     "output_type": "stream",
     "text": [
      "Validation Epoch: 17\t\t\tLoss: 0.4786\tAccuracy: 81.85 ± 0.49 %\n",
      "Elapsed Time: 1.1h/1.3h\n",
      "\n",
      "Train Epoch: 18\tLearning Rate: 0.0500\n"
     ]
    },
    {
     "name": "stderr",
     "output_type": "stream",
     "text": [
      " 17%|█▋        | 100/600 [00:27<02:09,  3.85it/s]"
     ]
    },
    {
     "name": "stdout",
     "output_type": "stream",
     "text": [
      "Train Epoch: 18\tBatch: [100/600]\tLoss: 1.5290\tAcc_both: 68.08\tAcc_base: 56.98\tAcc_novel: 91.11 % (88.33 %)\n"
     ]
    },
    {
     "name": "stderr",
     "output_type": "stream",
     "text": [
      " 33%|███▎      | 200/600 [00:54<01:45,  3.80it/s]"
     ]
    },
    {
     "name": "stdout",
     "output_type": "stream",
     "text": [
      "Train Epoch: 18\tBatch: [200/600]\tLoss: 1.3669\tAcc_both: 68.01\tAcc_base: 56.83\tAcc_novel: 91.25 % (92.50 %)\n"
     ]
    },
    {
     "name": "stderr",
     "output_type": "stream",
     "text": [
      " 50%|█████     | 300/600 [01:20<01:20,  3.74it/s]"
     ]
    },
    {
     "name": "stdout",
     "output_type": "stream",
     "text": [
      "Train Epoch: 18\tBatch: [300/600]\tLoss: 1.2951\tAcc_both: 68.15\tAcc_base: 57.22\tAcc_novel: 91.22 % (90.83 %)\n"
     ]
    },
    {
     "name": "stderr",
     "output_type": "stream",
     "text": [
      " 67%|██████▋   | 400/600 [01:47<00:52,  3.82it/s]"
     ]
    },
    {
     "name": "stdout",
     "output_type": "stream",
     "text": [
      "Train Epoch: 18\tBatch: [400/600]\tLoss: 1.3422\tAcc_both: 68.13\tAcc_base: 57.34\tAcc_novel: 91.06 % (92.92 %)\n"
     ]
    },
    {
     "name": "stderr",
     "output_type": "stream",
     "text": [
      " 83%|████████▎ | 500/600 [02:13<00:26,  3.73it/s]"
     ]
    },
    {
     "name": "stdout",
     "output_type": "stream",
     "text": [
      "Train Epoch: 18\tBatch: [500/600]\tLoss: 1.2053\tAcc_both: 68.23\tAcc_base: 57.45\tAcc_novel: 91.12 % (91.67 %)\n"
     ]
    },
    {
     "name": "stderr",
     "output_type": "stream",
     "text": [
      "100%|██████████| 600/600 [02:40<00:00,  3.74it/s]\n"
     ]
    },
    {
     "name": "stdout",
     "output_type": "stream",
     "text": [
      "Train Epoch: 18\tBatch: [600/600]\tLoss: 1.2359\tAcc_both: 68.23\tAcc_base: 57.43\tAcc_novel: 91.13 % (90.42 %)\n"
     ]
    },
    {
     "name": "stderr",
     "output_type": "stream",
     "text": [
      "100%|██████████| 1000/1000 [01:09<00:00, 14.32it/s]\n"
     ]
    },
    {
     "name": "stdout",
     "output_type": "stream",
     "text": [
      "Validation Epoch: 18\t\t\tLoss: 0.4877\tAccuracy: 81.41 ± 0.51 %\n",
      "Elapsed Time: 1.1h/1.3h\n",
      "\n",
      "Train Epoch: 19\tLearning Rate: 0.0500\n"
     ]
    },
    {
     "name": "stderr",
     "output_type": "stream",
     "text": [
      " 17%|█▋        | 100/600 [00:27<02:12,  3.76it/s]"
     ]
    },
    {
     "name": "stdout",
     "output_type": "stream",
     "text": [
      "Train Epoch: 19\tBatch: [100/600]\tLoss: 1.2466\tAcc_both: 68.27\tAcc_base: 57.19\tAcc_novel: 91.05 % (90.00 %)\n"
     ]
    },
    {
     "name": "stderr",
     "output_type": "stream",
     "text": [
      " 33%|███▎      | 200/600 [00:54<01:48,  3.70it/s]"
     ]
    },
    {
     "name": "stdout",
     "output_type": "stream",
     "text": [
      "Train Epoch: 19\tBatch: [200/600]\tLoss: 1.3280\tAcc_both: 68.14\tAcc_base: 56.89\tAcc_novel: 91.13 % (88.33 %)\n"
     ]
    },
    {
     "name": "stderr",
     "output_type": "stream",
     "text": [
      " 50%|█████     | 300/600 [01:21<01:19,  3.76it/s]"
     ]
    },
    {
     "name": "stdout",
     "output_type": "stream",
     "text": [
      "Train Epoch: 19\tBatch: [300/600]\tLoss: 1.3810\tAcc_both: 68.10\tAcc_base: 56.99\tAcc_novel: 91.10 % (87.08 %)\n"
     ]
    },
    {
     "name": "stderr",
     "output_type": "stream",
     "text": [
      " 67%|██████▋   | 400/600 [01:47<00:52,  3.84it/s]"
     ]
    },
    {
     "name": "stdout",
     "output_type": "stream",
     "text": [
      "Train Epoch: 19\tBatch: [400/600]\tLoss: 1.2840\tAcc_both: 68.00\tAcc_base: 56.91\tAcc_novel: 90.98 % (91.25 %)\n"
     ]
    },
    {
     "name": "stderr",
     "output_type": "stream",
     "text": [
      " 83%|████████▎ | 500/600 [02:14<00:25,  3.86it/s]"
     ]
    },
    {
     "name": "stdout",
     "output_type": "stream",
     "text": [
      "Train Epoch: 19\tBatch: [500/600]\tLoss: 1.3244\tAcc_both: 68.02\tAcc_base: 57.03\tAcc_novel: 90.93 % (95.00 %)\n"
     ]
    },
    {
     "name": "stderr",
     "output_type": "stream",
     "text": [
      "100%|██████████| 600/600 [02:40<00:00,  3.73it/s]\n"
     ]
    },
    {
     "name": "stdout",
     "output_type": "stream",
     "text": [
      "Train Epoch: 19\tBatch: [600/600]\tLoss: 1.2773\tAcc_both: 68.04\tAcc_base: 57.06\tAcc_novel: 90.98 % (92.50 %)\n"
     ]
    },
    {
     "name": "stderr",
     "output_type": "stream",
     "text": [
      "100%|██████████| 1000/1000 [01:09<00:00, 14.32it/s]\n"
     ]
    },
    {
     "name": "stdout",
     "output_type": "stream",
     "text": [
      "Validation Epoch: 19\t\t\tLoss: 0.4815\tAccuracy: 81.49 ± 0.52 %\n",
      "Elapsed Time: 1.2h/1.3h\n",
      "\n",
      "Train Epoch: 20\tLearning Rate: 0.0500\n"
     ]
    },
    {
     "name": "stderr",
     "output_type": "stream",
     "text": [
      " 17%|█▋        | 100/600 [00:28<02:12,  3.76it/s]"
     ]
    },
    {
     "name": "stdout",
     "output_type": "stream",
     "text": [
      "Train Epoch: 20\tBatch: [100/600]\tLoss: 1.3232\tAcc_both: 68.09\tAcc_base: 56.92\tAcc_novel: 90.97 % (92.08 %)\n"
     ]
    },
    {
     "name": "stderr",
     "output_type": "stream",
     "text": [
      " 33%|███▎      | 200/600 [00:54<01:46,  3.74it/s]"
     ]
    },
    {
     "name": "stdout",
     "output_type": "stream",
     "text": [
      "Train Epoch: 20\tBatch: [200/600]\tLoss: 1.3919\tAcc_both: 68.02\tAcc_base: 56.90\tAcc_novel: 90.96 % (88.33 %)\n"
     ]
    },
    {
     "name": "stderr",
     "output_type": "stream",
     "text": [
      " 50%|█████     | 300/600 [01:21<01:19,  3.75it/s]"
     ]
    },
    {
     "name": "stdout",
     "output_type": "stream",
     "text": [
      "Train Epoch: 20\tBatch: [300/600]\tLoss: 1.3850\tAcc_both: 68.01\tAcc_base: 56.94\tAcc_novel: 90.96 % (92.08 %)\n"
     ]
    },
    {
     "name": "stderr",
     "output_type": "stream",
     "text": [
      " 67%|██████▋   | 400/600 [01:47<00:52,  3.77it/s]"
     ]
    },
    {
     "name": "stdout",
     "output_type": "stream",
     "text": [
      "Train Epoch: 20\tBatch: [400/600]\tLoss: 1.3508\tAcc_both: 68.10\tAcc_base: 57.12\tAcc_novel: 90.99 % (90.83 %)\n"
     ]
    },
    {
     "name": "stderr",
     "output_type": "stream",
     "text": [
      " 83%|████████▎ | 500/600 [02:13<00:26,  3.75it/s]"
     ]
    },
    {
     "name": "stdout",
     "output_type": "stream",
     "text": [
      "Train Epoch: 20\tBatch: [500/600]\tLoss: 1.3345\tAcc_both: 68.13\tAcc_base: 57.14\tAcc_novel: 91.07 % (92.50 %)\n"
     ]
    },
    {
     "name": "stderr",
     "output_type": "stream",
     "text": [
      "100%|██████████| 600/600 [02:40<00:00,  3.74it/s]\n"
     ]
    },
    {
     "name": "stdout",
     "output_type": "stream",
     "text": [
      "Train Epoch: 20\tBatch: [600/600]\tLoss: 1.3011\tAcc_both: 68.06\tAcc_base: 57.10\tAcc_novel: 90.99 % (85.42 %)\n"
     ]
    },
    {
     "name": "stderr",
     "output_type": "stream",
     "text": [
      "100%|██████████| 1000/1000 [01:09<00:00, 14.34it/s]\n"
     ]
    },
    {
     "name": "stdout",
     "output_type": "stream",
     "text": [
      "Validation Epoch: 20\t\t\tLoss: 0.4824\tAccuracy: 81.59 ± 0.51 %\n",
      "Elapsed Time: 1.3h/1.3h\n",
      "\n"
     ]
    }
   ],
   "source": [
    "opt = argparse_config_train() # refer to args_config_train.py for details of auguments\n",
    "opt.save_path = './experiments/tieredimagenet_stage2_5W5S_transfer_base_weight'\n",
    "opt.embnet_pretrainedandfix = True\n",
    "opt.pretrian_embnet_path = './experiments/tieredimagenet_stage1/best_model.pth'\n",
    "opt.gpu = '0'\n",
    "opt.network = 'ResNet12'\n",
    "opt.head = 'SEGA'\n",
    "opt.weight_generator_type = 'transfer_base_weight'\n",
    "# opt.semantic_path = '/data/FSLDatasets/tieredImageNet/label2vec_glove_tieredimagenet.npy'\n",
    "opt.nKall = 351\n",
    "opt.nKbase = 351\n",
    "opt.train_query = 6\n",
    "opt.nTestBase = 5*opt.train_query\n",
    "opt.epoch_size = 600\n",
    "opt.dataset = 'tieredImageNet'\n",
    "opt.avg_pool = True\n",
    "opt.nfeat = 640\n",
    "opt.val_episode = 1000\n",
    "opt.num_epoch = 20\n",
    "opt.episodes_per_batch = 8\n",
    "opt.milestones = [5,10,15,20]\n",
    "opt.lambdalr = [1.0,0.5,0.1,0.05]\n",
    "opt.train_way, opt.train_shot = opt.test_way, opt.val_shot = [5,5]\n",
    "train_stage2(opt)\n",
    "torch.cuda.empty_cache()"
   ]
  },
  {
   "cell_type": "code",
   "execution_count": 5,
   "id": "2bba2a20-48d7-44c2-b5eb-5698e0cc4ce1",
   "metadata": {
    "tags": []
   },
   "outputs": [
    {
     "name": "stdout",
     "output_type": "stream",
     "text": [
      "Loading tiered ImageNet dataset - phase test\n",
      "set()\n",
      "using gpu: 0\n",
      "{'gpu': '0', 'load': './experiments/tieredimagenet_stage2_5W5S_transfer_base_weight/best_model.pth', 'episode': 5000, 'way': 5, 'shot': 5, 'query': 50, 'nfeat': 640, 'nKall': 351, 'nKbase': 0, 'nTestBase': 0, 'epoch_size': 1000, 'avg_pool': True, 'network': 'ResNet12', 'head': 'SEGA', 'weight_generator_type': 'transfer_base_weight', 'dataset': 'tieredImageNet', 'semantic_path': 'No semantic to be used'}\n",
      "$$$$$$$$$$$$SEGAhead$$$$$$$$$$$$\n",
      "semantic_path: No semantic to be used\n",
      "weight_generator_type: transfer_base_weight\n"
     ]
    },
    {
     "name": "stderr",
     "output_type": "stream",
     "text": [
      "  1%|          | 51/5000 [00:09<15:08,  5.45it/s]"
     ]
    },
    {
     "name": "stdout",
     "output_type": "stream",
     "text": [
      "Episode [50/5000]:\t\t\tAccuracy: 83.86 ± 1.93 % (91.60 %)\n"
     ]
    },
    {
     "name": "stderr",
     "output_type": "stream",
     "text": [
      "  2%|▏         | 101/5000 [00:18<14:59,  5.44it/s]"
     ]
    },
    {
     "name": "stdout",
     "output_type": "stream",
     "text": [
      "Episode [100/5000]:\t\t\tAccuracy: 83.96 ± 1.49 % (76.00 %)\n"
     ]
    },
    {
     "name": "stderr",
     "output_type": "stream",
     "text": [
      "  3%|▎         | 151/5000 [00:27<14:54,  5.42it/s]"
     ]
    },
    {
     "name": "stdout",
     "output_type": "stream",
     "text": [
      "Episode [150/5000]:\t\t\tAccuracy: 83.85 ± 1.17 % (89.60 %)\n"
     ]
    },
    {
     "name": "stderr",
     "output_type": "stream",
     "text": [
      "  4%|▍         | 201/5000 [00:37<14:40,  5.45it/s]"
     ]
    },
    {
     "name": "stdout",
     "output_type": "stream",
     "text": [
      "Episode [200/5000]:\t\t\tAccuracy: 83.95 ± 1.05 % (82.40 %)\n"
     ]
    },
    {
     "name": "stderr",
     "output_type": "stream",
     "text": [
      "  5%|▌         | 251/5000 [00:46<14:59,  5.28it/s]"
     ]
    },
    {
     "name": "stdout",
     "output_type": "stream",
     "text": [
      "Episode [250/5000]:\t\t\tAccuracy: 83.45 ± 0.96 % (76.00 %)\n"
     ]
    },
    {
     "name": "stderr",
     "output_type": "stream",
     "text": [
      "  6%|▌         | 301/5000 [00:55<15:19,  5.11it/s]"
     ]
    },
    {
     "name": "stdout",
     "output_type": "stream",
     "text": [
      "Episode [300/5000]:\t\t\tAccuracy: 83.52 ± 0.89 % (74.00 %)\n"
     ]
    },
    {
     "name": "stderr",
     "output_type": "stream",
     "text": [
      "  7%|▋         | 351/5000 [01:05<14:28,  5.35it/s]"
     ]
    },
    {
     "name": "stdout",
     "output_type": "stream",
     "text": [
      "Episode [350/5000]:\t\t\tAccuracy: 83.42 ± 0.83 % (74.00 %)\n"
     ]
    },
    {
     "name": "stderr",
     "output_type": "stream",
     "text": [
      "  8%|▊         | 401/5000 [01:14<14:02,  5.46it/s]"
     ]
    },
    {
     "name": "stdout",
     "output_type": "stream",
     "text": [
      "Episode [400/5000]:\t\t\tAccuracy: 83.52 ± 0.77 % (88.00 %)\n"
     ]
    },
    {
     "name": "stderr",
     "output_type": "stream",
     "text": [
      "  9%|▉         | 451/5000 [01:23<13:51,  5.47it/s]"
     ]
    },
    {
     "name": "stdout",
     "output_type": "stream",
     "text": [
      "Episode [450/5000]:\t\t\tAccuracy: 83.53 ± 0.73 % (72.80 %)\n"
     ]
    },
    {
     "name": "stderr",
     "output_type": "stream",
     "text": [
      " 10%|█         | 501/5000 [01:33<13:43,  5.47it/s]"
     ]
    },
    {
     "name": "stdout",
     "output_type": "stream",
     "text": [
      "Episode [500/5000]:\t\t\tAccuracy: 83.43 ± 0.69 % (94.80 %)\n"
     ]
    },
    {
     "name": "stderr",
     "output_type": "stream",
     "text": [
      " 11%|█         | 551/5000 [01:42<13:40,  5.42it/s]"
     ]
    },
    {
     "name": "stdout",
     "output_type": "stream",
     "text": [
      "Episode [550/5000]:\t\t\tAccuracy: 83.66 ± 0.65 % (87.20 %)\n"
     ]
    },
    {
     "name": "stderr",
     "output_type": "stream",
     "text": [
      " 12%|█▏        | 601/5000 [01:51<13:28,  5.44it/s]"
     ]
    },
    {
     "name": "stdout",
     "output_type": "stream",
     "text": [
      "Episode [600/5000]:\t\t\tAccuracy: 83.65 ± 0.62 % (80.00 %)\n"
     ]
    },
    {
     "name": "stderr",
     "output_type": "stream",
     "text": [
      " 13%|█▎        | 651/5000 [02:00<13:24,  5.40it/s]"
     ]
    },
    {
     "name": "stdout",
     "output_type": "stream",
     "text": [
      "Episode [650/5000]:\t\t\tAccuracy: 83.68 ± 0.60 % (89.60 %)\n"
     ]
    },
    {
     "name": "stderr",
     "output_type": "stream",
     "text": [
      " 14%|█▍        | 701/5000 [02:10<13:13,  5.42it/s]"
     ]
    },
    {
     "name": "stdout",
     "output_type": "stream",
     "text": [
      "Episode [700/5000]:\t\t\tAccuracy: 83.66 ± 0.58 % (70.40 %)\n"
     ]
    },
    {
     "name": "stderr",
     "output_type": "stream",
     "text": [
      " 15%|█▌        | 751/5000 [02:19<13:03,  5.43it/s]"
     ]
    },
    {
     "name": "stdout",
     "output_type": "stream",
     "text": [
      "Episode [750/5000]:\t\t\tAccuracy: 83.51 ± 0.56 % (92.00 %)\n"
     ]
    },
    {
     "name": "stderr",
     "output_type": "stream",
     "text": [
      " 16%|█▌        | 801/5000 [02:28<12:48,  5.46it/s]"
     ]
    },
    {
     "name": "stdout",
     "output_type": "stream",
     "text": [
      "Episode [800/5000]:\t\t\tAccuracy: 83.57 ± 0.54 % (76.80 %)\n"
     ]
    },
    {
     "name": "stderr",
     "output_type": "stream",
     "text": [
      " 17%|█▋        | 851/5000 [02:37<12:40,  5.46it/s]"
     ]
    },
    {
     "name": "stdout",
     "output_type": "stream",
     "text": [
      "Episode [850/5000]:\t\t\tAccuracy: 83.73 ± 0.52 % (86.00 %)\n"
     ]
    },
    {
     "name": "stderr",
     "output_type": "stream",
     "text": [
      " 18%|█▊        | 901/5000 [02:46<12:32,  5.44it/s]"
     ]
    },
    {
     "name": "stdout",
     "output_type": "stream",
     "text": [
      "Episode [900/5000]:\t\t\tAccuracy: 83.74 ± 0.50 % (84.80 %)\n"
     ]
    },
    {
     "name": "stderr",
     "output_type": "stream",
     "text": [
      " 19%|█▉        | 951/5000 [02:55<12:22,  5.45it/s]"
     ]
    },
    {
     "name": "stdout",
     "output_type": "stream",
     "text": [
      "Episode [950/5000]:\t\t\tAccuracy: 83.84 ± 0.48 % (81.60 %)\n"
     ]
    },
    {
     "name": "stderr",
     "output_type": "stream",
     "text": [
      " 20%|██        | 1001/5000 [03:05<12:13,  5.45it/s]"
     ]
    },
    {
     "name": "stdout",
     "output_type": "stream",
     "text": [
      "Episode [1000/5000]:\t\t\tAccuracy: 83.67 ± 0.48 % (68.80 %)\n"
     ]
    },
    {
     "name": "stderr",
     "output_type": "stream",
     "text": [
      " 21%|██        | 1051/5000 [03:14<12:03,  5.45it/s]"
     ]
    },
    {
     "name": "stdout",
     "output_type": "stream",
     "text": [
      "Episode [1050/5000]:\t\t\tAccuracy: 83.67 ± 0.47 % (68.40 %)\n"
     ]
    },
    {
     "name": "stderr",
     "output_type": "stream",
     "text": [
      " 22%|██▏       | 1101/5000 [03:23<12:00,  5.41it/s]"
     ]
    },
    {
     "name": "stdout",
     "output_type": "stream",
     "text": [
      "Episode [1100/5000]:\t\t\tAccuracy: 83.71 ± 0.46 % (89.60 %)\n"
     ]
    },
    {
     "name": "stderr",
     "output_type": "stream",
     "text": [
      " 23%|██▎       | 1151/5000 [03:32<11:44,  5.47it/s]"
     ]
    },
    {
     "name": "stdout",
     "output_type": "stream",
     "text": [
      "Episode [1150/5000]:\t\t\tAccuracy: 83.72 ± 0.45 % (89.20 %)\n"
     ]
    },
    {
     "name": "stderr",
     "output_type": "stream",
     "text": [
      " 24%|██▍       | 1201/5000 [03:41<11:45,  5.38it/s]"
     ]
    },
    {
     "name": "stdout",
     "output_type": "stream",
     "text": [
      "Episode [1200/5000]:\t\t\tAccuracy: 83.68 ± 0.44 % (92.80 %)\n"
     ]
    },
    {
     "name": "stderr",
     "output_type": "stream",
     "text": [
      " 25%|██▌       | 1251/5000 [03:51<11:30,  5.43it/s]"
     ]
    },
    {
     "name": "stdout",
     "output_type": "stream",
     "text": [
      "Episode [1250/5000]:\t\t\tAccuracy: 83.68 ± 0.43 % (76.00 %)\n"
     ]
    },
    {
     "name": "stderr",
     "output_type": "stream",
     "text": [
      " 26%|██▌       | 1301/5000 [04:00<11:21,  5.42it/s]"
     ]
    },
    {
     "name": "stdout",
     "output_type": "stream",
     "text": [
      "Episode [1300/5000]:\t\t\tAccuracy: 83.63 ± 0.42 % (80.40 %)\n"
     ]
    },
    {
     "name": "stderr",
     "output_type": "stream",
     "text": [
      " 27%|██▋       | 1350/5000 [04:09<11:07,  5.47it/s]"
     ]
    },
    {
     "name": "stdout",
     "output_type": "stream",
     "text": [
      "Episode [1350/5000]:\t\t\tAccuracy: 83.67 ± 0.41 % (93.60 %)\n"
     ]
    },
    {
     "name": "stderr",
     "output_type": "stream",
     "text": [
      " 28%|██▊       | 1401/5000 [04:18<10:59,  5.45it/s]"
     ]
    },
    {
     "name": "stdout",
     "output_type": "stream",
     "text": [
      "Episode [1400/5000]:\t\t\tAccuracy: 83.67 ± 0.40 % (92.40 %)\n"
     ]
    },
    {
     "name": "stderr",
     "output_type": "stream",
     "text": [
      " 29%|██▉       | 1451/5000 [04:27<10:50,  5.45it/s]"
     ]
    },
    {
     "name": "stdout",
     "output_type": "stream",
     "text": [
      "Episode [1450/5000]:\t\t\tAccuracy: 83.67 ± 0.40 % (72.40 %)\n"
     ]
    },
    {
     "name": "stderr",
     "output_type": "stream",
     "text": [
      " 30%|███       | 1501/5000 [04:37<10:41,  5.45it/s]"
     ]
    },
    {
     "name": "stdout",
     "output_type": "stream",
     "text": [
      "Episode [1500/5000]:\t\t\tAccuracy: 83.64 ± 0.39 % (84.80 %)\n"
     ]
    },
    {
     "name": "stderr",
     "output_type": "stream",
     "text": [
      " 31%|███       | 1551/5000 [04:46<10:33,  5.44it/s]"
     ]
    },
    {
     "name": "stdout",
     "output_type": "stream",
     "text": [
      "Episode [1550/5000]:\t\t\tAccuracy: 83.60 ± 0.39 % (64.00 %)\n"
     ]
    },
    {
     "name": "stderr",
     "output_type": "stream",
     "text": [
      " 32%|███▏      | 1601/5000 [04:55<10:22,  5.46it/s]"
     ]
    },
    {
     "name": "stdout",
     "output_type": "stream",
     "text": [
      "Episode [1600/5000]:\t\t\tAccuracy: 83.60 ± 0.38 % (89.60 %)\n"
     ]
    },
    {
     "name": "stderr",
     "output_type": "stream",
     "text": [
      " 33%|███▎      | 1651/5000 [05:04<10:13,  5.46it/s]"
     ]
    },
    {
     "name": "stdout",
     "output_type": "stream",
     "text": [
      "Episode [1650/5000]:\t\t\tAccuracy: 83.51 ± 0.37 % (92.00 %)\n"
     ]
    },
    {
     "name": "stderr",
     "output_type": "stream",
     "text": [
      " 34%|███▍      | 1701/5000 [05:13<10:04,  5.46it/s]"
     ]
    },
    {
     "name": "stdout",
     "output_type": "stream",
     "text": [
      "Episode [1700/5000]:\t\t\tAccuracy: 83.53 ± 0.37 % (84.80 %)\n"
     ]
    },
    {
     "name": "stderr",
     "output_type": "stream",
     "text": [
      " 35%|███▌      | 1751/5000 [05:23<09:56,  5.45it/s]"
     ]
    },
    {
     "name": "stdout",
     "output_type": "stream",
     "text": [
      "Episode [1750/5000]:\t\t\tAccuracy: 83.49 ± 0.36 % (88.40 %)\n"
     ]
    },
    {
     "name": "stderr",
     "output_type": "stream",
     "text": [
      " 36%|███▌      | 1801/5000 [05:32<09:47,  5.44it/s]"
     ]
    },
    {
     "name": "stdout",
     "output_type": "stream",
     "text": [
      "Episode [1800/5000]:\t\t\tAccuracy: 83.52 ± 0.36 % (83.20 %)\n"
     ]
    },
    {
     "name": "stderr",
     "output_type": "stream",
     "text": [
      " 37%|███▋      | 1851/5000 [05:41<09:44,  5.39it/s]"
     ]
    },
    {
     "name": "stdout",
     "output_type": "stream",
     "text": [
      "Episode [1850/5000]:\t\t\tAccuracy: 83.52 ± 0.35 % (82.40 %)\n"
     ]
    },
    {
     "name": "stderr",
     "output_type": "stream",
     "text": [
      " 38%|███▊      | 1901/5000 [05:50<09:28,  5.46it/s]"
     ]
    },
    {
     "name": "stdout",
     "output_type": "stream",
     "text": [
      "Episode [1900/5000]:\t\t\tAccuracy: 83.57 ± 0.35 % (91.60 %)\n"
     ]
    },
    {
     "name": "stderr",
     "output_type": "stream",
     "text": [
      " 39%|███▉      | 1951/5000 [05:59<09:19,  5.45it/s]"
     ]
    },
    {
     "name": "stdout",
     "output_type": "stream",
     "text": [
      "Episode [1950/5000]:\t\t\tAccuracy: 83.56 ± 0.34 % (80.40 %)\n"
     ]
    },
    {
     "name": "stderr",
     "output_type": "stream",
     "text": [
      " 40%|████      | 2001/5000 [06:09<09:10,  5.45it/s]"
     ]
    },
    {
     "name": "stdout",
     "output_type": "stream",
     "text": [
      "Episode [2000/5000]:\t\t\tAccuracy: 83.58 ± 0.34 % (81.20 %)\n"
     ]
    },
    {
     "name": "stderr",
     "output_type": "stream",
     "text": [
      " 41%|████      | 2051/5000 [06:18<09:00,  5.45it/s]"
     ]
    },
    {
     "name": "stdout",
     "output_type": "stream",
     "text": [
      "Episode [2050/5000]:\t\t\tAccuracy: 83.62 ± 0.34 % (94.40 %)\n"
     ]
    },
    {
     "name": "stderr",
     "output_type": "stream",
     "text": [
      " 42%|████▏     | 2101/5000 [06:27<08:53,  5.44it/s]"
     ]
    },
    {
     "name": "stdout",
     "output_type": "stream",
     "text": [
      "Episode [2100/5000]:\t\t\tAccuracy: 83.59 ± 0.33 % (68.00 %)\n"
     ]
    },
    {
     "name": "stderr",
     "output_type": "stream",
     "text": [
      " 43%|████▎     | 2151/5000 [06:36<08:42,  5.46it/s]"
     ]
    },
    {
     "name": "stdout",
     "output_type": "stream",
     "text": [
      "Episode [2150/5000]:\t\t\tAccuracy: 83.56 ± 0.33 % (72.40 %)\n"
     ]
    },
    {
     "name": "stderr",
     "output_type": "stream",
     "text": [
      " 44%|████▍     | 2201/5000 [06:45<08:31,  5.47it/s]"
     ]
    },
    {
     "name": "stdout",
     "output_type": "stream",
     "text": [
      "Episode [2200/5000]:\t\t\tAccuracy: 83.54 ± 0.32 % (82.00 %)\n"
     ]
    },
    {
     "name": "stderr",
     "output_type": "stream",
     "text": [
      " 45%|████▌     | 2251/5000 [06:55<08:23,  5.46it/s]"
     ]
    },
    {
     "name": "stdout",
     "output_type": "stream",
     "text": [
      "Episode [2250/5000]:\t\t\tAccuracy: 83.56 ± 0.32 % (86.00 %)\n"
     ]
    },
    {
     "name": "stderr",
     "output_type": "stream",
     "text": [
      " 46%|████▌     | 2301/5000 [07:04<08:16,  5.43it/s]"
     ]
    },
    {
     "name": "stdout",
     "output_type": "stream",
     "text": [
      "Episode [2300/5000]:\t\t\tAccuracy: 83.57 ± 0.32 % (89.20 %)\n"
     ]
    },
    {
     "name": "stderr",
     "output_type": "stream",
     "text": [
      " 47%|████▋     | 2351/5000 [07:13<08:05,  5.46it/s]"
     ]
    },
    {
     "name": "stdout",
     "output_type": "stream",
     "text": [
      "Episode [2350/5000]:\t\t\tAccuracy: 83.62 ± 0.31 % (82.40 %)\n"
     ]
    },
    {
     "name": "stderr",
     "output_type": "stream",
     "text": [
      " 48%|████▊     | 2401/5000 [07:22<07:56,  5.45it/s]"
     ]
    },
    {
     "name": "stdout",
     "output_type": "stream",
     "text": [
      "Episode [2400/5000]:\t\t\tAccuracy: 83.64 ± 0.31 % (92.80 %)\n"
     ]
    },
    {
     "name": "stderr",
     "output_type": "stream",
     "text": [
      " 49%|████▉     | 2451/5000 [07:31<07:48,  5.44it/s]"
     ]
    },
    {
     "name": "stdout",
     "output_type": "stream",
     "text": [
      "Episode [2450/5000]:\t\t\tAccuracy: 83.64 ± 0.31 % (86.40 %)\n"
     ]
    },
    {
     "name": "stderr",
     "output_type": "stream",
     "text": [
      " 50%|█████     | 2500/5000 [07:40<08:30,  4.90it/s]"
     ]
    },
    {
     "name": "stdout",
     "output_type": "stream",
     "text": [
      "Episode [2500/5000]:\t\t\tAccuracy: 83.66 ± 0.30 % (84.00 %)\n"
     ]
    },
    {
     "name": "stderr",
     "output_type": "stream",
     "text": [
      " 51%|█████     | 2551/5000 [07:50<07:33,  5.40it/s]"
     ]
    },
    {
     "name": "stdout",
     "output_type": "stream",
     "text": [
      "Episode [2550/5000]:\t\t\tAccuracy: 83.65 ± 0.30 % (89.20 %)\n"
     ]
    },
    {
     "name": "stderr",
     "output_type": "stream",
     "text": [
      " 52%|█████▏    | 2601/5000 [07:59<07:22,  5.43it/s]"
     ]
    },
    {
     "name": "stdout",
     "output_type": "stream",
     "text": [
      "Episode [2600/5000]:\t\t\tAccuracy: 83.62 ± 0.30 % (88.80 %)\n"
     ]
    },
    {
     "name": "stderr",
     "output_type": "stream",
     "text": [
      " 53%|█████▎    | 2651/5000 [08:08<07:12,  5.43it/s]"
     ]
    },
    {
     "name": "stdout",
     "output_type": "stream",
     "text": [
      "Episode [2650/5000]:\t\t\tAccuracy: 83.63 ± 0.29 % (87.20 %)\n"
     ]
    },
    {
     "name": "stderr",
     "output_type": "stream",
     "text": [
      " 54%|█████▍    | 2701/5000 [08:18<07:04,  5.42it/s]"
     ]
    },
    {
     "name": "stdout",
     "output_type": "stream",
     "text": [
      "Episode [2700/5000]:\t\t\tAccuracy: 83.63 ± 0.29 % (86.00 %)\n"
     ]
    },
    {
     "name": "stderr",
     "output_type": "stream",
     "text": [
      " 55%|█████▌    | 2751/5000 [08:27<06:54,  5.42it/s]"
     ]
    },
    {
     "name": "stdout",
     "output_type": "stream",
     "text": [
      "Episode [2750/5000]:\t\t\tAccuracy: 83.64 ± 0.29 % (90.40 %)\n"
     ]
    },
    {
     "name": "stderr",
     "output_type": "stream",
     "text": [
      " 56%|█████▌    | 2801/5000 [08:36<06:43,  5.44it/s]"
     ]
    },
    {
     "name": "stdout",
     "output_type": "stream",
     "text": [
      "Episode [2800/5000]:\t\t\tAccuracy: 83.65 ± 0.28 % (87.20 %)\n"
     ]
    },
    {
     "name": "stderr",
     "output_type": "stream",
     "text": [
      " 57%|█████▋    | 2851/5000 [08:45<06:35,  5.43it/s]"
     ]
    },
    {
     "name": "stdout",
     "output_type": "stream",
     "text": [
      "Episode [2850/5000]:\t\t\tAccuracy: 83.67 ± 0.28 % (82.00 %)\n"
     ]
    },
    {
     "name": "stderr",
     "output_type": "stream",
     "text": [
      " 58%|█████▊    | 2901/5000 [08:54<06:27,  5.41it/s]"
     ]
    },
    {
     "name": "stdout",
     "output_type": "stream",
     "text": [
      "Episode [2900/5000]:\t\t\tAccuracy: 83.65 ± 0.28 % (66.00 %)\n"
     ]
    },
    {
     "name": "stderr",
     "output_type": "stream",
     "text": [
      " 59%|█████▉    | 2951/5000 [09:04<06:15,  5.45it/s]"
     ]
    },
    {
     "name": "stdout",
     "output_type": "stream",
     "text": [
      "Episode [2950/5000]:\t\t\tAccuracy: 83.61 ± 0.28 % (74.80 %)\n"
     ]
    },
    {
     "name": "stderr",
     "output_type": "stream",
     "text": [
      " 60%|██████    | 3001/5000 [09:13<06:06,  5.45it/s]"
     ]
    },
    {
     "name": "stdout",
     "output_type": "stream",
     "text": [
      "Episode [3000/5000]:\t\t\tAccuracy: 83.61 ± 0.28 % (82.80 %)\n"
     ]
    },
    {
     "name": "stderr",
     "output_type": "stream",
     "text": [
      " 61%|██████    | 3051/5000 [09:22<05:58,  5.44it/s]"
     ]
    },
    {
     "name": "stdout",
     "output_type": "stream",
     "text": [
      "Episode [3050/5000]:\t\t\tAccuracy: 83.58 ± 0.27 % (81.60 %)\n"
     ]
    },
    {
     "name": "stderr",
     "output_type": "stream",
     "text": [
      " 62%|██████▏   | 3101/5000 [09:31<05:49,  5.44it/s]"
     ]
    },
    {
     "name": "stdout",
     "output_type": "stream",
     "text": [
      "Episode [3100/5000]:\t\t\tAccuracy: 83.56 ± 0.27 % (80.80 %)\n"
     ]
    },
    {
     "name": "stderr",
     "output_type": "stream",
     "text": [
      " 63%|██████▎   | 3150/5000 [09:40<05:39,  5.45it/s]"
     ]
    },
    {
     "name": "stdout",
     "output_type": "stream",
     "text": [
      "Episode [3150/5000]:\t\t\tAccuracy: 83.56 ± 0.27 % (76.00 %)\n"
     ]
    },
    {
     "name": "stderr",
     "output_type": "stream",
     "text": [
      " 64%|██████▍   | 3201/5000 [09:50<05:34,  5.38it/s]"
     ]
    },
    {
     "name": "stdout",
     "output_type": "stream",
     "text": [
      "Episode [3200/5000]:\t\t\tAccuracy: 83.56 ± 0.27 % (92.80 %)\n"
     ]
    },
    {
     "name": "stderr",
     "output_type": "stream",
     "text": [
      " 65%|██████▌   | 3251/5000 [09:59<05:23,  5.40it/s]"
     ]
    },
    {
     "name": "stdout",
     "output_type": "stream",
     "text": [
      "Episode [3250/5000]:\t\t\tAccuracy: 83.58 ± 0.27 % (84.00 %)\n"
     ]
    },
    {
     "name": "stderr",
     "output_type": "stream",
     "text": [
      " 66%|██████▌   | 3301/5000 [10:08<05:12,  5.43it/s]"
     ]
    },
    {
     "name": "stdout",
     "output_type": "stream",
     "text": [
      "Episode [3300/5000]:\t\t\tAccuracy: 83.59 ± 0.26 % (72.80 %)\n"
     ]
    },
    {
     "name": "stderr",
     "output_type": "stream",
     "text": [
      " 67%|██████▋   | 3351/5000 [10:17<05:03,  5.44it/s]"
     ]
    },
    {
     "name": "stdout",
     "output_type": "stream",
     "text": [
      "Episode [3350/5000]:\t\t\tAccuracy: 83.60 ± 0.26 % (73.60 %)\n"
     ]
    },
    {
     "name": "stderr",
     "output_type": "stream",
     "text": [
      " 68%|██████▊   | 3401/5000 [10:27<04:56,  5.39it/s]"
     ]
    },
    {
     "name": "stdout",
     "output_type": "stream",
     "text": [
      "Episode [3400/5000]:\t\t\tAccuracy: 83.60 ± 0.26 % (82.00 %)\n"
     ]
    },
    {
     "name": "stderr",
     "output_type": "stream",
     "text": [
      " 69%|██████▉   | 3450/5000 [10:36<04:44,  5.44it/s]"
     ]
    },
    {
     "name": "stdout",
     "output_type": "stream",
     "text": [
      "Episode [3450/5000]:\t\t\tAccuracy: 83.57 ± 0.26 % (84.40 %)\n"
     ]
    },
    {
     "name": "stderr",
     "output_type": "stream",
     "text": [
      " 70%|███████   | 3501/5000 [10:45<04:37,  5.40it/s]"
     ]
    },
    {
     "name": "stdout",
     "output_type": "stream",
     "text": [
      "Episode [3500/5000]:\t\t\tAccuracy: 83.55 ± 0.26 % (80.40 %)\n"
     ]
    },
    {
     "name": "stderr",
     "output_type": "stream",
     "text": [
      " 71%|███████   | 3551/5000 [10:54<04:26,  5.45it/s]"
     ]
    },
    {
     "name": "stdout",
     "output_type": "stream",
     "text": [
      "Episode [3550/5000]:\t\t\tAccuracy: 83.55 ± 0.25 % (77.20 %)\n"
     ]
    },
    {
     "name": "stderr",
     "output_type": "stream",
     "text": [
      " 72%|███████▏  | 3601/5000 [11:04<04:17,  5.44it/s]"
     ]
    },
    {
     "name": "stdout",
     "output_type": "stream",
     "text": [
      "Episode [3600/5000]:\t\t\tAccuracy: 83.56 ± 0.25 % (71.20 %)\n"
     ]
    },
    {
     "name": "stderr",
     "output_type": "stream",
     "text": [
      " 73%|███████▎  | 3651/5000 [11:13<04:07,  5.45it/s]"
     ]
    },
    {
     "name": "stdout",
     "output_type": "stream",
     "text": [
      "Episode [3650/5000]:\t\t\tAccuracy: 83.58 ± 0.25 % (93.20 %)\n"
     ]
    },
    {
     "name": "stderr",
     "output_type": "stream",
     "text": [
      " 74%|███████▍  | 3701/5000 [11:22<03:58,  5.44it/s]"
     ]
    },
    {
     "name": "stdout",
     "output_type": "stream",
     "text": [
      "Episode [3700/5000]:\t\t\tAccuracy: 83.58 ± 0.25 % (95.60 %)\n"
     ]
    },
    {
     "name": "stderr",
     "output_type": "stream",
     "text": [
      " 75%|███████▌  | 3751/5000 [11:31<03:50,  5.41it/s]"
     ]
    },
    {
     "name": "stdout",
     "output_type": "stream",
     "text": [
      "Episode [3750/5000]:\t\t\tAccuracy: 83.57 ± 0.25 % (80.00 %)\n"
     ]
    },
    {
     "name": "stderr",
     "output_type": "stream",
     "text": [
      " 76%|███████▌  | 3801/5000 [11:40<03:40,  5.45it/s]"
     ]
    },
    {
     "name": "stdout",
     "output_type": "stream",
     "text": [
      "Episode [3800/5000]:\t\t\tAccuracy: 83.57 ± 0.25 % (92.40 %)\n"
     ]
    },
    {
     "name": "stderr",
     "output_type": "stream",
     "text": [
      " 77%|███████▋  | 3851/5000 [11:49<03:30,  5.46it/s]"
     ]
    },
    {
     "name": "stdout",
     "output_type": "stream",
     "text": [
      "Episode [3850/5000]:\t\t\tAccuracy: 83.57 ± 0.24 % (74.80 %)\n"
     ]
    },
    {
     "name": "stderr",
     "output_type": "stream",
     "text": [
      " 78%|███████▊  | 3901/5000 [11:59<03:23,  5.41it/s]"
     ]
    },
    {
     "name": "stdout",
     "output_type": "stream",
     "text": [
      "Episode [3900/5000]:\t\t\tAccuracy: 83.59 ± 0.24 % (78.80 %)\n"
     ]
    },
    {
     "name": "stderr",
     "output_type": "stream",
     "text": [
      " 79%|███████▉  | 3951/5000 [12:08<03:12,  5.45it/s]"
     ]
    },
    {
     "name": "stdout",
     "output_type": "stream",
     "text": [
      "Episode [3950/5000]:\t\t\tAccuracy: 83.60 ± 0.24 % (82.00 %)\n"
     ]
    },
    {
     "name": "stderr",
     "output_type": "stream",
     "text": [
      " 80%|████████  | 4001/5000 [12:17<03:05,  5.38it/s]"
     ]
    },
    {
     "name": "stdout",
     "output_type": "stream",
     "text": [
      "Episode [4000/5000]:\t\t\tAccuracy: 83.59 ± 0.24 % (78.00 %)\n"
     ]
    },
    {
     "name": "stderr",
     "output_type": "stream",
     "text": [
      " 81%|████████  | 4051/5000 [12:26<02:54,  5.43it/s]"
     ]
    },
    {
     "name": "stdout",
     "output_type": "stream",
     "text": [
      "Episode [4050/5000]:\t\t\tAccuracy: 83.59 ± 0.24 % (80.80 %)\n"
     ]
    },
    {
     "name": "stderr",
     "output_type": "stream",
     "text": [
      " 82%|████████▏ | 4101/5000 [12:36<02:44,  5.46it/s]"
     ]
    },
    {
     "name": "stdout",
     "output_type": "stream",
     "text": [
      "Episode [4100/5000]:\t\t\tAccuracy: 83.60 ± 0.24 % (81.20 %)\n"
     ]
    },
    {
     "name": "stderr",
     "output_type": "stream",
     "text": [
      " 83%|████████▎ | 4151/5000 [12:45<02:35,  5.46it/s]"
     ]
    },
    {
     "name": "stdout",
     "output_type": "stream",
     "text": [
      "Episode [4150/5000]:\t\t\tAccuracy: 83.60 ± 0.23 % (77.20 %)\n"
     ]
    },
    {
     "name": "stderr",
     "output_type": "stream",
     "text": [
      " 84%|████████▍ | 4201/5000 [12:54<02:26,  5.47it/s]"
     ]
    },
    {
     "name": "stdout",
     "output_type": "stream",
     "text": [
      "Episode [4200/5000]:\t\t\tAccuracy: 83.59 ± 0.23 % (67.60 %)\n"
     ]
    },
    {
     "name": "stderr",
     "output_type": "stream",
     "text": [
      " 85%|████████▌ | 4251/5000 [13:03<02:18,  5.42it/s]"
     ]
    },
    {
     "name": "stdout",
     "output_type": "stream",
     "text": [
      "Episode [4250/5000]:\t\t\tAccuracy: 83.59 ± 0.23 % (80.80 %)\n"
     ]
    },
    {
     "name": "stderr",
     "output_type": "stream",
     "text": [
      " 86%|████████▌ | 4301/5000 [13:12<02:10,  5.36it/s]"
     ]
    },
    {
     "name": "stdout",
     "output_type": "stream",
     "text": [
      "Episode [4300/5000]:\t\t\tAccuracy: 83.59 ± 0.23 % (84.40 %)\n"
     ]
    },
    {
     "name": "stderr",
     "output_type": "stream",
     "text": [
      " 87%|████████▋ | 4351/5000 [13:21<01:59,  5.44it/s]"
     ]
    },
    {
     "name": "stdout",
     "output_type": "stream",
     "text": [
      "Episode [4350/5000]:\t\t\tAccuracy: 83.59 ± 0.23 % (72.40 %)\n"
     ]
    },
    {
     "name": "stderr",
     "output_type": "stream",
     "text": [
      " 88%|████████▊ | 4401/5000 [13:31<01:50,  5.44it/s]"
     ]
    },
    {
     "name": "stdout",
     "output_type": "stream",
     "text": [
      "Episode [4400/5000]:\t\t\tAccuracy: 83.59 ± 0.23 % (87.60 %)\n"
     ]
    },
    {
     "name": "stderr",
     "output_type": "stream",
     "text": [
      " 89%|████████▉ | 4451/5000 [13:40<01:41,  5.43it/s]"
     ]
    },
    {
     "name": "stdout",
     "output_type": "stream",
     "text": [
      "Episode [4450/5000]:\t\t\tAccuracy: 83.58 ± 0.23 % (79.20 %)\n"
     ]
    },
    {
     "name": "stderr",
     "output_type": "stream",
     "text": [
      " 90%|█████████ | 4501/5000 [13:49<01:31,  5.44it/s]"
     ]
    },
    {
     "name": "stdout",
     "output_type": "stream",
     "text": [
      "Episode [4500/5000]:\t\t\tAccuracy: 83.58 ± 0.22 % (88.40 %)\n"
     ]
    },
    {
     "name": "stderr",
     "output_type": "stream",
     "text": [
      " 91%|█████████ | 4551/5000 [13:58<01:22,  5.45it/s]"
     ]
    },
    {
     "name": "stdout",
     "output_type": "stream",
     "text": [
      "Episode [4550/5000]:\t\t\tAccuracy: 83.58 ± 0.22 % (79.20 %)\n"
     ]
    },
    {
     "name": "stderr",
     "output_type": "stream",
     "text": [
      " 92%|█████████▏| 4601/5000 [14:08<01:13,  5.44it/s]"
     ]
    },
    {
     "name": "stdout",
     "output_type": "stream",
     "text": [
      "Episode [4600/5000]:\t\t\tAccuracy: 83.55 ± 0.22 % (78.80 %)\n"
     ]
    },
    {
     "name": "stderr",
     "output_type": "stream",
     "text": [
      " 93%|█████████▎| 4651/5000 [14:17<01:04,  5.44it/s]"
     ]
    },
    {
     "name": "stdout",
     "output_type": "stream",
     "text": [
      "Episode [4650/5000]:\t\t\tAccuracy: 83.56 ± 0.22 % (90.80 %)\n"
     ]
    },
    {
     "name": "stderr",
     "output_type": "stream",
     "text": [
      " 94%|█████████▍| 4701/5000 [14:26<00:54,  5.44it/s]"
     ]
    },
    {
     "name": "stdout",
     "output_type": "stream",
     "text": [
      "Episode [4700/5000]:\t\t\tAccuracy: 83.58 ± 0.22 % (92.00 %)\n"
     ]
    },
    {
     "name": "stderr",
     "output_type": "stream",
     "text": [
      " 95%|█████████▌| 4751/5000 [14:35<00:45,  5.43it/s]"
     ]
    },
    {
     "name": "stdout",
     "output_type": "stream",
     "text": [
      "Episode [4750/5000]:\t\t\tAccuracy: 83.58 ± 0.22 % (89.60 %)\n"
     ]
    },
    {
     "name": "stderr",
     "output_type": "stream",
     "text": [
      " 96%|█████████▌| 4801/5000 [14:44<00:36,  5.45it/s]"
     ]
    },
    {
     "name": "stdout",
     "output_type": "stream",
     "text": [
      "Episode [4800/5000]:\t\t\tAccuracy: 83.58 ± 0.22 % (71.20 %)\n"
     ]
    },
    {
     "name": "stderr",
     "output_type": "stream",
     "text": [
      " 97%|█████████▋| 4851/5000 [14:53<00:27,  5.43it/s]"
     ]
    },
    {
     "name": "stdout",
     "output_type": "stream",
     "text": [
      "Episode [4850/5000]:\t\t\tAccuracy: 83.58 ± 0.22 % (79.60 %)\n"
     ]
    },
    {
     "name": "stderr",
     "output_type": "stream",
     "text": [
      " 98%|█████████▊| 4901/5000 [15:03<00:18,  5.44it/s]"
     ]
    },
    {
     "name": "stdout",
     "output_type": "stream",
     "text": [
      "Episode [4900/5000]:\t\t\tAccuracy: 83.60 ± 0.21 % (89.60 %)\n"
     ]
    },
    {
     "name": "stderr",
     "output_type": "stream",
     "text": [
      " 99%|█████████▉| 4951/5000 [15:12<00:09,  5.43it/s]"
     ]
    },
    {
     "name": "stdout",
     "output_type": "stream",
     "text": [
      "Episode [4950/5000]:\t\t\tAccuracy: 83.61 ± 0.21 % (77.20 %)\n"
     ]
    },
    {
     "name": "stderr",
     "output_type": "stream",
     "text": [
      "100%|██████████| 5000/5000 [15:21<00:00,  5.43it/s]"
     ]
    },
    {
     "name": "stdout",
     "output_type": "stream",
     "text": [
      "Episode [5000/5000]:\t\t\tAccuracy: 83.60 ± 0.21 % (86.40 %)\n"
     ]
    },
    {
     "name": "stderr",
     "output_type": "stream",
     "text": [
      "\n"
     ]
    }
   ],
   "source": [
    "opt = argparse_config_test() # refer to args_config_test.py for details of auguments\n",
    "opt.load = './experiments/tieredimagenet_stage2_5W5S_transfer_base_weight/best_model.pth'\n",
    "opt.gpu = '0'\n",
    "opt.network = 'ResNet12'\n",
    "opt.head = 'SEGA'\n",
    "opt.weight_generator_type = 'transfer_base_weight'\n",
    "# opt.semantic_path = '/data/FSLDatasets/tieredImageNet/label2vec_glove_tieredimagenet.npy'\n",
    "opt.nKall = 351\n",
    "opt.dataset = 'tieredImageNet'\n",
    "opt.avg_pool = True\n",
    "opt.nfeat = 640\n",
    "opt.way, opt.shot = [5,5]\n",
    "opt.query=50\n",
    "opt.episode=5000\n",
    "test(opt)\n",
    "torch.cuda.empty_cache()"
   ]
  },
  {
   "cell_type": "code",
   "execution_count": null,
   "id": "bibliographic-guard",
   "metadata": {},
   "outputs": [],
   "source": []
  }
 ],
 "metadata": {
  "kernelspec": {
   "display_name": "py37torch190",
   "language": "python",
   "name": "py37torch190"
  },
  "language_info": {
   "codemirror_mode": {
    "name": "ipython",
    "version": 3
   },
   "file_extension": ".py",
   "mimetype": "text/x-python",
   "name": "python",
   "nbconvert_exporter": "python",
   "pygments_lexer": "ipython3",
   "version": "3.7.0"
  }
 },
 "nbformat": 4,
 "nbformat_minor": 5
}
