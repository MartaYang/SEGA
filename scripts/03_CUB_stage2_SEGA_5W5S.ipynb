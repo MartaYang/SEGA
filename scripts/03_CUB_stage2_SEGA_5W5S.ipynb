{
 "cells": [
  {
   "cell_type": "markdown",
   "id": "4d41a820-82fa-4c3a-9b09-a6424ac60c85",
   "metadata": {},
   "source": [
    "## **Stage 2** on **CUB**：few shot training and testing on **5W5S** scenario\n",
    "#### Note: During the second stage of training, the Feature Extractor is fixed. The second stage, which is fewshot training, is of vital importance which contains the **training of the Semantic Guided Attention Weight Generator and Cosine Classifier**."
   ]
  },
  {
   "cell_type": "code",
   "execution_count": 1,
   "id": "religious-actor",
   "metadata": {},
   "outputs": [],
   "source": [
    "import sys\n",
    "import torch\n",
    "sys.path.append(\"..\")\n",
    "from traincode import train_stage1,train_stage2\n",
    "from testcode import test\n",
    "\n",
    "from args_config_train import argparse_config_train\n",
    "from args_config_test import argparse_config_test"
   ]
  },
  {
   "cell_type": "code",
   "execution_count": 2,
   "id": "25d71a14-a5b2-4f2f-80bd-94fa49586a40",
   "metadata": {
    "tags": []
   },
   "outputs": [
    {
     "name": "stdout",
     "output_type": "stream",
     "text": [
      "Loading CUB-FS dataset - phase train\n",
      "Loading CUB-FS dataset - phase val\n",
      "using gpu: 0\n",
      "{'num_epoch': 20, 'save_epoch': 10, 'train_shot': 5, 'val_shot': 5, 'train_query': 6, 'val_episode': 1000, 'val_query': 15, 'train_way': 5, 'test_way': 5, 'nfeat': 640, 'nKall': 100, 'nKbase': 100, 'nTestBase': 30, 'epoch_size': 600, 'avg_pool': True, 'milestones': [5, 10, 15, 20], 'lambdalr': [1.0, 0.5, 0.1, 0.05], 'save_path': './experiments/cub_stage2_5W5S_SEGA', 'gpu': '0', 'network': 'ResNet12', 'head': 'SEGA', 'weight_generator_type': 'semantic_guided_attention_on_final_visproto', 'dataset': 'CUB', 'semantic_path': '/data/FSLDatasets/cub/cubfs_attributes.npy', 'episodes_per_batch': 8, 'embnet_pretrainedandfix': True, 'pretrian_embnet_path': './experiments/cub_stage1/best_model.pth'}\n",
      "$$$$$$$$$$$$SEGAhead$$$$$$$$$$$$\n",
      "semantic_path: /data/FSLDatasets/cub/cubfs_attributes.npy\n",
      "weight_generator_type: semantic_guided_attention_on_final_visproto\n",
      "SemLayers is an MLP: FC+LeakyReLU+Dropout+FC+Sigmoid\n",
      "Train Epoch: 1\tLearning Rate: 1.0000\n"
     ]
    },
    {
     "name": "stderr",
     "output_type": "stream",
     "text": [
      "  0%|          | 0/600 [00:00<?, ?it/s]/home/yangfengyuan/anaconda3/envs/py37torch190/lib/python3.7/site-packages/torch/nn/functional.py:718: UserWarning: Named tensors and all their associated APIs are an experimental feature and subject to change. Please do not use them for anything important until they are released as stable. (Triggered internally at  /opt/conda/conda-bld/pytorch_1623448265233/work/c10/core/TensorImpl.h:1156.)\n",
      "  return torch.max_pool2d(input, kernel_size, stride, padding, dilation, ceil_mode)\n",
      " 17%|█▋        | 100/600 [00:27<02:06,  3.94it/s]"
     ]
    },
    {
     "name": "stdout",
     "output_type": "stream",
     "text": [
      "Train Epoch: 1\tBatch: [100/600]\tLoss: 0.4934\tAcc_both: 84.64\tAcc_base: 87.83\tAcc_novel: 95.29 % (96.67 %)\n"
     ]
    },
    {
     "name": "stderr",
     "output_type": "stream",
     "text": [
      " 33%|███▎      | 200/600 [00:53<01:44,  3.81it/s]"
     ]
    },
    {
     "name": "stdout",
     "output_type": "stream",
     "text": [
      "Train Epoch: 1\tBatch: [200/600]\tLoss: 0.4319\tAcc_both: 86.09\tAcc_base: 87.94\tAcc_novel: 95.29 % (95.83 %)\n"
     ]
    },
    {
     "name": "stderr",
     "output_type": "stream",
     "text": [
      " 50%|█████     | 300/600 [01:19<01:19,  3.75it/s]"
     ]
    },
    {
     "name": "stdout",
     "output_type": "stream",
     "text": [
      "Train Epoch: 1\tBatch: [300/600]\tLoss: 0.5037\tAcc_both: 86.57\tAcc_base: 88.03\tAcc_novel: 95.26 % (94.58 %)\n"
     ]
    },
    {
     "name": "stderr",
     "output_type": "stream",
     "text": [
      " 67%|██████▋   | 400/600 [01:45<00:51,  3.85it/s]"
     ]
    },
    {
     "name": "stdout",
     "output_type": "stream",
     "text": [
      "Train Epoch: 1\tBatch: [400/600]\tLoss: 0.5887\tAcc_both: 86.60\tAcc_base: 87.79\tAcc_novel: 95.27 % (96.67 %)\n"
     ]
    },
    {
     "name": "stderr",
     "output_type": "stream",
     "text": [
      " 83%|████████▎ | 500/600 [02:11<00:26,  3.83it/s]"
     ]
    },
    {
     "name": "stdout",
     "output_type": "stream",
     "text": [
      "Train Epoch: 1\tBatch: [500/600]\tLoss: 0.5369\tAcc_both: 86.58\tAcc_base: 87.74\tAcc_novel: 95.18 % (96.25 %)\n"
     ]
    },
    {
     "name": "stderr",
     "output_type": "stream",
     "text": [
      "100%|██████████| 600/600 [02:38<00:00,  3.79it/s]\n"
     ]
    },
    {
     "name": "stdout",
     "output_type": "stream",
     "text": [
      "Train Epoch: 1\tBatch: [600/600]\tLoss: 0.4777\tAcc_both: 86.51\tAcc_base: 87.69\tAcc_novel: 95.15 % (97.08 %)\n"
     ]
    },
    {
     "name": "stderr",
     "output_type": "stream",
     "text": [
      "100%|██████████| 1000/1000 [01:28<00:00, 11.33it/s]\n"
     ]
    },
    {
     "name": "stdout",
     "output_type": "stream",
     "text": [
      "Validation Epoch: 1\t\t\tLoss: 0.2351\tAccuracy: 91.75 ± 0.33 % (Best)\n",
      "Elapsed Time: 4m/1.4h\n",
      "\n",
      "Train Epoch: 2\tLearning Rate: 1.0000\n"
     ]
    },
    {
     "name": "stderr",
     "output_type": "stream",
     "text": [
      " 17%|█▋        | 100/600 [00:27<02:12,  3.77it/s]"
     ]
    },
    {
     "name": "stdout",
     "output_type": "stream",
     "text": [
      "Train Epoch: 2\tBatch: [100/600]\tLoss: 0.5687\tAcc_both: 86.27\tAcc_base: 87.08\tAcc_novel: 94.77 % (95.83 %)\n"
     ]
    },
    {
     "name": "stderr",
     "output_type": "stream",
     "text": [
      " 33%|███▎      | 200/600 [00:54<01:46,  3.77it/s]"
     ]
    },
    {
     "name": "stdout",
     "output_type": "stream",
     "text": [
      "Train Epoch: 2\tBatch: [200/600]\tLoss: 0.4981\tAcc_both: 86.13\tAcc_base: 86.89\tAcc_novel: 94.90 % (95.42 %)\n"
     ]
    },
    {
     "name": "stderr",
     "output_type": "stream",
     "text": [
      " 50%|█████     | 300/600 [01:20<01:19,  3.79it/s]"
     ]
    },
    {
     "name": "stdout",
     "output_type": "stream",
     "text": [
      "Train Epoch: 2\tBatch: [300/600]\tLoss: 0.5515\tAcc_both: 86.10\tAcc_base: 86.79\tAcc_novel: 94.91 % (95.83 %)\n"
     ]
    },
    {
     "name": "stderr",
     "output_type": "stream",
     "text": [
      " 67%|██████▋   | 400/600 [01:47<00:54,  3.69it/s]"
     ]
    },
    {
     "name": "stdout",
     "output_type": "stream",
     "text": [
      "Train Epoch: 2\tBatch: [400/600]\tLoss: 0.5921\tAcc_both: 86.11\tAcc_base: 86.75\tAcc_novel: 94.94 % (94.58 %)\n"
     ]
    },
    {
     "name": "stderr",
     "output_type": "stream",
     "text": [
      " 83%|████████▎ | 500/600 [02:13<00:26,  3.79it/s]"
     ]
    },
    {
     "name": "stdout",
     "output_type": "stream",
     "text": [
      "Train Epoch: 2\tBatch: [500/600]\tLoss: 0.5563\tAcc_both: 86.09\tAcc_base: 86.67\tAcc_novel: 94.95 % (95.00 %)\n"
     ]
    },
    {
     "name": "stderr",
     "output_type": "stream",
     "text": [
      "100%|██████████| 600/600 [02:39<00:00,  3.75it/s]\n"
     ]
    },
    {
     "name": "stdout",
     "output_type": "stream",
     "text": [
      "Train Epoch: 2\tBatch: [600/600]\tLoss: 0.5204\tAcc_both: 86.03\tAcc_base: 86.62\tAcc_novel: 94.89 % (95.42 %)\n"
     ]
    },
    {
     "name": "stderr",
     "output_type": "stream",
     "text": [
      "100%|██████████| 1000/1000 [01:28<00:00, 11.32it/s]\n"
     ]
    },
    {
     "name": "stdout",
     "output_type": "stream",
     "text": [
      "Validation Epoch: 2\t\t\tLoss: 0.2345\tAccuracy: 91.55 ± 0.34 %\n",
      "Elapsed Time: 8m/1.4h\n",
      "\n",
      "Train Epoch: 3\tLearning Rate: 1.0000\n"
     ]
    },
    {
     "name": "stderr",
     "output_type": "stream",
     "text": [
      " 17%|█▋        | 100/600 [00:27<02:11,  3.81it/s]"
     ]
    },
    {
     "name": "stdout",
     "output_type": "stream",
     "text": [
      "Train Epoch: 3\tBatch: [100/600]\tLoss: 0.5755\tAcc_both: 86.00\tAcc_base: 87.09\tAcc_novel: 94.87 % (96.25 %)\n"
     ]
    },
    {
     "name": "stderr",
     "output_type": "stream",
     "text": [
      " 33%|███▎      | 200/600 [00:53<01:46,  3.77it/s]"
     ]
    },
    {
     "name": "stdout",
     "output_type": "stream",
     "text": [
      "Train Epoch: 3\tBatch: [200/600]\tLoss: 0.5137\tAcc_both: 86.08\tAcc_base: 86.89\tAcc_novel: 94.88 % (94.17 %)\n"
     ]
    },
    {
     "name": "stderr",
     "output_type": "stream",
     "text": [
      " 50%|█████     | 300/600 [01:20<01:18,  3.81it/s]"
     ]
    },
    {
     "name": "stdout",
     "output_type": "stream",
     "text": [
      "Train Epoch: 3\tBatch: [300/600]\tLoss: 0.6819\tAcc_both: 85.98\tAcc_base: 86.80\tAcc_novel: 94.83 % (94.17 %)\n"
     ]
    },
    {
     "name": "stderr",
     "output_type": "stream",
     "text": [
      " 67%|██████▋   | 400/600 [01:46<00:54,  3.67it/s]"
     ]
    },
    {
     "name": "stdout",
     "output_type": "stream",
     "text": [
      "Train Epoch: 3\tBatch: [400/600]\tLoss: 0.5291\tAcc_both: 85.98\tAcc_base: 86.84\tAcc_novel: 94.78 % (98.33 %)\n"
     ]
    },
    {
     "name": "stderr",
     "output_type": "stream",
     "text": [
      " 83%|████████▎ | 500/600 [02:13<00:26,  3.79it/s]"
     ]
    },
    {
     "name": "stdout",
     "output_type": "stream",
     "text": [
      "Train Epoch: 3\tBatch: [500/600]\tLoss: 0.5032\tAcc_both: 85.96\tAcc_base: 86.75\tAcc_novel: 94.80 % (96.25 %)\n"
     ]
    },
    {
     "name": "stderr",
     "output_type": "stream",
     "text": [
      "100%|██████████| 600/600 [02:39<00:00,  3.76it/s]\n"
     ]
    },
    {
     "name": "stdout",
     "output_type": "stream",
     "text": [
      "Train Epoch: 3\tBatch: [600/600]\tLoss: 0.5620\tAcc_both: 85.88\tAcc_base: 86.64\tAcc_novel: 94.79 % (92.92 %)\n"
     ]
    },
    {
     "name": "stderr",
     "output_type": "stream",
     "text": [
      "100%|██████████| 1000/1000 [01:28<00:00, 11.32it/s]\n"
     ]
    },
    {
     "name": "stdout",
     "output_type": "stream",
     "text": [
      "Validation Epoch: 3\t\t\tLoss: 0.2307\tAccuracy: 91.72 ± 0.34 %\n",
      "Elapsed Time: 12m/1.4h\n",
      "\n",
      "Train Epoch: 4\tLearning Rate: 1.0000\n"
     ]
    },
    {
     "name": "stderr",
     "output_type": "stream",
     "text": [
      " 17%|█▋        | 100/600 [00:27<02:13,  3.76it/s]"
     ]
    },
    {
     "name": "stdout",
     "output_type": "stream",
     "text": [
      "Train Epoch: 4\tBatch: [100/600]\tLoss: 0.5582\tAcc_both: 85.58\tAcc_base: 85.62\tAcc_novel: 95.17 % (97.08 %)\n"
     ]
    },
    {
     "name": "stderr",
     "output_type": "stream",
     "text": [
      " 33%|███▎      | 200/600 [00:54<01:45,  3.79it/s]"
     ]
    },
    {
     "name": "stdout",
     "output_type": "stream",
     "text": [
      "Train Epoch: 4\tBatch: [200/600]\tLoss: 0.5561\tAcc_both: 85.53\tAcc_base: 85.80\tAcc_novel: 94.97 % (96.67 %)\n"
     ]
    },
    {
     "name": "stderr",
     "output_type": "stream",
     "text": [
      " 50%|█████     | 300/600 [01:20<01:18,  3.81it/s]"
     ]
    },
    {
     "name": "stdout",
     "output_type": "stream",
     "text": [
      "Train Epoch: 4\tBatch: [300/600]\tLoss: 0.6132\tAcc_both: 85.56\tAcc_base: 85.84\tAcc_novel: 94.92 % (92.50 %)\n"
     ]
    },
    {
     "name": "stderr",
     "output_type": "stream",
     "text": [
      " 67%|██████▋   | 400/600 [01:47<00:53,  3.77it/s]"
     ]
    },
    {
     "name": "stdout",
     "output_type": "stream",
     "text": [
      "Train Epoch: 4\tBatch: [400/600]\tLoss: 0.5166\tAcc_both: 85.57\tAcc_base: 85.99\tAcc_novel: 94.89 % (95.83 %)\n"
     ]
    },
    {
     "name": "stderr",
     "output_type": "stream",
     "text": [
      " 83%|████████▎ | 500/600 [02:13<00:26,  3.75it/s]"
     ]
    },
    {
     "name": "stdout",
     "output_type": "stream",
     "text": [
      "Train Epoch: 4\tBatch: [500/600]\tLoss: 0.5391\tAcc_both: 85.57\tAcc_base: 86.08\tAcc_novel: 94.87 % (95.42 %)\n"
     ]
    },
    {
     "name": "stderr",
     "output_type": "stream",
     "text": [
      "100%|██████████| 600/600 [02:39<00:00,  3.75it/s]\n"
     ]
    },
    {
     "name": "stdout",
     "output_type": "stream",
     "text": [
      "Train Epoch: 4\tBatch: [600/600]\tLoss: 0.5773\tAcc_both: 85.57\tAcc_base: 86.04\tAcc_novel: 94.85 % (94.58 %)\n"
     ]
    },
    {
     "name": "stderr",
     "output_type": "stream",
     "text": [
      "100%|██████████| 1000/1000 [01:28<00:00, 11.33it/s]\n"
     ]
    },
    {
     "name": "stdout",
     "output_type": "stream",
     "text": [
      "Validation Epoch: 4\t\t\tLoss: 0.2413\tAccuracy: 91.36 ± 0.35 %\n",
      "Elapsed Time: 17m/1.4h\n",
      "\n",
      "Train Epoch: 5\tLearning Rate: 1.0000\n"
     ]
    },
    {
     "name": "stderr",
     "output_type": "stream",
     "text": [
      " 17%|█▋        | 100/600 [00:27<02:11,  3.80it/s]"
     ]
    },
    {
     "name": "stdout",
     "output_type": "stream",
     "text": [
      "Train Epoch: 5\tBatch: [100/600]\tLoss: 0.5745\tAcc_both: 85.44\tAcc_base: 85.87\tAcc_novel: 94.58 % (94.17 %)\n"
     ]
    },
    {
     "name": "stderr",
     "output_type": "stream",
     "text": [
      " 33%|███▎      | 200/600 [00:53<01:44,  3.84it/s]"
     ]
    },
    {
     "name": "stdout",
     "output_type": "stream",
     "text": [
      "Train Epoch: 5\tBatch: [200/600]\tLoss: 0.5366\tAcc_both: 85.53\tAcc_base: 85.94\tAcc_novel: 94.71 % (95.00 %)\n"
     ]
    },
    {
     "name": "stderr",
     "output_type": "stream",
     "text": [
      " 50%|█████     | 300/600 [01:20<01:19,  3.76it/s]"
     ]
    },
    {
     "name": "stdout",
     "output_type": "stream",
     "text": [
      "Train Epoch: 5\tBatch: [300/600]\tLoss: 0.5585\tAcc_both: 85.70\tAcc_base: 86.13\tAcc_novel: 94.82 % (96.67 %)\n"
     ]
    },
    {
     "name": "stderr",
     "output_type": "stream",
     "text": [
      " 67%|██████▋   | 400/600 [01:46<00:52,  3.80it/s]"
     ]
    },
    {
     "name": "stdout",
     "output_type": "stream",
     "text": [
      "Train Epoch: 5\tBatch: [400/600]\tLoss: 0.5039\tAcc_both: 85.65\tAcc_base: 86.13\tAcc_novel: 94.79 % (92.50 %)\n"
     ]
    },
    {
     "name": "stderr",
     "output_type": "stream",
     "text": [
      " 83%|████████▎ | 500/600 [02:13<00:26,  3.78it/s]"
     ]
    },
    {
     "name": "stdout",
     "output_type": "stream",
     "text": [
      "Train Epoch: 5\tBatch: [500/600]\tLoss: 0.5507\tAcc_both: 85.78\tAcc_base: 86.27\tAcc_novel: 94.86 % (93.33 %)\n"
     ]
    },
    {
     "name": "stderr",
     "output_type": "stream",
     "text": [
      "100%|██████████| 600/600 [02:39<00:00,  3.76it/s]\n"
     ]
    },
    {
     "name": "stdout",
     "output_type": "stream",
     "text": [
      "Train Epoch: 5\tBatch: [600/600]\tLoss: 0.6555\tAcc_both: 85.74\tAcc_base: 86.23\tAcc_novel: 94.85 % (97.08 %)\n"
     ]
    },
    {
     "name": "stderr",
     "output_type": "stream",
     "text": [
      "100%|██████████| 1000/1000 [01:28<00:00, 11.35it/s]\n"
     ]
    },
    {
     "name": "stdout",
     "output_type": "stream",
     "text": [
      "Validation Epoch: 5\t\t\tLoss: 0.2437\tAccuracy: 91.08 ± 0.36 %\n",
      "Elapsed Time: 21m/1.4h\n",
      "\n",
      "Train Epoch: 6\tLearning Rate: 0.5000\n"
     ]
    },
    {
     "name": "stderr",
     "output_type": "stream",
     "text": [
      " 17%|█▋        | 100/600 [00:27<02:12,  3.78it/s]"
     ]
    },
    {
     "name": "stdout",
     "output_type": "stream",
     "text": [
      "Train Epoch: 6\tBatch: [100/600]\tLoss: 0.5361\tAcc_both: 87.19\tAcc_base: 87.92\tAcc_novel: 94.95 % (95.83 %)\n"
     ]
    },
    {
     "name": "stderr",
     "output_type": "stream",
     "text": [
      " 33%|███▎      | 200/600 [00:53<01:44,  3.82it/s]"
     ]
    },
    {
     "name": "stdout",
     "output_type": "stream",
     "text": [
      "Train Epoch: 6\tBatch: [200/600]\tLoss: 0.5170\tAcc_both: 87.13\tAcc_base: 88.10\tAcc_novel: 94.85 % (98.33 %)\n"
     ]
    },
    {
     "name": "stderr",
     "output_type": "stream",
     "text": [
      " 50%|█████     | 300/600 [01:19<01:19,  3.77it/s]"
     ]
    },
    {
     "name": "stdout",
     "output_type": "stream",
     "text": [
      "Train Epoch: 6\tBatch: [300/600]\tLoss: 0.5216\tAcc_both: 87.34\tAcc_base: 88.17\tAcc_novel: 95.00 % (94.58 %)\n"
     ]
    },
    {
     "name": "stderr",
     "output_type": "stream",
     "text": [
      " 67%|██████▋   | 400/600 [01:46<00:54,  3.68it/s]"
     ]
    },
    {
     "name": "stdout",
     "output_type": "stream",
     "text": [
      "Train Epoch: 6\tBatch: [400/600]\tLoss: 0.5144\tAcc_both: 87.34\tAcc_base: 88.18\tAcc_novel: 95.04 % (93.33 %)\n"
     ]
    },
    {
     "name": "stderr",
     "output_type": "stream",
     "text": [
      " 83%|████████▎ | 500/600 [02:13<00:26,  3.78it/s]"
     ]
    },
    {
     "name": "stdout",
     "output_type": "stream",
     "text": [
      "Train Epoch: 6\tBatch: [500/600]\tLoss: 0.4712\tAcc_both: 87.40\tAcc_base: 88.24\tAcc_novel: 95.08 % (92.50 %)\n"
     ]
    },
    {
     "name": "stderr",
     "output_type": "stream",
     "text": [
      "100%|██████████| 600/600 [02:39<00:00,  3.76it/s]\n"
     ]
    },
    {
     "name": "stdout",
     "output_type": "stream",
     "text": [
      "Train Epoch: 6\tBatch: [600/600]\tLoss: 0.6415\tAcc_both: 87.39\tAcc_base: 88.21\tAcc_novel: 95.10 % (95.42 %)\n"
     ]
    },
    {
     "name": "stderr",
     "output_type": "stream",
     "text": [
      "100%|██████████| 1000/1000 [01:28<00:00, 11.33it/s]\n"
     ]
    },
    {
     "name": "stdout",
     "output_type": "stream",
     "text": [
      "Validation Epoch: 6\t\t\tLoss: 0.2374\tAccuracy: 91.81 ± 0.34 % (Best)\n",
      "Elapsed Time: 25m/1.4h\n",
      "\n",
      "Train Epoch: 7\tLearning Rate: 0.5000\n"
     ]
    },
    {
     "name": "stderr",
     "output_type": "stream",
     "text": [
      " 17%|█▋        | 100/600 [00:27<02:12,  3.79it/s]"
     ]
    },
    {
     "name": "stdout",
     "output_type": "stream",
     "text": [
      "Train Epoch: 7\tBatch: [100/600]\tLoss: 0.4814\tAcc_both: 87.84\tAcc_base: 88.42\tAcc_novel: 95.37 % (96.67 %)\n"
     ]
    },
    {
     "name": "stderr",
     "output_type": "stream",
     "text": [
      " 33%|███▎      | 200/600 [00:53<01:43,  3.85it/s]"
     ]
    },
    {
     "name": "stdout",
     "output_type": "stream",
     "text": [
      "Train Epoch: 7\tBatch: [200/600]\tLoss: 0.4930\tAcc_both: 87.70\tAcc_base: 88.45\tAcc_novel: 95.31 % (94.58 %)\n"
     ]
    },
    {
     "name": "stderr",
     "output_type": "stream",
     "text": [
      " 50%|█████     | 300/600 [01:20<01:19,  3.76it/s]"
     ]
    },
    {
     "name": "stdout",
     "output_type": "stream",
     "text": [
      "Train Epoch: 7\tBatch: [300/600]\tLoss: 0.4558\tAcc_both: 87.78\tAcc_base: 88.39\tAcc_novel: 95.36 % (96.25 %)\n"
     ]
    },
    {
     "name": "stderr",
     "output_type": "stream",
     "text": [
      " 67%|██████▋   | 400/600 [01:47<00:52,  3.78it/s]"
     ]
    },
    {
     "name": "stdout",
     "output_type": "stream",
     "text": [
      "Train Epoch: 7\tBatch: [400/600]\tLoss: 0.5490\tAcc_both: 87.66\tAcc_base: 88.31\tAcc_novel: 95.40 % (95.83 %)\n"
     ]
    },
    {
     "name": "stderr",
     "output_type": "stream",
     "text": [
      " 83%|████████▎ | 500/600 [02:13<00:26,  3.76it/s]"
     ]
    },
    {
     "name": "stdout",
     "output_type": "stream",
     "text": [
      "Train Epoch: 7\tBatch: [500/600]\tLoss: 0.4658\tAcc_both: 87.73\tAcc_base: 88.40\tAcc_novel: 95.43 % (95.42 %)\n"
     ]
    },
    {
     "name": "stderr",
     "output_type": "stream",
     "text": [
      "100%|██████████| 600/600 [02:40<00:00,  3.75it/s]\n"
     ]
    },
    {
     "name": "stdout",
     "output_type": "stream",
     "text": [
      "Train Epoch: 7\tBatch: [600/600]\tLoss: 0.5017\tAcc_both: 87.81\tAcc_base: 88.45\tAcc_novel: 95.42 % (96.25 %)\n"
     ]
    },
    {
     "name": "stderr",
     "output_type": "stream",
     "text": [
      "100%|██████████| 1000/1000 [01:28<00:00, 11.34it/s]\n"
     ]
    },
    {
     "name": "stdout",
     "output_type": "stream",
     "text": [
      "Validation Epoch: 7\t\t\tLoss: 0.2341\tAccuracy: 91.61 ± 0.35 %\n",
      "Elapsed Time: 29m/1.4h\n",
      "\n",
      "Train Epoch: 8\tLearning Rate: 0.5000\n"
     ]
    },
    {
     "name": "stderr",
     "output_type": "stream",
     "text": [
      " 17%|█▋        | 100/600 [00:27<02:11,  3.81it/s]"
     ]
    },
    {
     "name": "stdout",
     "output_type": "stream",
     "text": [
      "Train Epoch: 8\tBatch: [100/600]\tLoss: 0.5397\tAcc_both: 88.12\tAcc_base: 88.68\tAcc_novel: 95.52 % (92.50 %)\n"
     ]
    },
    {
     "name": "stderr",
     "output_type": "stream",
     "text": [
      " 33%|███▎      | 200/600 [00:54<01:47,  3.72it/s]"
     ]
    },
    {
     "name": "stdout",
     "output_type": "stream",
     "text": [
      "Train Epoch: 8\tBatch: [200/600]\tLoss: 0.4996\tAcc_both: 88.21\tAcc_base: 88.87\tAcc_novel: 95.63 % (94.17 %)\n"
     ]
    },
    {
     "name": "stderr",
     "output_type": "stream",
     "text": [
      " 50%|█████     | 300/600 [01:20<01:20,  3.73it/s]"
     ]
    },
    {
     "name": "stdout",
     "output_type": "stream",
     "text": [
      "Train Epoch: 8\tBatch: [300/600]\tLoss: 0.4372\tAcc_both: 88.25\tAcc_base: 88.96\tAcc_novel: 95.63 % (94.58 %)\n"
     ]
    },
    {
     "name": "stderr",
     "output_type": "stream",
     "text": [
      " 67%|██████▋   | 400/600 [01:47<00:54,  3.69it/s]"
     ]
    },
    {
     "name": "stdout",
     "output_type": "stream",
     "text": [
      "Train Epoch: 8\tBatch: [400/600]\tLoss: 0.3780\tAcc_both: 88.26\tAcc_base: 88.85\tAcc_novel: 95.62 % (98.75 %)\n"
     ]
    },
    {
     "name": "stderr",
     "output_type": "stream",
     "text": [
      " 83%|████████▎ | 500/600 [02:13<00:26,  3.72it/s]"
     ]
    },
    {
     "name": "stdout",
     "output_type": "stream",
     "text": [
      "Train Epoch: 8\tBatch: [500/600]\tLoss: 0.5226\tAcc_both: 88.25\tAcc_base: 88.90\tAcc_novel: 95.61 % (95.83 %)\n"
     ]
    },
    {
     "name": "stderr",
     "output_type": "stream",
     "text": [
      "100%|██████████| 600/600 [02:40<00:00,  3.74it/s]\n"
     ]
    },
    {
     "name": "stdout",
     "output_type": "stream",
     "text": [
      "Train Epoch: 8\tBatch: [600/600]\tLoss: 0.5289\tAcc_both: 88.26\tAcc_base: 88.89\tAcc_novel: 95.62 % (93.75 %)\n"
     ]
    },
    {
     "name": "stderr",
     "output_type": "stream",
     "text": [
      "100%|██████████| 1000/1000 [01:27<00:00, 11.37it/s]\n"
     ]
    },
    {
     "name": "stdout",
     "output_type": "stream",
     "text": [
      "Validation Epoch: 8\t\t\tLoss: 0.2269\tAccuracy: 91.85 ± 0.34 % (Best)\n",
      "Elapsed Time: 33m/1.4h\n",
      "\n",
      "Train Epoch: 9\tLearning Rate: 0.5000\n"
     ]
    },
    {
     "name": "stderr",
     "output_type": "stream",
     "text": [
      " 17%|█▋        | 100/600 [00:27<02:10,  3.84it/s]"
     ]
    },
    {
     "name": "stdout",
     "output_type": "stream",
     "text": [
      "Train Epoch: 9\tBatch: [100/600]\tLoss: 0.4575\tAcc_both: 88.54\tAcc_base: 89.08\tAcc_novel: 95.60 % (92.50 %)\n"
     ]
    },
    {
     "name": "stderr",
     "output_type": "stream",
     "text": [
      " 33%|███▎      | 200/600 [00:53<01:45,  3.78it/s]"
     ]
    },
    {
     "name": "stdout",
     "output_type": "stream",
     "text": [
      "Train Epoch: 9\tBatch: [200/600]\tLoss: 0.4479\tAcc_both: 88.41\tAcc_base: 88.94\tAcc_novel: 95.67 % (94.58 %)\n"
     ]
    },
    {
     "name": "stderr",
     "output_type": "stream",
     "text": [
      " 50%|█████     | 300/600 [01:20<01:18,  3.83it/s]"
     ]
    },
    {
     "name": "stdout",
     "output_type": "stream",
     "text": [
      "Train Epoch: 9\tBatch: [300/600]\tLoss: 0.4711\tAcc_both: 88.49\tAcc_base: 89.03\tAcc_novel: 95.72 % (95.00 %)\n"
     ]
    },
    {
     "name": "stderr",
     "output_type": "stream",
     "text": [
      " 67%|██████▋   | 400/600 [01:46<00:52,  3.85it/s]"
     ]
    },
    {
     "name": "stdout",
     "output_type": "stream",
     "text": [
      "Train Epoch: 9\tBatch: [400/600]\tLoss: 0.5024\tAcc_both: 88.49\tAcc_base: 88.97\tAcc_novel: 95.75 % (95.42 %)\n"
     ]
    },
    {
     "name": "stderr",
     "output_type": "stream",
     "text": [
      " 83%|████████▎ | 500/600 [02:13<00:26,  3.78it/s]"
     ]
    },
    {
     "name": "stdout",
     "output_type": "stream",
     "text": [
      "Train Epoch: 9\tBatch: [500/600]\tLoss: 0.4041\tAcc_both: 88.53\tAcc_base: 89.03\tAcc_novel: 95.75 % (95.83 %)\n"
     ]
    },
    {
     "name": "stderr",
     "output_type": "stream",
     "text": [
      "100%|██████████| 600/600 [02:39<00:00,  3.75it/s]\n"
     ]
    },
    {
     "name": "stdout",
     "output_type": "stream",
     "text": [
      "Train Epoch: 9\tBatch: [600/600]\tLoss: 0.4685\tAcc_both: 88.52\tAcc_base: 89.05\tAcc_novel: 95.73 % (97.08 %)\n"
     ]
    },
    {
     "name": "stderr",
     "output_type": "stream",
     "text": [
      "100%|██████████| 1000/1000 [01:28<00:00, 11.34it/s]\n"
     ]
    },
    {
     "name": "stdout",
     "output_type": "stream",
     "text": [
      "Validation Epoch: 9\t\t\tLoss: 0.2338\tAccuracy: 91.65 ± 0.34 %\n",
      "Elapsed Time: 37m/1.4h\n",
      "\n",
      "Train Epoch: 10\tLearning Rate: 0.5000\n"
     ]
    },
    {
     "name": "stderr",
     "output_type": "stream",
     "text": [
      " 17%|█▋        | 100/600 [00:27<02:10,  3.82it/s]"
     ]
    },
    {
     "name": "stdout",
     "output_type": "stream",
     "text": [
      "Train Epoch: 10\tBatch: [100/600]\tLoss: 0.4453\tAcc_both: 88.28\tAcc_base: 89.09\tAcc_novel: 95.62 % (95.42 %)\n"
     ]
    },
    {
     "name": "stderr",
     "output_type": "stream",
     "text": [
      " 33%|███▎      | 200/600 [00:53<01:44,  3.84it/s]"
     ]
    },
    {
     "name": "stdout",
     "output_type": "stream",
     "text": [
      "Train Epoch: 10\tBatch: [200/600]\tLoss: 0.4487\tAcc_both: 88.39\tAcc_base: 89.11\tAcc_novel: 95.64 % (95.83 %)\n"
     ]
    },
    {
     "name": "stderr",
     "output_type": "stream",
     "text": [
      " 50%|█████     | 300/600 [01:20<01:17,  3.87it/s]"
     ]
    },
    {
     "name": "stdout",
     "output_type": "stream",
     "text": [
      "Train Epoch: 10\tBatch: [300/600]\tLoss: 0.4322\tAcc_both: 88.49\tAcc_base: 89.14\tAcc_novel: 95.72 % (96.67 %)\n"
     ]
    },
    {
     "name": "stderr",
     "output_type": "stream",
     "text": [
      " 67%|██████▋   | 400/600 [01:46<00:53,  3.74it/s]"
     ]
    },
    {
     "name": "stdout",
     "output_type": "stream",
     "text": [
      "Train Epoch: 10\tBatch: [400/600]\tLoss: 0.4613\tAcc_both: 88.46\tAcc_base: 89.08\tAcc_novel: 95.80 % (95.83 %)\n"
     ]
    },
    {
     "name": "stderr",
     "output_type": "stream",
     "text": [
      " 83%|████████▎ | 500/600 [02:13<00:26,  3.75it/s]"
     ]
    },
    {
     "name": "stdout",
     "output_type": "stream",
     "text": [
      "Train Epoch: 10\tBatch: [500/600]\tLoss: 0.5451\tAcc_both: 88.46\tAcc_base: 89.09\tAcc_novel: 95.79 % (94.58 %)\n"
     ]
    },
    {
     "name": "stderr",
     "output_type": "stream",
     "text": [
      "100%|██████████| 600/600 [02:39<00:00,  3.75it/s]\n"
     ]
    },
    {
     "name": "stdout",
     "output_type": "stream",
     "text": [
      "Train Epoch: 10\tBatch: [600/600]\tLoss: 0.4204\tAcc_both: 88.52\tAcc_base: 89.07\tAcc_novel: 95.76 % (94.58 %)\n"
     ]
    },
    {
     "name": "stderr",
     "output_type": "stream",
     "text": [
      "100%|██████████| 1000/1000 [01:27<00:00, 11.37it/s]\n"
     ]
    },
    {
     "name": "stdout",
     "output_type": "stream",
     "text": [
      "Validation Epoch: 10\t\t\tLoss: 0.2264\tAccuracy: 91.99 ± 0.31 % (Best)\n",
      "Elapsed Time: 41m/1.4h\n",
      "\n",
      "Train Epoch: 11\tLearning Rate: 0.1000\n"
     ]
    },
    {
     "name": "stderr",
     "output_type": "stream",
     "text": [
      " 17%|█▋        | 100/600 [00:27<02:11,  3.81it/s]"
     ]
    },
    {
     "name": "stdout",
     "output_type": "stream",
     "text": [
      "Train Epoch: 11\tBatch: [100/600]\tLoss: 0.4394\tAcc_both: 89.58\tAcc_base: 90.13\tAcc_novel: 95.70 % (94.17 %)\n"
     ]
    },
    {
     "name": "stderr",
     "output_type": "stream",
     "text": [
      " 33%|███▎      | 200/600 [00:53<01:43,  3.86it/s]"
     ]
    },
    {
     "name": "stdout",
     "output_type": "stream",
     "text": [
      "Train Epoch: 11\tBatch: [200/600]\tLoss: 0.3626\tAcc_both: 89.84\tAcc_base: 90.29\tAcc_novel: 95.89 % (94.58 %)\n"
     ]
    },
    {
     "name": "stderr",
     "output_type": "stream",
     "text": [
      " 50%|█████     | 300/600 [01:19<01:19,  3.77it/s]"
     ]
    },
    {
     "name": "stdout",
     "output_type": "stream",
     "text": [
      "Train Epoch: 11\tBatch: [300/600]\tLoss: 0.3713\tAcc_both: 90.02\tAcc_base: 90.45\tAcc_novel: 95.91 % (96.67 %)\n"
     ]
    },
    {
     "name": "stderr",
     "output_type": "stream",
     "text": [
      " 67%|██████▋   | 400/600 [01:46<00:53,  3.74it/s]"
     ]
    },
    {
     "name": "stdout",
     "output_type": "stream",
     "text": [
      "Train Epoch: 11\tBatch: [400/600]\tLoss: 0.4025\tAcc_both: 90.08\tAcc_base: 90.46\tAcc_novel: 95.94 % (97.08 %)\n"
     ]
    },
    {
     "name": "stderr",
     "output_type": "stream",
     "text": [
      " 83%|████████▎ | 500/600 [02:12<00:26,  3.83it/s]"
     ]
    },
    {
     "name": "stdout",
     "output_type": "stream",
     "text": [
      "Train Epoch: 11\tBatch: [500/600]\tLoss: 0.3461\tAcc_both: 90.10\tAcc_base: 90.47\tAcc_novel: 96.01 % (96.25 %)\n"
     ]
    },
    {
     "name": "stderr",
     "output_type": "stream",
     "text": [
      "100%|██████████| 600/600 [02:38<00:00,  3.78it/s]\n"
     ]
    },
    {
     "name": "stdout",
     "output_type": "stream",
     "text": [
      "Train Epoch: 11\tBatch: [600/600]\tLoss: 0.4003\tAcc_both: 90.16\tAcc_base: 90.53\tAcc_novel: 96.03 % (96.67 %)\n"
     ]
    },
    {
     "name": "stderr",
     "output_type": "stream",
     "text": [
      "100%|██████████| 1000/1000 [01:28<00:00, 11.34it/s]\n"
     ]
    },
    {
     "name": "stdout",
     "output_type": "stream",
     "text": [
      "Validation Epoch: 11\t\t\tLoss: 0.2257\tAccuracy: 91.93 ± 0.33 %\n",
      "Elapsed Time: 45m/1.4h\n",
      "\n",
      "Train Epoch: 12\tLearning Rate: 0.1000\n"
     ]
    },
    {
     "name": "stderr",
     "output_type": "stream",
     "text": [
      " 17%|█▋        | 100/600 [00:27<02:10,  3.84it/s]"
     ]
    },
    {
     "name": "stdout",
     "output_type": "stream",
     "text": [
      "Train Epoch: 12\tBatch: [100/600]\tLoss: 0.4407\tAcc_both: 90.03\tAcc_base: 90.65\tAcc_novel: 96.09 % (94.58 %)\n"
     ]
    },
    {
     "name": "stderr",
     "output_type": "stream",
     "text": [
      " 33%|███▎      | 200/600 [00:53<01:44,  3.82it/s]"
     ]
    },
    {
     "name": "stdout",
     "output_type": "stream",
     "text": [
      "Train Epoch: 12\tBatch: [200/600]\tLoss: 0.3382\tAcc_both: 90.07\tAcc_base: 90.67\tAcc_novel: 96.09 % (96.67 %)\n"
     ]
    },
    {
     "name": "stderr",
     "output_type": "stream",
     "text": [
      " 50%|█████     | 300/600 [01:19<01:19,  3.79it/s]"
     ]
    },
    {
     "name": "stdout",
     "output_type": "stream",
     "text": [
      "Train Epoch: 12\tBatch: [300/600]\tLoss: 0.4163\tAcc_both: 90.13\tAcc_base: 90.61\tAcc_novel: 96.12 % (95.00 %)\n"
     ]
    },
    {
     "name": "stderr",
     "output_type": "stream",
     "text": [
      " 67%|██████▋   | 400/600 [01:46<00:52,  3.78it/s]"
     ]
    },
    {
     "name": "stdout",
     "output_type": "stream",
     "text": [
      "Train Epoch: 12\tBatch: [400/600]\tLoss: 0.4318\tAcc_both: 90.21\tAcc_base: 90.68\tAcc_novel: 96.10 % (96.67 %)\n"
     ]
    },
    {
     "name": "stderr",
     "output_type": "stream",
     "text": [
      " 83%|████████▎ | 500/600 [02:12<00:26,  3.80it/s]"
     ]
    },
    {
     "name": "stdout",
     "output_type": "stream",
     "text": [
      "Train Epoch: 12\tBatch: [500/600]\tLoss: 0.4830\tAcc_both: 90.26\tAcc_base: 90.67\tAcc_novel: 96.11 % (95.83 %)\n"
     ]
    },
    {
     "name": "stderr",
     "output_type": "stream",
     "text": [
      "100%|██████████| 600/600 [02:39<00:00,  3.77it/s]\n"
     ]
    },
    {
     "name": "stdout",
     "output_type": "stream",
     "text": [
      "Train Epoch: 12\tBatch: [600/600]\tLoss: 0.3996\tAcc_both: 90.23\tAcc_base: 90.66\tAcc_novel: 96.13 % (95.83 %)\n"
     ]
    },
    {
     "name": "stderr",
     "output_type": "stream",
     "text": [
      "100%|██████████| 1000/1000 [01:27<00:00, 11.40it/s]\n"
     ]
    },
    {
     "name": "stdout",
     "output_type": "stream",
     "text": [
      "Validation Epoch: 12\t\t\tLoss: 0.2173\tAccuracy: 92.25 ± 0.32 % (Best)\n",
      "Elapsed Time: 50m/1.4h\n",
      "\n",
      "Train Epoch: 13\tLearning Rate: 0.1000\n"
     ]
    },
    {
     "name": "stderr",
     "output_type": "stream",
     "text": [
      " 17%|█▋        | 100/600 [00:27<02:11,  3.80it/s]"
     ]
    },
    {
     "name": "stdout",
     "output_type": "stream",
     "text": [
      "Train Epoch: 13\tBatch: [100/600]\tLoss: 0.4070\tAcc_both: 90.05\tAcc_base: 90.55\tAcc_novel: 96.13 % (95.83 %)\n"
     ]
    },
    {
     "name": "stderr",
     "output_type": "stream",
     "text": [
      " 33%|███▎      | 200/600 [00:53<01:45,  3.79it/s]"
     ]
    },
    {
     "name": "stdout",
     "output_type": "stream",
     "text": [
      "Train Epoch: 13\tBatch: [200/600]\tLoss: 0.3473\tAcc_both: 90.15\tAcc_base: 90.44\tAcc_novel: 96.16 % (96.25 %)\n"
     ]
    },
    {
     "name": "stderr",
     "output_type": "stream",
     "text": [
      " 50%|█████     | 300/600 [01:20<01:19,  3.79it/s]"
     ]
    },
    {
     "name": "stdout",
     "output_type": "stream",
     "text": [
      "Train Epoch: 13\tBatch: [300/600]\tLoss: 0.3917\tAcc_both: 90.14\tAcc_base: 90.42\tAcc_novel: 96.18 % (93.75 %)\n"
     ]
    },
    {
     "name": "stderr",
     "output_type": "stream",
     "text": [
      " 67%|██████▋   | 400/600 [01:46<00:52,  3.80it/s]"
     ]
    },
    {
     "name": "stdout",
     "output_type": "stream",
     "text": [
      "Train Epoch: 13\tBatch: [400/600]\tLoss: 0.3878\tAcc_both: 90.16\tAcc_base: 90.46\tAcc_novel: 96.20 % (97.92 %)\n"
     ]
    },
    {
     "name": "stderr",
     "output_type": "stream",
     "text": [
      " 83%|████████▎ | 500/600 [02:12<00:26,  3.79it/s]"
     ]
    },
    {
     "name": "stdout",
     "output_type": "stream",
     "text": [
      "Train Epoch: 13\tBatch: [500/600]\tLoss: 0.4914\tAcc_both: 90.17\tAcc_base: 90.52\tAcc_novel: 96.19 % (95.00 %)\n"
     ]
    },
    {
     "name": "stderr",
     "output_type": "stream",
     "text": [
      "100%|██████████| 600/600 [02:39<00:00,  3.77it/s]\n"
     ]
    },
    {
     "name": "stdout",
     "output_type": "stream",
     "text": [
      "Train Epoch: 13\tBatch: [600/600]\tLoss: 0.5358\tAcc_both: 90.17\tAcc_base: 90.49\tAcc_novel: 96.19 % (92.08 %)\n"
     ]
    },
    {
     "name": "stderr",
     "output_type": "stream",
     "text": [
      "100%|██████████| 1000/1000 [01:27<00:00, 11.37it/s]\n"
     ]
    },
    {
     "name": "stdout",
     "output_type": "stream",
     "text": [
      "Validation Epoch: 13\t\t\tLoss: 0.2243\tAccuracy: 92.01 ± 0.34 %\n",
      "Elapsed Time: 54m/1.4h\n",
      "\n",
      "Train Epoch: 14\tLearning Rate: 0.1000\n"
     ]
    },
    {
     "name": "stderr",
     "output_type": "stream",
     "text": [
      " 17%|█▋        | 100/600 [00:27<02:10,  3.83it/s]"
     ]
    },
    {
     "name": "stdout",
     "output_type": "stream",
     "text": [
      "Train Epoch: 14\tBatch: [100/600]\tLoss: 0.4095\tAcc_both: 90.29\tAcc_base: 90.66\tAcc_novel: 96.45 % (95.00 %)\n"
     ]
    },
    {
     "name": "stderr",
     "output_type": "stream",
     "text": [
      " 33%|███▎      | 200/600 [00:53<01:45,  3.80it/s]"
     ]
    },
    {
     "name": "stdout",
     "output_type": "stream",
     "text": [
      "Train Epoch: 14\tBatch: [200/600]\tLoss: 0.4127\tAcc_both: 90.34\tAcc_base: 90.76\tAcc_novel: 96.34 % (96.25 %)\n"
     ]
    },
    {
     "name": "stderr",
     "output_type": "stream",
     "text": [
      " 50%|█████     | 300/600 [01:19<01:17,  3.85it/s]"
     ]
    },
    {
     "name": "stdout",
     "output_type": "stream",
     "text": [
      "Train Epoch: 14\tBatch: [300/600]\tLoss: 0.4065\tAcc_both: 90.29\tAcc_base: 90.63\tAcc_novel: 96.36 % (97.50 %)\n"
     ]
    },
    {
     "name": "stderr",
     "output_type": "stream",
     "text": [
      " 67%|██████▋   | 400/600 [01:46<00:53,  3.72it/s]"
     ]
    },
    {
     "name": "stdout",
     "output_type": "stream",
     "text": [
      "Train Epoch: 14\tBatch: [400/600]\tLoss: 0.4056\tAcc_both: 90.30\tAcc_base: 90.61\tAcc_novel: 96.38 % (96.25 %)\n"
     ]
    },
    {
     "name": "stderr",
     "output_type": "stream",
     "text": [
      " 83%|████████▎ | 500/600 [02:13<00:26,  3.78it/s]"
     ]
    },
    {
     "name": "stdout",
     "output_type": "stream",
     "text": [
      "Train Epoch: 14\tBatch: [500/600]\tLoss: 0.4380\tAcc_both: 90.30\tAcc_base: 90.59\tAcc_novel: 96.34 % (95.00 %)\n"
     ]
    },
    {
     "name": "stderr",
     "output_type": "stream",
     "text": [
      "100%|██████████| 600/600 [02:39<00:00,  3.77it/s]\n"
     ]
    },
    {
     "name": "stdout",
     "output_type": "stream",
     "text": [
      "Train Epoch: 14\tBatch: [600/600]\tLoss: 0.4429\tAcc_both: 90.33\tAcc_base: 90.57\tAcc_novel: 96.38 % (95.83 %)\n"
     ]
    },
    {
     "name": "stderr",
     "output_type": "stream",
     "text": [
      "100%|██████████| 1000/1000 [01:28<00:00, 11.35it/s]\n"
     ]
    },
    {
     "name": "stdout",
     "output_type": "stream",
     "text": [
      "Validation Epoch: 14\t\t\tLoss: 0.2229\tAccuracy: 92.06 ± 0.33 %\n",
      "Elapsed Time: 58m/1.4h\n",
      "\n",
      "Train Epoch: 15\tLearning Rate: 0.1000\n"
     ]
    },
    {
     "name": "stderr",
     "output_type": "stream",
     "text": [
      " 17%|█▋        | 100/600 [00:27<02:11,  3.80it/s]"
     ]
    },
    {
     "name": "stdout",
     "output_type": "stream",
     "text": [
      "Train Epoch: 15\tBatch: [100/600]\tLoss: 0.4068\tAcc_both: 90.23\tAcc_base: 90.64\tAcc_novel: 96.30 % (97.50 %)\n"
     ]
    },
    {
     "name": "stderr",
     "output_type": "stream",
     "text": [
      " 33%|███▎      | 200/600 [00:53<01:44,  3.84it/s]"
     ]
    },
    {
     "name": "stdout",
     "output_type": "stream",
     "text": [
      "Train Epoch: 15\tBatch: [200/600]\tLoss: 0.3442\tAcc_both: 90.30\tAcc_base: 90.64\tAcc_novel: 96.31 % (96.25 %)\n"
     ]
    },
    {
     "name": "stderr",
     "output_type": "stream",
     "text": [
      " 50%|█████     | 300/600 [01:20<01:21,  3.67it/s]"
     ]
    },
    {
     "name": "stdout",
     "output_type": "stream",
     "text": [
      "Train Epoch: 15\tBatch: [300/600]\tLoss: 0.3002\tAcc_both: 90.36\tAcc_base: 90.66\tAcc_novel: 96.29 % (97.92 %)\n"
     ]
    },
    {
     "name": "stderr",
     "output_type": "stream",
     "text": [
      " 67%|██████▋   | 400/600 [01:46<00:53,  3.72it/s]"
     ]
    },
    {
     "name": "stdout",
     "output_type": "stream",
     "text": [
      "Train Epoch: 15\tBatch: [400/600]\tLoss: 0.4090\tAcc_both: 90.37\tAcc_base: 90.71\tAcc_novel: 96.28 % (95.42 %)\n"
     ]
    },
    {
     "name": "stderr",
     "output_type": "stream",
     "text": [
      " 83%|████████▎ | 500/600 [02:13<00:26,  3.79it/s]"
     ]
    },
    {
     "name": "stdout",
     "output_type": "stream",
     "text": [
      "Train Epoch: 15\tBatch: [500/600]\tLoss: 0.3521\tAcc_both: 90.33\tAcc_base: 90.64\tAcc_novel: 96.29 % (98.75 %)\n"
     ]
    },
    {
     "name": "stderr",
     "output_type": "stream",
     "text": [
      "100%|██████████| 600/600 [02:40<00:00,  3.74it/s]\n"
     ]
    },
    {
     "name": "stdout",
     "output_type": "stream",
     "text": [
      "Train Epoch: 15\tBatch: [600/600]\tLoss: 0.3621\tAcc_both: 90.43\tAcc_base: 90.68\tAcc_novel: 96.37 % (96.67 %)\n"
     ]
    },
    {
     "name": "stderr",
     "output_type": "stream",
     "text": [
      "100%|██████████| 1000/1000 [01:27<00:00, 11.37it/s]\n"
     ]
    },
    {
     "name": "stdout",
     "output_type": "stream",
     "text": [
      "Validation Epoch: 15\t\t\tLoss: 0.2120\tAccuracy: 92.40 ± 0.31 % (Best)\n",
      "Elapsed Time: 1.0h/1.4h\n",
      "\n",
      "Train Epoch: 16\tLearning Rate: 0.0500\n"
     ]
    },
    {
     "name": "stderr",
     "output_type": "stream",
     "text": [
      " 17%|█▋        | 100/600 [00:27<02:12,  3.77it/s]"
     ]
    },
    {
     "name": "stdout",
     "output_type": "stream",
     "text": [
      "Train Epoch: 16\tBatch: [100/600]\tLoss: 0.3504\tAcc_both: 91.31\tAcc_base: 91.39\tAcc_novel: 96.64 % (95.83 %)\n"
     ]
    },
    {
     "name": "stderr",
     "output_type": "stream",
     "text": [
      " 33%|███▎      | 200/600 [00:54<01:45,  3.79it/s]"
     ]
    },
    {
     "name": "stdout",
     "output_type": "stream",
     "text": [
      "Train Epoch: 16\tBatch: [200/600]\tLoss: 0.4220\tAcc_both: 91.25\tAcc_base: 91.33\tAcc_novel: 96.60 % (97.08 %)\n"
     ]
    },
    {
     "name": "stderr",
     "output_type": "stream",
     "text": [
      " 50%|█████     | 300/600 [01:20<01:19,  3.78it/s]"
     ]
    },
    {
     "name": "stdout",
     "output_type": "stream",
     "text": [
      "Train Epoch: 16\tBatch: [300/600]\tLoss: 0.3158\tAcc_both: 91.32\tAcc_base: 91.36\tAcc_novel: 96.68 % (95.83 %)\n"
     ]
    },
    {
     "name": "stderr",
     "output_type": "stream",
     "text": [
      " 67%|██████▋   | 400/600 [01:47<00:53,  3.77it/s]"
     ]
    },
    {
     "name": "stdout",
     "output_type": "stream",
     "text": [
      "Train Epoch: 16\tBatch: [400/600]\tLoss: 0.3518\tAcc_both: 91.38\tAcc_base: 91.49\tAcc_novel: 96.67 % (94.58 %)\n"
     ]
    },
    {
     "name": "stderr",
     "output_type": "stream",
     "text": [
      " 83%|████████▎ | 500/600 [02:13<00:26,  3.76it/s]"
     ]
    },
    {
     "name": "stdout",
     "output_type": "stream",
     "text": [
      "Train Epoch: 16\tBatch: [500/600]\tLoss: 0.3849\tAcc_both: 91.39\tAcc_base: 91.49\tAcc_novel: 96.66 % (96.25 %)\n"
     ]
    },
    {
     "name": "stderr",
     "output_type": "stream",
     "text": [
      "100%|██████████| 600/600 [02:39<00:00,  3.76it/s]\n"
     ]
    },
    {
     "name": "stdout",
     "output_type": "stream",
     "text": [
      "Train Epoch: 16\tBatch: [600/600]\tLoss: 0.3505\tAcc_both: 91.39\tAcc_base: 91.45\tAcc_novel: 96.66 % (97.08 %)\n"
     ]
    },
    {
     "name": "stderr",
     "output_type": "stream",
     "text": [
      "100%|██████████| 1000/1000 [01:28<00:00, 11.34it/s]\n"
     ]
    },
    {
     "name": "stdout",
     "output_type": "stream",
     "text": [
      "Validation Epoch: 16\t\t\tLoss: 0.2065\tAccuracy: 92.73 ± 0.31 % (Best)\n",
      "Elapsed Time: 1.1h/1.4h\n",
      "\n",
      "Train Epoch: 17\tLearning Rate: 0.0500\n"
     ]
    },
    {
     "name": "stderr",
     "output_type": "stream",
     "text": [
      " 17%|█▋        | 100/600 [00:27<02:11,  3.79it/s]"
     ]
    },
    {
     "name": "stdout",
     "output_type": "stream",
     "text": [
      "Train Epoch: 17\tBatch: [100/600]\tLoss: 0.3411\tAcc_both: 91.47\tAcc_base: 91.66\tAcc_novel: 96.70 % (98.33 %)\n"
     ]
    },
    {
     "name": "stderr",
     "output_type": "stream",
     "text": [
      " 33%|███▎      | 200/600 [00:53<01:46,  3.77it/s]"
     ]
    },
    {
     "name": "stdout",
     "output_type": "stream",
     "text": [
      "Train Epoch: 17\tBatch: [200/600]\tLoss: 0.4113\tAcc_both: 91.47\tAcc_base: 91.67\tAcc_novel: 96.72 % (93.75 %)\n"
     ]
    },
    {
     "name": "stderr",
     "output_type": "stream",
     "text": [
      " 50%|█████     | 300/600 [01:20<01:20,  3.72it/s]"
     ]
    },
    {
     "name": "stdout",
     "output_type": "stream",
     "text": [
      "Train Epoch: 17\tBatch: [300/600]\tLoss: 0.3173\tAcc_both: 91.51\tAcc_base: 91.80\tAcc_novel: 96.76 % (97.92 %)\n"
     ]
    },
    {
     "name": "stderr",
     "output_type": "stream",
     "text": [
      " 67%|██████▋   | 400/600 [01:46<00:52,  3.79it/s]"
     ]
    },
    {
     "name": "stdout",
     "output_type": "stream",
     "text": [
      "Train Epoch: 17\tBatch: [400/600]\tLoss: 0.3724\tAcc_both: 91.49\tAcc_base: 91.79\tAcc_novel: 96.71 % (95.83 %)\n"
     ]
    },
    {
     "name": "stderr",
     "output_type": "stream",
     "text": [
      " 83%|████████▎ | 500/600 [02:13<00:26,  3.73it/s]"
     ]
    },
    {
     "name": "stdout",
     "output_type": "stream",
     "text": [
      "Train Epoch: 17\tBatch: [500/600]\tLoss: 0.3374\tAcc_both: 91.40\tAcc_base: 91.64\tAcc_novel: 96.68 % (97.08 %)\n"
     ]
    },
    {
     "name": "stderr",
     "output_type": "stream",
     "text": [
      "100%|██████████| 600/600 [02:39<00:00,  3.75it/s]\n"
     ]
    },
    {
     "name": "stdout",
     "output_type": "stream",
     "text": [
      "Train Epoch: 17\tBatch: [600/600]\tLoss: 0.2986\tAcc_both: 91.35\tAcc_base: 91.60\tAcc_novel: 96.67 % (97.50 %)\n"
     ]
    },
    {
     "name": "stderr",
     "output_type": "stream",
     "text": [
      "100%|██████████| 1000/1000 [01:28<00:00, 11.35it/s]\n"
     ]
    },
    {
     "name": "stdout",
     "output_type": "stream",
     "text": [
      "Validation Epoch: 17\t\t\tLoss: 0.2023\tAccuracy: 92.67 ± 0.32 %\n",
      "Elapsed Time: 1.2h/1.4h\n",
      "\n",
      "Train Epoch: 18\tLearning Rate: 0.0500\n"
     ]
    },
    {
     "name": "stderr",
     "output_type": "stream",
     "text": [
      " 17%|█▋        | 100/600 [00:27<02:10,  3.82it/s]"
     ]
    },
    {
     "name": "stdout",
     "output_type": "stream",
     "text": [
      "Train Epoch: 18\tBatch: [100/600]\tLoss: 0.3635\tAcc_both: 91.34\tAcc_base: 91.45\tAcc_novel: 96.55 % (95.00 %)\n"
     ]
    },
    {
     "name": "stderr",
     "output_type": "stream",
     "text": [
      " 33%|███▎      | 200/600 [00:54<01:47,  3.72it/s]"
     ]
    },
    {
     "name": "stdout",
     "output_type": "stream",
     "text": [
      "Train Epoch: 18\tBatch: [200/600]\tLoss: 0.3427\tAcc_both: 91.39\tAcc_base: 91.58\tAcc_novel: 96.58 % (97.08 %)\n"
     ]
    },
    {
     "name": "stderr",
     "output_type": "stream",
     "text": [
      " 50%|█████     | 300/600 [01:20<01:21,  3.67it/s]"
     ]
    },
    {
     "name": "stdout",
     "output_type": "stream",
     "text": [
      "Train Epoch: 18\tBatch: [300/600]\tLoss: 0.3725\tAcc_both: 91.38\tAcc_base: 91.55\tAcc_novel: 96.64 % (97.08 %)\n"
     ]
    },
    {
     "name": "stderr",
     "output_type": "stream",
     "text": [
      " 67%|██████▋   | 400/600 [01:47<00:53,  3.76it/s]"
     ]
    },
    {
     "name": "stdout",
     "output_type": "stream",
     "text": [
      "Train Epoch: 18\tBatch: [400/600]\tLoss: 0.3488\tAcc_both: 91.39\tAcc_base: 91.55\tAcc_novel: 96.66 % (97.08 %)\n"
     ]
    },
    {
     "name": "stderr",
     "output_type": "stream",
     "text": [
      " 83%|████████▎ | 500/600 [02:13<00:26,  3.76it/s]"
     ]
    },
    {
     "name": "stdout",
     "output_type": "stream",
     "text": [
      "Train Epoch: 18\tBatch: [500/600]\tLoss: 0.4072\tAcc_both: 91.46\tAcc_base: 91.62\tAcc_novel: 96.70 % (95.00 %)\n"
     ]
    },
    {
     "name": "stderr",
     "output_type": "stream",
     "text": [
      "100%|██████████| 600/600 [02:40<00:00,  3.74it/s]\n"
     ]
    },
    {
     "name": "stdout",
     "output_type": "stream",
     "text": [
      "Train Epoch: 18\tBatch: [600/600]\tLoss: 0.3981\tAcc_both: 91.43\tAcc_base: 91.56\tAcc_novel: 96.72 % (93.33 %)\n"
     ]
    },
    {
     "name": "stderr",
     "output_type": "stream",
     "text": [
      "100%|██████████| 1000/1000 [01:28<00:00, 11.36it/s]\n"
     ]
    },
    {
     "name": "stdout",
     "output_type": "stream",
     "text": [
      "Validation Epoch: 18\t\t\tLoss: 0.2154\tAccuracy: 92.14 ± 0.33 %\n",
      "Elapsed Time: 1.2h/1.4h\n",
      "\n",
      "Train Epoch: 19\tLearning Rate: 0.0500\n"
     ]
    },
    {
     "name": "stderr",
     "output_type": "stream",
     "text": [
      " 17%|█▋        | 100/600 [00:27<02:11,  3.82it/s]"
     ]
    },
    {
     "name": "stdout",
     "output_type": "stream",
     "text": [
      "Train Epoch: 19\tBatch: [100/600]\tLoss: 0.3292\tAcc_both: 91.10\tAcc_base: 91.18\tAcc_novel: 96.71 % (97.50 %)\n"
     ]
    },
    {
     "name": "stderr",
     "output_type": "stream",
     "text": [
      " 33%|███▎      | 200/600 [00:54<01:45,  3.79it/s]"
     ]
    },
    {
     "name": "stdout",
     "output_type": "stream",
     "text": [
      "Train Epoch: 19\tBatch: [200/600]\tLoss: 0.3128\tAcc_both: 91.25\tAcc_base: 91.35\tAcc_novel: 96.76 % (96.67 %)\n"
     ]
    },
    {
     "name": "stderr",
     "output_type": "stream",
     "text": [
      " 50%|█████     | 300/600 [01:20<01:18,  3.82it/s]"
     ]
    },
    {
     "name": "stdout",
     "output_type": "stream",
     "text": [
      "Train Epoch: 19\tBatch: [300/600]\tLoss: 0.3662\tAcc_both: 91.35\tAcc_base: 91.46\tAcc_novel: 96.80 % (97.50 %)\n"
     ]
    },
    {
     "name": "stderr",
     "output_type": "stream",
     "text": [
      " 67%|██████▋   | 400/600 [01:47<00:54,  3.70it/s]"
     ]
    },
    {
     "name": "stdout",
     "output_type": "stream",
     "text": [
      "Train Epoch: 19\tBatch: [400/600]\tLoss: 0.3471\tAcc_both: 91.37\tAcc_base: 91.49\tAcc_novel: 96.79 % (97.50 %)\n"
     ]
    },
    {
     "name": "stderr",
     "output_type": "stream",
     "text": [
      " 83%|████████▎ | 500/600 [02:13<00:26,  3.79it/s]"
     ]
    },
    {
     "name": "stdout",
     "output_type": "stream",
     "text": [
      "Train Epoch: 19\tBatch: [500/600]\tLoss: 0.3133\tAcc_both: 91.35\tAcc_base: 91.47\tAcc_novel: 96.75 % (97.92 %)\n"
     ]
    },
    {
     "name": "stderr",
     "output_type": "stream",
     "text": [
      "100%|██████████| 600/600 [02:40<00:00,  3.75it/s]\n"
     ]
    },
    {
     "name": "stdout",
     "output_type": "stream",
     "text": [
      "Train Epoch: 19\tBatch: [600/600]\tLoss: 0.3868\tAcc_both: 91.34\tAcc_base: 91.45\tAcc_novel: 96.73 % (95.00 %)\n"
     ]
    },
    {
     "name": "stderr",
     "output_type": "stream",
     "text": [
      "100%|██████████| 1000/1000 [01:28<00:00, 11.35it/s]\n"
     ]
    },
    {
     "name": "stdout",
     "output_type": "stream",
     "text": [
      "Validation Epoch: 19\t\t\tLoss: 0.1972\tAccuracy: 92.89 ± 0.30 % (Best)\n",
      "Elapsed Time: 1.3h/1.4h\n",
      "\n",
      "Train Epoch: 20\tLearning Rate: 0.0500\n"
     ]
    },
    {
     "name": "stderr",
     "output_type": "stream",
     "text": [
      " 17%|█▋        | 100/600 [00:27<02:11,  3.81it/s]"
     ]
    },
    {
     "name": "stdout",
     "output_type": "stream",
     "text": [
      "Train Epoch: 20\tBatch: [100/600]\tLoss: 0.3379\tAcc_both: 91.44\tAcc_base: 91.75\tAcc_novel: 96.71 % (98.75 %)\n"
     ]
    },
    {
     "name": "stderr",
     "output_type": "stream",
     "text": [
      " 33%|███▎      | 200/600 [00:53<01:45,  3.79it/s]"
     ]
    },
    {
     "name": "stdout",
     "output_type": "stream",
     "text": [
      "Train Epoch: 20\tBatch: [200/600]\tLoss: 0.4005\tAcc_both: 91.35\tAcc_base: 91.50\tAcc_novel: 96.72 % (94.58 %)\n"
     ]
    },
    {
     "name": "stderr",
     "output_type": "stream",
     "text": [
      " 50%|█████     | 300/600 [01:20<01:18,  3.81it/s]"
     ]
    },
    {
     "name": "stdout",
     "output_type": "stream",
     "text": [
      "Train Epoch: 20\tBatch: [300/600]\tLoss: 0.3913\tAcc_both: 91.34\tAcc_base: 91.41\tAcc_novel: 96.71 % (93.75 %)\n"
     ]
    },
    {
     "name": "stderr",
     "output_type": "stream",
     "text": [
      " 67%|██████▋   | 400/600 [01:46<00:52,  3.81it/s]"
     ]
    },
    {
     "name": "stdout",
     "output_type": "stream",
     "text": [
      "Train Epoch: 20\tBatch: [400/600]\tLoss: 0.3480\tAcc_both: 91.31\tAcc_base: 91.36\tAcc_novel: 96.71 % (95.42 %)\n"
     ]
    },
    {
     "name": "stderr",
     "output_type": "stream",
     "text": [
      " 83%|████████▎ | 500/600 [02:12<00:26,  3.73it/s]"
     ]
    },
    {
     "name": "stdout",
     "output_type": "stream",
     "text": [
      "Train Epoch: 20\tBatch: [500/600]\tLoss: 0.3435\tAcc_both: 91.25\tAcc_base: 91.29\tAcc_novel: 96.74 % (96.67 %)\n"
     ]
    },
    {
     "name": "stderr",
     "output_type": "stream",
     "text": [
      "100%|██████████| 600/600 [02:39<00:00,  3.77it/s]\n"
     ]
    },
    {
     "name": "stdout",
     "output_type": "stream",
     "text": [
      "Train Epoch: 20\tBatch: [600/600]\tLoss: 0.3678\tAcc_both: 91.24\tAcc_base: 91.28\tAcc_novel: 96.75 % (97.08 %)\n"
     ]
    },
    {
     "name": "stderr",
     "output_type": "stream",
     "text": [
      "100%|██████████| 1000/1000 [01:28<00:00, 11.33it/s]\n"
     ]
    },
    {
     "name": "stdout",
     "output_type": "stream",
     "text": [
      "Validation Epoch: 20\t\t\tLoss: 0.2121\tAccuracy: 92.31 ± 0.32 %\n",
      "Elapsed Time: 1.4h/1.4h\n",
      "\n"
     ]
    }
   ],
   "source": [
    "opt = argparse_config_train() # refer to args_config_train.py for details of auguments\n",
    "opt.save_path = './experiments/cub_stage2_5W5S_SEGA'\n",
    "opt.embnet_pretrainedandfix = True\n",
    "opt.pretrian_embnet_path = './experiments/cub_stage1/best_model.pth'\n",
    "opt.gpu = '0'\n",
    "opt.network = 'ResNet12'\n",
    "opt.head = 'SEGA'\n",
    "opt.weight_generator_type = 'semantic_guided_attention_on_final_visproto'\n",
    "# TODO: Set the appropriate semantic_path of the datasets here.\n",
    "opt.semantic_path = '/data/FSLDatasets/cub/cubfs_attributes.npy'\n",
    "opt.nKall = 100\n",
    "opt.nKbase = 100\n",
    "opt.train_query = 6\n",
    "opt.nTestBase = 5*opt.train_query\n",
    "opt.epoch_size = 600\n",
    "opt.dataset = 'CUB'\n",
    "opt.avg_pool = True\n",
    "opt.nfeat = 640\n",
    "opt.val_episode = 1000\n",
    "opt.num_epoch = 20\n",
    "opt.episodes_per_batch = 8\n",
    "opt.milestones = [5,10,15,20]\n",
    "opt.lambdalr = [1.0,0.5,0.1,0.05]\n",
    "opt.train_way, opt.train_shot = opt.test_way, opt.val_shot = [5,5]\n",
    "train_stage2(opt)\n",
    "torch.cuda.empty_cache()"
   ]
  },
  {
   "cell_type": "code",
   "execution_count": 3,
   "id": "b1aed86d-7bd7-474f-9c6c-4d21d26f7a07",
   "metadata": {
    "tags": []
   },
   "outputs": [
    {
     "name": "stdout",
     "output_type": "stream",
     "text": [
      "Loading CUB-FS dataset - phase test\n",
      "using gpu: 0\n",
      "{'gpu': '0', 'load': './experiments/cub_stage2_5W5S_SEGA/best_model.pth', 'episode': 5000, 'way': 5, 'shot': 5, 'query': 15, 'nfeat': 640, 'nKall': 100, 'nKbase': 0, 'nTestBase': 0, 'epoch_size': 1000, 'avg_pool': True, 'network': 'ResNet12', 'head': 'SEGA', 'weight_generator_type': 'semantic_guided_attention_on_final_visproto', 'dataset': 'CUB', 'semantic_path': '/data/FSLDatasets/cub/cubfs_attributes.npy'}\n",
      "$$$$$$$$$$$$SEGAhead$$$$$$$$$$$$\n",
      "semantic_path: /data/FSLDatasets/cub/cubfs_attributes.npy\n",
      "weight_generator_type: semantic_guided_attention_on_final_visproto\n",
      "SemLayers is an MLP: FC+LeakyReLU+Dropout+FC+Sigmoid\n"
     ]
    },
    {
     "name": "stderr",
     "output_type": "stream",
     "text": [
      "  1%|          | 52/5000 [00:04<07:17, 11.32it/s]"
     ]
    },
    {
     "name": "stdout",
     "output_type": "stream",
     "text": [
      "Episode [50/5000]:\t\t\tAccuracy: 91.28 ± 1.49 % (92.00 %)\n"
     ]
    },
    {
     "name": "stderr",
     "output_type": "stream",
     "text": [
      "  2%|▏         | 102/5000 [00:08<07:11, 11.35it/s]"
     ]
    },
    {
     "name": "stdout",
     "output_type": "stream",
     "text": [
      "Episode [100/5000]:\t\t\tAccuracy: 91.43 ± 1.02 % (100.00 %)\n"
     ]
    },
    {
     "name": "stderr",
     "output_type": "stream",
     "text": [
      "  3%|▎         | 152/5000 [00:13<07:08, 11.32it/s]"
     ]
    },
    {
     "name": "stdout",
     "output_type": "stream",
     "text": [
      "Episode [150/5000]:\t\t\tAccuracy: 91.80 ± 0.82 % (89.33 %)\n"
     ]
    },
    {
     "name": "stderr",
     "output_type": "stream",
     "text": [
      "  4%|▍         | 202/5000 [00:17<07:03, 11.34it/s]"
     ]
    },
    {
     "name": "stdout",
     "output_type": "stream",
     "text": [
      "Episode [200/5000]:\t\t\tAccuracy: 91.65 ± 0.70 % (96.00 %)\n"
     ]
    },
    {
     "name": "stderr",
     "output_type": "stream",
     "text": [
      "  5%|▌         | 252/5000 [00:22<06:58, 11.34it/s]"
     ]
    },
    {
     "name": "stdout",
     "output_type": "stream",
     "text": [
      "Episode [250/5000]:\t\t\tAccuracy: 91.69 ± 0.62 % (94.67 %)\n"
     ]
    },
    {
     "name": "stderr",
     "output_type": "stream",
     "text": [
      "  6%|▌         | 302/5000 [00:26<06:54, 11.32it/s]"
     ]
    },
    {
     "name": "stdout",
     "output_type": "stream",
     "text": [
      "Episode [300/5000]:\t\t\tAccuracy: 91.68 ± 0.58 % (96.00 %)\n"
     ]
    },
    {
     "name": "stderr",
     "output_type": "stream",
     "text": [
      "  7%|▋         | 352/5000 [00:31<06:48, 11.37it/s]"
     ]
    },
    {
     "name": "stdout",
     "output_type": "stream",
     "text": [
      "Episode [350/5000]:\t\t\tAccuracy: 91.66 ± 0.55 % (93.33 %)\n"
     ]
    },
    {
     "name": "stderr",
     "output_type": "stream",
     "text": [
      "  8%|▊         | 402/5000 [00:35<06:44, 11.37it/s]"
     ]
    },
    {
     "name": "stdout",
     "output_type": "stream",
     "text": [
      "Episode [400/5000]:\t\t\tAccuracy: 91.65 ± 0.51 % (93.33 %)\n"
     ]
    },
    {
     "name": "stderr",
     "output_type": "stream",
     "text": [
      "  9%|▉         | 452/5000 [00:39<06:40, 11.35it/s]"
     ]
    },
    {
     "name": "stdout",
     "output_type": "stream",
     "text": [
      "Episode [450/5000]:\t\t\tAccuracy: 91.72 ± 0.47 % (94.67 %)\n"
     ]
    },
    {
     "name": "stderr",
     "output_type": "stream",
     "text": [
      " 10%|█         | 500/5000 [00:44<06:37, 11.33it/s]"
     ]
    },
    {
     "name": "stdout",
     "output_type": "stream",
     "text": [
      "Episode [500/5000]:\t\t\tAccuracy: 91.80 ± 0.44 % (84.00 %)\n"
     ]
    },
    {
     "name": "stderr",
     "output_type": "stream",
     "text": [
      " 11%|█         | 552/5000 [00:48<06:33, 11.31it/s]"
     ]
    },
    {
     "name": "stdout",
     "output_type": "stream",
     "text": [
      "Episode [550/5000]:\t\t\tAccuracy: 91.88 ± 0.43 % (96.00 %)\n"
     ]
    },
    {
     "name": "stderr",
     "output_type": "stream",
     "text": [
      " 12%|█▏        | 602/5000 [00:53<06:30, 11.28it/s]"
     ]
    },
    {
     "name": "stdout",
     "output_type": "stream",
     "text": [
      "Episode [600/5000]:\t\t\tAccuracy: 91.98 ± 0.42 % (86.67 %)\n"
     ]
    },
    {
     "name": "stderr",
     "output_type": "stream",
     "text": [
      " 13%|█▎        | 652/5000 [00:57<06:23, 11.34it/s]"
     ]
    },
    {
     "name": "stdout",
     "output_type": "stream",
     "text": [
      "Episode [650/5000]:\t\t\tAccuracy: 91.88 ± 0.40 % (94.67 %)\n"
     ]
    },
    {
     "name": "stderr",
     "output_type": "stream",
     "text": [
      " 14%|█▍        | 702/5000 [01:02<06:19, 11.32it/s]"
     ]
    },
    {
     "name": "stdout",
     "output_type": "stream",
     "text": [
      "Episode [700/5000]:\t\t\tAccuracy: 91.93 ± 0.39 % (92.00 %)\n"
     ]
    },
    {
     "name": "stderr",
     "output_type": "stream",
     "text": [
      " 15%|█▌        | 752/5000 [01:06<06:14, 11.33it/s]"
     ]
    },
    {
     "name": "stdout",
     "output_type": "stream",
     "text": [
      "Episode [750/5000]:\t\t\tAccuracy: 91.89 ± 0.37 % (88.00 %)\n"
     ]
    },
    {
     "name": "stderr",
     "output_type": "stream",
     "text": [
      " 16%|█▌        | 802/5000 [01:10<06:10, 11.33it/s]"
     ]
    },
    {
     "name": "stdout",
     "output_type": "stream",
     "text": [
      "Episode [800/5000]:\t\t\tAccuracy: 91.88 ± 0.37 % (97.33 %)\n"
     ]
    },
    {
     "name": "stderr",
     "output_type": "stream",
     "text": [
      " 17%|█▋        | 852/5000 [01:15<06:06, 11.31it/s]"
     ]
    },
    {
     "name": "stdout",
     "output_type": "stream",
     "text": [
      "Episode [850/5000]:\t\t\tAccuracy: 91.89 ± 0.36 % (90.67 %)\n"
     ]
    },
    {
     "name": "stderr",
     "output_type": "stream",
     "text": [
      " 18%|█▊        | 902/5000 [01:19<06:02, 11.32it/s]"
     ]
    },
    {
     "name": "stdout",
     "output_type": "stream",
     "text": [
      "Episode [900/5000]:\t\t\tAccuracy: 91.88 ± 0.35 % (96.00 %)\n"
     ]
    },
    {
     "name": "stderr",
     "output_type": "stream",
     "text": [
      " 19%|█▉        | 952/5000 [01:24<05:57, 11.32it/s]"
     ]
    },
    {
     "name": "stdout",
     "output_type": "stream",
     "text": [
      "Episode [950/5000]:\t\t\tAccuracy: 91.83 ± 0.34 % (90.67 %)\n"
     ]
    },
    {
     "name": "stderr",
     "output_type": "stream",
     "text": [
      " 20%|██        | 1002/5000 [01:28<05:53, 11.30it/s]"
     ]
    },
    {
     "name": "stdout",
     "output_type": "stream",
     "text": [
      "Episode [1000/5000]:\t\t\tAccuracy: 91.81 ± 0.33 % (96.00 %)\n"
     ]
    },
    {
     "name": "stderr",
     "output_type": "stream",
     "text": [
      " 21%|██        | 1052/5000 [01:32<05:48, 11.32it/s]"
     ]
    },
    {
     "name": "stdout",
     "output_type": "stream",
     "text": [
      "Episode [1050/5000]:\t\t\tAccuracy: 91.77 ± 0.33 % (96.00 %)\n"
     ]
    },
    {
     "name": "stderr",
     "output_type": "stream",
     "text": [
      " 22%|██▏       | 1102/5000 [01:37<05:44, 11.32it/s]"
     ]
    },
    {
     "name": "stdout",
     "output_type": "stream",
     "text": [
      "Episode [1100/5000]:\t\t\tAccuracy: 91.81 ± 0.32 % (96.00 %)\n"
     ]
    },
    {
     "name": "stderr",
     "output_type": "stream",
     "text": [
      " 23%|██▎       | 1152/5000 [01:41<05:40, 11.31it/s]"
     ]
    },
    {
     "name": "stdout",
     "output_type": "stream",
     "text": [
      "Episode [1150/5000]:\t\t\tAccuracy: 91.86 ± 0.31 % (92.00 %)\n"
     ]
    },
    {
     "name": "stderr",
     "output_type": "stream",
     "text": [
      " 24%|██▍       | 1202/5000 [01:46<05:36, 11.30it/s]"
     ]
    },
    {
     "name": "stdout",
     "output_type": "stream",
     "text": [
      "Episode [1200/5000]:\t\t\tAccuracy: 91.85 ± 0.30 % (89.33 %)\n"
     ]
    },
    {
     "name": "stderr",
     "output_type": "stream",
     "text": [
      " 25%|██▌       | 1252/5000 [01:50<05:31, 11.30it/s]"
     ]
    },
    {
     "name": "stdout",
     "output_type": "stream",
     "text": [
      "Episode [1250/5000]:\t\t\tAccuracy: 91.82 ± 0.30 % (89.33 %)\n"
     ]
    },
    {
     "name": "stderr",
     "output_type": "stream",
     "text": [
      " 26%|██▌       | 1302/5000 [01:55<05:26, 11.31it/s]"
     ]
    },
    {
     "name": "stdout",
     "output_type": "stream",
     "text": [
      "Episode [1300/5000]:\t\t\tAccuracy: 91.87 ± 0.29 % (93.33 %)\n"
     ]
    },
    {
     "name": "stderr",
     "output_type": "stream",
     "text": [
      " 27%|██▋       | 1352/5000 [01:59<05:22, 11.32it/s]"
     ]
    },
    {
     "name": "stdout",
     "output_type": "stream",
     "text": [
      "Episode [1350/5000]:\t\t\tAccuracy: 91.87 ± 0.29 % (85.33 %)\n"
     ]
    },
    {
     "name": "stderr",
     "output_type": "stream",
     "text": [
      " 28%|██▊       | 1402/5000 [02:03<05:18, 11.31it/s]"
     ]
    },
    {
     "name": "stdout",
     "output_type": "stream",
     "text": [
      "Episode [1400/5000]:\t\t\tAccuracy: 91.89 ± 0.28 % (90.67 %)\n"
     ]
    },
    {
     "name": "stderr",
     "output_type": "stream",
     "text": [
      " 29%|██▉       | 1452/5000 [02:08<05:13, 11.31it/s]"
     ]
    },
    {
     "name": "stdout",
     "output_type": "stream",
     "text": [
      "Episode [1450/5000]:\t\t\tAccuracy: 91.84 ± 0.28 % (82.67 %)\n"
     ]
    },
    {
     "name": "stderr",
     "output_type": "stream",
     "text": [
      " 30%|███       | 1502/5000 [02:12<05:09, 11.30it/s]"
     ]
    },
    {
     "name": "stdout",
     "output_type": "stream",
     "text": [
      "Episode [1500/5000]:\t\t\tAccuracy: 91.82 ± 0.27 % (89.33 %)\n"
     ]
    },
    {
     "name": "stderr",
     "output_type": "stream",
     "text": [
      " 31%|███       | 1552/5000 [02:17<05:05, 11.30it/s]"
     ]
    },
    {
     "name": "stdout",
     "output_type": "stream",
     "text": [
      "Episode [1550/5000]:\t\t\tAccuracy: 91.84 ± 0.27 % (93.33 %)\n"
     ]
    },
    {
     "name": "stderr",
     "output_type": "stream",
     "text": [
      " 32%|███▏      | 1602/5000 [02:21<05:00, 11.30it/s]"
     ]
    },
    {
     "name": "stdout",
     "output_type": "stream",
     "text": [
      "Episode [1600/5000]:\t\t\tAccuracy: 91.81 ± 0.26 % (90.67 %)\n"
     ]
    },
    {
     "name": "stderr",
     "output_type": "stream",
     "text": [
      " 33%|███▎      | 1650/5000 [02:25<04:55, 11.32it/s]"
     ]
    },
    {
     "name": "stdout",
     "output_type": "stream",
     "text": [
      "Episode [1650/5000]:\t\t\tAccuracy: 91.78 ± 0.26 % (94.67 %)\n"
     ]
    },
    {
     "name": "stderr",
     "output_type": "stream",
     "text": [
      " 34%|███▍      | 1702/5000 [02:30<04:51, 11.33it/s]"
     ]
    },
    {
     "name": "stdout",
     "output_type": "stream",
     "text": [
      "Episode [1700/5000]:\t\t\tAccuracy: 91.81 ± 0.26 % (94.67 %)\n"
     ]
    },
    {
     "name": "stderr",
     "output_type": "stream",
     "text": [
      " 35%|███▌      | 1752/5000 [02:34<04:46, 11.35it/s]"
     ]
    },
    {
     "name": "stdout",
     "output_type": "stream",
     "text": [
      "Episode [1750/5000]:\t\t\tAccuracy: 91.81 ± 0.25 % (98.67 %)\n"
     ]
    },
    {
     "name": "stderr",
     "output_type": "stream",
     "text": [
      " 36%|███▌      | 1802/5000 [02:39<04:42, 11.32it/s]"
     ]
    },
    {
     "name": "stdout",
     "output_type": "stream",
     "text": [
      "Episode [1800/5000]:\t\t\tAccuracy: 91.85 ± 0.25 % (94.67 %)\n"
     ]
    },
    {
     "name": "stderr",
     "output_type": "stream",
     "text": [
      " 37%|███▋      | 1852/5000 [02:43<04:37, 11.35it/s]"
     ]
    },
    {
     "name": "stdout",
     "output_type": "stream",
     "text": [
      "Episode [1850/5000]:\t\t\tAccuracy: 91.86 ± 0.24 % (93.33 %)\n"
     ]
    },
    {
     "name": "stderr",
     "output_type": "stream",
     "text": [
      " 38%|███▊      | 1902/5000 [02:48<04:33, 11.33it/s]"
     ]
    },
    {
     "name": "stdout",
     "output_type": "stream",
     "text": [
      "Episode [1900/5000]:\t\t\tAccuracy: 91.88 ± 0.24 % (96.00 %)\n"
     ]
    },
    {
     "name": "stderr",
     "output_type": "stream",
     "text": [
      " 39%|███▉      | 1952/5000 [02:52<04:29, 11.33it/s]"
     ]
    },
    {
     "name": "stdout",
     "output_type": "stream",
     "text": [
      "Episode [1950/5000]:\t\t\tAccuracy: 91.85 ± 0.24 % (85.33 %)\n"
     ]
    },
    {
     "name": "stderr",
     "output_type": "stream",
     "text": [
      " 40%|████      | 2002/5000 [02:56<04:24, 11.34it/s]"
     ]
    },
    {
     "name": "stdout",
     "output_type": "stream",
     "text": [
      "Episode [2000/5000]:\t\t\tAccuracy: 91.81 ± 0.24 % (84.00 %)\n"
     ]
    },
    {
     "name": "stderr",
     "output_type": "stream",
     "text": [
      " 41%|████      | 2052/5000 [03:01<04:22, 11.23it/s]"
     ]
    },
    {
     "name": "stdout",
     "output_type": "stream",
     "text": [
      "Episode [2050/5000]:\t\t\tAccuracy: 91.82 ± 0.23 % (92.00 %)\n"
     ]
    },
    {
     "name": "stderr",
     "output_type": "stream",
     "text": [
      " 42%|████▏     | 2102/5000 [03:05<04:15, 11.34it/s]"
     ]
    },
    {
     "name": "stdout",
     "output_type": "stream",
     "text": [
      "Episode [2100/5000]:\t\t\tAccuracy: 91.79 ± 0.23 % (93.33 %)\n"
     ]
    },
    {
     "name": "stderr",
     "output_type": "stream",
     "text": [
      " 43%|████▎     | 2152/5000 [03:10<04:11, 11.32it/s]"
     ]
    },
    {
     "name": "stdout",
     "output_type": "stream",
     "text": [
      "Episode [2150/5000]:\t\t\tAccuracy: 91.81 ± 0.23 % (97.33 %)\n"
     ]
    },
    {
     "name": "stderr",
     "output_type": "stream",
     "text": [
      " 44%|████▍     | 2202/5000 [03:14<04:07, 11.32it/s]"
     ]
    },
    {
     "name": "stdout",
     "output_type": "stream",
     "text": [
      "Episode [2200/5000]:\t\t\tAccuracy: 91.81 ± 0.22 % (98.67 %)\n"
     ]
    },
    {
     "name": "stderr",
     "output_type": "stream",
     "text": [
      " 45%|████▌     | 2252/5000 [03:18<04:03, 11.28it/s]"
     ]
    },
    {
     "name": "stdout",
     "output_type": "stream",
     "text": [
      "Episode [2250/5000]:\t\t\tAccuracy: 91.81 ± 0.22 % (97.33 %)\n"
     ]
    },
    {
     "name": "stderr",
     "output_type": "stream",
     "text": [
      " 46%|████▌     | 2302/5000 [03:23<03:58, 11.33it/s]"
     ]
    },
    {
     "name": "stdout",
     "output_type": "stream",
     "text": [
      "Episode [2300/5000]:\t\t\tAccuracy: 91.81 ± 0.22 % (93.33 %)\n"
     ]
    },
    {
     "name": "stderr",
     "output_type": "stream",
     "text": [
      " 47%|████▋     | 2352/5000 [03:27<03:53, 11.33it/s]"
     ]
    },
    {
     "name": "stdout",
     "output_type": "stream",
     "text": [
      "Episode [2350/5000]:\t\t\tAccuracy: 91.80 ± 0.22 % (85.33 %)\n"
     ]
    },
    {
     "name": "stderr",
     "output_type": "stream",
     "text": [
      " 48%|████▊     | 2402/5000 [03:32<03:49, 11.33it/s]"
     ]
    },
    {
     "name": "stdout",
     "output_type": "stream",
     "text": [
      "Episode [2400/5000]:\t\t\tAccuracy: 91.79 ± 0.21 % (92.00 %)\n"
     ]
    },
    {
     "name": "stderr",
     "output_type": "stream",
     "text": [
      " 49%|████▉     | 2452/5000 [03:36<03:45, 11.30it/s]"
     ]
    },
    {
     "name": "stdout",
     "output_type": "stream",
     "text": [
      "Episode [2450/5000]:\t\t\tAccuracy: 91.77 ± 0.21 % (98.67 %)\n"
     ]
    },
    {
     "name": "stderr",
     "output_type": "stream",
     "text": [
      " 50%|█████     | 2502/5000 [03:41<03:40, 11.31it/s]"
     ]
    },
    {
     "name": "stdout",
     "output_type": "stream",
     "text": [
      "Episode [2500/5000]:\t\t\tAccuracy: 91.79 ± 0.21 % (89.33 %)\n"
     ]
    },
    {
     "name": "stderr",
     "output_type": "stream",
     "text": [
      " 51%|█████     | 2552/5000 [03:45<03:35, 11.34it/s]"
     ]
    },
    {
     "name": "stdout",
     "output_type": "stream",
     "text": [
      "Episode [2550/5000]:\t\t\tAccuracy: 91.78 ± 0.21 % (98.67 %)\n"
     ]
    },
    {
     "name": "stderr",
     "output_type": "stream",
     "text": [
      " 52%|█████▏    | 2602/5000 [03:49<03:32, 11.29it/s]"
     ]
    },
    {
     "name": "stdout",
     "output_type": "stream",
     "text": [
      "Episode [2600/5000]:\t\t\tAccuracy: 91.78 ± 0.21 % (100.00 %)\n"
     ]
    },
    {
     "name": "stderr",
     "output_type": "stream",
     "text": [
      " 53%|█████▎    | 2652/5000 [03:54<03:27, 11.29it/s]"
     ]
    },
    {
     "name": "stdout",
     "output_type": "stream",
     "text": [
      "Episode [2650/5000]:\t\t\tAccuracy: 91.78 ± 0.20 % (97.33 %)\n"
     ]
    },
    {
     "name": "stderr",
     "output_type": "stream",
     "text": [
      " 54%|█████▍    | 2702/5000 [03:58<03:22, 11.33it/s]"
     ]
    },
    {
     "name": "stdout",
     "output_type": "stream",
     "text": [
      "Episode [2700/5000]:\t\t\tAccuracy: 91.78 ± 0.20 % (86.67 %)\n"
     ]
    },
    {
     "name": "stderr",
     "output_type": "stream",
     "text": [
      " 55%|█████▌    | 2752/5000 [04:03<03:18, 11.31it/s]"
     ]
    },
    {
     "name": "stdout",
     "output_type": "stream",
     "text": [
      "Episode [2750/5000]:\t\t\tAccuracy: 91.78 ± 0.20 % (86.67 %)\n"
     ]
    },
    {
     "name": "stderr",
     "output_type": "stream",
     "text": [
      " 56%|█████▌    | 2802/5000 [04:07<03:13, 11.33it/s]"
     ]
    },
    {
     "name": "stdout",
     "output_type": "stream",
     "text": [
      "Episode [2800/5000]:\t\t\tAccuracy: 91.80 ± 0.20 % (85.33 %)\n"
     ]
    },
    {
     "name": "stderr",
     "output_type": "stream",
     "text": [
      " 57%|█████▋    | 2852/5000 [04:11<03:09, 11.33it/s]"
     ]
    },
    {
     "name": "stdout",
     "output_type": "stream",
     "text": [
      "Episode [2850/5000]:\t\t\tAccuracy: 91.80 ± 0.20 % (97.33 %)\n"
     ]
    },
    {
     "name": "stderr",
     "output_type": "stream",
     "text": [
      " 58%|█████▊    | 2902/5000 [04:16<03:05, 11.32it/s]"
     ]
    },
    {
     "name": "stdout",
     "output_type": "stream",
     "text": [
      "Episode [2900/5000]:\t\t\tAccuracy: 91.79 ± 0.19 % (96.00 %)\n"
     ]
    },
    {
     "name": "stderr",
     "output_type": "stream",
     "text": [
      " 59%|█████▉    | 2952/5000 [04:20<03:00, 11.32it/s]"
     ]
    },
    {
     "name": "stdout",
     "output_type": "stream",
     "text": [
      "Episode [2950/5000]:\t\t\tAccuracy: 91.78 ± 0.19 % (86.67 %)\n"
     ]
    },
    {
     "name": "stderr",
     "output_type": "stream",
     "text": [
      " 60%|██████    | 3002/5000 [04:25<02:56, 11.32it/s]"
     ]
    },
    {
     "name": "stdout",
     "output_type": "stream",
     "text": [
      "Episode [3000/5000]:\t\t\tAccuracy: 91.78 ± 0.19 % (93.33 %)\n"
     ]
    },
    {
     "name": "stderr",
     "output_type": "stream",
     "text": [
      " 61%|██████    | 3052/5000 [04:29<02:52, 11.31it/s]"
     ]
    },
    {
     "name": "stdout",
     "output_type": "stream",
     "text": [
      "Episode [3050/5000]:\t\t\tAccuracy: 91.77 ± 0.19 % (97.33 %)\n"
     ]
    },
    {
     "name": "stderr",
     "output_type": "stream",
     "text": [
      " 62%|██████▏   | 3102/5000 [04:34<02:47, 11.31it/s]"
     ]
    },
    {
     "name": "stdout",
     "output_type": "stream",
     "text": [
      "Episode [3100/5000]:\t\t\tAccuracy: 91.76 ± 0.19 % (97.33 %)\n"
     ]
    },
    {
     "name": "stderr",
     "output_type": "stream",
     "text": [
      " 63%|██████▎   | 3152/5000 [04:38<02:43, 11.30it/s]"
     ]
    },
    {
     "name": "stdout",
     "output_type": "stream",
     "text": [
      "Episode [3150/5000]:\t\t\tAccuracy: 91.76 ± 0.18 % (92.00 %)\n"
     ]
    },
    {
     "name": "stderr",
     "output_type": "stream",
     "text": [
      " 64%|██████▍   | 3202/5000 [04:42<02:38, 11.32it/s]"
     ]
    },
    {
     "name": "stdout",
     "output_type": "stream",
     "text": [
      "Episode [3200/5000]:\t\t\tAccuracy: 91.74 ± 0.18 % (64.00 %)\n"
     ]
    },
    {
     "name": "stderr",
     "output_type": "stream",
     "text": [
      " 65%|██████▌   | 3252/5000 [04:47<02:34, 11.30it/s]"
     ]
    },
    {
     "name": "stdout",
     "output_type": "stream",
     "text": [
      "Episode [3250/5000]:\t\t\tAccuracy: 91.72 ± 0.18 % (81.33 %)\n"
     ]
    },
    {
     "name": "stderr",
     "output_type": "stream",
     "text": [
      " 66%|██████▌   | 3302/5000 [04:51<02:30, 11.29it/s]"
     ]
    },
    {
     "name": "stdout",
     "output_type": "stream",
     "text": [
      "Episode [3300/5000]:\t\t\tAccuracy: 91.74 ± 0.18 % (78.67 %)\n"
     ]
    },
    {
     "name": "stderr",
     "output_type": "stream",
     "text": [
      " 67%|██████▋   | 3352/5000 [04:56<02:25, 11.29it/s]"
     ]
    },
    {
     "name": "stdout",
     "output_type": "stream",
     "text": [
      "Episode [3350/5000]:\t\t\tAccuracy: 91.74 ± 0.18 % (92.00 %)\n"
     ]
    },
    {
     "name": "stderr",
     "output_type": "stream",
     "text": [
      " 68%|██████▊   | 3402/5000 [05:00<02:21, 11.28it/s]"
     ]
    },
    {
     "name": "stdout",
     "output_type": "stream",
     "text": [
      "Episode [3400/5000]:\t\t\tAccuracy: 91.74 ± 0.18 % (96.00 %)\n"
     ]
    },
    {
     "name": "stderr",
     "output_type": "stream",
     "text": [
      " 69%|██████▉   | 3452/5000 [05:05<02:17, 11.29it/s]"
     ]
    },
    {
     "name": "stdout",
     "output_type": "stream",
     "text": [
      "Episode [3450/5000]:\t\t\tAccuracy: 91.73 ± 0.18 % (90.67 %)\n"
     ]
    },
    {
     "name": "stderr",
     "output_type": "stream",
     "text": [
      " 70%|███████   | 3502/5000 [05:09<02:12, 11.28it/s]"
     ]
    },
    {
     "name": "stdout",
     "output_type": "stream",
     "text": [
      "Episode [3500/5000]:\t\t\tAccuracy: 91.72 ± 0.18 % (97.33 %)\n"
     ]
    },
    {
     "name": "stderr",
     "output_type": "stream",
     "text": [
      " 71%|███████   | 3552/5000 [05:13<02:08, 11.28it/s]"
     ]
    },
    {
     "name": "stdout",
     "output_type": "stream",
     "text": [
      "Episode [3550/5000]:\t\t\tAccuracy: 91.72 ± 0.17 % (92.00 %)\n"
     ]
    },
    {
     "name": "stderr",
     "output_type": "stream",
     "text": [
      " 72%|███████▏  | 3602/5000 [05:18<02:03, 11.31it/s]"
     ]
    },
    {
     "name": "stdout",
     "output_type": "stream",
     "text": [
      "Episode [3600/5000]:\t\t\tAccuracy: 91.69 ± 0.17 % (84.00 %)\n"
     ]
    },
    {
     "name": "stderr",
     "output_type": "stream",
     "text": [
      " 73%|███████▎  | 3652/5000 [05:22<01:59, 11.31it/s]"
     ]
    },
    {
     "name": "stdout",
     "output_type": "stream",
     "text": [
      "Episode [3650/5000]:\t\t\tAccuracy: 91.69 ± 0.17 % (93.33 %)\n"
     ]
    },
    {
     "name": "stderr",
     "output_type": "stream",
     "text": [
      " 74%|███████▍  | 3702/5000 [05:27<01:54, 11.30it/s]"
     ]
    },
    {
     "name": "stdout",
     "output_type": "stream",
     "text": [
      "Episode [3700/5000]:\t\t\tAccuracy: 91.69 ± 0.17 % (77.33 %)\n"
     ]
    },
    {
     "name": "stderr",
     "output_type": "stream",
     "text": [
      " 75%|███████▌  | 3752/5000 [05:31<01:50, 11.31it/s]"
     ]
    },
    {
     "name": "stdout",
     "output_type": "stream",
     "text": [
      "Episode [3750/5000]:\t\t\tAccuracy: 91.70 ± 0.17 % (96.00 %)\n"
     ]
    },
    {
     "name": "stderr",
     "output_type": "stream",
     "text": [
      " 76%|███████▌  | 3802/5000 [05:36<01:46, 11.28it/s]"
     ]
    },
    {
     "name": "stdout",
     "output_type": "stream",
     "text": [
      "Episode [3800/5000]:\t\t\tAccuracy: 91.70 ± 0.17 % (97.33 %)\n"
     ]
    },
    {
     "name": "stderr",
     "output_type": "stream",
     "text": [
      " 77%|███████▋  | 3852/5000 [05:40<01:41, 11.33it/s]"
     ]
    },
    {
     "name": "stdout",
     "output_type": "stream",
     "text": [
      "Episode [3850/5000]:\t\t\tAccuracy: 91.70 ± 0.17 % (98.67 %)\n"
     ]
    },
    {
     "name": "stderr",
     "output_type": "stream",
     "text": [
      " 78%|███████▊  | 3902/5000 [05:44<01:37, 11.30it/s]"
     ]
    },
    {
     "name": "stdout",
     "output_type": "stream",
     "text": [
      "Episode [3900/5000]:\t\t\tAccuracy: 91.67 ± 0.17 % (93.33 %)\n"
     ]
    },
    {
     "name": "stderr",
     "output_type": "stream",
     "text": [
      " 79%|███████▉  | 3952/5000 [05:49<01:32, 11.30it/s]"
     ]
    },
    {
     "name": "stdout",
     "output_type": "stream",
     "text": [
      "Episode [3950/5000]:\t\t\tAccuracy: 91.66 ± 0.17 % (84.00 %)\n"
     ]
    },
    {
     "name": "stderr",
     "output_type": "stream",
     "text": [
      " 80%|████████  | 4002/5000 [05:53<01:28, 11.30it/s]"
     ]
    },
    {
     "name": "stdout",
     "output_type": "stream",
     "text": [
      "Episode [4000/5000]:\t\t\tAccuracy: 91.67 ± 0.17 % (94.67 %)\n"
     ]
    },
    {
     "name": "stderr",
     "output_type": "stream",
     "text": [
      " 81%|████████  | 4052/5000 [05:58<01:23, 11.31it/s]"
     ]
    },
    {
     "name": "stdout",
     "output_type": "stream",
     "text": [
      "Episode [4050/5000]:\t\t\tAccuracy: 91.67 ± 0.16 % (96.00 %)\n"
     ]
    },
    {
     "name": "stderr",
     "output_type": "stream",
     "text": [
      " 82%|████████▏ | 4102/5000 [06:02<01:19, 11.23it/s]"
     ]
    },
    {
     "name": "stdout",
     "output_type": "stream",
     "text": [
      "Episode [4100/5000]:\t\t\tAccuracy: 91.67 ± 0.16 % (82.67 %)\n"
     ]
    },
    {
     "name": "stderr",
     "output_type": "stream",
     "text": [
      " 83%|████████▎ | 4152/5000 [06:06<01:15, 11.30it/s]"
     ]
    },
    {
     "name": "stdout",
     "output_type": "stream",
     "text": [
      "Episode [4150/5000]:\t\t\tAccuracy: 91.67 ± 0.16 % (89.33 %)\n"
     ]
    },
    {
     "name": "stderr",
     "output_type": "stream",
     "text": [
      " 84%|████████▍ | 4202/5000 [06:11<01:10, 11.29it/s]"
     ]
    },
    {
     "name": "stdout",
     "output_type": "stream",
     "text": [
      "Episode [4200/5000]:\t\t\tAccuracy: 91.67 ± 0.16 % (93.33 %)\n"
     ]
    },
    {
     "name": "stderr",
     "output_type": "stream",
     "text": [
      " 85%|████████▌ | 4252/5000 [06:15<01:06, 11.29it/s]"
     ]
    },
    {
     "name": "stdout",
     "output_type": "stream",
     "text": [
      "Episode [4250/5000]:\t\t\tAccuracy: 91.66 ± 0.16 % (92.00 %)\n"
     ]
    },
    {
     "name": "stderr",
     "output_type": "stream",
     "text": [
      " 86%|████████▌ | 4302/5000 [06:20<01:01, 11.31it/s]"
     ]
    },
    {
     "name": "stdout",
     "output_type": "stream",
     "text": [
      "Episode [4300/5000]:\t\t\tAccuracy: 91.66 ± 0.16 % (96.00 %)\n"
     ]
    },
    {
     "name": "stderr",
     "output_type": "stream",
     "text": [
      " 87%|████████▋ | 4352/5000 [06:24<00:57, 11.31it/s]"
     ]
    },
    {
     "name": "stdout",
     "output_type": "stream",
     "text": [
      "Episode [4350/5000]:\t\t\tAccuracy: 91.65 ± 0.16 % (97.33 %)\n"
     ]
    },
    {
     "name": "stderr",
     "output_type": "stream",
     "text": [
      " 88%|████████▊ | 4402/5000 [06:29<00:53, 11.15it/s]"
     ]
    },
    {
     "name": "stdout",
     "output_type": "stream",
     "text": [
      "Episode [4400/5000]:\t\t\tAccuracy: 91.66 ± 0.16 % (90.67 %)\n"
     ]
    },
    {
     "name": "stderr",
     "output_type": "stream",
     "text": [
      " 89%|████████▉ | 4452/5000 [06:33<00:48, 11.29it/s]"
     ]
    },
    {
     "name": "stdout",
     "output_type": "stream",
     "text": [
      "Episode [4450/5000]:\t\t\tAccuracy: 91.65 ± 0.16 % (82.67 %)\n"
     ]
    },
    {
     "name": "stderr",
     "output_type": "stream",
     "text": [
      " 90%|█████████ | 4502/5000 [06:37<00:44, 11.30it/s]"
     ]
    },
    {
     "name": "stdout",
     "output_type": "stream",
     "text": [
      "Episode [4500/5000]:\t\t\tAccuracy: 91.66 ± 0.16 % (97.33 %)\n"
     ]
    },
    {
     "name": "stderr",
     "output_type": "stream",
     "text": [
      " 91%|█████████ | 4552/5000 [06:42<00:39, 11.30it/s]"
     ]
    },
    {
     "name": "stdout",
     "output_type": "stream",
     "text": [
      "Episode [4550/5000]:\t\t\tAccuracy: 91.65 ± 0.16 % (93.33 %)\n"
     ]
    },
    {
     "name": "stderr",
     "output_type": "stream",
     "text": [
      " 92%|█████████▏| 4602/5000 [06:46<00:35, 11.30it/s]"
     ]
    },
    {
     "name": "stdout",
     "output_type": "stream",
     "text": [
      "Episode [4600/5000]:\t\t\tAccuracy: 91.64 ± 0.16 % (86.67 %)\n"
     ]
    },
    {
     "name": "stderr",
     "output_type": "stream",
     "text": [
      " 93%|█████████▎| 4652/5000 [06:51<00:30, 11.28it/s]"
     ]
    },
    {
     "name": "stdout",
     "output_type": "stream",
     "text": [
      "Episode [4650/5000]:\t\t\tAccuracy: 91.64 ± 0.15 % (89.33 %)\n"
     ]
    },
    {
     "name": "stderr",
     "output_type": "stream",
     "text": [
      " 94%|█████████▍| 4702/5000 [06:55<00:26, 11.28it/s]"
     ]
    },
    {
     "name": "stdout",
     "output_type": "stream",
     "text": [
      "Episode [4700/5000]:\t\t\tAccuracy: 91.64 ± 0.15 % (93.33 %)\n"
     ]
    },
    {
     "name": "stderr",
     "output_type": "stream",
     "text": [
      " 95%|█████████▌| 4752/5000 [07:00<00:21, 11.33it/s]"
     ]
    },
    {
     "name": "stdout",
     "output_type": "stream",
     "text": [
      "Episode [4750/5000]:\t\t\tAccuracy: 91.64 ± 0.15 % (94.67 %)\n"
     ]
    },
    {
     "name": "stderr",
     "output_type": "stream",
     "text": [
      " 96%|█████████▌| 4802/5000 [07:04<00:17, 11.28it/s]"
     ]
    },
    {
     "name": "stdout",
     "output_type": "stream",
     "text": [
      "Episode [4800/5000]:\t\t\tAccuracy: 91.64 ± 0.15 % (93.33 %)\n"
     ]
    },
    {
     "name": "stderr",
     "output_type": "stream",
     "text": [
      " 97%|█████████▋| 4852/5000 [07:08<00:13, 11.31it/s]"
     ]
    },
    {
     "name": "stdout",
     "output_type": "stream",
     "text": [
      "Episode [4850/5000]:\t\t\tAccuracy: 91.65 ± 0.15 % (90.67 %)\n"
     ]
    },
    {
     "name": "stderr",
     "output_type": "stream",
     "text": [
      " 98%|█████████▊| 4902/5000 [07:13<00:08, 11.30it/s]"
     ]
    },
    {
     "name": "stdout",
     "output_type": "stream",
     "text": [
      "Episode [4900/5000]:\t\t\tAccuracy: 91.63 ± 0.15 % (90.67 %)\n"
     ]
    },
    {
     "name": "stderr",
     "output_type": "stream",
     "text": [
      " 99%|█████████▉| 4952/5000 [07:17<00:04, 11.29it/s]"
     ]
    },
    {
     "name": "stdout",
     "output_type": "stream",
     "text": [
      "Episode [4950/5000]:\t\t\tAccuracy: 91.64 ± 0.15 % (88.00 %)\n"
     ]
    },
    {
     "name": "stderr",
     "output_type": "stream",
     "text": [
      "100%|██████████| 5000/5000 [07:21<00:00, 11.31it/s]\n"
     ]
    },
    {
     "name": "stdout",
     "output_type": "stream",
     "text": [
      "Episode [5000/5000]:\t\t\tAccuracy: 91.63 ± 0.15 % (76.00 %)\n"
     ]
    }
   ],
   "source": [
    "opt = argparse_config_test() # refer to args_config_test.py for details of auguments\n",
    "opt.load = './experiments/cub_stage2_5W5S_SEGA/best_model.pth'\n",
    "opt.gpu = '0'\n",
    "opt.network = 'ResNet12'\n",
    "opt.head = 'SEGA'\n",
    "opt.weight_generator_type = 'semantic_guided_attention_on_final_visproto'\n",
    "# TODO: Set the appropriate semantic_path of the datasets here.\n",
    "opt.semantic_path = '/data/FSLDatasets/cub/cubfs_attributes.npy'\n",
    "opt.nKall = 100\n",
    "opt.dataset = 'CUB'\n",
    "opt.avg_pool = True\n",
    "opt.nfeat = 640\n",
    "opt.way, opt.shot = [5,5]\n",
    "opt.query=15\n",
    "opt.episode=5000\n",
    "test(opt)\n",
    "torch.cuda.empty_cache()"
   ]
  },
  {
   "cell_type": "code",
   "execution_count": null,
   "id": "bibliographic-guard",
   "metadata": {},
   "outputs": [],
   "source": []
  }
 ],
 "metadata": {
  "kernelspec": {
   "display_name": "py37torch190",
   "language": "python",
   "name": "py37torch190"
  },
  "language_info": {
   "codemirror_mode": {
    "name": "ipython",
    "version": 3
   },
   "file_extension": ".py",
   "mimetype": "text/x-python",
   "name": "python",
   "nbconvert_exporter": "python",
   "pygments_lexer": "ipython3",
   "version": "3.7.0"
  }
 },
 "nbformat": 4,
 "nbformat_minor": 5
}
