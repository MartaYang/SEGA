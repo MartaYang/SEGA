{
 "cells": [
  {
   "cell_type": "markdown",
   "id": "59598917-8089-4899-b06c-6d4aebe153b3",
   "metadata": {
    "jupyter": {
     "outputs_hidden": true
    },
    "tags": []
   },
   "source": [
    "## **Stage 2** on **CIFAR-FS**：few shot training and testing on **5W1S** scenario\n",
    "#### Note: During the second stage of training, the Feature Extractor is fixed. The second stage, which is fewshot training, is of vital importance which contains the **training of the Semantic Guided Attention Weight Generator and Cosine Classifier**."
   ]
  },
  {
   "cell_type": "code",
   "execution_count": 1,
   "id": "religious-actor",
   "metadata": {},
   "outputs": [],
   "source": [
    "import sys\n",
    "import torch\n",
    "sys.path.append(\"..\")\n",
    "from traincode import train_stage1,train_stage2\n",
    "from testcode import test\n",
    "\n",
    "from args_config_train import argparse_config_train\n",
    "from args_config_test import argparse_config_test"
   ]
  },
  {
   "cell_type": "code",
   "execution_count": 2,
   "id": "published-venue",
   "metadata": {
    "tags": []
   },
   "outputs": [
    {
     "name": "stdout",
     "output_type": "stream",
     "text": [
      "Loading CIFAR-FS dataset - phase train\n",
      "Loading CIFAR-FS dataset - phase val\n",
      "using gpu: 1\n",
      "{'num_epoch': 20, 'save_epoch': 10, 'train_shot': 1, 'val_shot': 1, 'train_query': 6, 'val_episode': 1000, 'val_query': 15, 'train_way': 5, 'test_way': 5, 'nfeat': 640, 'nKall': 64, 'nKbase': 64, 'nTestBase': 30, 'epoch_size': 600, 'avg_pool': True, 'milestones': [5, 10, 15, 20], 'lambdalr': [1.0, 0.5, 0.1, 0.05], 'save_path': './experiments/cifar-fs_stage2_5W1S_SEGA', 'gpu': '1', 'network': 'ResNet12', 'head': 'SEGA', 'weight_generator_type': 'semantic_guided_attention_on_final_visproto', 'dataset': 'CIFAR_FS', 'semantic_path': '/data/FSLDatasets/CIFAR-FS/label2vec_cifarfs.npy', 'episodes_per_batch': 8, 'embnet_pretrainedandfix': True, 'pretrian_embnet_path': './experiments/cifar-fs_stage1/best_model.pth'}\n",
      "$$$$$$$$$$$$SEGAhead$$$$$$$$$$$$\n",
      "semantic_path: /data/FSLDatasets/CIFAR-FS/label2vec_cifarfs.npy\n",
      "semantic_guided_attention_on_final_visproto\n",
      "SemLayers is an MLP: FC+LeakyReLU+Dropout+FC+Sigmoid\n",
      "Train Epoch: 1\tLearning Rate: 1.0000\n"
     ]
    },
    {
     "name": "stderr",
     "output_type": "stream",
     "text": [
      "  0%|          | 0/600 [00:00<?, ?it/s]/home/yangfengyuan/anaconda3/envs/py37torch190/lib/python3.7/site-packages/torch/nn/functional.py:718: UserWarning: Named tensors and all their associated APIs are an experimental feature and subject to change. Please do not use them for anything important until they are released as stable. (Triggered internally at  /opt/conda/conda-bld/pytorch_1623448265233/work/c10/core/TensorImpl.h:1156.)\n",
      "  return torch.max_pool2d(input, kernel_size, stride, padding, dilation, ceil_mode)\n",
      " 17%|█▋        | 102/600 [00:13<00:56,  8.82it/s]"
     ]
    },
    {
     "name": "stdout",
     "output_type": "stream",
     "text": [
      "Train Epoch: 1\tBatch: [100/600]\tLoss: 1.1087\tAcc_both: 69.21\tAcc_base: 76.10\tAcc_novel: 81.25 % (81.67 %)\n"
     ]
    },
    {
     "name": "stderr",
     "output_type": "stream",
     "text": [
      " 34%|███▎      | 202/600 [00:25<00:43,  9.16it/s]"
     ]
    },
    {
     "name": "stdout",
     "output_type": "stream",
     "text": [
      "Train Epoch: 1\tBatch: [200/600]\tLoss: 0.9809\tAcc_both: 71.43\tAcc_base: 75.88\tAcc_novel: 83.76 % (87.50 %)\n"
     ]
    },
    {
     "name": "stderr",
     "output_type": "stream",
     "text": [
      " 50%|█████     | 302/600 [00:37<00:32,  9.30it/s]"
     ]
    },
    {
     "name": "stdout",
     "output_type": "stream",
     "text": [
      "Train Epoch: 1\tBatch: [300/600]\tLoss: 0.8572\tAcc_both: 72.76\tAcc_base: 75.92\tAcc_novel: 85.28 % (88.75 %)\n"
     ]
    },
    {
     "name": "stderr",
     "output_type": "stream",
     "text": [
      " 67%|██████▋   | 402/600 [00:49<00:22,  8.76it/s]"
     ]
    },
    {
     "name": "stdout",
     "output_type": "stream",
     "text": [
      "Train Epoch: 1\tBatch: [400/600]\tLoss: 0.9005\tAcc_both: 73.48\tAcc_base: 75.81\tAcc_novel: 86.33 % (89.58 %)\n"
     ]
    },
    {
     "name": "stderr",
     "output_type": "stream",
     "text": [
      " 84%|████████▎ | 502/600 [01:01<00:10,  9.11it/s]"
     ]
    },
    {
     "name": "stdout",
     "output_type": "stream",
     "text": [
      "Train Epoch: 1\tBatch: [500/600]\tLoss: 0.8040\tAcc_both: 73.96\tAcc_base: 75.78\tAcc_novel: 87.04 % (91.25 %)\n"
     ]
    },
    {
     "name": "stderr",
     "output_type": "stream",
     "text": [
      "100%|██████████| 600/600 [01:13<00:00,  8.18it/s]\n"
     ]
    },
    {
     "name": "stdout",
     "output_type": "stream",
     "text": [
      "Train Epoch: 1\tBatch: [600/600]\tLoss: 0.7825\tAcc_both: 74.39\tAcc_base: 75.82\tAcc_novel: 87.58 % (91.67 %)\n"
     ]
    },
    {
     "name": "stderr",
     "output_type": "stream",
     "text": [
      "100%|██████████| 1000/1000 [00:33<00:00, 29.58it/s]\n"
     ]
    },
    {
     "name": "stdout",
     "output_type": "stream",
     "text": [
      "Validation Epoch: 1\t\t\tLoss: 0.7119\tAccuracy: 72.26 ± 0.64 % (Best)\n",
      "Elapsed Time: 2m/36m\n",
      "\n",
      "Train Epoch: 2\tLearning Rate: 1.0000\n"
     ]
    },
    {
     "name": "stderr",
     "output_type": "stream",
     "text": [
      " 17%|█▋        | 100/600 [00:12<00:54,  9.14it/s]"
     ]
    },
    {
     "name": "stdout",
     "output_type": "stream",
     "text": [
      "Train Epoch: 2\tBatch: [100/600]\tLoss: 0.8479\tAcc_both: 76.53\tAcc_base: 76.03\tAcc_novel: 90.01 % (92.08 %)\n"
     ]
    },
    {
     "name": "stderr",
     "output_type": "stream",
     "text": [
      " 33%|███▎      | 200/600 [00:24<00:44,  9.06it/s]"
     ]
    },
    {
     "name": "stdout",
     "output_type": "stream",
     "text": [
      "Train Epoch: 2\tBatch: [200/600]\tLoss: 0.9065\tAcc_both: 76.69\tAcc_base: 75.99\tAcc_novel: 90.21 % (89.17 %)\n"
     ]
    },
    {
     "name": "stderr",
     "output_type": "stream",
     "text": [
      " 50%|█████     | 300/600 [00:37<00:34,  8.59it/s]"
     ]
    },
    {
     "name": "stdout",
     "output_type": "stream",
     "text": [
      "Train Epoch: 2\tBatch: [300/600]\tLoss: 0.8014\tAcc_both: 76.53\tAcc_base: 75.81\tAcc_novel: 90.15 % (90.83 %)\n"
     ]
    },
    {
     "name": "stderr",
     "output_type": "stream",
     "text": [
      " 67%|██████▋   | 400/600 [00:48<00:21,  9.36it/s]"
     ]
    },
    {
     "name": "stdout",
     "output_type": "stream",
     "text": [
      "Train Epoch: 2\tBatch: [400/600]\tLoss: 0.8615\tAcc_both: 76.53\tAcc_base: 75.82\tAcc_novel: 90.16 % (89.17 %)\n"
     ]
    },
    {
     "name": "stderr",
     "output_type": "stream",
     "text": [
      " 83%|████████▎ | 500/600 [01:01<00:11,  8.79it/s]"
     ]
    },
    {
     "name": "stdout",
     "output_type": "stream",
     "text": [
      "Train Epoch: 2\tBatch: [500/600]\tLoss: 0.8497\tAcc_both: 76.55\tAcc_base: 75.78\tAcc_novel: 90.27 % (88.33 %)\n"
     ]
    },
    {
     "name": "stderr",
     "output_type": "stream",
     "text": [
      "100%|██████████| 600/600 [01:13<00:00,  8.20it/s]\n"
     ]
    },
    {
     "name": "stdout",
     "output_type": "stream",
     "text": [
      "Train Epoch: 2\tBatch: [600/600]\tLoss: 0.8958\tAcc_both: 76.56\tAcc_base: 75.74\tAcc_novel: 90.31 % (90.83 %)\n"
     ]
    },
    {
     "name": "stderr",
     "output_type": "stream",
     "text": [
      "100%|██████████| 1000/1000 [00:30<00:00, 32.32it/s]\n"
     ]
    },
    {
     "name": "stdout",
     "output_type": "stream",
     "text": [
      "Validation Epoch: 2\t\t\tLoss: 0.7134\tAccuracy: 72.33 ± 0.67 % (Best)\n",
      "Elapsed Time: 4m/35m\n",
      "\n",
      "Train Epoch: 3\tLearning Rate: 1.0000\n"
     ]
    },
    {
     "name": "stderr",
     "output_type": "stream",
     "text": [
      " 16%|█▋        | 98/600 [00:11<00:59,  8.43it/s]"
     ]
    },
    {
     "name": "stdout",
     "output_type": "stream",
     "text": [
      "Train Epoch: 3\tBatch: [100/600]\tLoss: 0.9259\tAcc_both: 76.58\tAcc_base: 75.34\tAcc_novel: 90.36 % (84.17 %)\n"
     ]
    },
    {
     "name": "stderr",
     "output_type": "stream",
     "text": [
      " 33%|███▎      | 200/600 [00:23<00:40,  9.97it/s]"
     ]
    },
    {
     "name": "stdout",
     "output_type": "stream",
     "text": [
      "Train Epoch: 3\tBatch: [200/600]\tLoss: 0.8441\tAcc_both: 76.72\tAcc_base: 75.69\tAcc_novel: 90.33 % (86.25 %)\n"
     ]
    },
    {
     "name": "stderr",
     "output_type": "stream",
     "text": [
      " 50%|████▉     | 299/600 [00:34<00:31,  9.66it/s]"
     ]
    },
    {
     "name": "stdout",
     "output_type": "stream",
     "text": [
      "Train Epoch: 3\tBatch: [300/600]\tLoss: 0.9527\tAcc_both: 76.51\tAcc_base: 75.51\tAcc_novel: 90.24 % (91.67 %)\n"
     ]
    },
    {
     "name": "stderr",
     "output_type": "stream",
     "text": [
      " 67%|██████▋   | 400/600 [00:45<00:19, 10.13it/s]"
     ]
    },
    {
     "name": "stdout",
     "output_type": "stream",
     "text": [
      "Train Epoch: 3\tBatch: [400/600]\tLoss: 0.9255\tAcc_both: 76.58\tAcc_base: 75.41\tAcc_novel: 90.35 % (89.17 %)\n"
     ]
    },
    {
     "name": "stderr",
     "output_type": "stream",
     "text": [
      " 83%|████████▎ | 498/600 [00:57<00:12,  8.50it/s]"
     ]
    },
    {
     "name": "stdout",
     "output_type": "stream",
     "text": [
      "Train Epoch: 3\tBatch: [500/600]\tLoss: 0.8750\tAcc_both: 76.57\tAcc_base: 75.49\tAcc_novel: 90.35 % (89.58 %)\n"
     ]
    },
    {
     "name": "stderr",
     "output_type": "stream",
     "text": [
      "100%|██████████| 600/600 [01:08<00:00,  8.76it/s]\n"
     ]
    },
    {
     "name": "stdout",
     "output_type": "stream",
     "text": [
      "Train Epoch: 3\tBatch: [600/600]\tLoss: 0.8412\tAcc_both: 76.57\tAcc_base: 75.50\tAcc_novel: 90.32 % (91.25 %)\n"
     ]
    },
    {
     "name": "stderr",
     "output_type": "stream",
     "text": [
      "100%|██████████| 1000/1000 [00:28<00:00, 34.54it/s]\n"
     ]
    },
    {
     "name": "stdout",
     "output_type": "stream",
     "text": [
      "Validation Epoch: 3\t\t\tLoss: 0.7273\tAccuracy: 71.58 ± 0.62 %\n",
      "Elapsed Time: 5m/34m\n",
      "\n",
      "Train Epoch: 4\tLearning Rate: 1.0000\n"
     ]
    },
    {
     "name": "stderr",
     "output_type": "stream",
     "text": [
      " 16%|█▋        | 99/600 [00:12<00:53,  9.28it/s]"
     ]
    },
    {
     "name": "stdout",
     "output_type": "stream",
     "text": [
      "Train Epoch: 4\tBatch: [100/600]\tLoss: 0.7576\tAcc_both: 76.53\tAcc_base: 75.60\tAcc_novel: 90.09 % (94.17 %)\n"
     ]
    },
    {
     "name": "stderr",
     "output_type": "stream",
     "text": [
      " 33%|███▎      | 198/600 [00:24<00:53,  7.48it/s]"
     ]
    },
    {
     "name": "stdout",
     "output_type": "stream",
     "text": [
      "Train Epoch: 4\tBatch: [200/600]\tLoss: 0.7940\tAcc_both: 76.46\tAcc_base: 75.62\tAcc_novel: 90.18 % (89.17 %)\n"
     ]
    },
    {
     "name": "stderr",
     "output_type": "stream",
     "text": [
      " 50%|████▉     | 298/600 [00:36<00:35,  8.46it/s]"
     ]
    },
    {
     "name": "stdout",
     "output_type": "stream",
     "text": [
      "Train Epoch: 4\tBatch: [300/600]\tLoss: 0.9059\tAcc_both: 76.39\tAcc_base: 75.47\tAcc_novel: 90.14 % (89.17 %)\n"
     ]
    },
    {
     "name": "stderr",
     "output_type": "stream",
     "text": [
      " 67%|██████▋   | 400/600 [00:47<00:19, 10.16it/s]"
     ]
    },
    {
     "name": "stdout",
     "output_type": "stream",
     "text": [
      "Train Epoch: 4\tBatch: [400/600]\tLoss: 0.9780\tAcc_both: 76.34\tAcc_base: 75.39\tAcc_novel: 90.14 % (87.92 %)\n"
     ]
    },
    {
     "name": "stderr",
     "output_type": "stream",
     "text": [
      " 83%|████████▎ | 500/600 [00:58<00:10,  9.71it/s]"
     ]
    },
    {
     "name": "stdout",
     "output_type": "stream",
     "text": [
      "Train Epoch: 4\tBatch: [500/600]\tLoss: 0.8813\tAcc_both: 76.33\tAcc_base: 75.38\tAcc_novel: 90.14 % (84.58 %)\n"
     ]
    },
    {
     "name": "stderr",
     "output_type": "stream",
     "text": [
      "100%|██████████| 600/600 [01:10<00:00,  8.53it/s]\n"
     ]
    },
    {
     "name": "stdout",
     "output_type": "stream",
     "text": [
      "Train Epoch: 4\tBatch: [600/600]\tLoss: 0.9393\tAcc_both: 76.37\tAcc_base: 75.41\tAcc_novel: 90.17 % (88.33 %)\n"
     ]
    },
    {
     "name": "stderr",
     "output_type": "stream",
     "text": [
      "100%|██████████| 1000/1000 [00:29<00:00, 33.74it/s]\n"
     ]
    },
    {
     "name": "stdout",
     "output_type": "stream",
     "text": [
      "Validation Epoch: 4\t\t\tLoss: 0.7351\tAccuracy: 71.27 ± 0.67 %\n",
      "Elapsed Time: 7m/34m\n",
      "\n",
      "Train Epoch: 5\tLearning Rate: 1.0000\n"
     ]
    },
    {
     "name": "stderr",
     "output_type": "stream",
     "text": [
      " 16%|█▋        | 98/600 [00:11<01:01,  8.18it/s]"
     ]
    },
    {
     "name": "stdout",
     "output_type": "stream",
     "text": [
      "Train Epoch: 5\tBatch: [100/600]\tLoss: 0.8485\tAcc_both: 76.77\tAcc_base: 75.50\tAcc_novel: 90.63 % (88.33 %)\n"
     ]
    },
    {
     "name": "stderr",
     "output_type": "stream",
     "text": [
      " 33%|███▎      | 199/600 [00:23<00:41,  9.56it/s]"
     ]
    },
    {
     "name": "stdout",
     "output_type": "stream",
     "text": [
      "Train Epoch: 5\tBatch: [200/600]\tLoss: 0.8262\tAcc_both: 76.76\tAcc_base: 75.35\tAcc_novel: 90.74 % (90.42 %)\n"
     ]
    },
    {
     "name": "stderr",
     "output_type": "stream",
     "text": [
      " 50%|████▉     | 298/600 [00:34<00:34,  8.77it/s]"
     ]
    },
    {
     "name": "stdout",
     "output_type": "stream",
     "text": [
      "Train Epoch: 5\tBatch: [300/600]\tLoss: 0.8038\tAcc_both: 76.77\tAcc_base: 75.56\tAcc_novel: 90.66 % (91.25 %)\n"
     ]
    },
    {
     "name": "stderr",
     "output_type": "stream",
     "text": [
      " 67%|██████▋   | 401/600 [00:46<00:21,  9.14it/s]"
     ]
    },
    {
     "name": "stdout",
     "output_type": "stream",
     "text": [
      "Train Epoch: 5\tBatch: [400/600]\tLoss: 0.8363\tAcc_both: 76.71\tAcc_base: 75.58\tAcc_novel: 90.54 % (92.50 %)\n"
     ]
    },
    {
     "name": "stderr",
     "output_type": "stream",
     "text": [
      " 84%|████████▎ | 501/600 [00:58<00:10,  9.51it/s]"
     ]
    },
    {
     "name": "stdout",
     "output_type": "stream",
     "text": [
      "Train Epoch: 5\tBatch: [500/600]\tLoss: 0.8249\tAcc_both: 76.73\tAcc_base: 75.62\tAcc_novel: 90.50 % (87.92 %)\n"
     ]
    },
    {
     "name": "stderr",
     "output_type": "stream",
     "text": [
      "100%|██████████| 600/600 [01:09<00:00,  8.65it/s]\n"
     ]
    },
    {
     "name": "stdout",
     "output_type": "stream",
     "text": [
      "Train Epoch: 5\tBatch: [600/600]\tLoss: 0.7647\tAcc_both: 76.72\tAcc_base: 75.64\tAcc_novel: 90.51 % (92.50 %)\n"
     ]
    },
    {
     "name": "stderr",
     "output_type": "stream",
     "text": [
      "100%|██████████| 1000/1000 [00:30<00:00, 33.20it/s]\n"
     ]
    },
    {
     "name": "stdout",
     "output_type": "stream",
     "text": [
      "Validation Epoch: 5\t\t\tLoss: 0.6981\tAccuracy: 72.90 ± 0.62 % (Best)\n",
      "Elapsed Time: 8m/34m\n",
      "\n",
      "Train Epoch: 6\tLearning Rate: 0.5000\n"
     ]
    },
    {
     "name": "stderr",
     "output_type": "stream",
     "text": [
      " 16%|█▋        | 99/600 [00:11<00:52,  9.47it/s]"
     ]
    },
    {
     "name": "stdout",
     "output_type": "stream",
     "text": [
      "Train Epoch: 6\tBatch: [100/600]\tLoss: 0.7418\tAcc_both: 77.43\tAcc_base: 76.60\tAcc_novel: 90.52 % (90.83 %)\n"
     ]
    },
    {
     "name": "stderr",
     "output_type": "stream",
     "text": [
      " 33%|███▎      | 199/600 [00:23<00:41,  9.75it/s]"
     ]
    },
    {
     "name": "stdout",
     "output_type": "stream",
     "text": [
      "Train Epoch: 6\tBatch: [200/600]\tLoss: 0.8158\tAcc_both: 77.64\tAcc_base: 76.57\tAcc_novel: 90.67 % (95.00 %)\n"
     ]
    },
    {
     "name": "stderr",
     "output_type": "stream",
     "text": [
      " 50%|████▉     | 299/600 [00:34<00:31,  9.50it/s]"
     ]
    },
    {
     "name": "stdout",
     "output_type": "stream",
     "text": [
      "Train Epoch: 6\tBatch: [300/600]\tLoss: 0.7278\tAcc_both: 77.55\tAcc_base: 76.34\tAcc_novel: 90.64 % (90.42 %)\n"
     ]
    },
    {
     "name": "stderr",
     "output_type": "stream",
     "text": [
      " 66%|██████▋   | 398/600 [00:45<00:23,  8.57it/s]"
     ]
    },
    {
     "name": "stdout",
     "output_type": "stream",
     "text": [
      "Train Epoch: 6\tBatch: [400/600]\tLoss: 0.7787\tAcc_both: 77.61\tAcc_base: 76.43\tAcc_novel: 90.77 % (90.42 %)\n"
     ]
    },
    {
     "name": "stderr",
     "output_type": "stream",
     "text": [
      " 83%|████████▎ | 499/600 [00:57<00:10,  9.76it/s]"
     ]
    },
    {
     "name": "stdout",
     "output_type": "stream",
     "text": [
      "Train Epoch: 6\tBatch: [500/600]\tLoss: 0.8280\tAcc_both: 77.59\tAcc_base: 76.39\tAcc_novel: 90.81 % (87.50 %)\n"
     ]
    },
    {
     "name": "stderr",
     "output_type": "stream",
     "text": [
      "100%|██████████| 600/600 [01:08<00:00,  8.73it/s]\n"
     ]
    },
    {
     "name": "stdout",
     "output_type": "stream",
     "text": [
      "Train Epoch: 6\tBatch: [600/600]\tLoss: 0.9086\tAcc_both: 77.56\tAcc_base: 76.39\tAcc_novel: 90.78 % (91.25 %)\n"
     ]
    },
    {
     "name": "stderr",
     "output_type": "stream",
     "text": [
      "100%|██████████| 1000/1000 [00:31<00:00, 31.54it/s]\n"
     ]
    },
    {
     "name": "stdout",
     "output_type": "stream",
     "text": [
      "Validation Epoch: 6\t\t\tLoss: 0.6988\tAccuracy: 72.87 ± 0.64 %\n",
      "Elapsed Time: 10m/34m\n",
      "\n",
      "Train Epoch: 7\tLearning Rate: 0.5000\n"
     ]
    },
    {
     "name": "stderr",
     "output_type": "stream",
     "text": [
      " 17%|█▋        | 100/600 [00:12<00:51,  9.68it/s]"
     ]
    },
    {
     "name": "stdout",
     "output_type": "stream",
     "text": [
      "Train Epoch: 7\tBatch: [100/600]\tLoss: 0.9063\tAcc_both: 77.42\tAcc_base: 76.15\tAcc_novel: 91.06 % (90.83 %)\n"
     ]
    },
    {
     "name": "stderr",
     "output_type": "stream",
     "text": [
      " 33%|███▎      | 199/600 [00:24<00:46,  8.61it/s]"
     ]
    },
    {
     "name": "stdout",
     "output_type": "stream",
     "text": [
      "Train Epoch: 7\tBatch: [200/600]\tLoss: 0.8578\tAcc_both: 77.49\tAcc_base: 76.10\tAcc_novel: 91.14 % (89.17 %)\n"
     ]
    },
    {
     "name": "stderr",
     "output_type": "stream",
     "text": [
      " 50%|████▉     | 299/600 [00:36<00:35,  8.44it/s]"
     ]
    },
    {
     "name": "stdout",
     "output_type": "stream",
     "text": [
      "Train Epoch: 7\tBatch: [300/600]\tLoss: 0.9051\tAcc_both: 77.51\tAcc_base: 76.11\tAcc_novel: 91.08 % (90.00 %)\n"
     ]
    },
    {
     "name": "stderr",
     "output_type": "stream",
     "text": [
      " 66%|██████▋   | 398/600 [00:48<00:24,  8.11it/s]"
     ]
    },
    {
     "name": "stdout",
     "output_type": "stream",
     "text": [
      "Train Epoch: 7\tBatch: [400/600]\tLoss: 0.7869\tAcc_both: 77.43\tAcc_base: 76.06\tAcc_novel: 91.01 % (92.50 %)\n"
     ]
    },
    {
     "name": "stderr",
     "output_type": "stream",
     "text": [
      " 83%|████████▎ | 500/600 [01:00<00:10,  9.83it/s]"
     ]
    },
    {
     "name": "stdout",
     "output_type": "stream",
     "text": [
      "Train Epoch: 7\tBatch: [500/600]\tLoss: 0.8143\tAcc_both: 77.42\tAcc_base: 76.05\tAcc_novel: 90.99 % (89.17 %)\n"
     ]
    },
    {
     "name": "stderr",
     "output_type": "stream",
     "text": [
      "100%|██████████| 600/600 [01:13<00:00,  8.19it/s]\n"
     ]
    },
    {
     "name": "stdout",
     "output_type": "stream",
     "text": [
      "Train Epoch: 7\tBatch: [600/600]\tLoss: 0.7933\tAcc_both: 77.41\tAcc_base: 76.02\tAcc_novel: 91.04 % (92.50 %)\n"
     ]
    },
    {
     "name": "stderr",
     "output_type": "stream",
     "text": [
      "100%|██████████| 1000/1000 [00:32<00:00, 30.79it/s]\n"
     ]
    },
    {
     "name": "stdout",
     "output_type": "stream",
     "text": [
      "Validation Epoch: 7\t\t\tLoss: 0.7086\tAccuracy: 72.67 ± 0.65 %\n",
      "Elapsed Time: 12m/34m\n",
      "\n",
      "Train Epoch: 8\tLearning Rate: 0.5000\n"
     ]
    },
    {
     "name": "stderr",
     "output_type": "stream",
     "text": [
      " 17%|█▋        | 101/600 [00:13<00:54,  9.11it/s]"
     ]
    },
    {
     "name": "stdout",
     "output_type": "stream",
     "text": [
      "Train Epoch: 8\tBatch: [100/600]\tLoss: 0.8629\tAcc_both: 77.64\tAcc_base: 76.73\tAcc_novel: 90.83 % (90.42 %)\n"
     ]
    },
    {
     "name": "stderr",
     "output_type": "stream",
     "text": [
      " 34%|███▎      | 201/600 [00:25<00:39, 10.09it/s]"
     ]
    },
    {
     "name": "stdout",
     "output_type": "stream",
     "text": [
      "Train Epoch: 8\tBatch: [200/600]\tLoss: 0.8724\tAcc_both: 77.61\tAcc_base: 76.57\tAcc_novel: 91.05 % (90.83 %)\n"
     ]
    },
    {
     "name": "stderr",
     "output_type": "stream",
     "text": [
      " 50%|█████     | 301/600 [00:37<00:34,  8.61it/s]"
     ]
    },
    {
     "name": "stdout",
     "output_type": "stream",
     "text": [
      "Train Epoch: 8\tBatch: [300/600]\tLoss: 0.8944\tAcc_both: 77.55\tAcc_base: 76.42\tAcc_novel: 91.05 % (86.25 %)\n"
     ]
    },
    {
     "name": "stderr",
     "output_type": "stream",
     "text": [
      " 67%|██████▋   | 401/600 [00:49<00:24,  8.06it/s]"
     ]
    },
    {
     "name": "stdout",
     "output_type": "stream",
     "text": [
      "Train Epoch: 8\tBatch: [400/600]\tLoss: 1.0015\tAcc_both: 77.60\tAcc_base: 76.41\tAcc_novel: 91.06 % (89.58 %)\n"
     ]
    },
    {
     "name": "stderr",
     "output_type": "stream",
     "text": [
      " 84%|████████▎ | 502/600 [01:01<00:11,  8.74it/s]"
     ]
    },
    {
     "name": "stdout",
     "output_type": "stream",
     "text": [
      "Train Epoch: 8\tBatch: [500/600]\tLoss: 0.8462\tAcc_both: 77.52\tAcc_base: 76.33\tAcc_novel: 90.99 % (91.25 %)\n"
     ]
    },
    {
     "name": "stderr",
     "output_type": "stream",
     "text": [
      "100%|██████████| 600/600 [01:13<00:00,  8.12it/s]\n"
     ]
    },
    {
     "name": "stdout",
     "output_type": "stream",
     "text": [
      "Train Epoch: 8\tBatch: [600/600]\tLoss: 0.8313\tAcc_both: 77.51\tAcc_base: 76.26\tAcc_novel: 90.98 % (91.67 %)\n"
     ]
    },
    {
     "name": "stderr",
     "output_type": "stream",
     "text": [
      "100%|██████████| 1000/1000 [00:31<00:00, 31.54it/s]\n"
     ]
    },
    {
     "name": "stdout",
     "output_type": "stream",
     "text": [
      "Validation Epoch: 8\t\t\tLoss: 0.7136\tAccuracy: 72.43 ± 0.63 %\n",
      "Elapsed Time: 14m/34m\n",
      "\n",
      "Train Epoch: 9\tLearning Rate: 0.5000\n"
     ]
    },
    {
     "name": "stderr",
     "output_type": "stream",
     "text": [
      " 17%|█▋        | 100/600 [00:12<00:58,  8.58it/s]"
     ]
    },
    {
     "name": "stdout",
     "output_type": "stream",
     "text": [
      "Train Epoch: 9\tBatch: [100/600]\tLoss: 0.8764\tAcc_both: 77.58\tAcc_base: 76.54\tAcc_novel: 90.90 % (87.92 %)\n"
     ]
    },
    {
     "name": "stderr",
     "output_type": "stream",
     "text": [
      " 33%|███▎      | 200/600 [00:25<00:51,  7.81it/s]"
     ]
    },
    {
     "name": "stdout",
     "output_type": "stream",
     "text": [
      "Train Epoch: 9\tBatch: [200/600]\tLoss: 0.8282\tAcc_both: 77.64\tAcc_base: 76.42\tAcc_novel: 91.01 % (92.08 %)\n"
     ]
    },
    {
     "name": "stderr",
     "output_type": "stream",
     "text": [
      " 50%|█████     | 300/600 [00:37<00:38,  7.79it/s]"
     ]
    },
    {
     "name": "stdout",
     "output_type": "stream",
     "text": [
      "Train Epoch: 9\tBatch: [300/600]\tLoss: 0.8616\tAcc_both: 77.54\tAcc_base: 76.26\tAcc_novel: 90.93 % (89.17 %)\n"
     ]
    },
    {
     "name": "stderr",
     "output_type": "stream",
     "text": [
      " 67%|██████▋   | 400/600 [00:49<00:21,  9.29it/s]"
     ]
    },
    {
     "name": "stdout",
     "output_type": "stream",
     "text": [
      "Train Epoch: 9\tBatch: [400/600]\tLoss: 0.8095\tAcc_both: 77.54\tAcc_base: 76.23\tAcc_novel: 90.89 % (88.75 %)\n"
     ]
    },
    {
     "name": "stderr",
     "output_type": "stream",
     "text": [
      " 83%|████████▎ | 500/600 [01:01<00:10,  9.25it/s]"
     ]
    },
    {
     "name": "stdout",
     "output_type": "stream",
     "text": [
      "Train Epoch: 9\tBatch: [500/600]\tLoss: 0.8411\tAcc_both: 77.53\tAcc_base: 76.26\tAcc_novel: 90.86 % (90.42 %)\n"
     ]
    },
    {
     "name": "stderr",
     "output_type": "stream",
     "text": [
      "100%|██████████| 600/600 [01:14<00:00,  8.08it/s]\n"
     ]
    },
    {
     "name": "stdout",
     "output_type": "stream",
     "text": [
      "Train Epoch: 9\tBatch: [600/600]\tLoss: 0.7088\tAcc_both: 77.55\tAcc_base: 76.26\tAcc_novel: 90.87 % (94.58 %)\n"
     ]
    },
    {
     "name": "stderr",
     "output_type": "stream",
     "text": [
      "100%|██████████| 1000/1000 [00:31<00:00, 31.46it/s]\n"
     ]
    },
    {
     "name": "stdout",
     "output_type": "stream",
     "text": [
      "Validation Epoch: 9\t\t\tLoss: 0.6902\tAccuracy: 73.17 ± 0.61 % (Best)\n",
      "Elapsed Time: 15m/34m\n",
      "\n",
      "Train Epoch: 10\tLearning Rate: 0.5000\n"
     ]
    },
    {
     "name": "stderr",
     "output_type": "stream",
     "text": [
      " 17%|█▋        | 100/600 [00:12<00:58,  8.50it/s]"
     ]
    },
    {
     "name": "stdout",
     "output_type": "stream",
     "text": [
      "Train Epoch: 10\tBatch: [100/600]\tLoss: 0.8357\tAcc_both: 77.50\tAcc_base: 76.36\tAcc_novel: 90.80 % (90.00 %)\n"
     ]
    },
    {
     "name": "stderr",
     "output_type": "stream",
     "text": [
      " 34%|███▎      | 201/600 [00:25<00:51,  7.72it/s]"
     ]
    },
    {
     "name": "stdout",
     "output_type": "stream",
     "text": [
      "Train Epoch: 10\tBatch: [200/600]\tLoss: 0.9006\tAcc_both: 77.30\tAcc_base: 76.23\tAcc_novel: 90.72 % (86.25 %)\n"
     ]
    },
    {
     "name": "stderr",
     "output_type": "stream",
     "text": [
      " 50%|████▉     | 299/600 [00:37<00:35,  8.43it/s]"
     ]
    },
    {
     "name": "stdout",
     "output_type": "stream",
     "text": [
      "Train Epoch: 10\tBatch: [300/600]\tLoss: 0.8424\tAcc_both: 77.29\tAcc_base: 76.19\tAcc_novel: 90.71 % (91.67 %)\n"
     ]
    },
    {
     "name": "stderr",
     "output_type": "stream",
     "text": [
      " 66%|██████▋   | 399/600 [00:49<00:21,  9.22it/s]"
     ]
    },
    {
     "name": "stdout",
     "output_type": "stream",
     "text": [
      "Train Epoch: 10\tBatch: [400/600]\tLoss: 0.8146\tAcc_both: 77.38\tAcc_base: 76.20\tAcc_novel: 90.80 % (96.25 %)\n"
     ]
    },
    {
     "name": "stderr",
     "output_type": "stream",
     "text": [
      " 83%|████████▎ | 499/600 [01:01<00:11,  8.83it/s]"
     ]
    },
    {
     "name": "stdout",
     "output_type": "stream",
     "text": [
      "Train Epoch: 10\tBatch: [500/600]\tLoss: 0.7815\tAcc_both: 77.45\tAcc_base: 76.16\tAcc_novel: 90.90 % (92.92 %)\n"
     ]
    },
    {
     "name": "stderr",
     "output_type": "stream",
     "text": [
      "100%|██████████| 600/600 [01:14<00:00,  8.05it/s]\n"
     ]
    },
    {
     "name": "stdout",
     "output_type": "stream",
     "text": [
      "Train Epoch: 10\tBatch: [600/600]\tLoss: 0.7649\tAcc_both: 77.42\tAcc_base: 76.19\tAcc_novel: 90.87 % (90.83 %)\n"
     ]
    },
    {
     "name": "stderr",
     "output_type": "stream",
     "text": [
      "100%|██████████| 1000/1000 [00:32<00:00, 31.12it/s]\n"
     ]
    },
    {
     "name": "stdout",
     "output_type": "stream",
     "text": [
      "Validation Epoch: 10\t\t\tLoss: 0.7068\tAccuracy: 72.41 ± 0.63 %\n",
      "Elapsed Time: 17m/34m\n",
      "\n",
      "Train Epoch: 11\tLearning Rate: 0.1000\n"
     ]
    },
    {
     "name": "stderr",
     "output_type": "stream",
     "text": [
      " 16%|█▋        | 99/600 [00:12<00:57,  8.70it/s]"
     ]
    },
    {
     "name": "stdout",
     "output_type": "stream",
     "text": [
      "Train Epoch: 11\tBatch: [100/600]\tLoss: 0.9081\tAcc_both: 78.30\tAcc_base: 77.15\tAcc_novel: 91.18 % (87.08 %)\n"
     ]
    },
    {
     "name": "stderr",
     "output_type": "stream",
     "text": [
      " 33%|███▎      | 200/600 [00:25<00:39, 10.23it/s]"
     ]
    },
    {
     "name": "stdout",
     "output_type": "stream",
     "text": [
      "Train Epoch: 11\tBatch: [200/600]\tLoss: 0.7639\tAcc_both: 78.41\tAcc_base: 77.19\tAcc_novel: 91.16 % (91.25 %)\n"
     ]
    },
    {
     "name": "stderr",
     "output_type": "stream",
     "text": [
      " 50%|█████     | 301/600 [00:37<00:35,  8.37it/s]"
     ]
    },
    {
     "name": "stdout",
     "output_type": "stream",
     "text": [
      "Train Epoch: 11\tBatch: [300/600]\tLoss: 0.8253\tAcc_both: 78.51\tAcc_base: 77.19\tAcc_novel: 91.25 % (87.08 %)\n"
     ]
    },
    {
     "name": "stderr",
     "output_type": "stream",
     "text": [
      " 66%|██████▋   | 399/600 [00:49<00:24,  8.09it/s]"
     ]
    },
    {
     "name": "stdout",
     "output_type": "stream",
     "text": [
      "Train Epoch: 11\tBatch: [400/600]\tLoss: 0.6442\tAcc_both: 78.62\tAcc_base: 77.30\tAcc_novel: 91.33 % (92.50 %)\n"
     ]
    },
    {
     "name": "stderr",
     "output_type": "stream",
     "text": [
      " 83%|████████▎ | 499/600 [01:01<00:12,  8.26it/s]"
     ]
    },
    {
     "name": "stdout",
     "output_type": "stream",
     "text": [
      "Train Epoch: 11\tBatch: [500/600]\tLoss: 0.7139\tAcc_both: 78.67\tAcc_base: 77.37\tAcc_novel: 91.40 % (93.75 %)\n"
     ]
    },
    {
     "name": "stderr",
     "output_type": "stream",
     "text": [
      "100%|██████████| 600/600 [01:14<00:00,  8.06it/s]\n"
     ]
    },
    {
     "name": "stdout",
     "output_type": "stream",
     "text": [
      "Train Epoch: 11\tBatch: [600/600]\tLoss: 0.8334\tAcc_both: 78.69\tAcc_base: 77.39\tAcc_novel: 91.45 % (90.42 %)\n"
     ]
    },
    {
     "name": "stderr",
     "output_type": "stream",
     "text": [
      "100%|██████████| 1000/1000 [00:31<00:00, 31.30it/s]\n"
     ]
    },
    {
     "name": "stdout",
     "output_type": "stream",
     "text": [
      "Validation Epoch: 11\t\t\tLoss: 0.7039\tAccuracy: 72.85 ± 0.64 %\n",
      "Elapsed Time: 19m/35m\n",
      "\n",
      "Train Epoch: 12\tLearning Rate: 0.1000\n"
     ]
    },
    {
     "name": "stderr",
     "output_type": "stream",
     "text": [
      " 16%|█▋        | 99/600 [00:12<00:59,  8.49it/s]"
     ]
    },
    {
     "name": "stdout",
     "output_type": "stream",
     "text": [
      "Train Epoch: 12\tBatch: [100/600]\tLoss: 0.7719\tAcc_both: 78.84\tAcc_base: 77.57\tAcc_novel: 91.82 % (90.83 %)\n"
     ]
    },
    {
     "name": "stderr",
     "output_type": "stream",
     "text": [
      " 33%|███▎      | 199/600 [00:25<00:46,  8.67it/s]"
     ]
    },
    {
     "name": "stdout",
     "output_type": "stream",
     "text": [
      "Train Epoch: 12\tBatch: [200/600]\tLoss: 0.7079\tAcc_both: 78.64\tAcc_base: 77.39\tAcc_novel: 91.62 % (91.67 %)\n"
     ]
    },
    {
     "name": "stderr",
     "output_type": "stream",
     "text": [
      " 50%|████▉     | 298/600 [00:37<00:39,  7.63it/s]"
     ]
    },
    {
     "name": "stdout",
     "output_type": "stream",
     "text": [
      "Train Epoch: 12\tBatch: [300/600]\tLoss: 0.6733\tAcc_both: 78.69\tAcc_base: 77.55\tAcc_novel: 91.48 % (90.42 %)\n"
     ]
    },
    {
     "name": "stderr",
     "output_type": "stream",
     "text": [
      " 67%|██████▋   | 400/600 [00:49<00:20,  9.98it/s]"
     ]
    },
    {
     "name": "stdout",
     "output_type": "stream",
     "text": [
      "Train Epoch: 12\tBatch: [400/600]\tLoss: 0.7885\tAcc_both: 78.77\tAcc_base: 77.56\tAcc_novel: 91.53 % (93.75 %)\n"
     ]
    },
    {
     "name": "stderr",
     "output_type": "stream",
     "text": [
      " 83%|████████▎ | 500/600 [01:01<00:10,  9.79it/s]"
     ]
    },
    {
     "name": "stdout",
     "output_type": "stream",
     "text": [
      "Train Epoch: 12\tBatch: [500/600]\tLoss: 0.7410\tAcc_both: 78.77\tAcc_base: 77.61\tAcc_novel: 91.54 % (89.58 %)\n"
     ]
    },
    {
     "name": "stderr",
     "output_type": "stream",
     "text": [
      "100%|██████████| 600/600 [01:13<00:00,  8.12it/s]\n"
     ]
    },
    {
     "name": "stdout",
     "output_type": "stream",
     "text": [
      "Train Epoch: 12\tBatch: [600/600]\tLoss: 0.8476\tAcc_both: 78.78\tAcc_base: 77.60\tAcc_novel: 91.56 % (93.33 %)\n"
     ]
    },
    {
     "name": "stderr",
     "output_type": "stream",
     "text": [
      "100%|██████████| 1000/1000 [00:32<00:00, 30.98it/s]\n"
     ]
    },
    {
     "name": "stdout",
     "output_type": "stream",
     "text": [
      "Validation Epoch: 12\t\t\tLoss: 0.7086\tAccuracy: 72.44 ± 0.63 %\n",
      "Elapsed Time: 21m/35m\n",
      "\n",
      "Train Epoch: 13\tLearning Rate: 0.1000\n"
     ]
    },
    {
     "name": "stderr",
     "output_type": "stream",
     "text": [
      " 16%|█▋        | 99/600 [00:13<01:00,  8.33it/s]"
     ]
    },
    {
     "name": "stdout",
     "output_type": "stream",
     "text": [
      "Train Epoch: 13\tBatch: [100/600]\tLoss: 0.8001\tAcc_both: 78.67\tAcc_base: 77.35\tAcc_novel: 91.44 % (90.83 %)\n"
     ]
    },
    {
     "name": "stderr",
     "output_type": "stream",
     "text": [
      " 33%|███▎      | 199/600 [00:26<00:45,  8.74it/s]"
     ]
    },
    {
     "name": "stdout",
     "output_type": "stream",
     "text": [
      "Train Epoch: 13\tBatch: [200/600]\tLoss: 0.7954\tAcc_both: 78.71\tAcc_base: 77.36\tAcc_novel: 91.39 % (92.08 %)\n"
     ]
    },
    {
     "name": "stderr",
     "output_type": "stream",
     "text": [
      " 50%|████▉     | 299/600 [00:38<00:33,  9.11it/s]"
     ]
    },
    {
     "name": "stdout",
     "output_type": "stream",
     "text": [
      "Train Epoch: 13\tBatch: [300/600]\tLoss: 0.7747\tAcc_both: 78.77\tAcc_base: 77.33\tAcc_novel: 91.51 % (90.42 %)\n"
     ]
    },
    {
     "name": "stderr",
     "output_type": "stream",
     "text": [
      " 66%|██████▋   | 398/600 [00:50<00:24,  8.35it/s]"
     ]
    },
    {
     "name": "stdout",
     "output_type": "stream",
     "text": [
      "Train Epoch: 13\tBatch: [400/600]\tLoss: 0.7181\tAcc_both: 78.76\tAcc_base: 77.32\tAcc_novel: 91.54 % (93.33 %)\n"
     ]
    },
    {
     "name": "stderr",
     "output_type": "stream",
     "text": [
      " 84%|████████▎ | 501/600 [01:03<00:12,  8.10it/s]"
     ]
    },
    {
     "name": "stdout",
     "output_type": "stream",
     "text": [
      "Train Epoch: 13\tBatch: [500/600]\tLoss: 0.7704\tAcc_both: 78.75\tAcc_base: 77.28\tAcc_novel: 91.56 % (88.75 %)\n"
     ]
    },
    {
     "name": "stderr",
     "output_type": "stream",
     "text": [
      "100%|██████████| 600/600 [01:15<00:00,  7.97it/s]\n"
     ]
    },
    {
     "name": "stdout",
     "output_type": "stream",
     "text": [
      "Train Epoch: 13\tBatch: [600/600]\tLoss: 0.7859\tAcc_both: 78.75\tAcc_base: 77.32\tAcc_novel: 91.55 % (94.58 %)\n"
     ]
    },
    {
     "name": "stderr",
     "output_type": "stream",
     "text": [
      "100%|██████████| 1000/1000 [00:32<00:00, 31.01it/s]\n"
     ]
    },
    {
     "name": "stdout",
     "output_type": "stream",
     "text": [
      "Validation Epoch: 13\t\t\tLoss: 0.6888\tAccuracy: 73.41 ± 0.64 % (Best)\n",
      "Elapsed Time: 23m/35m\n",
      "\n",
      "Train Epoch: 14\tLearning Rate: 0.1000\n"
     ]
    },
    {
     "name": "stderr",
     "output_type": "stream",
     "text": [
      " 17%|█▋        | 100/600 [00:12<00:53,  9.36it/s]"
     ]
    },
    {
     "name": "stdout",
     "output_type": "stream",
     "text": [
      "Train Epoch: 14\tBatch: [100/600]\tLoss: 0.6723\tAcc_both: 79.12\tAcc_base: 77.80\tAcc_novel: 91.84 % (92.50 %)\n"
     ]
    },
    {
     "name": "stderr",
     "output_type": "stream",
     "text": [
      " 33%|███▎      | 200/600 [00:25<00:47,  8.44it/s]"
     ]
    },
    {
     "name": "stdout",
     "output_type": "stream",
     "text": [
      "Train Epoch: 14\tBatch: [200/600]\tLoss: 0.7924\tAcc_both: 79.00\tAcc_base: 77.55\tAcc_novel: 91.84 % (90.83 %)\n"
     ]
    },
    {
     "name": "stderr",
     "output_type": "stream",
     "text": [
      " 50%|█████     | 300/600 [00:37<00:32,  9.21it/s]"
     ]
    },
    {
     "name": "stdout",
     "output_type": "stream",
     "text": [
      "Train Epoch: 14\tBatch: [300/600]\tLoss: 0.6272\tAcc_both: 78.85\tAcc_base: 77.46\tAcc_novel: 91.74 % (94.17 %)\n"
     ]
    },
    {
     "name": "stderr",
     "output_type": "stream",
     "text": [
      " 66%|██████▋   | 399/600 [00:49<00:23,  8.59it/s]"
     ]
    },
    {
     "name": "stdout",
     "output_type": "stream",
     "text": [
      "Train Epoch: 14\tBatch: [400/600]\tLoss: 0.7817\tAcc_both: 78.79\tAcc_base: 77.42\tAcc_novel: 91.68 % (90.00 %)\n"
     ]
    },
    {
     "name": "stderr",
     "output_type": "stream",
     "text": [
      " 83%|████████▎ | 500/600 [01:02<00:11,  9.05it/s]"
     ]
    },
    {
     "name": "stdout",
     "output_type": "stream",
     "text": [
      "Train Epoch: 14\tBatch: [500/600]\tLoss: 0.7312\tAcc_both: 78.71\tAcc_base: 77.28\tAcc_novel: 91.64 % (92.08 %)\n"
     ]
    },
    {
     "name": "stderr",
     "output_type": "stream",
     "text": [
      "100%|██████████| 600/600 [01:14<00:00,  8.03it/s]\n"
     ]
    },
    {
     "name": "stdout",
     "output_type": "stream",
     "text": [
      "Train Epoch: 14\tBatch: [600/600]\tLoss: 0.7783\tAcc_both: 78.63\tAcc_base: 77.23\tAcc_novel: 91.58 % (94.17 %)\n"
     ]
    },
    {
     "name": "stderr",
     "output_type": "stream",
     "text": [
      "100%|██████████| 1000/1000 [00:31<00:00, 31.28it/s]\n"
     ]
    },
    {
     "name": "stdout",
     "output_type": "stream",
     "text": [
      "Validation Epoch: 14\t\t\tLoss: 0.7034\tAccuracy: 72.79 ± 0.62 %\n",
      "Elapsed Time: 24m/35m\n",
      "\n",
      "Train Epoch: 15\tLearning Rate: 0.1000\n"
     ]
    },
    {
     "name": "stderr",
     "output_type": "stream",
     "text": [
      " 17%|█▋        | 100/600 [00:12<00:59,  8.35it/s]"
     ]
    },
    {
     "name": "stdout",
     "output_type": "stream",
     "text": [
      "Train Epoch: 15\tBatch: [100/600]\tLoss: 0.7274\tAcc_both: 78.83\tAcc_base: 77.24\tAcc_novel: 91.93 % (95.42 %)\n"
     ]
    },
    {
     "name": "stderr",
     "output_type": "stream",
     "text": [
      " 33%|███▎      | 200/600 [00:25<00:47,  8.47it/s]"
     ]
    },
    {
     "name": "stdout",
     "output_type": "stream",
     "text": [
      "Train Epoch: 15\tBatch: [200/600]\tLoss: 0.7880\tAcc_both: 78.58\tAcc_base: 76.87\tAcc_novel: 91.76 % (93.33 %)\n"
     ]
    },
    {
     "name": "stderr",
     "output_type": "stream",
     "text": [
      " 50%|█████     | 301/600 [00:37<00:37,  7.98it/s]"
     ]
    },
    {
     "name": "stdout",
     "output_type": "stream",
     "text": [
      "Train Epoch: 15\tBatch: [300/600]\tLoss: 0.8017\tAcc_both: 78.62\tAcc_base: 77.04\tAcc_novel: 91.69 % (91.67 %)\n"
     ]
    },
    {
     "name": "stderr",
     "output_type": "stream",
     "text": [
      " 66%|██████▋   | 399/600 [00:49<00:22,  9.08it/s]"
     ]
    },
    {
     "name": "stdout",
     "output_type": "stream",
     "text": [
      "Train Epoch: 15\tBatch: [400/600]\tLoss: 0.7277\tAcc_both: 78.61\tAcc_base: 77.01\tAcc_novel: 91.76 % (91.67 %)\n"
     ]
    },
    {
     "name": "stderr",
     "output_type": "stream",
     "text": [
      " 83%|████████▎ | 500/600 [01:01<00:09, 10.25it/s]"
     ]
    },
    {
     "name": "stdout",
     "output_type": "stream",
     "text": [
      "Train Epoch: 15\tBatch: [500/600]\tLoss: 0.8306\tAcc_both: 78.63\tAcc_base: 77.03\tAcc_novel: 91.75 % (92.50 %)\n"
     ]
    },
    {
     "name": "stderr",
     "output_type": "stream",
     "text": [
      "100%|██████████| 600/600 [01:13<00:00,  8.13it/s]\n"
     ]
    },
    {
     "name": "stdout",
     "output_type": "stream",
     "text": [
      "Train Epoch: 15\tBatch: [600/600]\tLoss: 0.8261\tAcc_both: 78.64\tAcc_base: 77.13\tAcc_novel: 91.73 % (92.92 %)\n"
     ]
    },
    {
     "name": "stderr",
     "output_type": "stream",
     "text": [
      "100%|██████████| 1000/1000 [00:31<00:00, 31.78it/s]\n"
     ]
    },
    {
     "name": "stdout",
     "output_type": "stream",
     "text": [
      "Validation Epoch: 15\t\t\tLoss: 0.6944\tAccuracy: 73.17 ± 0.59 %\n",
      "Elapsed Time: 26m/35m\n",
      "\n",
      "Train Epoch: 16\tLearning Rate: 0.0500\n"
     ]
    },
    {
     "name": "stderr",
     "output_type": "stream",
     "text": [
      " 17%|█▋        | 100/600 [00:13<00:53,  9.40it/s]"
     ]
    },
    {
     "name": "stdout",
     "output_type": "stream",
     "text": [
      "Train Epoch: 16\tBatch: [100/600]\tLoss: 0.7228\tAcc_both: 79.15\tAcc_base: 77.55\tAcc_novel: 91.90 % (90.83 %)\n"
     ]
    },
    {
     "name": "stderr",
     "output_type": "stream",
     "text": [
      " 33%|███▎      | 200/600 [00:25<00:43,  9.30it/s]"
     ]
    },
    {
     "name": "stdout",
     "output_type": "stream",
     "text": [
      "Train Epoch: 16\tBatch: [200/600]\tLoss: 0.8879\tAcc_both: 79.09\tAcc_base: 77.38\tAcc_novel: 92.07 % (87.92 %)\n"
     ]
    },
    {
     "name": "stderr",
     "output_type": "stream",
     "text": [
      " 50%|█████     | 300/600 [00:37<00:39,  7.51it/s]"
     ]
    },
    {
     "name": "stdout",
     "output_type": "stream",
     "text": [
      "Train Epoch: 16\tBatch: [300/600]\tLoss: 0.7607\tAcc_both: 79.07\tAcc_base: 77.44\tAcc_novel: 92.05 % (91.67 %)\n"
     ]
    },
    {
     "name": "stderr",
     "output_type": "stream",
     "text": [
      " 67%|██████▋   | 401/600 [00:50<00:26,  7.57it/s]"
     ]
    },
    {
     "name": "stdout",
     "output_type": "stream",
     "text": [
      "Train Epoch: 16\tBatch: [400/600]\tLoss: 0.7729\tAcc_both: 79.05\tAcc_base: 77.53\tAcc_novel: 91.97 % (90.42 %)\n"
     ]
    },
    {
     "name": "stderr",
     "output_type": "stream",
     "text": [
      " 83%|████████▎ | 500/600 [01:01<00:10,  9.53it/s]"
     ]
    },
    {
     "name": "stdout",
     "output_type": "stream",
     "text": [
      "Train Epoch: 16\tBatch: [500/600]\tLoss: 0.8391\tAcc_both: 79.07\tAcc_base: 77.60\tAcc_novel: 91.92 % (90.83 %)\n"
     ]
    },
    {
     "name": "stderr",
     "output_type": "stream",
     "text": [
      "100%|██████████| 600/600 [01:14<00:00,  8.10it/s]\n"
     ]
    },
    {
     "name": "stdout",
     "output_type": "stream",
     "text": [
      "Train Epoch: 16\tBatch: [600/600]\tLoss: 0.6891\tAcc_both: 79.05\tAcc_base: 77.57\tAcc_novel: 91.89 % (94.58 %)\n"
     ]
    },
    {
     "name": "stderr",
     "output_type": "stream",
     "text": [
      "100%|██████████| 1000/1000 [00:32<00:00, 31.20it/s]\n"
     ]
    },
    {
     "name": "stdout",
     "output_type": "stream",
     "text": [
      "Validation Epoch: 16\t\t\tLoss: 0.6989\tAccuracy: 72.81 ± 0.63 %\n",
      "Elapsed Time: 28m/35m\n",
      "\n",
      "Train Epoch: 17\tLearning Rate: 0.0500\n"
     ]
    },
    {
     "name": "stderr",
     "output_type": "stream",
     "text": [
      " 17%|█▋        | 100/600 [00:13<00:57,  8.70it/s]"
     ]
    },
    {
     "name": "stdout",
     "output_type": "stream",
     "text": [
      "Train Epoch: 17\tBatch: [100/600]\tLoss: 0.8153\tAcc_both: 79.13\tAcc_base: 77.80\tAcc_novel: 91.88 % (87.92 %)\n"
     ]
    },
    {
     "name": "stderr",
     "output_type": "stream",
     "text": [
      " 33%|███▎      | 200/600 [00:26<00:42,  9.42it/s]"
     ]
    },
    {
     "name": "stdout",
     "output_type": "stream",
     "text": [
      "Train Epoch: 17\tBatch: [200/600]\tLoss: 0.8188\tAcc_both: 79.22\tAcc_base: 77.69\tAcc_novel: 92.03 % (94.17 %)\n"
     ]
    },
    {
     "name": "stderr",
     "output_type": "stream",
     "text": [
      " 50%|█████     | 300/600 [00:38<00:34,  8.68it/s]"
     ]
    },
    {
     "name": "stdout",
     "output_type": "stream",
     "text": [
      "Train Epoch: 17\tBatch: [300/600]\tLoss: 0.6796\tAcc_both: 79.16\tAcc_base: 77.62\tAcc_novel: 91.93 % (92.50 %)\n"
     ]
    },
    {
     "name": "stderr",
     "output_type": "stream",
     "text": [
      " 67%|██████▋   | 401/600 [00:50<00:19, 10.44it/s]"
     ]
    },
    {
     "name": "stdout",
     "output_type": "stream",
     "text": [
      "Train Epoch: 17\tBatch: [400/600]\tLoss: 0.6654\tAcc_both: 79.10\tAcc_base: 77.66\tAcc_novel: 91.86 % (93.75 %)\n"
     ]
    },
    {
     "name": "stderr",
     "output_type": "stream",
     "text": [
      " 83%|████████▎ | 500/600 [01:01<00:10,  9.35it/s]"
     ]
    },
    {
     "name": "stdout",
     "output_type": "stream",
     "text": [
      "Train Epoch: 17\tBatch: [500/600]\tLoss: 0.7857\tAcc_both: 79.10\tAcc_base: 77.66\tAcc_novel: 91.85 % (92.92 %)\n"
     ]
    },
    {
     "name": "stderr",
     "output_type": "stream",
     "text": [
      "100%|██████████| 600/600 [01:14<00:00,  8.11it/s]\n"
     ]
    },
    {
     "name": "stdout",
     "output_type": "stream",
     "text": [
      "Train Epoch: 17\tBatch: [600/600]\tLoss: 0.7957\tAcc_both: 79.08\tAcc_base: 77.59\tAcc_novel: 91.88 % (91.25 %)\n"
     ]
    },
    {
     "name": "stderr",
     "output_type": "stream",
     "text": [
      "100%|██████████| 1000/1000 [00:32<00:00, 31.21it/s]\n"
     ]
    },
    {
     "name": "stdout",
     "output_type": "stream",
     "text": [
      "Validation Epoch: 17\t\t\tLoss: 0.7136\tAccuracy: 72.35 ± 0.65 %\n",
      "Elapsed Time: 30m/35m\n",
      "\n",
      "Train Epoch: 18\tLearning Rate: 0.0500\n"
     ]
    },
    {
     "name": "stderr",
     "output_type": "stream",
     "text": [
      " 17%|█▋        | 100/600 [00:12<00:47, 10.50it/s]"
     ]
    },
    {
     "name": "stdout",
     "output_type": "stream",
     "text": [
      "Train Epoch: 18\tBatch: [100/600]\tLoss: 0.7678\tAcc_both: 79.13\tAcc_base: 77.52\tAcc_novel: 91.75 % (93.33 %)\n"
     ]
    },
    {
     "name": "stderr",
     "output_type": "stream",
     "text": [
      " 33%|███▎      | 199/600 [00:24<00:41,  9.65it/s]"
     ]
    },
    {
     "name": "stdout",
     "output_type": "stream",
     "text": [
      "Train Epoch: 18\tBatch: [200/600]\tLoss: 0.7313\tAcc_both: 79.09\tAcc_base: 77.44\tAcc_novel: 91.85 % (97.50 %)\n"
     ]
    },
    {
     "name": "stderr",
     "output_type": "stream",
     "text": [
      " 50%|████▉     | 299/600 [00:36<00:32,  9.15it/s]"
     ]
    },
    {
     "name": "stdout",
     "output_type": "stream",
     "text": [
      "Train Epoch: 18\tBatch: [300/600]\tLoss: 0.7600\tAcc_both: 78.85\tAcc_base: 77.21\tAcc_novel: 91.81 % (93.33 %)\n"
     ]
    },
    {
     "name": "stderr",
     "output_type": "stream",
     "text": [
      " 67%|██████▋   | 401/600 [00:49<00:23,  8.55it/s]"
     ]
    },
    {
     "name": "stdout",
     "output_type": "stream",
     "text": [
      "Train Epoch: 18\tBatch: [400/600]\tLoss: 0.7049\tAcc_both: 78.94\tAcc_base: 77.32\tAcc_novel: 91.80 % (91.25 %)\n"
     ]
    },
    {
     "name": "stderr",
     "output_type": "stream",
     "text": [
      " 83%|████████▎ | 499/600 [01:01<00:12,  8.29it/s]"
     ]
    },
    {
     "name": "stdout",
     "output_type": "stream",
     "text": [
      "Train Epoch: 18\tBatch: [500/600]\tLoss: 0.7655\tAcc_both: 79.01\tAcc_base: 77.37\tAcc_novel: 91.82 % (93.33 %)\n"
     ]
    },
    {
     "name": "stderr",
     "output_type": "stream",
     "text": [
      "100%|██████████| 600/600 [01:13<00:00,  8.12it/s]\n"
     ]
    },
    {
     "name": "stdout",
     "output_type": "stream",
     "text": [
      "Train Epoch: 18\tBatch: [600/600]\tLoss: 0.7886\tAcc_both: 79.00\tAcc_base: 77.40\tAcc_novel: 91.78 % (91.25 %)\n"
     ]
    },
    {
     "name": "stderr",
     "output_type": "stream",
     "text": [
      "100%|██████████| 1000/1000 [00:31<00:00, 31.34it/s]\n"
     ]
    },
    {
     "name": "stdout",
     "output_type": "stream",
     "text": [
      "Validation Epoch: 18\t\t\tLoss: 0.7042\tAccuracy: 72.80 ± 0.64 %\n",
      "Elapsed Time: 31m/35m\n",
      "\n",
      "Train Epoch: 19\tLearning Rate: 0.0500\n"
     ]
    },
    {
     "name": "stderr",
     "output_type": "stream",
     "text": [
      " 17%|█▋        | 101/600 [00:12<00:52,  9.56it/s]"
     ]
    },
    {
     "name": "stdout",
     "output_type": "stream",
     "text": [
      "Train Epoch: 19\tBatch: [100/600]\tLoss: 0.7163\tAcc_both: 78.72\tAcc_base: 77.09\tAcc_novel: 91.81 % (94.58 %)\n"
     ]
    },
    {
     "name": "stderr",
     "output_type": "stream",
     "text": [
      " 33%|███▎      | 200/600 [00:24<00:44,  8.91it/s]"
     ]
    },
    {
     "name": "stdout",
     "output_type": "stream",
     "text": [
      "Train Epoch: 19\tBatch: [200/600]\tLoss: 0.8375\tAcc_both: 78.86\tAcc_base: 77.21\tAcc_novel: 91.84 % (92.08 %)\n"
     ]
    },
    {
     "name": "stderr",
     "output_type": "stream",
     "text": [
      " 50%|█████     | 301/600 [00:37<00:30,  9.66it/s]"
     ]
    },
    {
     "name": "stdout",
     "output_type": "stream",
     "text": [
      "Train Epoch: 19\tBatch: [300/600]\tLoss: 0.7352\tAcc_both: 78.94\tAcc_base: 77.32\tAcc_novel: 91.76 % (91.25 %)\n"
     ]
    },
    {
     "name": "stderr",
     "output_type": "stream",
     "text": [
      " 67%|██████▋   | 401/600 [00:49<00:19, 10.03it/s]"
     ]
    },
    {
     "name": "stdout",
     "output_type": "stream",
     "text": [
      "Train Epoch: 19\tBatch: [400/600]\tLoss: 0.7957\tAcc_both: 79.06\tAcc_base: 77.49\tAcc_novel: 91.83 % (87.92 %)\n"
     ]
    },
    {
     "name": "stderr",
     "output_type": "stream",
     "text": [
      " 84%|████████▎ | 501/600 [01:01<00:10,  9.17it/s]"
     ]
    },
    {
     "name": "stdout",
     "output_type": "stream",
     "text": [
      "Train Epoch: 19\tBatch: [500/600]\tLoss: 0.7934\tAcc_both: 79.10\tAcc_base: 77.59\tAcc_novel: 91.85 % (89.17 %)\n"
     ]
    },
    {
     "name": "stderr",
     "output_type": "stream",
     "text": [
      "100%|██████████| 600/600 [01:13<00:00,  8.14it/s]\n"
     ]
    },
    {
     "name": "stdout",
     "output_type": "stream",
     "text": [
      "Train Epoch: 19\tBatch: [600/600]\tLoss: 0.6549\tAcc_both: 79.11\tAcc_base: 77.61\tAcc_novel: 91.86 % (90.42 %)\n"
     ]
    },
    {
     "name": "stderr",
     "output_type": "stream",
     "text": [
      "100%|██████████| 1000/1000 [00:31<00:00, 31.46it/s]\n"
     ]
    },
    {
     "name": "stdout",
     "output_type": "stream",
     "text": [
      "Validation Epoch: 19\t\t\tLoss: 0.6946\tAccuracy: 72.95 ± 0.64 %\n",
      "Elapsed Time: 33m/35m\n",
      "\n",
      "Train Epoch: 20\tLearning Rate: 0.0500\n"
     ]
    },
    {
     "name": "stderr",
     "output_type": "stream",
     "text": [
      " 16%|█▋        | 99/600 [00:13<01:00,  8.26it/s]"
     ]
    },
    {
     "name": "stdout",
     "output_type": "stream",
     "text": [
      "Train Epoch: 20\tBatch: [100/600]\tLoss: 0.6450\tAcc_both: 79.36\tAcc_base: 77.62\tAcc_novel: 92.17 % (93.75 %)\n"
     ]
    },
    {
     "name": "stderr",
     "output_type": "stream",
     "text": [
      " 33%|███▎      | 199/600 [00:25<00:44,  8.95it/s]"
     ]
    },
    {
     "name": "stdout",
     "output_type": "stream",
     "text": [
      "Train Epoch: 20\tBatch: [200/600]\tLoss: 0.8264\tAcc_both: 79.35\tAcc_base: 77.86\tAcc_novel: 92.09 % (94.58 %)\n"
     ]
    },
    {
     "name": "stderr",
     "output_type": "stream",
     "text": [
      " 50%|████▉     | 299/600 [00:37<00:34,  8.84it/s]"
     ]
    },
    {
     "name": "stdout",
     "output_type": "stream",
     "text": [
      "Train Epoch: 20\tBatch: [300/600]\tLoss: 0.8587\tAcc_both: 79.18\tAcc_base: 77.68\tAcc_novel: 91.98 % (90.42 %)\n"
     ]
    },
    {
     "name": "stderr",
     "output_type": "stream",
     "text": [
      " 67%|██████▋   | 400/600 [00:49<00:19, 10.25it/s]"
     ]
    },
    {
     "name": "stdout",
     "output_type": "stream",
     "text": [
      "Train Epoch: 20\tBatch: [400/600]\tLoss: 0.6531\tAcc_both: 79.21\tAcc_base: 77.72\tAcc_novel: 91.97 % (92.08 %)\n"
     ]
    },
    {
     "name": "stderr",
     "output_type": "stream",
     "text": [
      " 83%|████████▎ | 500/600 [01:01<00:11,  8.56it/s]"
     ]
    },
    {
     "name": "stdout",
     "output_type": "stream",
     "text": [
      "Train Epoch: 20\tBatch: [500/600]\tLoss: 0.8125\tAcc_both: 79.12\tAcc_base: 77.63\tAcc_novel: 91.90 % (91.67 %)\n"
     ]
    },
    {
     "name": "stderr",
     "output_type": "stream",
     "text": [
      "100%|██████████| 600/600 [01:13<00:00,  8.15it/s]\n"
     ]
    },
    {
     "name": "stdout",
     "output_type": "stream",
     "text": [
      "Train Epoch: 20\tBatch: [600/600]\tLoss: 0.7806\tAcc_both: 79.12\tAcc_base: 77.67\tAcc_novel: 91.93 % (92.08 %)\n"
     ]
    },
    {
     "name": "stderr",
     "output_type": "stream",
     "text": [
      "100%|██████████| 1000/1000 [00:32<00:00, 30.90it/s]\n"
     ]
    },
    {
     "name": "stdout",
     "output_type": "stream",
     "text": [
      "Validation Epoch: 20\t\t\tLoss: 0.6909\tAccuracy: 73.09 ± 0.66 %\n",
      "Elapsed Time: 35m/35m\n",
      "\n"
     ]
    }
   ],
   "source": [
    "opt = argparse_config_train() # refer to args_config_train.py for details of auguments\n",
    "opt.save_path = './experiments/cifar-fs_stage2_5W1S_SEGA'\n",
    "opt.embnet_pretrainedandfix = True\n",
    "opt.pretrian_embnet_path = './experiments/cifar-fs_stage1/best_model.pth'\n",
    "opt.gpu = '1'\n",
    "opt.network = 'ResNet12'\n",
    "opt.head = 'SEGA'\n",
    "opt.weight_generator_type = 'semantic_guided_attention_on_final_visproto'\n",
    "# TODO: Set the appropriate semantic_path of the datasets here.\n",
    "opt.semantic_path = '/data/FSLDatasets/CIFAR-FS/label2vec_cifarfs.npy'\n",
    "opt.nKall = 64\n",
    "opt.nKbase = 64\n",
    "opt.train_query = 6\n",
    "opt.nTestBase = 5*opt.train_query\n",
    "opt.epoch_size = 600\n",
    "opt.dataset = 'CIFAR_FS'\n",
    "opt.avg_pool = True\n",
    "opt.nfeat = 640\n",
    "opt.val_episode = 1000\n",
    "opt.num_epoch = 20\n",
    "opt.episodes_per_batch = 8\n",
    "opt.milestones = [5,10,15,20]\n",
    "opt.lambdalr = [1.0,0.5,0.1,0.05]\n",
    "opt.train_way, opt.train_shot = opt.test_way, opt.val_shot = [5,1]\n",
    "train_stage2(opt)\n",
    "torch.cuda.empty_cache()"
   ]
  },
  {
   "cell_type": "code",
   "execution_count": 3,
   "id": "damaged-california",
   "metadata": {
    "tags": []
   },
   "outputs": [
    {
     "name": "stdout",
     "output_type": "stream",
     "text": [
      "Loading CIFAR-FS dataset - phase test\n",
      "using gpu: 1\n",
      "{'gpu': '1', 'load': './experiments/cifar-fs_stage2_5W1S_SEGA/best_model.pth', 'episode': 5000, 'way': 5, 'shot': 1, 'query': 50, 'nfeat': 640, 'nKall': 64, 'nKbase': 0, 'nTestBase': 0, 'epoch_size': 1000, 'avg_pool': True, 'network': 'ResNet12', 'head': 'SEGA', 'weight_generator_type': 'semantic_guided_attention_on_final_visproto', 'dataset': 'CIFAR_FS', 'semantic_path': '/data/FSLDatasets/CIFAR-FS/label2vec_cifarfs.npy'}\n",
      "$$$$$$$$$$$$SEGAhead$$$$$$$$$$$$\n",
      "semantic_path: /data/FSLDatasets/CIFAR-FS/label2vec_cifarfs.npy\n",
      "semantic_guided_attention_on_final_visproto\n",
      "SemLayers is an MLP: FC+LeakyReLU+Dropout+FC+Sigmoid\n"
     ]
    },
    {
     "name": "stderr",
     "output_type": "stream",
     "text": [
      "  1%|          | 52/5000 [00:04<06:34, 12.54it/s]"
     ]
    },
    {
     "name": "stdout",
     "output_type": "stream",
     "text": [
      "Episode [50/5000]:\t\t\tAccuracy: 78.46 ± 2.28 % (72.80 %)\n"
     ]
    },
    {
     "name": "stderr",
     "output_type": "stream",
     "text": [
      "  2%|▏         | 102/5000 [00:08<06:31, 12.50it/s]"
     ]
    },
    {
     "name": "stdout",
     "output_type": "stream",
     "text": [
      "Episode [100/5000]:\t\t\tAccuracy: 78.31 ± 1.79 % (70.00 %)\n"
     ]
    },
    {
     "name": "stderr",
     "output_type": "stream",
     "text": [
      "  3%|▎         | 152/5000 [00:12<06:06, 13.24it/s]"
     ]
    },
    {
     "name": "stdout",
     "output_type": "stream",
     "text": [
      "Episode [150/5000]:\t\t\tAccuracy: 78.19 ± 1.43 % (81.20 %)\n"
     ]
    },
    {
     "name": "stderr",
     "output_type": "stream",
     "text": [
      "  4%|▍         | 202/5000 [00:16<06:04, 13.16it/s]"
     ]
    },
    {
     "name": "stdout",
     "output_type": "stream",
     "text": [
      "Episode [200/5000]:\t\t\tAccuracy: 78.42 ± 1.25 % (91.20 %)\n"
     ]
    },
    {
     "name": "stderr",
     "output_type": "stream",
     "text": [
      "  5%|▌         | 252/5000 [00:20<07:12, 10.99it/s]"
     ]
    },
    {
     "name": "stdout",
     "output_type": "stream",
     "text": [
      "Episode [250/5000]:\t\t\tAccuracy: 78.14 ± 1.12 % (69.60 %)\n"
     ]
    },
    {
     "name": "stderr",
     "output_type": "stream",
     "text": [
      "  6%|▌         | 300/5000 [00:24<06:28, 12.09it/s]"
     ]
    },
    {
     "name": "stdout",
     "output_type": "stream",
     "text": [
      "Episode [300/5000]:\t\t\tAccuracy: 78.27 ± 1.03 % (89.20 %)\n"
     ]
    },
    {
     "name": "stderr",
     "output_type": "stream",
     "text": [
      "  7%|▋         | 352/5000 [00:28<06:21, 12.17it/s]"
     ]
    },
    {
     "name": "stdout",
     "output_type": "stream",
     "text": [
      "Episode [350/5000]:\t\t\tAccuracy: 78.28 ± 0.92 % (69.20 %)\n"
     ]
    },
    {
     "name": "stderr",
     "output_type": "stream",
     "text": [
      "  8%|▊         | 402/5000 [00:32<06:23, 12.00it/s]"
     ]
    },
    {
     "name": "stdout",
     "output_type": "stream",
     "text": [
      "Episode [400/5000]:\t\t\tAccuracy: 78.46 ± 0.86 % (73.20 %)\n"
     ]
    },
    {
     "name": "stderr",
     "output_type": "stream",
     "text": [
      "  9%|▉         | 452/5000 [00:36<06:18, 12.01it/s]"
     ]
    },
    {
     "name": "stdout",
     "output_type": "stream",
     "text": [
      "Episode [450/5000]:\t\t\tAccuracy: 78.46 ± 0.81 % (74.80 %)\n"
     ]
    },
    {
     "name": "stderr",
     "output_type": "stream",
     "text": [
      " 10%|█         | 502/5000 [00:41<05:57, 12.59it/s]"
     ]
    },
    {
     "name": "stdout",
     "output_type": "stream",
     "text": [
      "Episode [500/5000]:\t\t\tAccuracy: 78.41 ± 0.76 % (71.20 %)\n"
     ]
    },
    {
     "name": "stderr",
     "output_type": "stream",
     "text": [
      " 11%|█         | 552/5000 [00:45<06:02, 12.27it/s]"
     ]
    },
    {
     "name": "stdout",
     "output_type": "stream",
     "text": [
      "Episode [550/5000]:\t\t\tAccuracy: 78.50 ± 0.73 % (90.80 %)\n"
     ]
    },
    {
     "name": "stderr",
     "output_type": "stream",
     "text": [
      " 12%|█▏        | 602/5000 [00:49<05:54, 12.39it/s]"
     ]
    },
    {
     "name": "stdout",
     "output_type": "stream",
     "text": [
      "Episode [600/5000]:\t\t\tAccuracy: 78.67 ± 0.70 % (92.80 %)\n"
     ]
    },
    {
     "name": "stderr",
     "output_type": "stream",
     "text": [
      " 13%|█▎        | 652/5000 [00:53<05:46, 12.56it/s]"
     ]
    },
    {
     "name": "stdout",
     "output_type": "stream",
     "text": [
      "Episode [650/5000]:\t\t\tAccuracy: 78.73 ± 0.68 % (94.00 %)\n"
     ]
    },
    {
     "name": "stderr",
     "output_type": "stream",
     "text": [
      " 14%|█▍        | 702/5000 [00:57<06:11, 11.56it/s]"
     ]
    },
    {
     "name": "stdout",
     "output_type": "stream",
     "text": [
      "Episode [700/5000]:\t\t\tAccuracy: 78.81 ± 0.65 % (70.00 %)\n"
     ]
    },
    {
     "name": "stderr",
     "output_type": "stream",
     "text": [
      " 15%|█▌        | 752/5000 [01:01<05:53, 12.02it/s]"
     ]
    },
    {
     "name": "stdout",
     "output_type": "stream",
     "text": [
      "Episode [750/5000]:\t\t\tAccuracy: 78.78 ± 0.62 % (85.60 %)\n"
     ]
    },
    {
     "name": "stderr",
     "output_type": "stream",
     "text": [
      " 16%|█▌        | 802/5000 [01:06<05:40, 12.34it/s]"
     ]
    },
    {
     "name": "stdout",
     "output_type": "stream",
     "text": [
      "Episode [800/5000]:\t\t\tAccuracy: 78.73 ± 0.61 % (79.60 %)\n"
     ]
    },
    {
     "name": "stderr",
     "output_type": "stream",
     "text": [
      " 17%|█▋        | 852/5000 [01:10<06:12, 11.15it/s]"
     ]
    },
    {
     "name": "stdout",
     "output_type": "stream",
     "text": [
      "Episode [850/5000]:\t\t\tAccuracy: 78.76 ± 0.60 % (61.60 %)\n"
     ]
    },
    {
     "name": "stderr",
     "output_type": "stream",
     "text": [
      " 18%|█▊        | 902/5000 [01:14<05:45, 11.85it/s]"
     ]
    },
    {
     "name": "stdout",
     "output_type": "stream",
     "text": [
      "Episode [900/5000]:\t\t\tAccuracy: 78.74 ± 0.58 % (68.80 %)\n"
     ]
    },
    {
     "name": "stderr",
     "output_type": "stream",
     "text": [
      " 19%|█▉        | 952/5000 [01:18<05:57, 11.34it/s]"
     ]
    },
    {
     "name": "stdout",
     "output_type": "stream",
     "text": [
      "Episode [950/5000]:\t\t\tAccuracy: 78.90 ± 0.56 % (85.60 %)\n"
     ]
    },
    {
     "name": "stderr",
     "output_type": "stream",
     "text": [
      " 20%|██        | 1002/5000 [01:22<05:23, 12.34it/s]"
     ]
    },
    {
     "name": "stdout",
     "output_type": "stream",
     "text": [
      "Episode [1000/5000]:\t\t\tAccuracy: 78.92 ± 0.55 % (95.20 %)\n"
     ]
    },
    {
     "name": "stderr",
     "output_type": "stream",
     "text": [
      " 21%|██        | 1052/5000 [01:27<05:22, 12.25it/s]"
     ]
    },
    {
     "name": "stdout",
     "output_type": "stream",
     "text": [
      "Episode [1050/5000]:\t\t\tAccuracy: 78.84 ± 0.54 % (81.20 %)\n"
     ]
    },
    {
     "name": "stderr",
     "output_type": "stream",
     "text": [
      " 22%|██▏       | 1102/5000 [01:31<05:31, 11.76it/s]"
     ]
    },
    {
     "name": "stdout",
     "output_type": "stream",
     "text": [
      "Episode [1100/5000]:\t\t\tAccuracy: 78.79 ± 0.53 % (60.00 %)\n"
     ]
    },
    {
     "name": "stderr",
     "output_type": "stream",
     "text": [
      " 23%|██▎       | 1152/5000 [01:35<05:20, 12.01it/s]"
     ]
    },
    {
     "name": "stdout",
     "output_type": "stream",
     "text": [
      "Episode [1150/5000]:\t\t\tAccuracy: 78.69 ± 0.52 % (76.80 %)\n"
     ]
    },
    {
     "name": "stderr",
     "output_type": "stream",
     "text": [
      " 24%|██▍       | 1202/5000 [01:39<05:10, 12.23it/s]"
     ]
    },
    {
     "name": "stdout",
     "output_type": "stream",
     "text": [
      "Episode [1200/5000]:\t\t\tAccuracy: 78.70 ± 0.50 % (75.60 %)\n"
     ]
    },
    {
     "name": "stderr",
     "output_type": "stream",
     "text": [
      " 25%|██▌       | 1252/5000 [01:43<05:06, 12.23it/s]"
     ]
    },
    {
     "name": "stdout",
     "output_type": "stream",
     "text": [
      "Episode [1250/5000]:\t\t\tAccuracy: 78.71 ± 0.49 % (78.80 %)\n"
     ]
    },
    {
     "name": "stderr",
     "output_type": "stream",
     "text": [
      " 26%|██▌       | 1302/5000 [01:47<05:08, 11.99it/s]"
     ]
    },
    {
     "name": "stdout",
     "output_type": "stream",
     "text": [
      "Episode [1300/5000]:\t\t\tAccuracy: 78.74 ± 0.48 % (75.20 %)\n"
     ]
    },
    {
     "name": "stderr",
     "output_type": "stream",
     "text": [
      " 27%|██▋       | 1352/5000 [01:51<04:55, 12.35it/s]"
     ]
    },
    {
     "name": "stdout",
     "output_type": "stream",
     "text": [
      "Episode [1350/5000]:\t\t\tAccuracy: 78.75 ± 0.47 % (74.80 %)\n"
     ]
    },
    {
     "name": "stderr",
     "output_type": "stream",
     "text": [
      " 28%|██▊       | 1402/5000 [01:56<05:02, 11.88it/s]"
     ]
    },
    {
     "name": "stdout",
     "output_type": "stream",
     "text": [
      "Episode [1400/5000]:\t\t\tAccuracy: 78.81 ± 0.46 % (86.40 %)\n"
     ]
    },
    {
     "name": "stderr",
     "output_type": "stream",
     "text": [
      " 29%|██▉       | 1452/5000 [02:00<04:46, 12.40it/s]"
     ]
    },
    {
     "name": "stdout",
     "output_type": "stream",
     "text": [
      "Episode [1450/5000]:\t\t\tAccuracy: 78.80 ± 0.45 % (86.00 %)\n"
     ]
    },
    {
     "name": "stderr",
     "output_type": "stream",
     "text": [
      " 30%|███       | 1502/5000 [02:04<04:45, 12.24it/s]"
     ]
    },
    {
     "name": "stdout",
     "output_type": "stream",
     "text": [
      "Episode [1500/5000]:\t\t\tAccuracy: 78.82 ± 0.44 % (62.00 %)\n"
     ]
    },
    {
     "name": "stderr",
     "output_type": "stream",
     "text": [
      " 31%|███       | 1552/5000 [02:08<04:37, 12.41it/s]"
     ]
    },
    {
     "name": "stdout",
     "output_type": "stream",
     "text": [
      "Episode [1550/5000]:\t\t\tAccuracy: 78.86 ± 0.44 % (77.20 %)\n"
     ]
    },
    {
     "name": "stderr",
     "output_type": "stream",
     "text": [
      " 32%|███▏      | 1602/5000 [02:12<04:24, 12.86it/s]"
     ]
    },
    {
     "name": "stdout",
     "output_type": "stream",
     "text": [
      "Episode [1600/5000]:\t\t\tAccuracy: 78.80 ± 0.43 % (90.80 %)\n"
     ]
    },
    {
     "name": "stderr",
     "output_type": "stream",
     "text": [
      " 33%|███▎      | 1652/5000 [02:16<04:29, 12.41it/s]"
     ]
    },
    {
     "name": "stdout",
     "output_type": "stream",
     "text": [
      "Episode [1650/5000]:\t\t\tAccuracy: 78.79 ± 0.43 % (64.40 %)\n"
     ]
    },
    {
     "name": "stderr",
     "output_type": "stream",
     "text": [
      " 34%|███▍      | 1702/5000 [02:20<04:30, 12.19it/s]"
     ]
    },
    {
     "name": "stdout",
     "output_type": "stream",
     "text": [
      "Episode [1700/5000]:\t\t\tAccuracy: 78.81 ± 0.42 % (82.40 %)\n"
     ]
    },
    {
     "name": "stderr",
     "output_type": "stream",
     "text": [
      " 35%|███▌      | 1752/5000 [02:24<04:27, 12.16it/s]"
     ]
    },
    {
     "name": "stdout",
     "output_type": "stream",
     "text": [
      "Episode [1750/5000]:\t\t\tAccuracy: 78.75 ± 0.41 % (70.80 %)\n"
     ]
    },
    {
     "name": "stderr",
     "output_type": "stream",
     "text": [
      " 36%|███▌      | 1802/5000 [02:28<04:14, 12.56it/s]"
     ]
    },
    {
     "name": "stdout",
     "output_type": "stream",
     "text": [
      "Episode [1800/5000]:\t\t\tAccuracy: 78.73 ± 0.41 % (73.20 %)\n"
     ]
    },
    {
     "name": "stderr",
     "output_type": "stream",
     "text": [
      " 37%|███▋      | 1850/5000 [02:32<04:21, 12.06it/s]"
     ]
    },
    {
     "name": "stdout",
     "output_type": "stream",
     "text": [
      "Episode [1850/5000]:\t\t\tAccuracy: 78.80 ± 0.40 % (81.20 %)\n"
     ]
    },
    {
     "name": "stderr",
     "output_type": "stream",
     "text": [
      " 38%|███▊      | 1902/5000 [02:36<04:06, 12.55it/s]"
     ]
    },
    {
     "name": "stdout",
     "output_type": "stream",
     "text": [
      "Episode [1900/5000]:\t\t\tAccuracy: 78.76 ± 0.39 % (78.40 %)\n"
     ]
    },
    {
     "name": "stderr",
     "output_type": "stream",
     "text": [
      " 39%|███▉      | 1952/5000 [02:40<04:10, 12.15it/s]"
     ]
    },
    {
     "name": "stdout",
     "output_type": "stream",
     "text": [
      "Episode [1950/5000]:\t\t\tAccuracy: 78.71 ± 0.39 % (71.20 %)\n"
     ]
    },
    {
     "name": "stderr",
     "output_type": "stream",
     "text": [
      " 40%|████      | 2002/5000 [02:44<04:03, 12.30it/s]"
     ]
    },
    {
     "name": "stdout",
     "output_type": "stream",
     "text": [
      "Episode [2000/5000]:\t\t\tAccuracy: 78.69 ± 0.39 % (75.20 %)\n"
     ]
    },
    {
     "name": "stderr",
     "output_type": "stream",
     "text": [
      " 41%|████      | 2052/5000 [02:48<03:57, 12.43it/s]"
     ]
    },
    {
     "name": "stdout",
     "output_type": "stream",
     "text": [
      "Episode [2050/5000]:\t\t\tAccuracy: 78.73 ± 0.38 % (74.80 %)\n"
     ]
    },
    {
     "name": "stderr",
     "output_type": "stream",
     "text": [
      " 42%|████▏     | 2102/5000 [02:52<04:00, 12.04it/s]"
     ]
    },
    {
     "name": "stdout",
     "output_type": "stream",
     "text": [
      "Episode [2100/5000]:\t\t\tAccuracy: 78.73 ± 0.38 % (66.80 %)\n"
     ]
    },
    {
     "name": "stderr",
     "output_type": "stream",
     "text": [
      " 43%|████▎     | 2152/5000 [02:56<03:55, 12.08it/s]"
     ]
    },
    {
     "name": "stdout",
     "output_type": "stream",
     "text": [
      "Episode [2150/5000]:\t\t\tAccuracy: 78.67 ± 0.37 % (90.80 %)\n"
     ]
    },
    {
     "name": "stderr",
     "output_type": "stream",
     "text": [
      " 44%|████▍     | 2202/5000 [03:01<03:49, 12.17it/s]"
     ]
    },
    {
     "name": "stdout",
     "output_type": "stream",
     "text": [
      "Episode [2200/5000]:\t\t\tAccuracy: 78.66 ± 0.37 % (75.60 %)\n"
     ]
    },
    {
     "name": "stderr",
     "output_type": "stream",
     "text": [
      " 45%|████▌     | 2252/5000 [03:05<03:46, 12.14it/s]"
     ]
    },
    {
     "name": "stdout",
     "output_type": "stream",
     "text": [
      "Episode [2250/5000]:\t\t\tAccuracy: 78.71 ± 0.36 % (78.80 %)\n"
     ]
    },
    {
     "name": "stderr",
     "output_type": "stream",
     "text": [
      " 46%|████▌     | 2302/5000 [03:09<03:52, 11.61it/s]"
     ]
    },
    {
     "name": "stdout",
     "output_type": "stream",
     "text": [
      "Episode [2300/5000]:\t\t\tAccuracy: 78.71 ± 0.36 % (93.60 %)\n"
     ]
    },
    {
     "name": "stderr",
     "output_type": "stream",
     "text": [
      " 47%|████▋     | 2352/5000 [03:13<03:33, 12.41it/s]"
     ]
    },
    {
     "name": "stdout",
     "output_type": "stream",
     "text": [
      "Episode [2350/5000]:\t\t\tAccuracy: 78.72 ± 0.35 % (84.80 %)\n"
     ]
    },
    {
     "name": "stderr",
     "output_type": "stream",
     "text": [
      " 48%|████▊     | 2402/5000 [03:17<03:32, 12.22it/s]"
     ]
    },
    {
     "name": "stdout",
     "output_type": "stream",
     "text": [
      "Episode [2400/5000]:\t\t\tAccuracy: 78.68 ± 0.35 % (85.20 %)\n"
     ]
    },
    {
     "name": "stderr",
     "output_type": "stream",
     "text": [
      " 49%|████▉     | 2452/5000 [03:22<03:37, 11.73it/s]"
     ]
    },
    {
     "name": "stdout",
     "output_type": "stream",
     "text": [
      "Episode [2450/5000]:\t\t\tAccuracy: 78.66 ± 0.35 % (84.80 %)\n"
     ]
    },
    {
     "name": "stderr",
     "output_type": "stream",
     "text": [
      " 50%|█████     | 2502/5000 [03:26<03:33, 11.70it/s]"
     ]
    },
    {
     "name": "stdout",
     "output_type": "stream",
     "text": [
      "Episode [2500/5000]:\t\t\tAccuracy: 78.71 ± 0.34 % (75.60 %)\n"
     ]
    },
    {
     "name": "stderr",
     "output_type": "stream",
     "text": [
      " 51%|█████     | 2552/5000 [03:30<03:20, 12.18it/s]"
     ]
    },
    {
     "name": "stdout",
     "output_type": "stream",
     "text": [
      "Episode [2550/5000]:\t\t\tAccuracy: 78.72 ± 0.34 % (81.60 %)\n"
     ]
    },
    {
     "name": "stderr",
     "output_type": "stream",
     "text": [
      " 52%|█████▏    | 2602/5000 [03:34<03:15, 12.28it/s]"
     ]
    },
    {
     "name": "stdout",
     "output_type": "stream",
     "text": [
      "Episode [2600/5000]:\t\t\tAccuracy: 78.71 ± 0.34 % (78.00 %)\n"
     ]
    },
    {
     "name": "stderr",
     "output_type": "stream",
     "text": [
      " 53%|█████▎    | 2652/5000 [03:38<03:16, 11.97it/s]"
     ]
    },
    {
     "name": "stdout",
     "output_type": "stream",
     "text": [
      "Episode [2650/5000]:\t\t\tAccuracy: 78.72 ± 0.33 % (78.40 %)\n"
     ]
    },
    {
     "name": "stderr",
     "output_type": "stream",
     "text": [
      " 54%|█████▍    | 2702/5000 [03:42<03:09, 12.16it/s]"
     ]
    },
    {
     "name": "stdout",
     "output_type": "stream",
     "text": [
      "Episode [2700/5000]:\t\t\tAccuracy: 78.73 ± 0.33 % (71.60 %)\n"
     ]
    },
    {
     "name": "stderr",
     "output_type": "stream",
     "text": [
      " 55%|█████▌    | 2752/5000 [03:47<02:59, 12.52it/s]"
     ]
    },
    {
     "name": "stdout",
     "output_type": "stream",
     "text": [
      "Episode [2750/5000]:\t\t\tAccuracy: 78.71 ± 0.33 % (75.60 %)\n"
     ]
    },
    {
     "name": "stderr",
     "output_type": "stream",
     "text": [
      " 56%|█████▌    | 2802/5000 [03:51<03:01, 12.11it/s]"
     ]
    },
    {
     "name": "stdout",
     "output_type": "stream",
     "text": [
      "Episode [2800/5000]:\t\t\tAccuracy: 78.69 ± 0.33 % (84.00 %)\n"
     ]
    },
    {
     "name": "stderr",
     "output_type": "stream",
     "text": [
      " 57%|█████▋    | 2852/5000 [03:55<03:02, 11.76it/s]"
     ]
    },
    {
     "name": "stdout",
     "output_type": "stream",
     "text": [
      "Episode [2850/5000]:\t\t\tAccuracy: 78.70 ± 0.32 % (74.40 %)\n"
     ]
    },
    {
     "name": "stderr",
     "output_type": "stream",
     "text": [
      " 58%|█████▊    | 2902/5000 [03:59<02:55, 11.93it/s]"
     ]
    },
    {
     "name": "stdout",
     "output_type": "stream",
     "text": [
      "Episode [2900/5000]:\t\t\tAccuracy: 78.75 ± 0.32 % (88.40 %)\n"
     ]
    },
    {
     "name": "stderr",
     "output_type": "stream",
     "text": [
      " 59%|█████▉    | 2950/5000 [04:03<02:45, 12.42it/s]"
     ]
    },
    {
     "name": "stdout",
     "output_type": "stream",
     "text": [
      "Episode [2950/5000]:\t\t\tAccuracy: 78.74 ± 0.32 % (89.60 %)\n"
     ]
    },
    {
     "name": "stderr",
     "output_type": "stream",
     "text": [
      " 60%|██████    | 3002/5000 [04:07<02:44, 12.13it/s]"
     ]
    },
    {
     "name": "stdout",
     "output_type": "stream",
     "text": [
      "Episode [3000/5000]:\t\t\tAccuracy: 78.75 ± 0.31 % (79.20 %)\n"
     ]
    },
    {
     "name": "stderr",
     "output_type": "stream",
     "text": [
      " 61%|██████    | 3052/5000 [04:11<02:39, 12.22it/s]"
     ]
    },
    {
     "name": "stdout",
     "output_type": "stream",
     "text": [
      "Episode [3050/5000]:\t\t\tAccuracy: 78.75 ± 0.31 % (78.40 %)\n"
     ]
    },
    {
     "name": "stderr",
     "output_type": "stream",
     "text": [
      " 62%|██████▏   | 3102/5000 [04:16<02:44, 11.53it/s]"
     ]
    },
    {
     "name": "stdout",
     "output_type": "stream",
     "text": [
      "Episode [3100/5000]:\t\t\tAccuracy: 78.75 ± 0.31 % (57.60 %)\n"
     ]
    },
    {
     "name": "stderr",
     "output_type": "stream",
     "text": [
      " 63%|██████▎   | 3152/5000 [04:20<02:35, 11.91it/s]"
     ]
    },
    {
     "name": "stdout",
     "output_type": "stream",
     "text": [
      "Episode [3150/5000]:\t\t\tAccuracy: 78.74 ± 0.31 % (63.20 %)\n"
     ]
    },
    {
     "name": "stderr",
     "output_type": "stream",
     "text": [
      " 64%|██████▍   | 3202/5000 [04:24<02:39, 11.25it/s]"
     ]
    },
    {
     "name": "stdout",
     "output_type": "stream",
     "text": [
      "Episode [3200/5000]:\t\t\tAccuracy: 78.75 ± 0.30 % (67.60 %)\n"
     ]
    },
    {
     "name": "stderr",
     "output_type": "stream",
     "text": [
      " 65%|██████▌   | 3252/5000 [04:29<02:23, 12.20it/s]"
     ]
    },
    {
     "name": "stdout",
     "output_type": "stream",
     "text": [
      "Episode [3250/5000]:\t\t\tAccuracy: 78.78 ± 0.30 % (76.80 %)\n"
     ]
    },
    {
     "name": "stderr",
     "output_type": "stream",
     "text": [
      " 66%|██████▌   | 3302/5000 [04:33<02:14, 12.59it/s]"
     ]
    },
    {
     "name": "stdout",
     "output_type": "stream",
     "text": [
      "Episode [3300/5000]:\t\t\tAccuracy: 78.74 ± 0.30 % (83.60 %)\n"
     ]
    },
    {
     "name": "stderr",
     "output_type": "stream",
     "text": [
      " 67%|██████▋   | 3352/5000 [04:37<02:16, 12.06it/s]"
     ]
    },
    {
     "name": "stdout",
     "output_type": "stream",
     "text": [
      "Episode [3350/5000]:\t\t\tAccuracy: 78.72 ± 0.30 % (90.00 %)\n"
     ]
    },
    {
     "name": "stderr",
     "output_type": "stream",
     "text": [
      " 68%|██████▊   | 3402/5000 [04:41<02:11, 12.13it/s]"
     ]
    },
    {
     "name": "stdout",
     "output_type": "stream",
     "text": [
      "Episode [3400/5000]:\t\t\tAccuracy: 78.71 ± 0.30 % (62.00 %)\n"
     ]
    },
    {
     "name": "stderr",
     "output_type": "stream",
     "text": [
      " 69%|██████▉   | 3452/5000 [04:46<02:15, 11.43it/s]"
     ]
    },
    {
     "name": "stdout",
     "output_type": "stream",
     "text": [
      "Episode [3450/5000]:\t\t\tAccuracy: 78.72 ± 0.29 % (74.40 %)\n"
     ]
    },
    {
     "name": "stderr",
     "output_type": "stream",
     "text": [
      " 70%|███████   | 3502/5000 [04:50<02:09, 11.61it/s]"
     ]
    },
    {
     "name": "stdout",
     "output_type": "stream",
     "text": [
      "Episode [3500/5000]:\t\t\tAccuracy: 78.67 ± 0.29 % (77.20 %)\n"
     ]
    },
    {
     "name": "stderr",
     "output_type": "stream",
     "text": [
      " 71%|███████   | 3552/5000 [04:54<01:54, 12.65it/s]"
     ]
    },
    {
     "name": "stdout",
     "output_type": "stream",
     "text": [
      "Episode [3550/5000]:\t\t\tAccuracy: 78.67 ± 0.29 % (82.00 %)\n"
     ]
    },
    {
     "name": "stderr",
     "output_type": "stream",
     "text": [
      " 72%|███████▏  | 3602/5000 [04:58<01:57, 11.95it/s]"
     ]
    },
    {
     "name": "stdout",
     "output_type": "stream",
     "text": [
      "Episode [3600/5000]:\t\t\tAccuracy: 78.69 ± 0.29 % (88.40 %)\n"
     ]
    },
    {
     "name": "stderr",
     "output_type": "stream",
     "text": [
      " 73%|███████▎  | 3652/5000 [05:02<01:51, 12.12it/s]"
     ]
    },
    {
     "name": "stdout",
     "output_type": "stream",
     "text": [
      "Episode [3650/5000]:\t\t\tAccuracy: 78.68 ± 0.29 % (71.60 %)\n"
     ]
    },
    {
     "name": "stderr",
     "output_type": "stream",
     "text": [
      " 74%|███████▍  | 3702/5000 [05:07<01:51, 11.67it/s]"
     ]
    },
    {
     "name": "stdout",
     "output_type": "stream",
     "text": [
      "Episode [3700/5000]:\t\t\tAccuracy: 78.70 ± 0.28 % (86.00 %)\n"
     ]
    },
    {
     "name": "stderr",
     "output_type": "stream",
     "text": [
      " 75%|███████▌  | 3752/5000 [05:11<01:42, 12.14it/s]"
     ]
    },
    {
     "name": "stdout",
     "output_type": "stream",
     "text": [
      "Episode [3750/5000]:\t\t\tAccuracy: 78.68 ± 0.28 % (72.80 %)\n"
     ]
    },
    {
     "name": "stderr",
     "output_type": "stream",
     "text": [
      " 76%|███████▌  | 3802/5000 [05:15<01:43, 11.53it/s]"
     ]
    },
    {
     "name": "stdout",
     "output_type": "stream",
     "text": [
      "Episode [3800/5000]:\t\t\tAccuracy: 78.68 ± 0.28 % (73.60 %)\n"
     ]
    },
    {
     "name": "stderr",
     "output_type": "stream",
     "text": [
      " 77%|███████▋  | 3850/5000 [05:19<01:32, 12.49it/s]"
     ]
    },
    {
     "name": "stdout",
     "output_type": "stream",
     "text": [
      "Episode [3850/5000]:\t\t\tAccuracy: 78.69 ± 0.28 % (83.20 %)\n"
     ]
    },
    {
     "name": "stderr",
     "output_type": "stream",
     "text": [
      " 78%|███████▊  | 3902/5000 [05:23<01:39, 11.02it/s]"
     ]
    },
    {
     "name": "stdout",
     "output_type": "stream",
     "text": [
      "Episode [3900/5000]:\t\t\tAccuracy: 78.69 ± 0.28 % (68.00 %)\n"
     ]
    },
    {
     "name": "stderr",
     "output_type": "stream",
     "text": [
      " 79%|███████▉  | 3952/5000 [05:28<01:33, 11.25it/s]"
     ]
    },
    {
     "name": "stdout",
     "output_type": "stream",
     "text": [
      "Episode [3950/5000]:\t\t\tAccuracy: 78.68 ± 0.27 % (88.00 %)\n"
     ]
    },
    {
     "name": "stderr",
     "output_type": "stream",
     "text": [
      " 80%|████████  | 4002/5000 [05:32<01:18, 12.71it/s]"
     ]
    },
    {
     "name": "stdout",
     "output_type": "stream",
     "text": [
      "Episode [4000/5000]:\t\t\tAccuracy: 78.69 ± 0.27 % (80.80 %)\n"
     ]
    },
    {
     "name": "stderr",
     "output_type": "stream",
     "text": [
      " 81%|████████  | 4052/5000 [05:36<01:19, 11.98it/s]"
     ]
    },
    {
     "name": "stdout",
     "output_type": "stream",
     "text": [
      "Episode [4050/5000]:\t\t\tAccuracy: 78.68 ± 0.27 % (72.00 %)\n"
     ]
    },
    {
     "name": "stderr",
     "output_type": "stream",
     "text": [
      " 82%|████████▏ | 4102/5000 [05:40<01:15, 11.84it/s]"
     ]
    },
    {
     "name": "stdout",
     "output_type": "stream",
     "text": [
      "Episode [4100/5000]:\t\t\tAccuracy: 78.68 ± 0.27 % (64.80 %)\n"
     ]
    },
    {
     "name": "stderr",
     "output_type": "stream",
     "text": [
      " 83%|████████▎ | 4152/5000 [05:44<01:10, 11.95it/s]"
     ]
    },
    {
     "name": "stdout",
     "output_type": "stream",
     "text": [
      "Episode [4150/5000]:\t\t\tAccuracy: 78.70 ± 0.27 % (78.40 %)\n"
     ]
    },
    {
     "name": "stderr",
     "output_type": "stream",
     "text": [
      " 84%|████████▍ | 4202/5000 [05:49<01:07, 11.80it/s]"
     ]
    },
    {
     "name": "stdout",
     "output_type": "stream",
     "text": [
      "Episode [4200/5000]:\t\t\tAccuracy: 78.69 ± 0.27 % (73.20 %)\n"
     ]
    },
    {
     "name": "stderr",
     "output_type": "stream",
     "text": [
      " 85%|████████▌ | 4252/5000 [05:53<01:00, 12.44it/s]"
     ]
    },
    {
     "name": "stdout",
     "output_type": "stream",
     "text": [
      "Episode [4250/5000]:\t\t\tAccuracy: 78.70 ± 0.26 % (74.00 %)\n"
     ]
    },
    {
     "name": "stderr",
     "output_type": "stream",
     "text": [
      " 86%|████████▌ | 4302/5000 [05:57<00:55, 12.48it/s]"
     ]
    },
    {
     "name": "stdout",
     "output_type": "stream",
     "text": [
      "Episode [4300/5000]:\t\t\tAccuracy: 78.72 ± 0.26 % (87.60 %)\n"
     ]
    },
    {
     "name": "stderr",
     "output_type": "stream",
     "text": [
      " 87%|████████▋ | 4352/5000 [06:01<00:52, 12.25it/s]"
     ]
    },
    {
     "name": "stdout",
     "output_type": "stream",
     "text": [
      "Episode [4350/5000]:\t\t\tAccuracy: 78.73 ± 0.26 % (71.60 %)\n"
     ]
    },
    {
     "name": "stderr",
     "output_type": "stream",
     "text": [
      " 88%|████████▊ | 4402/5000 [06:05<00:48, 12.39it/s]"
     ]
    },
    {
     "name": "stdout",
     "output_type": "stream",
     "text": [
      "Episode [4400/5000]:\t\t\tAccuracy: 78.73 ± 0.26 % (78.80 %)\n"
     ]
    },
    {
     "name": "stderr",
     "output_type": "stream",
     "text": [
      " 89%|████████▉ | 4452/5000 [06:09<00:42, 12.85it/s]"
     ]
    },
    {
     "name": "stdout",
     "output_type": "stream",
     "text": [
      "Episode [4450/5000]:\t\t\tAccuracy: 78.75 ± 0.26 % (67.20 %)\n"
     ]
    },
    {
     "name": "stderr",
     "output_type": "stream",
     "text": [
      " 90%|█████████ | 4502/5000 [06:13<00:41, 12.00it/s]"
     ]
    },
    {
     "name": "stdout",
     "output_type": "stream",
     "text": [
      "Episode [4500/5000]:\t\t\tAccuracy: 78.75 ± 0.26 % (86.00 %)\n"
     ]
    },
    {
     "name": "stderr",
     "output_type": "stream",
     "text": [
      " 91%|█████████ | 4552/5000 [06:18<00:38, 11.62it/s]"
     ]
    },
    {
     "name": "stdout",
     "output_type": "stream",
     "text": [
      "Episode [4550/5000]:\t\t\tAccuracy: 78.75 ± 0.26 % (65.20 %)\n"
     ]
    },
    {
     "name": "stderr",
     "output_type": "stream",
     "text": [
      " 92%|█████████▏| 4600/5000 [06:21<00:31, 12.55it/s]"
     ]
    },
    {
     "name": "stdout",
     "output_type": "stream",
     "text": [
      "Episode [4600/5000]:\t\t\tAccuracy: 78.76 ± 0.25 % (94.40 %)\n"
     ]
    },
    {
     "name": "stderr",
     "output_type": "stream",
     "text": [
      " 93%|█████████▎| 4652/5000 [06:26<00:28, 12.12it/s]"
     ]
    },
    {
     "name": "stdout",
     "output_type": "stream",
     "text": [
      "Episode [4650/5000]:\t\t\tAccuracy: 78.75 ± 0.25 % (77.20 %)\n"
     ]
    },
    {
     "name": "stderr",
     "output_type": "stream",
     "text": [
      " 94%|█████████▍| 4702/5000 [06:30<00:25, 11.55it/s]"
     ]
    },
    {
     "name": "stdout",
     "output_type": "stream",
     "text": [
      "Episode [4700/5000]:\t\t\tAccuracy: 78.72 ± 0.25 % (55.20 %)\n"
     ]
    },
    {
     "name": "stderr",
     "output_type": "stream",
     "text": [
      " 95%|█████████▌| 4752/5000 [06:34<00:19, 12.63it/s]"
     ]
    },
    {
     "name": "stdout",
     "output_type": "stream",
     "text": [
      "Episode [4750/5000]:\t\t\tAccuracy: 78.70 ± 0.25 % (72.00 %)\n"
     ]
    },
    {
     "name": "stderr",
     "output_type": "stream",
     "text": [
      " 96%|█████████▌| 4802/5000 [06:38<00:16, 12.23it/s]"
     ]
    },
    {
     "name": "stdout",
     "output_type": "stream",
     "text": [
      "Episode [4800/5000]:\t\t\tAccuracy: 78.69 ± 0.25 % (71.60 %)\n"
     ]
    },
    {
     "name": "stderr",
     "output_type": "stream",
     "text": [
      " 97%|█████████▋| 4852/5000 [06:42<00:12, 12.06it/s]"
     ]
    },
    {
     "name": "stdout",
     "output_type": "stream",
     "text": [
      "Episode [4850/5000]:\t\t\tAccuracy: 78.69 ± 0.25 % (92.80 %)\n"
     ]
    },
    {
     "name": "stderr",
     "output_type": "stream",
     "text": [
      " 98%|█████████▊| 4902/5000 [06:47<00:08, 11.39it/s]"
     ]
    },
    {
     "name": "stdout",
     "output_type": "stream",
     "text": [
      "Episode [4900/5000]:\t\t\tAccuracy: 78.71 ± 0.25 % (74.40 %)\n"
     ]
    },
    {
     "name": "stderr",
     "output_type": "stream",
     "text": [
      " 99%|█████████▉| 4952/5000 [06:51<00:04, 11.97it/s]"
     ]
    },
    {
     "name": "stdout",
     "output_type": "stream",
     "text": [
      "Episode [4950/5000]:\t\t\tAccuracy: 78.69 ± 0.25 % (72.80 %)\n"
     ]
    },
    {
     "name": "stderr",
     "output_type": "stream",
     "text": [
      "100%|██████████| 5000/5000 [06:55<00:00, 12.03it/s]"
     ]
    },
    {
     "name": "stdout",
     "output_type": "stream",
     "text": [
      "Episode [5000/5000]:\t\t\tAccuracy: 78.69 ± 0.25 % (76.80 %)\n"
     ]
    },
    {
     "name": "stderr",
     "output_type": "stream",
     "text": [
      "\n"
     ]
    }
   ],
   "source": [
    "opt = argparse_config_test() # refer to args_config_test.py for details of auguments\n",
    "opt.load = './experiments/cifar-fs_stage2_5W1S_SEGA/best_model.pth'\n",
    "opt.gpu = '1'\n",
    "opt.network = 'ResNet12'\n",
    "opt.head = 'SEGA'\n",
    "opt.weight_generator_type = 'semantic_guided_attention_on_final_visproto'\n",
    "# TODO: Set the appropriate semantic_path of the datasets here.\n",
    "opt.semantic_path = '/data/FSLDatasets/CIFAR-FS/label2vec_cifarfs.npy'\n",
    "opt.nKall = 64\n",
    "opt.dataset = 'CIFAR_FS'\n",
    "opt.avg_pool = True\n",
    "opt.nfeat = 640\n",
    "opt.way, opt.shot = [5,1]\n",
    "opt.query=50\n",
    "opt.episode=5000\n",
    "test(opt)\n",
    "torch.cuda.empty_cache()"
   ]
  },
  {
   "cell_type": "code",
   "execution_count": null,
   "id": "operating-airline",
   "metadata": {},
   "outputs": [],
   "source": []
  },
  {
   "cell_type": "code",
   "execution_count": null,
   "id": "bibliographic-guard",
   "metadata": {},
   "outputs": [],
   "source": []
  }
 ],
 "metadata": {
  "kernelspec": {
   "display_name": "py37torch190",
   "language": "python",
   "name": "py37torch190"
  },
  "language_info": {
   "codemirror_mode": {
    "name": "ipython",
    "version": 3
   },
   "file_extension": ".py",
   "mimetype": "text/x-python",
   "name": "python",
   "nbconvert_exporter": "python",
   "pygments_lexer": "ipython3",
   "version": "3.7.0"
  }
 },
 "nbformat": 4,
 "nbformat_minor": 5
}
